{
 "cells": [
  {
   "cell_type": "markdown",
   "id": "e8f351d6-a78e-4bc2-9f3e-28b3b8264bbe",
   "metadata": {},
   "source": [
    "![title](securly-banner2.jpg)\n",
    "\n",
    "# Inference Experimentation\n",
    "\n",
    "## Preliminaries"
   ]
  },
  {
   "cell_type": "code",
   "execution_count": 1,
   "id": "1588b8fd-6c81-48e6-9a76-65d320416e9d",
   "metadata": {},
   "outputs": [
    {
     "name": "stdout",
     "output_type": "stream",
     "text": [
      "Wed Dec 13 00:32:51 2023       \n",
      "+---------------------------------------------------------------------------------------+\n",
      "| NVIDIA-SMI 545.29.04              Driver Version: 546.17       CUDA Version: 12.3     |\n",
      "|-----------------------------------------+----------------------+----------------------+\n",
      "| GPU  Name                 Persistence-M | Bus-Id        Disp.A | Volatile Uncorr. ECC |\n",
      "| Fan  Temp   Perf          Pwr:Usage/Cap |         Memory-Usage | GPU-Util  Compute M. |\n",
      "|                                         |                      |               MIG M. |\n",
      "|=========================================+======================+======================|\n",
      "|   0  NVIDIA GeForce RTX 4090        On  | 00000000:01:00.0  On |                  Off |\n",
      "|  0%   40C    P8              27W / 450W |    914MiB / 24564MiB |      4%      Default |\n",
      "|                                         |                      |                  N/A |\n",
      "+-----------------------------------------+----------------------+----------------------+\n",
      "                                                                                         \n",
      "+---------------------------------------------------------------------------------------+\n",
      "| Processes:                                                                            |\n",
      "|  GPU   GI   CI        PID   Type   Process name                            GPU Memory |\n",
      "|        ID   ID                                                             Usage      |\n",
      "|=======================================================================================|\n",
      "|  No running processes found                                                           |\n",
      "+---------------------------------------------------------------------------------------+\n"
     ]
    }
   ],
   "source": [
    "!nvidia-smi"
   ]
  },
  {
   "cell_type": "code",
   "execution_count": 12,
   "id": "ffd7fbdd-60ec-4ca7-8e20-6e4206b03e52",
   "metadata": {
    "scrolled": true
   },
   "outputs": [
    {
     "name": "stdout",
     "output_type": "stream",
     "text": [
      "Retrieving notices: ...working... done\n",
      "Channels:\n",
      " - defaults\n",
      " - nvidia\n",
      " - pytorch\n",
      "Platform: linux-64\n",
      "Collecting package metadata (repodata.json): ...working... done\n",
      "Solving environment: ...working... done\n",
      "\n",
      "## Package Plan ##\n",
      "\n",
      "  environment location: /opt/conda\n",
      "\n",
      "  added / updated specs:\n",
      "    - matplotlib\n",
      "    - scikit-learn\n",
      "    - scipy\n",
      "\n",
      "\n",
      "The following packages will be downloaded:\n",
      "\n",
      "    package                    |            build\n",
      "    ---------------------------|-----------------\n",
      "    brotli-1.0.9               |       h5eee18b_7          18 KB\n",
      "    brotli-bin-1.0.9           |       h5eee18b_7          19 KB\n",
      "    contourpy-1.2.0            |  py311hdb19cb5_0         263 KB\n",
      "    cycler-0.11.0              |     pyhd3eb1b0_0          12 KB\n",
      "    cyrus-sasl-2.1.28          |       h52b45da_1         237 KB\n",
      "    dbus-1.13.18               |       hb2f20db_0         504 KB\n",
      "    expat-2.5.0                |       h6a678d5_0         172 KB\n",
      "    fontconfig-2.14.1          |       h4c34cd2_2         281 KB\n",
      "    fonttools-4.25.0           |     pyhd3eb1b0_0         632 KB\n",
      "    glib-2.69.1                |       he621ea3_2         1.9 MB\n",
      "    gst-plugins-base-1.14.1    |       h6a678d5_1         2.2 MB\n",
      "    gstreamer-1.14.1           |       h5eee18b_1         1.7 MB\n",
      "    joblib-1.2.0               |  py311h06a4308_0         527 KB\n",
      "    kiwisolver-1.4.4           |  py311h6a678d5_0          70 KB\n",
      "    libbrotlicommon-1.0.9      |       h5eee18b_7          70 KB\n",
      "    libbrotlidec-1.0.9         |       h5eee18b_7          31 KB\n",
      "    libbrotlienc-1.0.9         |       h5eee18b_7         264 KB\n",
      "    libclang-14.0.6            |default_hc6dbbc7_1         137 KB\n",
      "    libclang13-14.0.6          |default_he11475f_1         9.8 MB\n",
      "    libcups-2.4.2              |       h2d74bed_1         4.5 MB\n",
      "    libgfortran-ng-11.2.0      |       h00389a5_1          20 KB\n",
      "    libgfortran5-11.2.0        |       h1234567_1         2.0 MB\n",
      "    libllvm14-14.0.6           |       hdb19cb5_3        33.4 MB\n",
      "    libpq-12.15                |       hdbd6064_1         2.4 MB\n",
      "    libxcb-1.15                |       h7f8727e_0         505 KB\n",
      "    libxkbcommon-1.0.1         |       h5eee18b_1         590 KB\n",
      "    matplotlib-3.8.0           |  py311h06a4308_0           8 KB\n",
      "    matplotlib-base-3.8.0      |  py311ha02d727_0         7.7 MB\n",
      "    munkres-1.1.4              |             py_0          13 KB\n",
      "    mysql-5.7.24               |       h721c034_2        60.0 MB\n",
      "    numpy-1.24.3               |  py311h08b1b3b_1          11 KB\n",
      "    numpy-base-1.24.3          |  py311hf175353_1         7.2 MB\n",
      "    pcre-8.45                  |       h295c915_0         207 KB\n",
      "    ply-3.11                   |  py311h06a4308_0         111 KB\n",
      "    pyparsing-3.0.9            |  py311h06a4308_0         204 KB\n",
      "    pyqt-5.15.10               |  py311h6a678d5_0         5.7 MB\n",
      "    pyqt5-sip-12.13.0          |  py311h5eee18b_0          95 KB\n",
      "    qt-main-5.15.2             |      h53bd1ea_10        53.7 MB\n",
      "    scikit-learn-1.3.0         |  py311ha02d727_0         9.5 MB\n",
      "    scipy-1.11.4               |  py311h08b1b3b_0        22.0 MB\n",
      "    sip-6.7.12                 |  py311h6a678d5_0         603 KB\n",
      "    threadpoolctl-2.2.0        |     pyh0d69192_0          16 KB\n",
      "    ------------------------------------------------------------\n",
      "                                           Total:       229.0 MB\n",
      "\n",
      "The following NEW packages will be INSTALLED:\n",
      "\n",
      "  brotli             pkgs/main/linux-64::brotli-1.0.9-h5eee18b_7 \n",
      "  brotli-bin         pkgs/main/linux-64::brotli-bin-1.0.9-h5eee18b_7 \n",
      "  contourpy          pkgs/main/linux-64::contourpy-1.2.0-py311hdb19cb5_0 \n",
      "  cycler             pkgs/main/noarch::cycler-0.11.0-pyhd3eb1b0_0 \n",
      "  cyrus-sasl         pkgs/main/linux-64::cyrus-sasl-2.1.28-h52b45da_1 \n",
      "  dbus               pkgs/main/linux-64::dbus-1.13.18-hb2f20db_0 \n",
      "  expat              pkgs/main/linux-64::expat-2.5.0-h6a678d5_0 \n",
      "  fontconfig         pkgs/main/linux-64::fontconfig-2.14.1-h4c34cd2_2 \n",
      "  fonttools          pkgs/main/noarch::fonttools-4.25.0-pyhd3eb1b0_0 \n",
      "  glib               pkgs/main/linux-64::glib-2.69.1-he621ea3_2 \n",
      "  gst-plugins-base   pkgs/main/linux-64::gst-plugins-base-1.14.1-h6a678d5_1 \n",
      "  gstreamer          pkgs/main/linux-64::gstreamer-1.14.1-h5eee18b_1 \n",
      "  joblib             pkgs/main/linux-64::joblib-1.2.0-py311h06a4308_0 \n",
      "  kiwisolver         pkgs/main/linux-64::kiwisolver-1.4.4-py311h6a678d5_0 \n",
      "  libbrotlicommon    pkgs/main/linux-64::libbrotlicommon-1.0.9-h5eee18b_7 \n",
      "  libbrotlidec       pkgs/main/linux-64::libbrotlidec-1.0.9-h5eee18b_7 \n",
      "  libbrotlienc       pkgs/main/linux-64::libbrotlienc-1.0.9-h5eee18b_7 \n",
      "  libclang           pkgs/main/linux-64::libclang-14.0.6-default_hc6dbbc7_1 \n",
      "  libclang13         pkgs/main/linux-64::libclang13-14.0.6-default_he11475f_1 \n",
      "  libcups            pkgs/main/linux-64::libcups-2.4.2-h2d74bed_1 \n",
      "  libgfortran-ng     pkgs/main/linux-64::libgfortran-ng-11.2.0-h00389a5_1 \n",
      "  libgfortran5       pkgs/main/linux-64::libgfortran5-11.2.0-h1234567_1 \n",
      "  libllvm14          pkgs/main/linux-64::libllvm14-14.0.6-hdb19cb5_3 \n",
      "  libpq              pkgs/main/linux-64::libpq-12.15-hdbd6064_1 \n",
      "  libxcb             pkgs/main/linux-64::libxcb-1.15-h7f8727e_0 \n",
      "  libxkbcommon       pkgs/main/linux-64::libxkbcommon-1.0.1-h5eee18b_1 \n",
      "  matplotlib         pkgs/main/linux-64::matplotlib-3.8.0-py311h06a4308_0 \n",
      "  matplotlib-base    pkgs/main/linux-64::matplotlib-base-3.8.0-py311ha02d727_0 \n",
      "  munkres            pkgs/main/noarch::munkres-1.1.4-py_0 \n",
      "  mysql              pkgs/main/linux-64::mysql-5.7.24-h721c034_2 \n",
      "  pcre               pkgs/main/linux-64::pcre-8.45-h295c915_0 \n",
      "  ply                pkgs/main/linux-64::ply-3.11-py311h06a4308_0 \n",
      "  pyparsing          pkgs/main/linux-64::pyparsing-3.0.9-py311h06a4308_0 \n",
      "  pyqt               pkgs/main/linux-64::pyqt-5.15.10-py311h6a678d5_0 \n",
      "  pyqt5-sip          pkgs/main/linux-64::pyqt5-sip-12.13.0-py311h5eee18b_0 \n",
      "  qt-main            pkgs/main/linux-64::qt-main-5.15.2-h53bd1ea_10 \n",
      "  scikit-learn       pkgs/main/linux-64::scikit-learn-1.3.0-py311ha02d727_0 \n",
      "  scipy              pkgs/main/linux-64::scipy-1.11.4-py311h08b1b3b_0 \n",
      "  sip                pkgs/main/linux-64::sip-6.7.12-py311h6a678d5_0 \n",
      "  threadpoolctl      pkgs/main/noarch::threadpoolctl-2.2.0-pyh0d69192_0 \n",
      "\n",
      "The following packages will be DOWNGRADED:\n",
      "\n",
      "  numpy                              1.26.2-py311h08b1b3b_0 --> 1.24.3-py311h08b1b3b_1 \n",
      "  numpy-base                         1.26.2-py311hf175353_0 --> 1.24.3-py311hf175353_1 \n",
      "\n",
      "\n",
      "Preparing transaction: ...working... done\n",
      "Verifying transaction: ...working... done\n",
      "Executing transaction: ...working... \n",
      "\n",
      "    Installed package of scikit-learn can be accelerated using scikit-learn-intelex.\n",
      "    More details are available here: https://intel.github.io/scikit-learn-intelex\n",
      "\n",
      "    For example:\n",
      "\n",
      "        $ conda install scikit-learn-intelex\n",
      "        $ python -m sklearnex my_application.py\n",
      "\n",
      "    \n",
      "\n",
      "done\n",
      "\u001b[33mWARNING: Running pip as the 'root' user can result in broken permissions and conflicting behaviour with the system package manager. It is recommended to use a virtual environment instead: https://pip.pypa.io/warnings/venv\u001b[0m\u001b[33m\n",
      "\u001b[0m\u001b[33mWARNING: Running pip as the 'root' user can result in broken permissions and conflicting behaviour with the system package manager. It is recommended to use a virtual environment instead: https://pip.pypa.io/warnings/venv\u001b[0m\u001b[33m\n",
      "\u001b[0m\u001b[33mWARNING: Running pip as the 'root' user can result in broken permissions and conflicting behaviour with the system package manager. It is recommended to use a virtual environment instead: https://pip.pypa.io/warnings/venv\u001b[0m\u001b[33m\n",
      "\u001b[0mRequirement already satisfied: guidance in /opt/conda/lib/python3.11/site-packages (0.1.5)\n",
      "Requirement already satisfied: diskcache in /opt/conda/lib/python3.11/site-packages (from guidance) (5.6.3)\n",
      "Requirement already satisfied: gptcache in /opt/conda/lib/python3.11/site-packages (from guidance) (0.1.43)\n",
      "Requirement already satisfied: openai>=1.0 in /opt/conda/lib/python3.11/site-packages (from guidance) (1.3.8)\n",
      "Requirement already satisfied: platformdirs in /opt/conda/lib/python3.11/site-packages (from guidance) (3.10.0)\n",
      "Requirement already satisfied: tiktoken>=0.3 in /opt/conda/lib/python3.11/site-packages (from guidance) (0.5.2)\n",
      "Requirement already satisfied: nest-asyncio in /opt/conda/lib/python3.11/site-packages (from guidance) (1.5.6)\n",
      "Requirement already satisfied: msal in /opt/conda/lib/python3.11/site-packages (from guidance) (1.26.0)\n",
      "Requirement already satisfied: requests in /opt/conda/lib/python3.11/site-packages (from guidance) (2.31.0)\n",
      "Requirement already satisfied: numpy in /opt/conda/lib/python3.11/site-packages (from guidance) (1.24.3)\n",
      "Requirement already satisfied: aiohttp in /opt/conda/lib/python3.11/site-packages (from guidance) (3.9.1)\n",
      "Requirement already satisfied: ordered-set in /opt/conda/lib/python3.11/site-packages (from guidance) (4.1.0)\n",
      "Requirement already satisfied: pyformlang in /opt/conda/lib/python3.11/site-packages (from guidance) (1.0.4)\n",
      "Requirement already satisfied: anyio<5,>=3.5.0 in /opt/conda/lib/python3.11/site-packages (from openai>=1.0->guidance) (3.5.0)\n",
      "Requirement already satisfied: distro<2,>=1.7.0 in /opt/conda/lib/python3.11/site-packages (from openai>=1.0->guidance) (1.8.0)\n",
      "Requirement already satisfied: httpx<1,>=0.23.0 in /opt/conda/lib/python3.11/site-packages (from openai>=1.0->guidance) (0.25.2)\n",
      "Requirement already satisfied: pydantic<3,>=1.9.0 in /opt/conda/lib/python3.11/site-packages (from openai>=1.0->guidance) (2.5.2)\n",
      "Requirement already satisfied: sniffio in /opt/conda/lib/python3.11/site-packages (from openai>=1.0->guidance) (1.2.0)\n",
      "Requirement already satisfied: tqdm>4 in /opt/conda/lib/python3.11/site-packages (from openai>=1.0->guidance) (4.65.0)\n",
      "Requirement already satisfied: typing-extensions<5,>=4.5 in /opt/conda/lib/python3.11/site-packages (from openai>=1.0->guidance) (4.7.1)\n",
      "Requirement already satisfied: regex>=2022.1.18 in /opt/conda/lib/python3.11/site-packages (from tiktoken>=0.3->guidance) (2023.10.3)\n",
      "Requirement already satisfied: charset-normalizer<4,>=2 in /opt/conda/lib/python3.11/site-packages (from requests->guidance) (2.0.4)\n",
      "Requirement already satisfied: idna<4,>=2.5 in /opt/conda/lib/python3.11/site-packages (from requests->guidance) (3.4)\n",
      "Requirement already satisfied: urllib3<3,>=1.21.1 in /opt/conda/lib/python3.11/site-packages (from requests->guidance) (1.26.18)\n",
      "Requirement already satisfied: certifi>=2017.4.17 in /opt/conda/lib/python3.11/site-packages (from requests->guidance) (2023.11.17)\n",
      "Requirement already satisfied: attrs>=17.3.0 in /opt/conda/lib/python3.11/site-packages (from aiohttp->guidance) (23.1.0)\n",
      "Requirement already satisfied: multidict<7.0,>=4.5 in /opt/conda/lib/python3.11/site-packages (from aiohttp->guidance) (6.0.4)\n",
      "Requirement already satisfied: yarl<2.0,>=1.0 in /opt/conda/lib/python3.11/site-packages (from aiohttp->guidance) (1.9.4)\n",
      "Requirement already satisfied: frozenlist>=1.1.1 in /opt/conda/lib/python3.11/site-packages (from aiohttp->guidance) (1.4.0)\n",
      "Requirement already satisfied: aiosignal>=1.1.2 in /opt/conda/lib/python3.11/site-packages (from aiohttp->guidance) (1.3.1)\n",
      "Requirement already satisfied: cachetools in /opt/conda/lib/python3.11/site-packages (from gptcache->guidance) (5.3.2)\n",
      "Requirement already satisfied: PyJWT<3,>=1.0.0 in /opt/conda/lib/python3.11/site-packages (from PyJWT[crypto]<3,>=1.0.0->msal->guidance) (2.8.0)\n",
      "Requirement already satisfied: cryptography<44,>=0.6 in /opt/conda/lib/python3.11/site-packages (from msal->guidance) (41.0.3)\n",
      "Requirement already satisfied: networkx in /opt/conda/lib/python3.11/site-packages (from pyformlang->guidance) (3.1)\n",
      "Requirement already satisfied: pydot in /opt/conda/lib/python3.11/site-packages (from pyformlang->guidance) (1.4.2)\n",
      "Requirement already satisfied: cffi>=1.12 in /opt/conda/lib/python3.11/site-packages (from cryptography<44,>=0.6->msal->guidance) (1.15.1)\n",
      "Requirement already satisfied: httpcore==1.* in /opt/conda/lib/python3.11/site-packages (from httpx<1,>=0.23.0->openai>=1.0->guidance) (1.0.2)\n",
      "Requirement already satisfied: h11<0.15,>=0.13 in /opt/conda/lib/python3.11/site-packages (from httpcore==1.*->httpx<1,>=0.23.0->openai>=1.0->guidance) (0.14.0)\n",
      "Requirement already satisfied: annotated-types>=0.4.0 in /opt/conda/lib/python3.11/site-packages (from pydantic<3,>=1.9.0->openai>=1.0->guidance) (0.6.0)\n",
      "Requirement already satisfied: pydantic-core==2.14.5 in /opt/conda/lib/python3.11/site-packages (from pydantic<3,>=1.9.0->openai>=1.0->guidance) (2.14.5)\n",
      "Requirement already satisfied: pyparsing>=2.1.4 in /opt/conda/lib/python3.11/site-packages (from pydot->pyformlang->guidance) (3.0.9)\n",
      "Requirement already satisfied: pycparser in /opt/conda/lib/python3.11/site-packages (from cffi>=1.12->cryptography<44,>=0.6->msal->guidance) (2.21)\n",
      "\u001b[33mWARNING: Running pip as the 'root' user can result in broken permissions and conflicting behaviour with the system package manager. It is recommended to use a virtual environment instead: https://pip.pypa.io/warnings/venv\u001b[0m\u001b[33m\n",
      "\u001b[0m"
     ]
    }
   ],
   "source": [
    "!conda install -qy scikit-learn scipy matplotlib\n",
    "!pip install -q -U python-dotenv\n",
    "!pip install -q -U datasets # The version in conda is broken\n",
    "!pip install -q -U bitsandbytes\n",
    "!pip install -q -U git+https://github.com/huggingface/transformers.git\n",
    "!pip install -q -U git+https://github.com/huggingface/peft.git\n",
    "!pip install -q -U git+https://github.com/huggingface/accelerate.git\n",
    "!pip install -q -U guidance\n"
   ]
  },
  {
   "cell_type": "code",
   "execution_count": 2,
   "id": "f52810b3-b554-4836-8250-cd45c5583db1",
   "metadata": {},
   "outputs": [],
   "source": [
    "import random\n",
    "import time\n",
    "from guidance import models, gen, select"
   ]
  },
  {
   "cell_type": "markdown",
   "id": "30cdb75e-3d96-4720-b98d-512693d328a3",
   "metadata": {},
   "source": [
    "## Load the model and data\n",
    "\n",
    "### Base Model\n",
    "\n",
    "Quantizied to 4 bits using bits and bytes"
   ]
  },
  {
   "cell_type": "code",
   "execution_count": 3,
   "id": "968454da-d3dc-4634-9da6-08e44c6a1515",
   "metadata": {},
   "outputs": [
    {
     "data": {
      "application/vnd.jupyter.widget-view+json": {
       "model_id": "0d4c07cc0ac049238cff81949780d0cc",
       "version_major": 2,
       "version_minor": 0
      },
      "text/plain": [
       "Loading checkpoint shards:   0%|          | 0/2 [00:00<?, ?it/s]"
      ]
     },
     "metadata": {},
     "output_type": "display_data"
    }
   ],
   "source": [
    "import torch\n",
    "from transformers import AutoTokenizer, AutoModelForCausalLM, BitsAndBytesConfig\n",
    "\n",
    "base_model_id = \"mistralai/Mistral-7B-v0.1\"\n",
    "bnb_config = BitsAndBytesConfig(\n",
    "    load_in_4bit=True,\n",
    "    bnb_4bit_use_double_quant=True,\n",
    "    bnb_4bit_quant_type=\"nf4\",\n",
    "    bnb_4bit_compute_dtype=torch.bfloat16\n",
    ")\n",
    "\n",
    "base_model = AutoModelForCausalLM.from_pretrained(\n",
    "    base_model_id,  # Mistral, same as before\n",
    "    quantization_config=bnb_config,  # Same quantization config as before\n",
    "    device_map=\"auto\",\n",
    "    trust_remote_code=True,\n",
    ")\n",
    "\n",
    "tokenizer = AutoTokenizer.from_pretrained(base_model_id, add_bos_token=True, trust_remote_code=True)"
   ]
  },
  {
   "cell_type": "markdown",
   "id": "634b3fca-dcb6-44b3-ab8e-a8f073a1046c",
   "metadata": {},
   "source": [
    "### Lora\n"
   ]
  },
  {
   "cell_type": "code",
   "execution_count": 4,
   "id": "24c32316-3201-418e-8fd4-a8a9cd631a84",
   "metadata": {},
   "outputs": [],
   "source": [
    "from peft import PeftModel\n",
    "\n",
    "ft_model = PeftModel.from_pretrained(base_model, \"mistral-discern-finetune/checkpoint-11000\")"
   ]
  },
  {
   "cell_type": "markdown",
   "id": "d97096d3-fe46-4e98-a118-09a663f48e17",
   "metadata": {},
   "source": [
    "### Validation Dataset"
   ]
  },
  {
   "cell_type": "code",
   "execution_count": 4,
   "id": "80f172b4-0435-4a94-a5b5-0f5d801a089f",
   "metadata": {},
   "outputs": [
    {
     "data": {
      "application/vnd.jupyter.widget-view+json": {
       "model_id": "b130144e1fe747f88dd427756875e7ab",
       "version_major": 2,
       "version_minor": 0
      },
      "text/plain": [
       "Downloading data files:   0%|          | 0/1 [00:00<?, ?it/s]"
      ]
     },
     "metadata": {},
     "output_type": "display_data"
    },
    {
     "data": {
      "application/vnd.jupyter.widget-view+json": {
       "model_id": "8621a09e0fec4e20bead127eeba238fd",
       "version_major": 2,
       "version_minor": 0
      },
      "text/plain": [
       "Extracting data files:   0%|          | 0/1 [00:00<?, ?it/s]"
      ]
     },
     "metadata": {},
     "output_type": "display_data"
    },
    {
     "data": {
      "application/vnd.jupyter.widget-view+json": {
       "model_id": "e5675e58ce3944a5a5a60e0fae96f2bb",
       "version_major": 2,
       "version_minor": 0
      },
      "text/plain": [
       "Generating train split: 0 examples [00:00, ? examples/s]"
      ]
     },
     "metadata": {},
     "output_type": "display_data"
    }
   ],
   "source": [
    "from datasets import load_dataset\n",
    "\n",
    "eval_dataset = load_dataset(\"json\", data_files='./validation_data.jsonl', split='train')"
   ]
  },
  {
   "cell_type": "markdown",
   "id": "d0bbef17-5060-40f0-b8dd-fccd551b176b",
   "metadata": {},
   "source": [
    "# Inference Test"
   ]
  },
  {
   "cell_type": "code",
   "execution_count": 6,
   "id": "6c1823c0-b274-4887-9096-18cf454af765",
   "metadata": {
    "scrolled": true
   },
   "outputs": [],
   "source": [
    "prompt, origional_answer = random.choice(eval_dataset['document']).split(\"### Solution:\")\n",
    "prompt += \"### Solution:\\r\\n\"\n"
   ]
  },
  {
   "cell_type": "code",
   "execution_count": 7,
   "id": "7e22cadc-0240-432a-88d0-cbbce923fea6",
   "metadata": {},
   "outputs": [
    {
     "name": "stderr",
     "output_type": "stream",
     "text": [
      "Setting `pad_token_id` to `eos_token_id`:2 for open-end generation.\n"
     ]
    },
    {
     "name": "stdout",
     "output_type": "stream",
     "text": [
      "Mistral Anaswer:\n",
      "{  \"sports-and-athletics\": \"0.0\",  \"sports-and-athletics-confidence\": \"10.0\",  \"environmentalism-and-sustainability\": \"0.0\",  \"environmentalism-and-sustainability-confidence\": \"10.0\",  \"gaming-and-e-sports\": \"0.0\",  \"gaming-and-e-sports-confidence\": \"10.0\",  \"college-and-career\": \"0.0\",  \"college-and-career-confidence\": \"10.0\",  \"cooking-and-food\": \"0.0\",  \"cooking-and-food-confidence\": \"10.0\",  \"reading-and-literature\": \"0.0\",  \"reading-and-literature-confidence\": \"10.0\",  \"writing-and-creative-writing\": \"0.0\",  \"writing-and-creative-writing-confidence\": \"10.0\",  \"science-and-technology\": \"0.0\",  \"science-and-technology-confidence\": \"10.0\",  \"mathematics-and-statistics\": \"0.0\",  \"mathematics-and-statistics-confidence\": \"10.0\",  \"history-and-social-studies\": \"0.0\",  \"history-and-social-studies-confidence\": \"10.0\",  \"creative-arts\": \"0.0\",  \"creative-arts-confidence\": \"10.0\",  \"animals-and-nature\": \"0.0\",  \"animals-and-nature-confidence\": \"10.0\",  \"note\": \"The search term 'playlist 2023' does not provide enough context to determine an interest in any specific category. It could be related to music, but without further data, it is not possible to confidently assign it to any of the given categories.\"}\n",
      "\n",
      "### Explanation:\n",
      "The student searched for a playlist, which indicates an interest in music. However, since there is no specific genre or artist mentioned, it is not possible to confidently associate this activity with any of the listed categories. Therefore, all indicators are marked as 0 with high confidence.</s>\n",
      "Time taken: 39.96090269088745 seconds\n"
     ]
    }
   ],
   "source": [
    "import time \n",
    "\n",
    "start_time = time.time()\n",
    "\n",
    "model_input = tokenizer(prompt, return_tensors=\"pt\").to(\"cuda\")\n",
    "input_length = model_input['input_ids'].shape[1]\n",
    "\n",
    "ft_model.eval()\n",
    "with torch.no_grad():\n",
    "    print(\"Mistral Anaswer:\")\n",
    "    output_tokens = ft_model.generate(**model_input, max_new_tokens=1000, repetition_penalty=1.15)\n",
    "    output_text = tokenizer.batch_decode(output_tokens[:, input_length:])[0]\n",
    "    print(output_text)\n",
    "    #print(tokenizer.decode(output_tokens[0], skip_special_tokens=True))\n",
    "\n",
    "end_time = time.time()\n",
    "total_time = end_time - start_time\n",
    "print(f\"Time taken: {total_time} seconds\")"
   ]
  },
  {
   "cell_type": "markdown",
   "id": "0a5a27bb-f0b8-4896-926e-bdc810bcb832",
   "metadata": {},
   "source": [
    "# Batch Inference"
   ]
  },
  {
   "cell_type": "code",
   "execution_count": 6,
   "id": "fe31e06b-1cb3-42c1-ba15-2a4a50ef687e",
   "metadata": {
    "scrolled": true
   },
   "outputs": [
    {
     "data": {
      "text/plain": [
       "(8, 2329)"
      ]
     },
     "execution_count": 6,
     "metadata": {},
     "output_type": "execute_result"
    }
   ],
   "source": [
    "batch_size = 8\n",
    "prompts = []\n",
    "answers = []\n",
    "\n",
    "\n",
    "for x in range(batch_size):\n",
    "    p, a = random.choice(eval_dataset['document']).split(\"### Solution:\")\n",
    "    p += \"### Solution:\\r\\n\"\n",
    "\n",
    "    prompts.append(p)\n",
    "    answers.append(a)\n",
    "\n",
    "tokenizer.pad_token = tokenizer.eos_token\n",
    "model_input = tokenizer(prompts, padding=True, return_tensors=\"pt\").to(\"cuda\")\n",
    "input_length = model_input['input_ids'].shape[1]\n",
    "\n",
    "len(prompts), input_length"
   ]
  },
  {
   "cell_type": "code",
   "execution_count": 7,
   "id": "375e595b-0964-455f-8ff3-f7253c4e51d6",
   "metadata": {
    "scrolled": true
   },
   "outputs": [
    {
     "name": "stderr",
     "output_type": "stream",
     "text": [
      "Setting `pad_token_id` to `eos_token_id`:2 for open-end generation.\n"
     ]
    },
    {
     "name": "stdout",
     "output_type": "stream",
     "text": [
      "\n",
      "\n",
      "**** MISTRAL ANSWER 0********\\:\n",
      "\n",
      "\n",
      "{  \"sports-and-athletics\": \"0.0\",  \"sports-and-athletics-confidence\": \"10.0\",  \"environmentalism-and-sustainability\": \"0.0\",  \"environmentalism-and-sustainability-confidence\": \"10.0\",  \"gaming-and-e-sports\": \"0.0\",  \"gaming-and-e-sports-confidence\": \"10.0\",  \"college-and-career\": \"0.0\",  \"college-and-career-confidence\": \"10.0\",  \"cooking-and-food\": \"0.0\",  \"cooking-and-food-confidence\": \"10.0\",  \"reading-and-literature\": \"1.0\",  \"reading-and-literature-confidence\": \"5.0\",  \"writing-and-creative-writing\": \"1.0\",  \"writing-and-creative-writing-confidence\": \"7.0\",  \"science-and-technology\": \"0.0\",  \"science-and-technology-confidence\": \"10.0\",  \"mathematics-and-statistics\": \"1.0\",  \"mathematics-and-statistics-confidence\": \"9.0\",  \"history-and-social-studies\": \"0.0\",  \"history-and-social-studies-confidence\": \"10.0\",  \"creative-arts\": \"1.0\",  \"creative-arts-confidence\": \"8.0\",  \"animals-and-nature\": \"0.0\",  \"animals-and-nature-confidence\": \"10.0\",  \"note\": \"The student's web activity shows a strong focus on mathematics, with multiple searches related to division and multiplication problems, indicating an interest or homework assignment in this area. There is also evidence of creative writing or storytelling, with searches for villain names and drawing ideas involving portals and sisters, suggesting an interest in fantasy literature or role-playing games. The search for 'what percentage is an a' could be related to academic performance but does not clearly indicate a specific interest. No clear patterns were found for the other categories.\"\n",
      "}\n",
      "\n",
      "### Explanation:\n",
      "The student's web activity includes numerous mathematical calculations, suggesting an interest or homework assignment in mathematics. Searches related to villain names and drawing ideas involving portals and sisters indicate an interest in creative writing or storytelling, possibly within the context of fantasy literature or role-playing games. The presence of a search for 'what percentage is an a' could be related to academic performance but does not clearly indicate a specific interest. No clear patterns were found for the other categories.\n",
      "\n",
      "### Note:\n",
      "The confidence levels reflect the frequency and specificity of the searches related to each category. The absence of repeated patterns or more focused searches in some areas leads to lower confidence scores for those categories.\n",
      "\n",
      "### References:\n",
      "No references provided.\n",
      "\n",
      "### Conclusion:\n",
      "The student's web activity indicates a strong focus on mathematics, with multiple searches related to division and multiplication problems. There is also evidence of creative writing or storytelling, with searches for villain names and drawing ideas involving portals and sisters, suggesting an interest in fantasy literature or role-playing games. The search for 'what percentage is an a' could be related to academic performance but does not clearly indicate a specific interest. No clear patterns were found for the other categories.\n",
      "\n",
      "### Keywords:\n",
      "math, math problems, villain names, drawing ideas, portals, sisters, fantasy literature, role-playing games, academic performance, no clear patterns, no repeated patterns, no focused searches, no specific interests, no clear indicators, no clear patterns, no repeated patterns, no focused searches, no specific interests, no clear indicators, no clear patterns, no repeated patterns, no focused searches, no specific interests, no clear indicators, no clear patterns, no repeated patterns, no focused searches, no specific interests, no clear indicators, no clear patterns, no repeated patterns, no focused searches, no specific interests, no clear indicators, no clear patterns, no repeated patterns, no focused searches, no specific interests, no clear indicators, no clear patterns, no repeated patterns, no focused searches, no specific interests, no clear indicators, no clear patterns, no repeated\n",
      "\n",
      "\n",
      "**** MISTRAL ANSWER 1********\\:\n",
      "\n",
      "\n",
      "{  \"sports-and-athletics\": \"0.0\",  \"sports-and-athletics-confidence\": \"10.0\",  \"environmentalism-and-sustainability\": \"0.0\",  \"environmentalism-and-sustainability-confidence\": \"10.0\",  \"gaming-and-e-sports\": \"1.0\",  \"gaming-and-e-sports-confidence\": \"5.0\",  \"college-and-career\": \"0.0\",  \"college-and-career-confidence\": \"10.0\",  \"cooking-and-food\": \"0.0\",  \"cooking-and-food-confidence\": \"10.0\",  \"reading-and-literature\": \"0.0\",  \"reading-and-literature-confidence\": \"10.0\",  \"writing-and-creative-writing\": \"0.0\",  \"writing-and-creative-writing-confidence\": \"10.0\",  \"science-and-technology\": \"0.0\",  \"science-and-technology-confidence\": \"10.0\",  \"mathematics-and-statistics\": \"0.0\",  \"mathematics-and-statistics-confidence\": \"10.0\",  \"history-and-social-studies\": \"0.0\",  \"history-and-social-studies-confidence\": \"10.0\",  \"creative-arts\": \"0.0\",  \"creative-arts-confidence\": \"10.0\",  \"animals-and-nature\": \"0.0\",  \"animals-and-nature-confidence\": \"10.0\",  \"note\": \"The student's online activity includes multiple visits to 'Blooket,' which is a game-based learning platform, indicating an interest in gaming and e-sports. The presence of other educational games like 'Bubble Guppies' also supports this interest. Searches related to definitions ('edge,' 'rebel') suggest a focus on vocabulary or language arts, but there is insufficient evidence to confidently assert an interest in reading and literature. No clear patterns were found for the other indicators.\"\n",
      "}\n",
      "\n",
      "### Explanation:\n",
      "The student's online activity shows repeated engagement with 'Blooket,' a game-based learning platform, suggesting an interest in gaming and e-sports. This is supported by the search for 'Bubble Guppies,' another educational game. There is no substantial evidence of interest in the other categories based on the provided activities. The searches for definitions and the use of Google Docs could indicate homework or study activities rather than specific interests. The search for 'powerschool' indicates the use of a school management system, which is common for checking grades or class schedules. The presence of 'pow' could be a typo or an acronym, but without further context, it does not clearly align with any of the specified indicators.\n",
      "\n",
      "### Note:\n",
      "The confidence levels are high where there is no evidence of activity related to the category, indicating a strong absence of interest. The confidence for gaming and e-sports is moderate due to the presence of 'Blooket' and 'Bubble Guppies.' Other indicators have low confidence because they are not directly supported by the observed activities.\n",
      "\n",
      "### References:\n",
      "https://www.blooket.join/play\n",
      "https://www.pbs.org/kids/bubble-guppies/\n",
      "https://en.wikipedia.org/wiki/Powerschool_(software)\n",
      "https://www.merriam-webster.com/dictionary/edge\n",
      "https://www.merriam-webster.com/dictionary/rebel\n",
      "https://www.merriam-webster.com/dictionary/indictment\n",
      "https://www.merriam-webster.com/dictionary/pow\n",
      "https://www.merriam-webster.com/dictionary/powerschool\n",
      "https://www.merriam-webster.com/dictionary/pow\n",
      "https://www.merriam-webster.com/dictionary/powerschool\n",
      "https://www.merriam-webster.com/dictionary/pow\n",
      "https://www.merriam-webster.com/dictionary/pow\n",
      "https://www.mer\n",
      "\n",
      "\n",
      "**** MISTRAL ANSWER 2********\\:\n",
      "\n",
      "\n",
      "{  \"sports-and-athletics\": \"0.0\",  \"sports-and-athletics-confidence\": \"10.0\",  \"environmentalism-and-sustainability\": \"0.0\",  \"environmentalism-and-sustainability-confidence\": \"10.0\",  \"gaming-and-e-sports\": \"0.0\",  \"gaming-and-e-sports-confidence\": \"10.0\",  \"college-and-career\": \"0.0\",  \"college-and-career-confidence\": \"10.0\",  \"cooking-and-food\": \"0.0\",  \"cooking-and-food-confidence\": \"10.0\",  \"reading-and-literature\": \"0.0\",  \"reading-and-literature-confidence\": \"10.0\",  \"writing-and-creative-writing\": \"0.0\",  \"writing-and-creative-writing-confidence\": \"10.0\",  \"science-and-technology\": \"0.0\",  \"science-and-technology-confidence\": \"10.0\",  \"mathematics-and-statistics\": \"0.0\",  \"mathematics-and-statistics-confidence\": \"10.0\",  \"history-and-social-studies\": \"1.0\",  \"history-and-social-studies-confidence\": \"5.0\",  \"creative-arts\": \"1.0\",  \"creative-arts-confidence\": \"4.0\",  \"animals-and-nature\": \"0.0\",  \"animals-and-nature-confidence\": \"10.0\",  \"note\": \"The student's online activity includes watching videos related to World Kindness Day and using Character Strong, which suggests an interest in social and emotional learning. This could be related to history and social studies due to the nature of the content, but the connection is tenuous, hence the lower confidence score. The presence of creative arts is indicated by the search for videos, which may involve creativity, but again, the confidence is low due to the lack of direct evidence.\"\n",
      "}\n",
      "\n",
      "### Explanation:\n",
      "The student's online activity includes searching for videos related to World Kindness Day and using Character Strong, which is a platform for social and emotional learning. These activities suggest an interest in social issues and character development, which can be loosely associated with history and social studies, although the connection is not strong enough to confidently assert a clear interest in this area. The presence of creative arts is also suggested by the search for videos, which may involve creativity, but again, the confidence is low due to the broad nature of the term 'videos'. There is no direct evidence of the other indicators being present.\n",
      "\n",
      "### Note:\n",
      "The confidence levels are moderate to low because the activities are indirectly related to the categories and do not strongly indicate a focused interest in those areas. The searches seem more aligned with general educational content rather than a specific passion or interest.</s></s></s></s></s></s></s></s></s></s></s></s></s></s></s></s></s></s></s></s></s></s></s></s></s></s></s></s></s></s></s></s></s></s></s></s></s></s></s></s></s></s></s></s></s></s></s></s></s></s></s></s></s></s></s></s></s></s></s></s></s></s></s></s></s></s></s></s></s></s></s></s></s></s></s></s></s></s></s></s></s></s></s></s></s></s></s></s></s></s></s></s></s></s></s></s></s></s></s></s></s></s></s></s></s></s></s></s></s></s></s></s></s></s></s></s></s></s></s></s></s></s></s></s></s></s></s></s></s></s></s></s></s></s></s></s></s></s></s></s></s></s></s></s></s></s></s></s></s></s></s></s></s></s></s></s></s></s></s></s></s></s></s></s></s></s></s></s></s></s></s></s></s></s></s></s></s></s></s></s></s></s></s></s></s></s></s></s></s></s></s></s></s></s></s></s></s></s></s></s></s></s></s></s></s></s></s></s></s></s></s></s></s></s></s></s></s></s></s></s></s></s></s></s></s></s></s></s></s></s></s></s></s></s></s></s></s></s></s></s></s></s></s></s></s></s></s></s></s></s></s></s></s></s></s></s></s></s></s></s></s></s></s></s></s></s></s></s></s></s></s></s></s></s></s></s></s></s></s></s></s></s></s></s></s></s></s></s></s></s></s></s></s></s></s></s></s></s></s></s>\n",
      "\n",
      "\n",
      "**** MISTRAL ANSWER 3********\\:\n",
      "\n",
      "\n",
      "{  \"sports-and-athletics\": \"1.0\",  \"sports-and-athletics-confidence\": \"5.0\",  \"environmentalism-and-sustainability\": \"0.0\",  \"environmentalism-and-sustainability-confidence\": \"10.0\",  \"gaming-and-e-sports\": \"0.0\",  \"gaming-and-e-sports-confidence\": \"10.0\",  \"college-and-career\": \"1.0\",  \"college-and-career-confidence\": \"4.0\",  \"cooking-and-food\": \"0.0\",  \"cooking-and-food-confidence\": \"10.0\",  \"reading-and-literature\": \"1.0\",  \"reading-and-literature-confidence\": \"9.0\",  \"writing-and-creative-writing\": \"0.0\",  \"writing-and-creative-writing-confidence\": \"7.0\",  \"science-and-technology\": \"0.0\",  \"science-and-technology-confidence\": \"10.0\",  \"mathematics-and-statistics\": \"1.0\",  \"mathematics-and-statistics-confidence\": \"3.0\",  \"history-and-social-studies\": \"1.0\",  \"history-and-social-studies-confidence\": \"8.0\",  \"creative-arts\": \"1.0\",  \"creative-arts-confidence\": \"7.0\",  \"animals-and-nature\": \"0.0\",  \"animals-and-nature-confidence\": \"10.0\",  \"note\": \"The student showed interest in sports through searches related to Yeezys and Jordan 1 sneakers, indicating an interest in athletics and fashion. The search about Gallaudet University suggests some consideration of college options. Multiple queries about literature, particularly historical fiction and its representation of the Vietnam War, show a strong interest in reading and literature. The student also searched for calculators, suggesting some engagement with mathematics. Creative arts are indicated by searches for black and white pointillism. There is no clear evidence of environmentalism, gaming, cooking, science, animals, or writing. The student's interest in history is shown by questions about the Vietnam War and the draft.\"\n",
      "}\n",
      "\n",
      "### Explanation:\n",
      "{  \"sports-and-athletics\": \"1.0\",  \"sports-and-athletics-confidence\": \"5.0\",  \"environmentalism-and-sustainability\": \"0.0\",  \"environmentalism-and-sustainability-confidence\": \"10.0\",  \"gaming-and-e-sports\": \"0.0\",  \"gaming-and-e-sports-confidence\": \"10.0\",  \"college-and-career\": \"1.0\",  \"college-and-career-confidence\": \"4.0\",  \"cooking-and-food\": \"0.0\",  \"cooking-and-food-confidence\": \"10.0\",  \"reading-and-literature\": \"1.0\",  \"reading-and-literature-confidence\": \"9.0\",  \"writing-and-creative-writing\": \"0.0\",  \"writing-and-creative-writing-confidence\": \"7.0\",  \"science-and-technology\": \"0.0\",  \"science-and-technology-confidence\": \"10.0\",  \"mathematics-and-statistics\": \"1.0\",  \"mathematics-and-statistics-confidence\": \"3.0\",  \"history-and-social-studies\": \"1.0\",  \"history-and-social-studies-confidence\": \"8.0\",  \"creative-arts\": \"1.0\",  \"creative-arts-confidence\": \"7.0\",  \"animals-and-nature\": \"0.0\",  \"animals-and-nature-confidence\": \"10.0\",  \"note\": \"The student showed interest in sports through searches related to Yeezys and Jordan 1 sneakers, indicating an\n",
      "\n",
      "\n",
      "**** MISTRAL ANSWER 4********\\:\n",
      "\n",
      "\n",
      "{  \"sports-and-athletics\": \"0.0\",  \"sports-and-athletics-confidence\": \"10.0\",  \"environmentalism-and-sustainability\": \"0.0\",  \"environmentalism-and-sustainability-confidence\": \"10.0\",  \"gaming-and-e-sports\": \"0.0\",  \"gaming-and-e-sports-confidence\": \"10.0\",  \"college-and-career\": \"0.0\",  \"college-and-career-confidence\": \"10.0\",  \"cooking-and-food\": \"0.0\",  \"cooking-and-food-confidence\": \"10.0\",  \"reading-and-literature\": \"0.0\",  \"reading-and-literature-confidence\": \"10.0\",  \"writing-and-creative-writing\": \"0.0\",  \"writing-and-creative-writing-confidence\": \"10.0\",  \"science-and-technology\": \"0.0\",  \"science-and-technology-confidence\": \"10.0\",  \"mathematics-and-statistics\": \"1.0\",  \"mathematics-and-statistics-confidence\": \"5.0\",  \"history-and-social-studies\": \"0.0\",  \"history-and-social-studies-confidence\": \"10.0\",  \"creative-arts\": \"1.0\",  \"creative-arts-confidence\": \"4.0\",  \"animals-and-nature\": \"1.0\",  \"animals-and-nature-confidence\": \"7.0\",  \"note\": \"The student showed interest in animals through repeated searches about cats, indicating an affinity for animals and nature. The presence of 'ixl' suggests engagement with educational content, possibly mathematics given IXL's reputation for math practice, but without more context, confidence remains moderate. Searches related to 'chaos' and 'keyboard cat' suggest a creative or humorous interest, which could be associated with creative arts, though the connection is tenuous, hence the lower confidence.\"\n",
      "}\n",
      "\n",
      "### Explanation:\n",
      "The student's web activity shows a clear interest in animals, particularly cats, as indicated by multiple searches for 'cats'. This suggests an affinity for animals and nature. The use of 'ixl' indicates engagement with educational content, potentially mathematics, but without further context, the confidence in this area remains moderate. Searches like 'never gonna give you up' and 'keyboard cat' suggest a creative or humorous interest, which could be associated with creative arts, but again, the connection is tenuous, leading to a lower confidence rating. There is no substantial evidence of interest in the other categories based on the provided activities.\n",
      "\n",
      "### Note:\n",
      "This analysis is based on the provided web activities, which may not fully represent the student's interests or passions. The confidence levels reflect the strength of the connections between the activities and the specified indicators.\n",
      "\n",
      "### References:\n",
      "IXL - https://www.ixl.com/math/grade-3/fractions/m/lesson/?utm_source=google&utm_medium=cpc&utm_campaign=search&utm_term=ixl&utm_content=textads&adpos=1t1&device=c&matchtype=b&network=g&gclid=cpmcqyxqaaabefabcqodvzpiaaeqqbgasaw&gclsrc=ds\n",
      "\n",
      "Never Gonna Give You Up - https://youtu.be/dQw4w9WgXcQ\n",
      "\n",
      "Keyboard Cat - https://youtu.be/o-kjhGVJZdk\n",
      "\n",
      "Chaos - https://en.wikipedia.org/wiki/Chaos_(philosophy)\n",
      "\n",
      "Cat - https://en.wikipedia.org/wiki/Cat\n",
      "\n",
      "Cats - https://en.wikipedia.org/wiki/Cat\n",
      "\n",
      "Keywords: cats, ixl, calculator, never gonna give you up, chaos, keyboard cat, keyboards, keyboard cat 10 hours, how to pronounce chaos, keyboards, keyboard cat 10 hours, ixl, calculator, never gonna give you up\n",
      "\n",
      "\n",
      "**** MISTRAL ANSWER 5********\\:\n",
      "\n",
      "\n",
      "{  \"sports-and-athletics\": \"0.0\",  \"sports-and-athletics-confidence\": \"10.0\",  \"environmentalism-and-sustainability\": \"0.0\",  \"environmentalism-and-sustainability-confidence\": \"10.0\",  \"gaming-and-e-sports\": \"0.0\",  \"gaming-and-e-sports-confidence\": \"10.0\",  \"college-and-career\": \"1.0\",  \"college-and-career-confidence\": \"5.0\",  \"cooking-and-food\": \"0.0\",  \"cooking-and-food-confidence\": \"10.0\",  \"reading-and-literature\": \"0.0\",  \"reading-and-literature-confidence\": \"10.0\",  \"writing-and-creative-writing\": \"1.0\",  \"writing-and-creative-writing-confidence\": \"9.0\",  \"science-and-technology\": \"0.0\",  \"science-and-technology-confidence\": \"10.0\",  \"mathematics-and-statistics\": \"0.0\",  \"mathematics-and-statistics-confidence\": \"10.0\",  \"history-and-social-studies\": \"1.0\",  \"history-and-social-studies-confidence\": \"8.0\",  \"creative-arts\": \"1.0\",  \"creative-arts-confidence\": \"4.0\",  \"animals-and-nature\": \"0.0\",  \"animals-and-nature-confidence\": \"10.0\",  \"note\": \"The student's web activity indicates a strong focus on history and social studies, particularly around the JFK assassination and its aftermath, suggesting an interest in historical events and political figures. There is also evidence of research into writing skills, such as MLA formatting and synonyms, indicating an interest in writing and creative writing. The search about a career path with a BA in graphic design suggests some consideration of college and career planning, although the confidence is moderate due to the limited number of related searches. No clear patterns were found for other indicators.\"\n",
      "}\n",
      "\n",
      "### Explanation:\n",
      "The student's web activity shows repeated searches related to the JFK assassination, indicating an interest in history and social studies. Searches for writing tips and resources suggest an interest in writing and creative writing. The query about a career path with a BA in graphic design points towards some consideration of college and career planning. The presence of Canva, a graphic design platform, could imply an interest in creative arts, but the confidence is lower due to the lack of additional supporting data. No significant evidence was found for the other indicators.</s></s></s></s></s></s></s></s></s></s></s></s></s></s></s></s></s></s></s></s></s></s></s></s></s></s></s></s></s></s></s></s></s></s></s></s></s></s></s></s></s></s></s></s></s></s></s></s></s></s></s></s></s></s></s></s></s></s></s></s></s></s></s></s></s></s></s></s></s></s></s></s></s></s></s></s></s></s></s></s></s></s></s></s></s></s></s></s></s></s></s></s></s></s></s></s></s></s></s></s></s></s></s></s></s></s></s></s></s></s></s></s></s></s></s></s></s></s></s></s></s></s></s></s></s></s></s></s></s></s></s></s></s></s></s></s></s></s></s></s></s></s></s></s></s></s></s></s></s></s></s></s></s></s></s></s></s></s></s></s></s></s></s></s></s></s></s></s></s></s></s></s></s></s></s></s></s></s></s></s></s></s></s></s></s></s></s></s></s></s></s></s></s></s></s></s></s></s></s></s></s></s></s></s></s></s></s></s></s></s></s></s></s></s></s></s></s></s></s></s></s></s></s></s></s></s></s></s></s></s></s></s></s></s></s></s></s></s></s></s></s></s></s></s></s></s></s></s></s></s></s></s></s></s></s></s></s></s></s></s></s></s></s></s></s></s></s></s></s></s></s></s></s></s></s></s></s></s></s></s></s></s></s></s></s></s></s></s></s></s></s></s></s></s></s></s></s></s></s></s></s></s></s></s></s></s></s></s></s></s></s></s></s></s></s></s></s></s></s></s></s></s></s></s></s></s></s></s></s></s></s></s></s></s></s></s></s></s></s></s></s></s></s></s></s></s></s></s>\n",
      "\n",
      "\n",
      "**** MISTRAL ANSWER 6********\\:\n",
      "\n",
      "\n",
      "{  \"sports-and-athletics\": \"0.0\",  \"sports-and-athletics-confidence\": \"10.0\",  \"environmentalism-and-sustainability\": \"1.0\",  \"environmentalism-and-sustainability-confidence\": \"9.0\",  \"gaming-and-e-sports\": \"1.0\",  \"gaming-and-e-sports-confidence\": \"5.0\",  \"college-and-career\": \"0.0\",  \"college-and-career-confidence\": \"10.0\",  \"cooking-and-food\": \"1.0\",  \"cooking-and-food-confidence\": \"8.0\",  \"reading-and-literature\": \"0.0\",  \"reading-and-literature-confidence\": \"10.0\",  \"writing-and-creative-writing\": \"0.0\",  \"writing-and-creative-writing-confidence\": \"10.0\",  \"science-and-technology\": \"1.0\",  \"science-and-technology-confidence\": \"9.0\",  \"mathematics-and-statistics\": \"0.0\",  \"mathematics-and-statistics-confidence\": \"10.0\",  \"history-and-social-studies\": \"1.0\",  \"history-and-social-studies-confidence\": \"7.0\",  \"creative-arts\": \"0.0\",  \"creative-arts-confidence\": \"10.0\",  \"animals-and-nature\": \"0.0\",  \"animals-and-nature-confidence\": \"10.0\",  \"note\": \"The student showed a clear interest in environmentalism and sustainability through searches about ocean pollution, plastic waste, and sustainable packaging. Gaming interest was indicated by repeated searches for 'Geometry Dash,' a popular game. Cooking and food were also areas of interest, with searches about food packaging and its impact on the environment. Science and technology were prominent due to numerous searches about chemical reactions, equations, and the law of conservation of mass. History and social studies were indicated by a search about Buddha's life. No significant evidence was found for sports, college and career planning, reading and literature, creative writing, mathematics, creative arts, animals and nature.\"\n",
      " músicas de navidad en español\n",
      "}\n",
      "\n",
      "### Detailed Summary:\n",
      "{  \"sports-and-athletics\": \"0.0\",  \"sports-and-athletics-confidence\": \"10.0\",  \"environmentalism-and-sustainability\": \"1.0\",  \"environmentalism-and-sustainability-confidence\": \"9.0\",  \"gaming-and-e-sports\": \"1.0\",  \"gaming-and-e-sports-confidence\": \"5.0\",  \"college-and-career\": \"0.0\",  \"college-and-career-confidence\": \"10.0\",  \"cooking-and-food\": \"1.0\",  \"cooking-and-food-confidence\": \"8.0\",  \"reading-and-literature\": \"0.0\",  \"reading-and-literature-confidence\": \"10.0\",  \"writing-and-creative-writing\": \"0.0\",  \"writing-and-creative-writing-confidence\": \"10.0\",  \"science-and-technology\": \"1.0\",  \"science-and-technology-confidence\": \"9.0\",  \"mathematics-and-statistics\": \"0.0\",  \"mathematics-and-statistics-confidence\": \"10.0\",  \"history-and-social-studies\": \"1.0\",  \"history-and-social-studies-confidence\": \"7.0\",  \"creative-arts\": \"0.0\",  \"creative-arts-confidence\": \"10.0\",  \"animals-and-nature\": \"0.0\",  \"animals-and-nature-confidence\": \"10.0\",  \"note\": \"The student showed a clear interest in environmentalism and sustainability through\n",
      "\n",
      "\n",
      "**** MISTRAL ANSWER 7********\\:\n",
      "\n",
      "\n",
      "{  \"sports-and-athletics\": \"1.0\",  \"sports-and-athletics-confidence\": \"4.0\",  \"environmentalism-and-sustainability\": \"0.0\",  \"environmentalism-and-sustainability-confidence\": \"10.0\",  \"gaming-and-e-sports\": \"1.0\",  \"gaming-and-e-sports-confidence\": \"5.0\",  \"college-and-career\": \"1.0\",  \"college-and-career-confidence\": \"7.0\",  \"cooking-and-food\": \"0.0\",  \"cooking-and-food-confidence\": \"10.0\",  \"reading-and-literature\": \"0.0\",  \"reading-and-literature-confidence\": \"10.0\",  \"writing-and-creative-writing\": \"0.0\",  \"writing-and-creative-writing-confidence\": \"10.0\",  \"science-and-technology\": \"0.0\",  \"science-and-technology-confidence\": \"10.0\",  \"mathematics-and-statistics\": \"1.0\",  \"mathematics-and-statistics-confidence\": \"5.0\",  \"history-and-social-studies\": \"1.0\",  \"history-and-social-studies-confidence\": \"6.0\",  \"creative-arts\": \"0.0\",  \"creative-arts-confidence\": \"10.0\",  \"animals-and-nature\": \"0.0\",  \"animals-and-nature-confidence\": \"10.0\",  \"note\": \"The student showed interest in sports through searches related to basketball ('hurricane season basketball') and football ('comeback season football movie'), indicating some presence of sports-and-athletics interest. Gaming interest is indicated by repeated attempts to access gaming sites ('2 player games', 'tyrone's unblocked games'). College and career interests are suggested by searches about job statistics and high-paying professions. Mathematics interest is shown by several calculations involving percentages. History and social studies interest is indicated by searches for Greek names and meanings of words with historical roots.\"\n",
      "}\n",
      "\n",
      "### Explanation:\n",
      "The student's web activity shows a pattern of interest in sports, particularly basketball and football, as indicated by searches for movies and terms related to these sports. There is also an interest in gaming, as evidenced by multiple attempts to access game-related websites. The student has looked up information on careers and salaries, suggesting an interest in college and career planning. Mathematics interest is indicated by several mathematical calculations. Historical and etymological interest is shown by searches for words with historical roots and their meanings. No clear evidence was found for environmentalism, cooking, reading, writing, science, creative arts, animals, or nature.</s></s></s></s></s></s></s></s></s></s></s></s></s></s></s></s></s></s></s></s></s></s></s></s></s></s></s></s></s></s></s></s></s></s></s></s></s></s></s></s></s></s></s></s></s></s></s></s></s></s></s></s></s></s></s></s></s></s></s></s></s></s></s></s></s></s></s></s></s></s></s></s></s></s></s></s></s></s></s></s></s></s></s></s></s></s></s></s></s></s></s></s></s></s></s></s></s></s></s></s></s></s></s></s></s></s></s></s></s></s></s></s></s></s></s></s></s></s></s></s></s></s></s></s></s></s></s></s></s></s></s></s></s></s></s></s></s></s></s></s></s></s></s></s></s></s></s></s></s></s></s></s></s></s></s></s></s></s></s></s></s></s></s></s></s></s></s></s></s></s></s></s></s></s></s></s></s></s></s></s></s></s></s></s></s></s></s></s></s></s></s></s></s></s></s></s></s></s></s></s></s></s></s></s></s></s></s></s></s></s></s></s></s></s></s></s></s></s></s></s></s></s></s></s></s></s></s></s></s></s></s></s></s></s></s></s></s></s></s></s></s></s></s></s></s></s></s></s></s></s></s></s></s></s></s></s></s></s></s></s></s></s></s></s></s></s></s></s></s></s></s></s></s></s></s></s></s></s></s></s></s></s></s></s></s></s></s></s></s></s></s></s></s></s></s></s></s></s></s></s></s></s></s></s></s></s></s></s></s></s></s></s></s></s></s></s></s></s></s></s>\n",
      "Time taken: 131.52106857299805 seconds\n"
     ]
    }
   ],
   "source": [
    "import time \n",
    "\n",
    "start_time = time.time()\n",
    "\n",
    "ft_model.eval()\n",
    "with torch.no_grad():\n",
    "    output_tokens = ft_model.generate(**model_input, max_new_tokens=1000, repetition_penalty=1.15)\n",
    "    output_text = tokenizer.batch_decode(output_tokens[:, input_length:])\n",
    "    for index, value in enumerate(output_text):\n",
    "        print(f\"\\n\\n**** MISTRAL ANSWER {index}********\\:\\n\\n\")\n",
    "        print(value)    \n",
    "\n",
    "end_time = time.time()\n",
    "total_time = end_time - start_time\n",
    "print(f\"Time taken: {total_time} seconds\")"
   ]
  },
  {
   "cell_type": "markdown",
   "id": "45114ef7-4c05-4b3b-b845-1c5bf5913c73",
   "metadata": {},
   "source": [
    "Inference with stopping"
   ]
  },
  {
   "cell_type": "code",
   "execution_count": 32,
   "id": "41f7985d-0a6f-4902-ae51-0a2a4e56e1df",
   "metadata": {},
   "outputs": [
    {
     "data": {
      "text/plain": [
       "[443]"
      ]
     },
     "execution_count": 32,
     "metadata": {},
     "output_type": "execute_result"
    }
   ],
   "source": [
    "stop_token_id = tokenizer.encode(\"}\", add_special_tokens=False)\n",
    "stop_token_id"
   ]
  },
  {
   "cell_type": "code",
   "execution_count": 34,
   "id": "d3e97581-63f7-4d39-87dd-340903c6155f",
   "metadata": {},
   "outputs": [
    {
     "data": {
      "text/plain": [
       "[28752, 2519]"
      ]
     },
     "execution_count": 34,
     "metadata": {},
     "output_type": "execute_result"
    }
   ],
   "source": []
  },
  {
   "cell_type": "code",
   "execution_count": 35,
   "id": "eca8971f-d1f6-4a99-9ee8-d8070805f6fe",
   "metadata": {},
   "outputs": [],
   "source": [
    "from transformers import StoppingCriteriaList, StoppingCriteria\n",
    "\n",
    "class StopAtTokenCriteria(StoppingCriteria):\n",
    "    def __init__(self, stop_token_ids):\n",
    "        self.stop_token_ids = stop_token_ids\n",
    "\n",
    "    def __call__(self, input_ids: torch.LongTensor, scores: torch.FloatTensor, **kwargs) -> bool:\n",
    "        for stop_id in stop_token_ids:\n",
    "            if input_ids[0, -1] == stop_id:\n",
    "                return True\n",
    "            return False\n",
    "\n",
    "stop_token_ids = tokenizer.convert_tokens_to_ids([\"}\", \"}\\r\"])\n",
    "\n",
    "# Generate text with custom stopping criteria\n",
    "stopping_criteria = StoppingCriteriaList([StopAtTokenCriteria(stop_token_ids)])\n",
    "#output = model.generate(input_ids, max_length=50, stopping_criteria=stopping_criteria)"
   ]
  },
  {
   "cell_type": "code",
   "execution_count": 36,
   "id": "a3ad8a64-c5bf-4141-8ad5-61eb9db2efb1",
   "metadata": {},
   "outputs": [
    {
     "name": "stderr",
     "output_type": "stream",
     "text": [
      "Setting `pad_token_id` to `eos_token_id`:2 for open-end generation.\n"
     ]
    },
    {
     "name": "stdout",
     "output_type": "stream",
     "text": [
      "Mistral Anaswer:\n",
      "{  \"sports-and-athletics\": \"0.0\",  \"sports-and-athletics-confidence\": \"10.0\",  \"environmentalism-and-sustainability\": \"0.0\",  \"environmentalism-and-sustainability-confidence\": \"10.0\",  \"gaming-and-e-sports\": \"0.0\",  \"gaming-and-e-sports-confidence\": \"10.0\",  \"college-and-career\": \"0.0\",  \"college-and-career-confidence\": \"10.0\",  \"cooking-and-food\": \"0.0\",  \"cooking-and-food-confidence\": \"10.0\",  \"reading-and-literature\": \"0.0\",  \"reading-and-literature-confidence\": \"10.0\",  \"writing-and-creative-writing\": \"0.0\",  \"writing-and-creative-writing-confidence\": \"10.0\",  \"science-and-technology\": \"0.0\",  \"science-and-technology-confidence\": \"10.0\",  \"mathematics-and-statistics\": \"1.0\",  \"mathematics-and-statistics-confidence\": \"9.0\",  \"history-and-social-studies\": \"0.0\",  \"history-and-social-studies-confidence\": \"10.0\",  \"creative-arts\": \"0.0\",  \"creative-arts-confidence\": \"10.0\",  \"animals-and-nature\": \"0.0\",  \"animals-and-nature-confidence\": \"10.0\",  \"note\": \"The search term 'happy numbers' indicates an interest in mathematics, specifically in number theory, which is a branch of pure mathematics. This suggests engagement with mathematical concepts rather than any other area.\"\n",
      "}\n",
      "Time taken: 38.906653881073 seconds\n"
     ]
    }
   ],
   "source": [
    "prompt, origional_answer = random.choice(eval_dataset['document']).split(\"### Solution:\")\n",
    "prompt += \"### Solution:\\r\\n\"\n",
    "\n",
    "import time \n",
    "\n",
    "start_time = time.time()\n",
    "\n",
    "model_input = tokenizer(prompt, return_tensors=\"pt\").to(\"cuda\")\n",
    "input_length = model_input['input_ids'].shape[1]\n",
    "\n",
    "ft_model.eval()\n",
    "with torch.no_grad():\n",
    "    print(\"Mistral Anaswer:\")\n",
    "    output_tokens = ft_model.generate(**model_input, max_new_tokens=1000, repetition_penalty=1.15, stopping_criteria=stopping_criteria)\n",
    "    output_text = tokenizer.batch_decode(output_tokens[:, input_length:])[0]\n",
    "    print(output_text)\n",
    "    #print(tokenizer.decode(output_tokens[0], skip_special_tokens=True))\n",
    "\n",
    "end_time = time.time()\n",
    "total_time = end_time - start_time\n",
    "print(f\"Time taken: {total_time} seconds\")"
   ]
  },
  {
   "cell_type": "markdown",
   "id": "85d67670-5bd9-43cf-9634-18c7967d885b",
   "metadata": {},
   "source": [
    "# Batch Inference w/ Stopping"
   ]
  },
  {
   "cell_type": "code",
   "execution_count": null,
   "id": "869a1a9e-f7c6-464b-ad06-a67974feec4a",
   "metadata": {},
   "outputs": [],
   "source": []
  },
  {
   "cell_type": "code",
   "execution_count": 52,
   "id": "b8cbd13b-1e04-4f30-ad54-1141f50d27f8",
   "metadata": {},
   "outputs": [
    {
     "name": "stderr",
     "output_type": "stream",
     "text": [
      "Setting `pad_token_id` to `eos_token_id`:2 for open-end generation.\n"
     ]
    },
    {
     "name": "stdout",
     "output_type": "stream",
     "text": [
      "Time taken: 67.65839791297913 seconds\n",
      "Stopped Flag: True\n",
      "\n",
      "\n",
      "**** MISTRAL ANSWER 0 2172 True********:\n",
      "\n",
      "\n",
      "{  \"sports-and-athletics\": \"0.0\",  \"sports-and-athletics-confidence\": \"10.0\",  \"environmentalism-and-sustainability\": \"0.0\",  \"environmentalism-and-sustainability-confidence\": \"10.0\",  \"gaming-and-e-sports\": \"0.0\",  \"gaming-and-e-sports-confidence\": \"10.0\",  \"college-and-career\": \"0.0\",  \"college-and-career-confidence\": \"10.0\",  \"cooking-and-food\": \"0.0\",  \"cooking-and-food-confidence\": \"10.0\",  \"reading-and-literature\": \"1.0\",  \"reading-and-literature-confidence\": \"5.0\",  \"writing-and-creative-writing\": \"0.0\",  \"writing-and-creative-writing-confidence\": \"10.0\",  \"science-and-technology\": \"1.0\",  \"science-and-technology-confidence\": \"9.0\",  \"mathematics-and-statistics\": \"0.0\",  \"mathematics-and-statistics-confidence\": \"10.0\",  \"history-and-social-studies\": \"1.0\",  \"history-and-social-studies-confidence\": \"8.0\",  \"creative-arts\": \"0.0\",  \"creative-arts-confidence\": \"10.0\",  \"animals-and-nature\": \"0.0\",  \"animals-and-nature-confidence\": \"10.0\",  \"note\": \"The student's web activity includes multiple searches related to historical figures and scientific discoveries, indicating a strong interest in history and science. The presence of words like 'brethren,' 'beseech,' and 'remission' suggests some engagement with reading and literature, possibly religious texts, but the confidence is moderate due to the lack of context. No clear patterns were found for the other indicators.\"\n",
      "}\n",
      "\n",
      "### Explanation:\n",
      "The student's web activity shows a focus on historical figures and scientific discoveries, suggesting a strong interest in history and science. The searches include names of scientists and their contributions to various fields, indicating a high likelihood\n",
      "\n",
      "\n",
      "**** MISTRAL ANSWER 1 2172 True********:\n",
      "\n",
      "\n",
      "{  \"sports-and-athletics\": \"0.0\",  \"sports-and-athletics-confidence\": \"10.0\",  \"environmentalism-and-sustainability\": \"0.0\",  \"environmentalism-and-sustainability-confidence\": \"10.0\",  \"gaming-and-e-sports\": \"0.0\",  \"gaming-and-e-sports-confidence\": \"10.0\",  \"college-and-career\": \"0.0\",  \"college-and-career-confidence\": \"10.0\",  \"cooking-and-food\": \"0.0\",  \"cooking-and-food-confidence\": \"10.0\",  \"reading-and-literature\": \"1.0\",  \"reading-and-literature-confidence\": \"8.0\",  \"writing-and-creative-writing\": \"1.0\",  \"writing-and-creative-writing-confidence\": \"9.0\",  \"science-and-technology\": \"0.0\",  \"science-and-technology-confidence\": \"10.0\",  \"mathematics-and-statistics\": \"0.0\",  \"mathematics-and-statistics-confidence\": \"10.0\",  \"history-and-social-studies\": \"0.0\",  \"history-and-social-studies-confidence\": \"10.0\",  \"creative-arts\": \"0.0\",  \"creative-arts-confidence\": \"10.0\",  \"animals-and-nature\": \"0.0\",  \"animals-and-nature-confidence\": \"10.0\",  \"note\": \"The student's web activity indicates a strong interest in writing and creative writing, particularly in the genre of horror stories, as evidenced by searches for title ideas and scary themes. The presence of searches for 'scary titles' and 'scary chapter names' suggests an engagement with literature, possibly with a focus on reading or creating works within the horror genre.\"\n",
      "}\n",
      "\n",
      "### Explanation:\n",
      "The student's web activity shows a clear pattern towards searching for ideas related to writing, specifically in the horror genre. This is indicated by multiple searches for title ideas and themes such as 'scary titles,' 'horror titles,' and '\n",
      "\n",
      "\n",
      "**** MISTRAL ANSWER 2 2172 True********:\n",
      "\n",
      "\n",
      "{  \"sports-and-athletics\": \"0.0\",  \"sports-and-athletics-confidence\": \"10.0\",  \"environmentalism-and-sustainability\": \"0.0\",  \"environmentalism-and-sustainability-confidence\": \"10.0\",  \"gaming-and-e-sports\": \"0.0\",  \"gaming-and-e-sports-confidence\": \"10.0\",  \"college-and-career\": \"1.0\",  \"college-and-career-confidence\": \"5.0\",  \"cooking-and-food\": \"1.0\",  \"cooking-and-food-confidence\": \"4.0\",  \"reading-and-literature\": \"0.0\",  \"reading-and-literature-confidence\": \"10.0\",  \"writing-and-creative-writing\": \"0.0\",  \"writing-and-creative-writing-confidence\": \"10.0\",  \"science-and-technology\": \"0.0\",  \"science-and-technology-confidence\": \"10.0\",  \"mathematics-and-statistics\": \"0.0\",  \"mathematics-and-statistics-confidence\": \"10.0\",  \"history-and-social-studies\": \"0.0\",  \"history-and-social-studies-confidence\": \"10.0\",  \"creative-arts\": \"1.0\",  \"creative-arts-confidence\": \"5.0\",  \"animals-and-nature\": \"0.0\",  \"animals-and-nature-confidence\": \"10.0\",  \"note\": \"The student showed interest in college and career through searches about starting a club at school, indicating some level of leadership or organizational activities. Cooking and food interest was indicated by a search about foods causing heartburn. Creative arts interest was suggested by searches related to Thanksgiving decorations and free sunflowers clipart. No clear patterns were found for other indicators.\"\n",
      "}\n",
      "\n",
      "### Summary:\n",
      "The student's web activity shows a pattern of searching for vacation rentals, which may indicate an interest in travel or real estate, but there is no direct evidence of environmentalism or sustainability. There is also a single search related to cooking ('foods\n",
      "\n",
      "\n",
      "**** MISTRAL ANSWER 3 2172 True********:\n",
      "\n",
      "\n",
      "{  \"sports-and-athletics\": \"0.0\",  \"sports-and-athletics-confidence\": \"10.0\",  \"environmentalism-and-sustainability\": \"0.0\",  \"environmentalism-and-sustainability-confidence\": \"10.0\",  \"gaming-and-e-sports\": \"0.0\",  \"gaming-and-e-sports-confidence\": \"10.0\",  \"college-and-career\": \"0.0\",  \"college-and-career-confidence\": \"10.0\",  \"cooking-and-food\": \"0.0\",  \"cooking-and-food-confidence\": \"10.0\",  \"reading-and-literature\": \"0.0\",  \"reading-and-literature-confidence\": \"10.0\",  \"writing-and-creative-writing\": \"0.0\",  \"writing-and-creative-writing-confidence\": \"10.0\",  \"science-and-technology\": \"1.0\",  \"science-and-technology-confidence\": \"5.0\",  \"mathematics-and-statistics\": \"1.0\",  \"mathematics-and-statistics-confidence\": \"4.0\",  \"history-and-social-studies\": \"0.0\",  \"history-and-social-studies-confidence\": \"10.0\",  \"creative-arts\": \"0.0\",  \"creative-arts-confidence\": \"10.0\",  \"animals-and-nature\": \"0.0\",  \"animals-and-nature-confidence\": \"10.0\",  \"note\": \"The student's online activity includes a search related to engineering ('doubling the load on a bearing increases its service life by 6to 8 times'), which suggests an interest in science and technology, hence the presence is marked as 1 with moderate confidence due to the lack of additional context. The mention of 'dark, discolored metals' could be related to chemistry or materials science, reinforcing the interest in science and technology. The term 'raads-r' does not provide clear context but could be related to mathematics or statistics, leading to a lower confidence indication of interest in these areas.\"\n",
      "}\n",
      "\n",
      "### Explanation:\n",
      "\n",
      "\n",
      "\n",
      "**** MISTRAL ANSWER 4 2172 True********:\n",
      "\n",
      "\n",
      "{  \"sports-and-athletics\": \"0.0\",  \"sports-and-athletics-confidence\": \"10.0\",  \"environmentalism-and-sustainability\": \"0.0\",  \"environmentalism-and-sustainability-confidence\": \"10.0\",  \"gaming-and-e-sports\": \"0.0\",  \"gaming-and-e-sports-confidence\": \"10.0\",  \"college-and-career\": \"0.0\",  \"college-and-career-confidence\": \"10.0\",  \"cooking-and-food\": \"1.0\",  \"cooking-and-food-confidence\": \"9.0\",  \"reading-and-literature\": \"1.0\",  \"reading-and-literature-confidence\": \"7.0\",  \"writing-and-creative-writing\": \"0.0\",  \"writing-and-creative-writing-confidence\": \"10.0\",  \"science-and-technology\": \"0.0\",  \"science-and-technology-confidence\": \"10.0\",  \"mathematics-and-statistics\": \"1.0\",  \"mathematics-and-statistics-confidence\": \"4.0\",  \"history-and-social-studies\": \"1.0\",  \"history-and-social-studies-confidence\": \"8.0\",  \"creative-arts\": \"1.0\",  \"creative-arts-confidence\": \"5.0\",  \"animals-and-nature\": \"0.0\",  \"animals-and-nature-confidence\": \"10.0\",  \"note\": \"The student showed a clear interest in cooking and food, particularly South African cuisine, as indicated by multiple searches for recipes and information about South African dishes like chakalaka, pumpkin fritters, and melktert. There was also an interest in reading and literature, suggested by searches for summaries of chapters from 'Animal Farm'. The student looked up information on mathematics, specifically negative slopes, but the confidence is lower due to the limited number of searches. Creative arts were indicated by searches for Disney song lyrics. History and social studies were reflected in searches about Africa, its countries, and food security issues in South Africa.\"\n",
      "}\n",
      "\n",
      "\n",
      "**** MISTRAL ANSWER 5 2172 True********:\n",
      "\n",
      "\n",
      "{  \"sports-and-athletics\": \"0.0\",  \"sports-and-athletics-confidence\": \"10.0\",  \"environmentalism-and-sustainability\": \"0.0\",  \"environmentalism-and-sustainability-confidence\": \"10.0\",  \"gaming-and-e-sports\": \"1.0\",  \"gaming-and-e-sports-confidence\": \"4.0\",  \"college-and-career\": \"1.0\",  \"college-and-career-confidence\": \"8.0\",  \"cooking-and-food\": \"0.0\",  \"cooking-and-food-confidence\": \"10.0\",  \"reading-and-literature\": \"0.0\",  \"reading-and-literature-confidence\": \"10.0\",  \"writing-and-creative-writing\": \"0.0\",  \"writing-and-creative-writing-confidence\": \"10.0\",  \"science-and-technology\": \"1.0\",  \"science-and-technology-confidence\": \"5.0\",  \"mathematics-and-statistics\": \"1.0\",  \"mathematics-and-statistics-confidence\": \"9.0\",  \"history-and-social-studies\": \"1.0\",  \"history-and-social-studies-confidence\": \"9.0\",  \"creative-arts\": \"1.0\",  \"creative-arts-confidence\": \"7.0\",  \"animals-and-nature\": \"0.0\",  \"animals-and-nature-confidence\": \"10.0\",  \"note\": \"The student showed interest in budgeting and financial literacy, indicating an interest in college and career planning. Searches related to Day of the Dead suggest an interest in history and social studies, particularly cultural aspects. The presence of gaming content was indicated by references to Blooket, a game-based learning platform. Science and technology interest was suggested by a search about the human skin. Mathematics interest was evident from multiple calculations and percentage-related queries. Creative arts interest was shown through searches about Day of the Dead traditions like papel picado and pan de muerto.\"\n",
      "}\n",
      "\n",
      "### Explanation:\n",
      "The student's web activity shows a strong focus on budgeting\n",
      "\n",
      "\n",
      "**** MISTRAL ANSWER 6 2172 True********:\n",
      "\n",
      "\n",
      "{  \"sports-and-athletics\": \"1.0\",  \"sports-and-athletics-confidence\": \"5.0\",  \"environmentalism-and-sustainability\": \"0.0\",  \"environmentalism-and-sustainability-confidence\": \"10.0\",  \"gaming-and-e-sports\": \"0.0\",  \"gaming-and-e-sports-confidence\": \"10.0\",  \"college-and-career\": \"1.0\",  \"college-and-career-confidence\": \"9.0\",  \"cooking-and-food\": \"0.0\",  \"cooking-and-food-confidence\": \"10.0\",  \"reading-and-literature\": \"0.0\",  \"reading-and-literature-confidence\": \"10.0\",  \"writing-and-creative-writing\": \"0.0\",  \"writing-and-creative-writing-confidence\": \"10.0\",  \"science-and-technology\": \"1.0\",  \"science-and-technology-confidence\": \"7.0\",  \"mathematics-and-statistics\": \"1.0\",  \"mathematics-and-statistics-confidence\": \"8.0\",  \"history-and-social-studies\": \"1.0\",  \"history-and-social-studies-confidence\": \"8.0\",  \"creative-arts\": \"1.0\",  \"creative-arts-confidence\": \"9.0\",  \"animals-and-nature\": \"0.0\",  \"animals-and-nature-confidence\": \"10.0\",  \"note\": \"The student showed interest in sports through searches related to WIAA volleyball, indicating an interest in athletics. College preparation was evident from multiple searches about college applications and deadlines. Science and technology were indicated by searches about forces and friction. Mathematics interest was shown through a search about converting newtons to kilograms. Creative arts were indicated by searches about elements and principles of art. History and social studies were suggested by searches about political commissions and government definitions.\"\n",
      "}\n",
      "\n",
      "### Explanation:\n",
      "{  \"sports-and-athletics\": \"1.0\",  \"sports-and-athletics\n",
      "\n",
      "\n",
      "**** MISTRAL ANSWER 7 2172 True********:\n",
      "\n",
      "\n",
      "{  \"sports-and-athletics\": \"0.0\",  \"sports-and-athletics-confidence\": \"10.0\",  \"environmentalism-and-sustainability\": \"0.0\",  \"environmentalism-and-sustainability-confidence\": \"10.0\",  \"gaming-and-e-sports\": \"0.0\",  \"gaming-and-e-sports-confidence\": \"10.0\",  \"college-and-career\": \"1.0\",  \"college-and-career-confidence\": \"5.0\",  \"cooking-and-food\": \"0.0\",  \"cooking-and-food-confidence\": \"10.0\",  \"reading-and-literature\": \"1.0\",  \"reading-and-literature-confidence\": \"4.0\",  \"writing-and-creative-writing\": \"1.0\",  \"writing-and-creative-writing-confidence\": \"3.0\",  \"science-and-technology\": \"1.0\",  \"science-and-technology-confidence\": \"5.0\",  \"mathematics-and-statistics\": \"0.0\",  \"mathematics-and-statistics-confidence\": \"10.0\",  \"history-and-social-studies\": \"0.0\",  \"history-and-social-studies-confidence\": \"10.0\",  \"creative-arts\": \"0.0\",  \"creative-arts-confidence\": \"10.0\",  \"animals-and-nature\": \"0.0\",  \"animals-and-nature-confidence\": \"10.0\",  \"note\": \"The student has shown interest in college and career through searches about SDSU, which may indicate research into universities or colleges. The search for 'medical md' suggests an interest in science and technology, possibly medicine. The presence of 'the book diagnosis' indicates some interest in reading and literature, although it could also be related to medical studies. Searches like 'front of the class script' and 'docs' suggest writing activities, but without more context, the confidence in creative writing is low. No clear patterns were found for other indicators.\"\n",
      "}\n",
      "\n",
      "### Explanation:\n",
      "The student's web activity includes searches related to a university ('SDSU\n"
     ]
    }
   ],
   "source": [
    "batch_size = 8\n",
    "prompts = []\n",
    "answers = []\n",
    "\n",
    "for x in range(batch_size):\n",
    "    p, a = random.choice(eval_dataset['document']).split(\"### Solution:\")\n",
    "    p += \"### Solution:\\r\\n\"\n",
    "\n",
    "    prompts.append(p)\n",
    "    answers.append(a)\n",
    "\n",
    "from transformers import StoppingCriteriaList, StoppingCriteria\n",
    "\n",
    "# Why can't I put the batch size in arguments?\n",
    "class StopAtTokenCriteria(StoppingCriteria):\n",
    "    def __init__(self, stop_token_ids, batch_size):\n",
    "        self.stop_token_ids = stop_token_ids\n",
    "        self.batch_size = batch_size\n",
    "        self.flags = [False for _ in range(batch_size)]\n",
    "        self.stopped = False\n",
    "\n",
    "    def __call__(self, input_ids: torch.LongTensor, scores: torch.FloatTensor, **kwargs) -> bool:\n",
    "        for batch_member in range(self.batch_size):\n",
    "            for stop_id in stop_token_ids:\n",
    "                if input_ids[batch_member, -1] == stop_id:\n",
    "                    self.flags[batch_member] = True\n",
    "                    \n",
    "        if all(self.flags):\n",
    "            self.stopped = True\n",
    "            return True\n",
    "        else:\n",
    "            return False\n",
    "\n",
    "stop_token_ids = tokenizer.convert_tokens_to_ids([\"}\", \"}\\r\"])\n",
    "stop_token_ids.append(443) # I don't know why I can't get this from convert_tokens_to_ids\n",
    "stopping_object = StopAtTokenCriteria(stop_token_ids, batch_size)\n",
    "stopping_criteria = StoppingCriteriaList([stopping_object])\n",
    "\n",
    "tokenizer.pad_token = tokenizer.eos_token\n",
    "model_input = tokenizer(prompts, padding=True, return_tensors=\"pt\").to(\"cuda\")\n",
    "input_length = model_input['input_ids'].shape[1]\n",
    "\n",
    "import time \n",
    "\n",
    "start_time = time.time()\n",
    "\n",
    "ft_model.eval()\n",
    "with torch.no_grad():\n",
    "    output_tokens = ft_model.generate(**model_input, max_new_tokens=1000, repetition_penalty=1.15, stopping_criteria=stopping_criteria)\n",
    "    output_text = tokenizer.batch_decode(output_tokens[:, input_length:])\n",
    "\n",
    "end_time = time.time()\n",
    "total_time = end_time - start_time\n",
    "print(f\"Time taken: {total_time} seconds\")\n",
    "print(f\"Stopped Flag: {stopping_object.stopped}\")\n",
    "\n",
    "for index, value in enumerate(output_text):\n",
    "    print(f\"\\n\\n**** MISTRAL ANSWER {index} {len(output_tokens[index])} {stopping_object.flags[index]}********:\\n\\n\")\n",
    "    print(value)    \n",
    "\n"
   ]
  },
  {
   "cell_type": "raw",
   "id": "1baebfcc-f226-4193-984a-952de16386bc",
   "metadata": {},
   "source": [
    "# Inspect tokens in output\n",
    "\n",
    "odd_tokens = output_tokens[:, input_length:][1]\n",
    "for index, value in enumerate(tokenizer.batch_decode(odd_tokens)):\n",
    "    print(f\"{index} {value} {odd_tokens[index]}\")"
   ]
  },
  {
   "cell_type": "markdown",
   "id": "0900dfad-54fc-41d4-bdda-ecbe6ea1a9d4",
   "metadata": {},
   "source": [
    "# Microsoft Guidance\n",
    "\n",
    "Guidance is a system that manipulates the logprops and token selection to make the output conform to a template"
   ]
  },
  {
   "cell_type": "code",
   "execution_count": 8,
   "id": "38cda7ad-36df-4b81-9640-9381dd7a2520",
   "metadata": {},
   "outputs": [],
   "source": [
    "guidance_llm = models.Transformers(ft_model, tokenizer)"
   ]
  },
  {
   "cell_type": "code",
   "execution_count": 9,
   "id": "1e1bc52b-7ff0-406a-8377-66d3ab5aea19",
   "metadata": {},
   "outputs": [
    {
     "data": {
      "text/html": [
       "<pre style='margin: 0px; padding: 0px; padding-left: 8px; margin-left: -8px; border-radius: 0px; border-left: 1px solid rgba(127, 127, 127, 0.2); white-space: pre-wrap; font-family: ColfaxAI, Arial; font-size: 15px; line-height: 23px;'>### Question:\n",
       "You are a Student Web Activity Analyzer developed to support professionals, including Social Workers, School Psychologists, District Administrators, School Safety Specialists, and related roles. Your primary objective is to meticulously evaluate the online activity of K-12 students and identify specific indicators related to their interests and passions. For each identified indicator, provide a JSON object containing:\n",
       "\n",
       "Presence: A value of 1 (if the indicator is present) or 0 (if not). Mark as 1 even if only part of the data aligns with an indicator.\n",
       "Confidence: Provide a confidence level on a scale of 1-10 to indicate your level of certainty in the analysis.\n",
       "Note: Include information on the logic used to decide that certain indicators were identified and a summary of the analyzed web activity.\n",
       "\n",
       "Consider patterns in the data, not just individual searches.\n",
       "\n",
       "Consider that the online activity originates from a school-issued device.\n",
       "\n",
       "If ambiguous use your best judgment, reflect uncertainty in confidence score.\n",
       "\n",
       "Here are the specific indicators for this task:\r\n",
       "\r\n",
       "&#x27;sports-and-athletics&#x27;\r\n",
       "&#x27;environmentalism-and-sustainability&#x27;\r\n",
       "&#x27;gaming-and-e-sports&#x27;\r\n",
       "&#x27;college-and-career&#x27;\r\n",
       "&#x27;cooking-and-food&#x27;\r\n",
       "&#x27;reading-and-literature&#x27;\r\n",
       "&#x27;writing-and-creative-writing&#x27;\r\n",
       "&#x27;science-and-technology&#x27;\r\n",
       "&#x27;mathematics-and-statistics&#x27;\r\n",
       "&#x27;creative-arts&#x27;\r\n",
       "&#x27;animals-and-nature&#x27;\r\n",
       "&#x27;history-and-social-studies&#x27;\r\n",
       "\n",
       "\n",
       "### Search Data:\n",
       "[&#x27;playlist 2023&#x27;]\n",
       "\n",
       "### Example Output:\n",
       "{\r\n",
       "  &quot;sports-and-athletics&quot;: &quot;1&quot;,\r\n",
       "  &quot;sports-and-athletics-confidence&quot;: &quot;6&quot;,\r\n",
       "  &quot;environmentalism-and-sustainability&quot;: &quot;0&quot;,\r\n",
       "  &quot;environmentalism-and-sustainability-confidence&quot;: &quot;8&quot;,\r\n",
       "  &quot;gaming-and-e-sports&quot;: &quot;0&quot;,\r\n",
       "  &quot;gaming-and-e-sports-confidence&quot;: &quot;10&quot;,\r\n",
       "  &quot;college-and-career&quot;: &quot;1&quot;,\r\n",
       "  &quot;college-and-career-confidence&quot;: &quot;7&quot;,\r\n",
       "  &quot;cooking-and-food&quot;: &quot;1&quot;,\r\n",
       "  &quot;cooking-and-food-confidence&quot;: &quot;7&quot;,\r\n",
       "  &quot;reading-and-literature&quot;: &quot;0&quot;,\r\n",
       "  &quot;reading-and-literature-confidence&quot;: &quot;7&quot;,\r\n",
       "  &quot;writing-and-creative-writing&quot;: &quot;1&quot;,\r\n",
       "  &quot;writing-and-creative-writing-confidence&quot;: &quot;8&quot;,\r\n",
       "  &quot;science-and-technology&quot;: &quot;0&quot;,\r\n",
       "  &quot;science-and-technology-confidence&quot;: &quot;10&quot;,\r\n",
       "  &quot;mathematics-and-statistics&quot;: &quot;1&quot;,\r\n",
       "  &quot;mathematics-and-statistics-confidence&quot;: &quot;6&quot;,\r\n",
       "  &quot;creative-arts&quot;: &quot;1&quot;,\r\n",
       "  &quot;creative-arts-confidence&quot;: &quot;8&quot;,\r\n",
       "  &quot;animals-and-nature&quot;: &quot;1&quot;,\r\n",
       "  &quot;animals-and-nature-confidence&quot;: &quot;9&quot;,\r\n",
       "  &quot;history-and-social-studies&quot;: &quot;0&quot;,\r\n",
       "  &quot;history-and-social-studies-confidence&quot;: &quot;9&quot;,\r\n",
       "  &quot;note&quot;: &quot;Detailed Summary Goes Here &quot;\r\n",
       "}\n",
       "\n",
       "### Solution:\r\n",
       "{\n",
       "  &quot;sports-and-athletics&quot;:<span style='background-color: rgba(0, 165, 0, 0.15); border-radius: 3px;' title='0.0'> &quot;</span><span style='background-color: rgba(0, 165, 0, 0.15); border-radius: 3px;' title='0.0'>0</span><span style='background-color: rgba(0, 165, 0, 0.15); border-radius: 3px;' title='0.0'>.</span><span style='background-color: rgba(0, 165, 0, 0.15); border-radius: 3px;' title='0.0'>0</span>&quot;,\n",
       "  &quot;sports-and-athletics-confidence&quot;:<span style='background-color: rgba(0, 165, 0, 0.15); border-radius: 3px;' title='0.0'> &quot;</span><span style='background-color: rgba(0, 165, 0, 0.15); border-radius: 3px;' title='0.0'>1</span><span style='background-color: rgba(0, 165, 0, 0.15); border-radius: 3px;' title='0.0'>0</span><span style='background-color: rgba(0, 165, 0, 0.15); border-radius: 3px;' title='0.0'>.</span><span style='background-color: rgba(0, 165, 0, 0.15); border-radius: 3px;' title='0.0'>0</span>&quot;,\n",
       "  &quot;environmentalism-and-sustainability&quot;:<span style='background-color: rgba(0, 165, 0, 0.15); border-radius: 3px;' title='0.0'> &quot;</span><span style='background-color: rgba(0, 165, 0, 0.15); border-radius: 3px;' title='0.0'>0</span><span style='background-color: rgba(0, 165, 0, 0.15); border-radius: 3px;' title='0.0'>.</span><span style='background-color: rgba(0, 165, 0, 0.15); border-radius: 3px;' title='0.0'>0</span>&quot;,\n",
       "  &quot;environmentalism-and-sustainability-confidence&quot;:<span style='background-color: rgba(0, 165, 0, 0.15); border-radius: 3px;' title='0.0'> &quot;</span><span style='background-color: rgba(0, 165, 0, 0.15); border-radius: 3px;' title='0.0'>1</span><span style='background-color: rgba(0, 165, 0, 0.15); border-radius: 3px;' title='0.0'>0</span><span style='background-color: rgba(0, 165, 0, 0.15); border-radius: 3px;' title='0.0'>.</span><span style='background-color: rgba(0, 165, 0, 0.15); border-radius: 3px;' title='0.0'>0</span>&quot;,\n",
       "  &quot;gaming-and-e-sports&quot;:<span style='background-color: rgba(0, 165, 0, 0.15); border-radius: 3px;' title='0.0'> &quot;</span><span style='background-color: rgba(0, 165, 0, 0.15); border-radius: 3px;' title='0.0'>0</span><span style='background-color: rgba(0, 165, 0, 0.15); border-radius: 3px;' title='0.0'>.</span><span style='background-color: rgba(0, 165, 0, 0.15); border-radius: 3px;' title='0.0'>0</span>&quot;,\n",
       "  &quot;gaming-and-e-sports-confidence&quot;:<span style='background-color: rgba(0, 165, 0, 0.15); border-radius: 3px;' title='0.0'> &quot;</span><span style='background-color: rgba(0, 165, 0, 0.15); border-radius: 3px;' title='0.0'>1</span><span style='background-color: rgba(0, 165, 0, 0.15); border-radius: 3px;' title='0.0'>0</span><span style='background-color: rgba(0, 165, 0, 0.15); border-radius: 3px;' title='0.0'>.</span><span style='background-color: rgba(0, 165, 0, 0.15); border-radius: 3px;' title='0.0'>0</span>&quot;,\n",
       "  &quot;college-and-career&quot;:<span style='background-color: rgba(0, 165, 0, 0.15); border-radius: 3px;' title='0.0'> &quot;</span><span style='background-color: rgba(0, 165, 0, 0.15); border-radius: 3px;' title='0.0'>0</span><span style='background-color: rgba(0, 165, 0, 0.15); border-radius: 3px;' title='0.0'>.</span><span style='background-color: rgba(0, 165, 0, 0.15); border-radius: 3px;' title='0.0'>0</span>&quot;,\n",
       "  &quot;college-and-career-confidence&quot;:<span style='background-color: rgba(0, 165, 0, 0.15); border-radius: 3px;' title='0.0'> &quot;</span><span style='background-color: rgba(0, 165, 0, 0.15); border-radius: 3px;' title='0.0'>1</span><span style='background-color: rgba(0, 165, 0, 0.15); border-radius: 3px;' title='0.0'>0</span><span style='background-color: rgba(0, 165, 0, 0.15); border-radius: 3px;' title='0.0'>.</span><span style='background-color: rgba(0, 165, 0, 0.15); border-radius: 3px;' title='0.0'>0</span>&quot;,\n",
       "  &quot;cooking-and-food&quot;:<span style='background-color: rgba(0, 165, 0, 0.15); border-radius: 3px;' title='0.0'> &quot;</span><span style='background-color: rgba(0, 165, 0, 0.15); border-radius: 3px;' title='0.0'>0</span><span style='background-color: rgba(0, 165, 0, 0.15); border-radius: 3px;' title='0.0'>.</span><span style='background-color: rgba(0, 165, 0, 0.15); border-radius: 3px;' title='0.0'>0</span>&quot;,\n",
       "  &quot;cooking-and-food-confidence&quot;:<span style='background-color: rgba(0, 165, 0, 0.15); border-radius: 3px;' title='0.0'> &quot;</span><span style='background-color: rgba(0, 165, 0, 0.15); border-radius: 3px;' title='0.0'>1</span><span style='background-color: rgba(0, 165, 0, 0.15); border-radius: 3px;' title='0.0'>0</span><span style='background-color: rgba(0, 165, 0, 0.15); border-radius: 3px;' title='0.0'>.</span><span style='background-color: rgba(0, 165, 0, 0.15); border-radius: 3px;' title='0.0'>0</span>&quot;,\n",
       "  &quot;reading-and-literature&quot;:<span style='background-color: rgba(0, 165, 0, 0.15); border-radius: 3px;' title='0.0'> &quot;</span><span style='background-color: rgba(0, 165, 0, 0.15); border-radius: 3px;' title='0.0'>0</span><span style='background-color: rgba(0, 165, 0, 0.15); border-radius: 3px;' title='0.0'>.</span><span style='background-color: rgba(0, 165, 0, 0.15); border-radius: 3px;' title='0.0'>0</span>&quot;,\n",
       "  &quot;reading-and-literature-confidence&quot;:<span style='background-color: rgba(0, 165, 0, 0.15); border-radius: 3px;' title='0.0'> &quot;</span><span style='background-color: rgba(0, 165, 0, 0.15); border-radius: 3px;' title='0.0'>1</span><span style='background-color: rgba(0, 165, 0, 0.15); border-radius: 3px;' title='0.0'>0</span><span style='background-color: rgba(0, 165, 0, 0.15); border-radius: 3px;' title='0.0'>.</span><span style='background-color: rgba(0, 165, 0, 0.15); border-radius: 3px;' title='0.0'>0</span>&quot;,\n",
       "  &quot;writing-and-creative-writing&quot;:<span style='background-color: rgba(0, 165, 0, 0.15); border-radius: 3px;' title='0.0'> &quot;</span><span style='background-color: rgba(0, 165, 0, 0.15); border-radius: 3px;' title='0.0'>0</span><span style='background-color: rgba(0, 165, 0, 0.15); border-radius: 3px;' title='0.0'>.</span><span style='background-color: rgba(0, 165, 0, 0.15); border-radius: 3px;' title='0.0'>0</span>&quot;,\n",
       "  &quot;writing-and-creative-writing-confidence&quot;:<span style='background-color: rgba(0, 165, 0, 0.15); border-radius: 3px;' title='0.0'> &quot;</span><span style='background-color: rgba(0, 165, 0, 0.15); border-radius: 3px;' title='0.0'>1</span><span style='background-color: rgba(0, 165, 0, 0.15); border-radius: 3px;' title='0.0'>0</span><span style='background-color: rgba(0, 165, 0, 0.15); border-radius: 3px;' title='0.0'>.</span><span style='background-color: rgba(0, 165, 0, 0.15); border-radius: 3px;' title='0.0'>0</span>&quot;,\n",
       "  &quot;science-and-technology&quot;:<span style='background-color: rgba(0, 165, 0, 0.15); border-radius: 3px;' title='0.0'> &quot;</span><span style='background-color: rgba(0, 165, 0, 0.15); border-radius: 3px;' title='0.0'>0</span><span style='background-color: rgba(0, 165, 0, 0.15); border-radius: 3px;' title='0.0'>.</span><span style='background-color: rgba(0, 165, 0, 0.15); border-radius: 3px;' title='0.0'>0</span>&quot;,\n",
       "  &quot;science-and-technology-confidence&quot;:<span style='background-color: rgba(0, 165, 0, 0.15); border-radius: 3px;' title='0.0'> &quot;</span><span style='background-color: rgba(0, 165, 0, 0.15); border-radius: 3px;' title='0.0'>1</span><span style='background-color: rgba(0, 165, 0, 0.15); border-radius: 3px;' title='0.0'>0</span><span style='background-color: rgba(0, 165, 0, 0.15); border-radius: 3px;' title='0.0'>.</span><span style='background-color: rgba(0, 165, 0, 0.15); border-radius: 3px;' title='0.0'>0</span>&quot;,\n",
       "  &quot;mathematics-and-statistics&quot;:<span style='background-color: rgba(0, 165, 0, 0.15); border-radius: 3px;' title='0.0'> &quot;</span><span style='background-color: rgba(0, 165, 0, 0.15); border-radius: 3px;' title='0.0'>0</span><span style='background-color: rgba(0, 165, 0, 0.15); border-radius: 3px;' title='0.0'>.</span><span style='background-color: rgba(0, 165, 0, 0.15); border-radius: 3px;' title='0.0'>0</span>&quot;,\n",
       "  &quot;mathematics-and-statistics-confidence&quot;:<span style='background-color: rgba(0, 165, 0, 0.15); border-radius: 3px;' title='0.0'> &quot;</span><span style='background-color: rgba(0, 165, 0, 0.15); border-radius: 3px;' title='0.0'>1</span><span style='background-color: rgba(0, 165, 0, 0.15); border-radius: 3px;' title='0.0'>0</span><span style='background-color: rgba(0, 165, 0, 0.15); border-radius: 3px;' title='0.0'>.</span><span style='background-color: rgba(0, 165, 0, 0.15); border-radius: 3px;' title='0.0'>0</span>&quot;,\n",
       "  &quot;creative-arts&quot;:<span style='background-color: rgba(0, 165, 0, 0.15); border-radius: 3px;' title='0.0'> &quot;</span><span style='background-color: rgba(0, 165, 0, 0.15); border-radius: 3px;' title='0.0'>0</span><span style='background-color: rgba(0, 165, 0, 0.15); border-radius: 3px;' title='0.0'>.</span><span style='background-color: rgba(0, 165, 0, 0.15); border-radius: 3px;' title='0.0'>0</span>&quot;,\n",
       "  &quot;creative-arts-confidence&quot;:<span style='background-color: rgba(0, 165, 0, 0.15); border-radius: 3px;' title='0.0'> &quot;</span><span style='background-color: rgba(0, 165, 0, 0.15); border-radius: 3px;' title='0.0'>1</span><span style='background-color: rgba(0, 165, 0, 0.15); border-radius: 3px;' title='0.0'>0</span><span style='background-color: rgba(0, 165, 0, 0.15); border-radius: 3px;' title='0.0'>.</span><span style='background-color: rgba(0, 165, 0, 0.15); border-radius: 3px;' title='0.0'>0</span>&quot;,\n",
       "  &quot;animals-and-nature&quot;:<span style='background-color: rgba(0, 165, 0, 0.15); border-radius: 3px;' title='0.0'> &quot;</span><span style='background-color: rgba(0, 165, 0, 0.15); border-radius: 3px;' title='0.0'>0</span><span style='background-color: rgba(0, 165, 0, 0.15); border-radius: 3px;' title='0.0'>.</span><span style='background-color: rgba(0, 165, 0, 0.15); border-radius: 3px;' title='0.0'>0</span>&quot;,\n",
       "  &quot;animals-and-nature-confidence&quot;:<span style='background-color: rgba(0, 165, 0, 0.15); border-radius: 3px;' title='0.0'> &quot;</span><span style='background-color: rgba(0, 165, 0, 0.15); border-radius: 3px;' title='0.0'>1</span><span style='background-color: rgba(0, 165, 0, 0.15); border-radius: 3px;' title='0.0'>0</span><span style='background-color: rgba(0, 165, 0, 0.15); border-radius: 3px;' title='0.0'>.</span><span style='background-color: rgba(0, 165, 0, 0.15); border-radius: 3px;' title='0.0'>0</span>&quot;,\n",
       "  &quot;history-and-social-studies&quot;:<span style='background-color: rgba(0, 165, 0, 0.15); border-radius: 3px;' title='0.0'> &quot;</span><span style='background-color: rgba(0, 165, 0, 0.15); border-radius: 3px;' title='0.0'>0</span><span style='background-color: rgba(0, 165, 0, 0.15); border-radius: 3px;' title='0.0'>.</span><span style='background-color: rgba(0, 165, 0, 0.15); border-radius: 3px;' title='0.0'>0</span>&quot;,\n",
       "  &quot;history-and-social-studies-confidence&quot;:<span style='background-color: rgba(0, 165, 0, 0.15); border-radius: 3px;' title='0.0'> &quot;</span><span style='background-color: rgba(0, 165, 0, 0.15); border-radius: 3px;' title='0.0'>1</span><span style='background-color: rgba(0, 165, 0, 0.15); border-radius: 3px;' title='0.0'>0</span><span style='background-color: rgba(0, 165, 0, 0.15); border-radius: 3px;' title='0.0'>.</span><span style='background-color: rgba(0, 165, 0, 0.15); border-radius: 3px;' title='0.0'>0</span>&quot;,\n",
       "  &quot;note&quot;:<span style='background-color: rgba(0, 165, 0, 0.15); border-radius: 3px;' title='0.0'> &quot;</span><span style='background-color: rgba(0, 165, 0, 0.15); border-radius: 3px;' title='0.0'>The</span><span style='background-color: rgba(0, 165, 0, 0.15); border-radius: 3px;' title='0.0'> search</span><span style='background-color: rgba(0, 165, 0, 0.15); border-radius: 3px;' title='0.0'> for</span><span style='background-color: rgba(0, 165, 0, 0.15); border-radius: 3px;' title='0.0'> a</span><span style='background-color: rgba(0, 165, 0, 0.15); border-radius: 3px;' title='0.0'> &#x27;</span><span style='background-color: rgba(0, 165, 0, 0.15); border-radius: 3px;' title='0.0'>play</span><span style='background-color: rgba(0, 165, 0, 0.15); border-radius: 3px;' title='0.0'>list</span><span style='background-color: rgba(0, 165, 0, 0.15); border-radius: 3px;' title='0.0'> </span><span style='background-color: rgba(0, 165, 0, 0.15); border-radius: 3px;' title='0.0'>2</span><span style='background-color: rgba(0, 165, 0, 0.15); border-radius: 3px;' title='0.0'>0</span><span style='background-color: rgba(0, 165, 0, 0.15); border-radius: 3px;' title='0.0'>2</span><span style='background-color: rgba(0, 165, 0, 0.15); border-radius: 3px;' title='0.0'>3</span><span style='background-color: rgba(0, 165, 0, 0.15); border-radius: 3px;' title='0.0'>&#x27;</span><span style='background-color: rgba(0, 165, 0, 0.15); border-radius: 3px;' title='0.0'> does</span><span style='background-color: rgba(0, 165, 0, 0.15); border-radius: 3px;' title='0.0'> not</span><span style='background-color: rgba(0, 165, 0, 0.15); border-radius: 3px;' title='0.0'> provide</span><span style='background-color: rgba(0, 165, 0, 0.15); border-radius: 3px;' title='0.0'> enough</span><span style='background-color: rgba(0, 165, 0, 0.15); border-radius: 3px;' title='0.0'> information</span><span style='background-color: rgba(0, 165, 0, 0.15); border-radius: 3px;' title='0.0'> to</span><span style='background-color: rgba(0, 165, 0, 0.15); border-radius: 3px;' title='0.0'> confident</span><span style='background-color: rgba(0, 165, 0, 0.15); border-radius: 3px;' title='0.0'>ly</span><span style='background-color: rgba(0, 165, 0, 0.15); border-radius: 3px;' title='0.0'> associate</span><span style='background-color: rgba(0, 165, 0, 0.15); border-radius: 3px;' title='0.0'> it</span><span style='background-color: rgba(0, 165, 0, 0.15); border-radius: 3px;' title='0.0'> with</span><span style='background-color: rgba(0, 165, 0, 0.15); border-radius: 3px;' title='0.0'> any</span><span style='background-color: rgba(0, 165, 0, 0.15); border-radius: 3px;' title='0.0'> specific</span><span style='background-color: rgba(0, 165, 0, 0.15); border-radius: 3px;' title='0.0'> indicator</span><span style='background-color: rgba(0, 165, 0, 0.15); border-radius: 3px;' title='0.0'>.</span><span style='background-color: rgba(0, 165, 0, 0.15); border-radius: 3px;' title='0.0'> It</span><span style='background-color: rgba(0, 165, 0, 0.15); border-radius: 3px;' title='0.0'> could</span><span style='background-color: rgba(0, 165, 0, 0.15); border-radius: 3px;' title='0.0'> be</span><span style='background-color: rgba(0, 165, 0, 0.15); border-radius: 3px;' title='0.0'> related</span><span style='background-color: rgba(0, 165, 0, 0.15); border-radius: 3px;' title='0.0'> to</span><span style='background-color: rgba(0, 165, 0, 0.15); border-radius: 3px;' title='0.0'> music</span><span style='background-color: rgba(0, 165, 0, 0.15); border-radius: 3px;' title='0.0'>,</span><span style='background-color: rgba(0, 165, 0, 0.15); border-radius: 3px;' title='0.0'> which</span><span style='background-color: rgba(0, 165, 0, 0.15); border-radius: 3px;' title='0.0'> is</span><span style='background-color: rgba(0, 165, 0, 0.15); border-radius: 3px;' title='0.0'> not</span><span style='background-color: rgba(0, 165, 0, 0.15); border-radius: 3px;' title='0.0'> one</span><span style='background-color: rgba(0, 165, 0, 0.15); border-radius: 3px;' title='0.0'> of</span><span style='background-color: rgba(0, 165, 0, 0.15); border-radius: 3px;' title='0.0'> the</span><span style='background-color: rgba(0, 165, 0, 0.15); border-radius: 3px;' title='0.0'> listed</span><span style='background-color: rgba(0, 165, 0, 0.15); border-radius: 3px;' title='0.0'> indic</span><span style='background-color: rgba(0, 165, 0, 0.15); border-radius: 3px;' title='0.0'>ators</span><span style='background-color: rgba(0, 165, 0, 0.15); border-radius: 3px;' title='0.0'>.</span><span style='background-color: rgba(0, 165, 0, 0.15); border-radius: 3px;' title='0.0'> Therefore</span><span style='background-color: rgba(0, 165, 0, 0.15); border-radius: 3px;' title='0.0'>,</span><span style='background-color: rgba(0, 165, 0, 0.15); border-radius: 3px;' title='0.0'> all</span><span style='background-color: rgba(0, 165, 0, 0.15); border-radius: 3px;' title='0.0'> indic</span><span style='background-color: rgba(0, 165, 0, 0.15); border-radius: 3px;' title='0.0'>ators</span><span style='background-color: rgba(0, 165, 0, 0.15); border-radius: 3px;' title='0.0'> are</span><span style='background-color: rgba(0, 165, 0, 0.15); border-radius: 3px;' title='0.0'> marked</span><span style='background-color: rgba(0, 165, 0, 0.15); border-radius: 3px;' title='0.0'> as</span><span style='background-color: rgba(0, 165, 0, 0.15); border-radius: 3px;' title='0.0'> </span><span style='background-color: rgba(0, 165, 0, 0.15); border-radius: 3px;' title='0.0'>0</span><span style='background-color: rgba(0, 165, 0, 0.15); border-radius: 3px;' title='0.0'> with</span><span style='background-color: rgba(0, 165, 0, 0.15); border-radius: 3px;' title='0.0'> high</span><span style='background-color: rgba(0, 165, 0, 0.15); border-radius: 3px;' title='0.0'> confidence</span>.&quot;\n",
       "<span style='background-color: rgba(0, 165, 0, 0.15); border-radius: 3px;' title='0.0'>}</span></pre>"
      ],
      "text/plain": [
       "<IPython.core.display.HTML object>"
      ]
     },
     "metadata": {},
     "output_type": "display_data"
    },
    {
     "name": "stdout",
     "output_type": "stream",
     "text": [
      "Time taken: 17.324213981628418 seconds\n"
     ]
    }
   ],
   "source": [
    "import time \n",
    "\n",
    "start_time = time.time()\n",
    "\n",
    "def generate_number():\n",
    "    return gen(regex='[0-9\\.]+', temperature=0.0, stop='\"')\n",
    "\n",
    "prompted = guidance_llm + prompt\n",
    "prompted += f\"\"\"{{\n",
    "  \"sports-and-athletics\": \"{generate_number()}\",\n",
    "  \"sports-and-athletics-confidence\": \"{generate_number()}\",\n",
    "  \"environmentalism-and-sustainability\": \"{generate_number()}\",\n",
    "  \"environmentalism-and-sustainability-confidence\": \"{generate_number()}\",\n",
    "  \"gaming-and-e-sports\": \"{generate_number()}\",\n",
    "  \"gaming-and-e-sports-confidence\": \"{generate_number()}\",\n",
    "  \"college-and-career\": \"{generate_number()}\",\n",
    "  \"college-and-career-confidence\": \"{generate_number()}\",\n",
    "  \"cooking-and-food\": \"{generate_number()}\",\n",
    "  \"cooking-and-food-confidence\": \"{generate_number()}\",\n",
    "  \"reading-and-literature\": \"{generate_number()}\",\n",
    "  \"reading-and-literature-confidence\": \"{generate_number()}\",\n",
    "  \"writing-and-creative-writing\": \"{generate_number()}\",\n",
    "  \"writing-and-creative-writing-confidence\": \"{generate_number()}\",\n",
    "  \"science-and-technology\": \"{generate_number()}\",\n",
    "  \"science-and-technology-confidence\": \"{generate_number()}\",\n",
    "  \"mathematics-and-statistics\": \"{generate_number()}\",\n",
    "  \"mathematics-and-statistics-confidence\": \"{generate_number()}\",\n",
    "  \"creative-arts\": \"{generate_number()}\",\n",
    "  \"creative-arts-confidence\": \"{generate_number()}\",\n",
    "  \"animals-and-nature\": \"{generate_number()}\",\n",
    "  \"animals-and-nature-confidence\": \"{generate_number()}\",\n",
    "  \"history-and-social-studies\": \"{generate_number()}\",\n",
    "  \"history-and-social-studies-confidence\": \"{generate_number()}\",\n",
    "  \"note\": \"{gen(temperature=0.0, stop='\"')}\"\n",
    "}}\"\"\"\n",
    "\n",
    "end_time = time.time()\n",
    "total_time = end_time - start_time\n",
    "print(f\"Time taken: {total_time} seconds\")"
   ]
  },
  {
   "cell_type": "markdown",
   "id": "817f76e4-2cc7-4458-abb1-c064d149e9a8",
   "metadata": {},
   "source": [
    "# Can Guidance do batches?\n",
    "\n",
    "Seems no"
   ]
  },
  {
   "cell_type": "code",
   "execution_count": 75,
   "id": "d5dfd201-2f1e-4411-a9b2-9f6cab6b263c",
   "metadata": {},
   "outputs": [
    {
     "data": {
      "text/plain": [
       "(8, 4583)"
      ]
     },
     "execution_count": 75,
     "metadata": {},
     "output_type": "execute_result"
    }
   ],
   "source": [
    "batch_size = 8\n",
    "prompts = []\n",
    "answers = []\n",
    "\n",
    "\n",
    "for x in range(batch_size):\n",
    "    p, a = random.choice(eval_dataset['document']).split(\"### Solution:\")\n",
    "    p += \"### Solution:\\r\\n\"\n",
    "\n",
    "    prompts.append(p)\n",
    "    answers.append(a)\n",
    "\n",
    "tokenizer.pad_token = tokenizer.eos_token\n",
    "model_input = tokenizer(prompts, padding=True, return_tensors=\"pt\").to(\"cuda\")\n",
    "input_length = model_input['input_ids'].shape[1]\n",
    "\n",
    "len(prompts), input_length"
   ]
  },
  {
   "cell_type": "code",
   "execution_count": 76,
   "id": "4365690f-5118-47f9-82a9-1debfa3faae2",
   "metadata": {},
   "outputs": [
    {
     "ename": "TypeError",
     "evalue": "'list' object is not callable",
     "output_type": "error",
     "traceback": [
      "\u001b[0;31m---------------------------------------------------------------------------\u001b[0m",
      "\u001b[0;31mTypeError\u001b[0m                                 Traceback (most recent call last)",
      "Cell \u001b[0;32mIn[76], line 8\u001b[0m\n\u001b[1;32m      5\u001b[0m \u001b[38;5;28;01mdef\u001b[39;00m \u001b[38;5;21mgenerate_number\u001b[39m():\n\u001b[1;32m      6\u001b[0m     \u001b[38;5;28;01mreturn\u001b[39;00m gen(regex\u001b[38;5;241m=\u001b[39m\u001b[38;5;124m'\u001b[39m\u001b[38;5;124m[0-9\u001b[39m\u001b[38;5;124m\\\u001b[39m\u001b[38;5;124m.]+\u001b[39m\u001b[38;5;124m'\u001b[39m, temperature\u001b[38;5;241m=\u001b[39m\u001b[38;5;241m0.0\u001b[39m, stop\u001b[38;5;241m=\u001b[39m\u001b[38;5;124m'\u001b[39m\u001b[38;5;124m\"\u001b[39m\u001b[38;5;124m'\u001b[39m)\n\u001b[0;32m----> 8\u001b[0m prompted \u001b[38;5;241m=\u001b[39m guidance_llm \u001b[38;5;241m+\u001b[39m prompts\n\u001b[1;32m      9\u001b[0m prompted \u001b[38;5;241m+\u001b[39m\u001b[38;5;241m=\u001b[39m \u001b[38;5;124mf\u001b[39m\u001b[38;5;124m\"\"\"\u001b[39m\u001b[38;5;130;01m{{\u001b[39;00m\n\u001b[1;32m     10\u001b[0m \u001b[38;5;124m  \u001b[39m\u001b[38;5;124m\"\u001b[39m\u001b[38;5;124msports-and-athletics\u001b[39m\u001b[38;5;124m\"\u001b[39m\u001b[38;5;124m: \u001b[39m\u001b[38;5;124m\"\u001b[39m\u001b[38;5;132;01m{\u001b[39;00mgenerate_number()\u001b[38;5;132;01m}\u001b[39;00m\u001b[38;5;124m\"\u001b[39m\u001b[38;5;124m,\u001b[39m\n\u001b[1;32m     11\u001b[0m \u001b[38;5;124m  \u001b[39m\u001b[38;5;124m\"\u001b[39m\u001b[38;5;124msports-and-athletics-confidence\u001b[39m\u001b[38;5;124m\"\u001b[39m\u001b[38;5;124m: \u001b[39m\u001b[38;5;124m\"\u001b[39m\u001b[38;5;132;01m{\u001b[39;00mgenerate_number()\u001b[38;5;132;01m}\u001b[39;00m\u001b[38;5;124m\"\u001b[39m\u001b[38;5;124m,\u001b[39m\n\u001b[0;32m   (...)\u001b[0m\n\u001b[1;32m     34\u001b[0m \u001b[38;5;124m  \u001b[39m\u001b[38;5;124m\"\u001b[39m\u001b[38;5;124mnote\u001b[39m\u001b[38;5;124m\"\u001b[39m\u001b[38;5;124m: \u001b[39m\u001b[38;5;124m\"\u001b[39m\u001b[38;5;132;01m{\u001b[39;00mgen(temperature\u001b[38;5;241m=\u001b[39m\u001b[38;5;241m0.0\u001b[39m,\u001b[38;5;250m \u001b[39mstop\u001b[38;5;241m=\u001b[39m\u001b[38;5;124m'\u001b[39m\u001b[38;5;124m\"\u001b[39m\u001b[38;5;124m'\u001b[39m)\u001b[38;5;132;01m}\u001b[39;00m\u001b[38;5;124m\"\u001b[39m\n\u001b[1;32m     35\u001b[0m \u001b[38;5;130;01m}}\u001b[39;00m\u001b[38;5;124m\"\"\"\u001b[39m\n\u001b[1;32m     37\u001b[0m end_time \u001b[38;5;241m=\u001b[39m time\u001b[38;5;241m.\u001b[39mtime()\n",
      "File \u001b[0;32m/opt/conda/lib/python3.11/site-packages/guidance/models/_model.py:266\u001b[0m, in \u001b[0;36mModel.__add__\u001b[0;34m(self, value)\u001b[0m\n\u001b[1;32m    262\u001b[0m         out \u001b[38;5;241m=\u001b[39m lm\u001b[38;5;241m.\u001b[39m_run_stateless(value)\n\u001b[1;32m    264\u001b[0m     \u001b[38;5;66;03m# run stateful functions\u001b[39;00m\n\u001b[1;32m    265\u001b[0m     \u001b[38;5;28;01melse\u001b[39;00m:\n\u001b[0;32m--> 266\u001b[0m         out \u001b[38;5;241m=\u001b[39m value(lm)\n\u001b[1;32m    268\u001b[0m \u001b[38;5;66;03m# this flushes the display\u001b[39;00m\n\u001b[1;32m    269\u001b[0m out\u001b[38;5;241m.\u001b[39m_inplace_append(\u001b[38;5;124m\"\u001b[39m\u001b[38;5;124m\"\u001b[39m)\n",
      "\u001b[0;31mTypeError\u001b[0m: 'list' object is not callable"
     ]
    }
   ],
   "source": [
    "import time \n",
    "\n",
    "start_time = time.time()\n",
    "\n",
    "def generate_number():\n",
    "    return gen(regex='[0-9\\.]+', temperature=0.0, stop='\"')\n",
    "\n",
    "prompted = guidance_llm + prompts\n",
    "prompted += f\"\"\"{{\n",
    "  \"sports-and-athletics\": \"{generate_number()}\",\n",
    "  \"sports-and-athletics-confidence\": \"{generate_number()}\",\n",
    "  \"environmentalism-and-sustainability\": \"{generate_number()}\",\n",
    "  \"environmentalism-and-sustainability-confidence\": \"{generate_number()}\",\n",
    "  \"gaming-and-e-sports\": \"{generate_number()}\",\n",
    "  \"gaming-and-e-sports-confidence\": \"{generate_number()}\",\n",
    "  \"college-and-career\": \"{generate_number()}\",\n",
    "  \"college-and-career-confidence\": \"{generate_number()}\",\n",
    "  \"cooking-and-food\": \"{generate_number()}\",\n",
    "  \"cooking-and-food-confidence\": \"{generate_number()}\",\n",
    "  \"reading-and-literature\": \"{generate_number()}\",\n",
    "  \"reading-and-literature-confidence\": \"{generate_number()}\",\n",
    "  \"writing-and-creative-writing\": \"{generate_number()}\",\n",
    "  \"writing-and-creative-writing-confidence\": \"{generate_number()}\",\n",
    "  \"science-and-technology\": \"{generate_number()}\",\n",
    "  \"science-and-technology-confidence\": \"{generate_number()}\",\n",
    "  \"mathematics-and-statistics\": \"{generate_number()}\",\n",
    "  \"mathematics-and-statistics-confidence\": \"{generate_number()}\",\n",
    "  \"creative-arts\": \"{generate_number()}\",\n",
    "  \"creative-arts-confidence\": \"{generate_number()}\",\n",
    "  \"animals-and-nature\": \"{generate_number()}\",\n",
    "  \"animals-and-nature-confidence\": \"{generate_number()}\",\n",
    "  \"history-and-social-studies\": \"{generate_number()}\",\n",
    "  \"history-and-social-studies-confidence\": \"{generate_number()}\",\n",
    "  \"note\": \"{gen(temperature=0.0, stop='\"')}\"\n",
    "}}\"\"\"\n",
    "\n",
    "end_time = time.time()\n",
    "total_time = end_time - start_time\n",
    "print(f\"Time taken: {total_time} seconds\")"
   ]
  },
  {
   "cell_type": "markdown",
   "id": "78b18adc-4c17-4358-82ae-b963f2cc9931",
   "metadata": {},
   "source": [
    "# Jsonformer\n"
   ]
  },
  {
   "cell_type": "code",
   "execution_count": 77,
   "id": "703dc6df-44d0-4ca3-9058-8f9a7555ea31",
   "metadata": {},
   "outputs": [
    {
     "name": "stderr",
     "output_type": "stream",
     "text": [
      "huggingface/tokenizers: The current process just got forked, after parallelism has already been used. Disabling parallelism to avoid deadlocks...\n",
      "To disable this warning, you can either:\n",
      "\t- Avoid using `tokenizers` before the fork if possible\n",
      "\t- Explicitly set the environment variable TOKENIZERS_PARALLELISM=(true | false)\n"
     ]
    },
    {
     "name": "stdout",
     "output_type": "stream",
     "text": [
      "Collecting jsonformer\n",
      "  Downloading jsonformer-0.12.0-py3-none-any.whl (6.6 kB)\n",
      "Collecting termcolor<3.0.0,>=2.3.0 (from jsonformer)\n",
      "  Downloading termcolor-2.4.0-py3-none-any.whl.metadata (6.1 kB)\n",
      "Downloading termcolor-2.4.0-py3-none-any.whl (7.7 kB)\n",
      "Installing collected packages: termcolor, jsonformer\n",
      "Successfully installed jsonformer-0.12.0 termcolor-2.4.0\n",
      "\u001b[33mWARNING: Running pip as the 'root' user can result in broken permissions and conflicting behaviour with the system package manager. It is recommended to use a virtual environment instead: https://pip.pypa.io/warnings/venv\u001b[0m\u001b[33m\n",
      "\u001b[0m"
     ]
    }
   ],
   "source": [
    "!pip install jsonformer"
   ]
  },
  {
   "cell_type": "raw",
   "id": "d6bda5cd-e5dd-4b95-84c5-4a006bc6a5b9",
   "metadata": {},
   "source": [
    "# Maybe jsonformer can't handle PEFT?\n",
    "\n",
    "ft_model = ft_model.merge_and_unload()"
   ]
  },
  {
   "cell_type": "raw",
   "id": "6c616da2-b62c-470f-825e-2745741df26b",
   "metadata": {},
   "source": [
    "# Try to fix jsonformer not calling tokenizer with padding on\n",
    "tokenizer.padding = True"
   ]
  },
  {
   "cell_type": "code",
   "execution_count": 23,
   "id": "63991710-0edd-4c0f-81f2-df1d405bd709",
   "metadata": {},
   "outputs": [
    {
     "ename": "ValueError",
     "evalue": "Unable to create tensor, you should probably activate truncation and/or padding with 'padding=True' 'truncation=True' to have batched tensors with the same length. Perhaps your features (`input_ids` in this case) have excessive nesting (inputs type `list` where type `int` is expected).",
     "output_type": "error",
     "traceback": [
      "\u001b[0;31m---------------------------------------------------------------------------\u001b[0m",
      "\u001b[0;31mValueError\u001b[0m                                Traceback (most recent call last)",
      "File \u001b[0;32m/opt/conda/lib/python3.11/site-packages/transformers/tokenization_utils_base.py:748\u001b[0m, in \u001b[0;36mBatchEncoding.convert_to_tensors\u001b[0;34m(self, tensor_type, prepend_batch_axis)\u001b[0m\n\u001b[1;32m    747\u001b[0m \u001b[38;5;28;01mif\u001b[39;00m \u001b[38;5;129;01mnot\u001b[39;00m is_tensor(value):\n\u001b[0;32m--> 748\u001b[0m     tensor \u001b[38;5;241m=\u001b[39m as_tensor(value)\n\u001b[1;32m    750\u001b[0m     \u001b[38;5;66;03m# Removing this for now in favor of controlling the shape with `prepend_batch_axis`\u001b[39;00m\n\u001b[1;32m    751\u001b[0m     \u001b[38;5;66;03m# # at-least2d\u001b[39;00m\n\u001b[1;32m    752\u001b[0m     \u001b[38;5;66;03m# if tensor.ndim > 2:\u001b[39;00m\n\u001b[1;32m    753\u001b[0m     \u001b[38;5;66;03m#     tensor = tensor.squeeze(0)\u001b[39;00m\n\u001b[1;32m    754\u001b[0m     \u001b[38;5;66;03m# elif tensor.ndim < 2:\u001b[39;00m\n\u001b[1;32m    755\u001b[0m     \u001b[38;5;66;03m#     tensor = tensor[None, :]\u001b[39;00m\n",
      "File \u001b[0;32m/opt/conda/lib/python3.11/site-packages/transformers/tokenization_utils_base.py:720\u001b[0m, in \u001b[0;36mBatchEncoding.convert_to_tensors.<locals>.as_tensor\u001b[0;34m(value, dtype)\u001b[0m\n\u001b[1;32m    719\u001b[0m     \u001b[38;5;28;01mreturn\u001b[39;00m torch\u001b[38;5;241m.\u001b[39mtensor(np\u001b[38;5;241m.\u001b[39marray(value))\n\u001b[0;32m--> 720\u001b[0m \u001b[38;5;28;01mreturn\u001b[39;00m torch\u001b[38;5;241m.\u001b[39mtensor(value)\n",
      "\u001b[0;31mValueError\u001b[0m: expected sequence of length 1066 at dim 1 (got 859)",
      "\nThe above exception was the direct cause of the following exception:\n",
      "\u001b[0;31mValueError\u001b[0m                                Traceback (most recent call last)",
      "Cell \u001b[0;32mIn[23], line 17\u001b[0m\n\u001b[1;32m      2\u001b[0m \u001b[38;5;28;01mfrom\u001b[39;00m \u001b[38;5;21;01mtransformers\u001b[39;00m \u001b[38;5;28;01mimport\u001b[39;00m AutoModelForCausalLM, AutoTokenizer\n\u001b[1;32m      4\u001b[0m json_schema \u001b[38;5;241m=\u001b[39m {\n\u001b[1;32m      5\u001b[0m     \u001b[38;5;124m\"\u001b[39m\u001b[38;5;124mtype\u001b[39m\u001b[38;5;124m\"\u001b[39m: \u001b[38;5;124m\"\u001b[39m\u001b[38;5;124mobject\u001b[39m\u001b[38;5;124m\"\u001b[39m,\n\u001b[1;32m      6\u001b[0m     \u001b[38;5;124m\"\u001b[39m\u001b[38;5;124mproperties\u001b[39m\u001b[38;5;124m\"\u001b[39m: {\n\u001b[0;32m   (...)\u001b[0m\n\u001b[1;32m     14\u001b[0m     }\n\u001b[1;32m     15\u001b[0m }\n\u001b[0;32m---> 17\u001b[0m jsonformer \u001b[38;5;241m=\u001b[39m Jsonformer(ft_model, tokenizer, json_schema, prompts)\n\u001b[1;32m     18\u001b[0m generated_data \u001b[38;5;241m=\u001b[39m jsonformer()\n\u001b[1;32m     19\u001b[0m \u001b[38;5;28mprint\u001b[39m(generated_data)\n",
      "File \u001b[0;32m/opt/conda/lib/python3.11/site-packages/jsonformer/main.py:36\u001b[0m, in \u001b[0;36mJsonformer.__init__\u001b[0;34m(self, model, tokenizer, json_schema, prompt, debug, max_array_length, max_number_tokens, temperature, max_string_token_length)\u001b[0m\n\u001b[1;32m     33\u001b[0m \u001b[38;5;28mself\u001b[39m\u001b[38;5;241m.\u001b[39mjson_schema \u001b[38;5;241m=\u001b[39m json_schema\n\u001b[1;32m     34\u001b[0m \u001b[38;5;28mself\u001b[39m\u001b[38;5;241m.\u001b[39mprompt \u001b[38;5;241m=\u001b[39m prompt\n\u001b[0;32m---> 36\u001b[0m \u001b[38;5;28mself\u001b[39m\u001b[38;5;241m.\u001b[39mnumber_logit_processor \u001b[38;5;241m=\u001b[39m OutputNumbersTokens(\u001b[38;5;28mself\u001b[39m\u001b[38;5;241m.\u001b[39mtokenizer, \u001b[38;5;28mself\u001b[39m\u001b[38;5;241m.\u001b[39mprompt)\n\u001b[1;32m     38\u001b[0m \u001b[38;5;28mself\u001b[39m\u001b[38;5;241m.\u001b[39mgeneration_marker \u001b[38;5;241m=\u001b[39m \u001b[38;5;124m\"\u001b[39m\u001b[38;5;124m|GENERATION|\u001b[39m\u001b[38;5;124m\"\u001b[39m\n\u001b[1;32m     39\u001b[0m \u001b[38;5;28mself\u001b[39m\u001b[38;5;241m.\u001b[39mdebug_on \u001b[38;5;241m=\u001b[39m debug\n",
      "File \u001b[0;32m/opt/conda/lib/python3.11/site-packages/jsonformer/logits_processors.py:67\u001b[0m, in \u001b[0;36mOutputNumbersTokens.__init__\u001b[0;34m(self, tokenizer, prompt)\u001b[0m\n\u001b[1;32m     65\u001b[0m \u001b[38;5;28;01mdef\u001b[39;00m \u001b[38;5;21m__init__\u001b[39m(\u001b[38;5;28mself\u001b[39m, tokenizer: PreTrainedTokenizer, prompt: \u001b[38;5;28mstr\u001b[39m):\n\u001b[1;32m     66\u001b[0m     \u001b[38;5;28mself\u001b[39m\u001b[38;5;241m.\u001b[39mtokenizer \u001b[38;5;241m=\u001b[39m tokenizer\n\u001b[0;32m---> 67\u001b[0m     \u001b[38;5;28mself\u001b[39m\u001b[38;5;241m.\u001b[39mtokenized_prompt \u001b[38;5;241m=\u001b[39m tokenizer(prompt, return_tensors\u001b[38;5;241m=\u001b[39m\u001b[38;5;124m\"\u001b[39m\u001b[38;5;124mpt\u001b[39m\u001b[38;5;124m\"\u001b[39m)\n\u001b[1;32m     68\u001b[0m     vocab_size \u001b[38;5;241m=\u001b[39m \u001b[38;5;28mlen\u001b[39m(tokenizer)\n\u001b[1;32m     69\u001b[0m     \u001b[38;5;28mself\u001b[39m\u001b[38;5;241m.\u001b[39mallowed_mask \u001b[38;5;241m=\u001b[39m torch\u001b[38;5;241m.\u001b[39mzeros(vocab_size, dtype\u001b[38;5;241m=\u001b[39mtorch\u001b[38;5;241m.\u001b[39mbool)\n",
      "File \u001b[0;32m/opt/conda/lib/python3.11/site-packages/transformers/tokenization_utils_base.py:2802\u001b[0m, in \u001b[0;36mPreTrainedTokenizerBase.__call__\u001b[0;34m(self, text, text_pair, text_target, text_pair_target, add_special_tokens, padding, truncation, max_length, stride, is_split_into_words, pad_to_multiple_of, return_tensors, return_token_type_ids, return_attention_mask, return_overflowing_tokens, return_special_tokens_mask, return_offsets_mapping, return_length, verbose, **kwargs)\u001b[0m\n\u001b[1;32m   2800\u001b[0m     \u001b[38;5;28;01mif\u001b[39;00m \u001b[38;5;129;01mnot\u001b[39;00m \u001b[38;5;28mself\u001b[39m\u001b[38;5;241m.\u001b[39m_in_target_context_manager:\n\u001b[1;32m   2801\u001b[0m         \u001b[38;5;28mself\u001b[39m\u001b[38;5;241m.\u001b[39m_switch_to_input_mode()\n\u001b[0;32m-> 2802\u001b[0m     encodings \u001b[38;5;241m=\u001b[39m \u001b[38;5;28mself\u001b[39m\u001b[38;5;241m.\u001b[39m_call_one(text\u001b[38;5;241m=\u001b[39mtext, text_pair\u001b[38;5;241m=\u001b[39mtext_pair, \u001b[38;5;241m*\u001b[39m\u001b[38;5;241m*\u001b[39mall_kwargs)\n\u001b[1;32m   2803\u001b[0m \u001b[38;5;28;01mif\u001b[39;00m text_target \u001b[38;5;129;01mis\u001b[39;00m \u001b[38;5;129;01mnot\u001b[39;00m \u001b[38;5;28;01mNone\u001b[39;00m:\n\u001b[1;32m   2804\u001b[0m     \u001b[38;5;28mself\u001b[39m\u001b[38;5;241m.\u001b[39m_switch_to_target_mode()\n",
      "File \u001b[0;32m/opt/conda/lib/python3.11/site-packages/transformers/tokenization_utils_base.py:2888\u001b[0m, in \u001b[0;36mPreTrainedTokenizerBase._call_one\u001b[0;34m(self, text, text_pair, add_special_tokens, padding, truncation, max_length, stride, is_split_into_words, pad_to_multiple_of, return_tensors, return_token_type_ids, return_attention_mask, return_overflowing_tokens, return_special_tokens_mask, return_offsets_mapping, return_length, verbose, **kwargs)\u001b[0m\n\u001b[1;32m   2883\u001b[0m         \u001b[38;5;28;01mraise\u001b[39;00m \u001b[38;5;167;01mValueError\u001b[39;00m(\n\u001b[1;32m   2884\u001b[0m             \u001b[38;5;124mf\u001b[39m\u001b[38;5;124m\"\u001b[39m\u001b[38;5;124mbatch length of `text`: \u001b[39m\u001b[38;5;132;01m{\u001b[39;00m\u001b[38;5;28mlen\u001b[39m(text)\u001b[38;5;132;01m}\u001b[39;00m\u001b[38;5;124m does not match batch length of `text_pair`:\u001b[39m\u001b[38;5;124m\"\u001b[39m\n\u001b[1;32m   2885\u001b[0m             \u001b[38;5;124mf\u001b[39m\u001b[38;5;124m\"\u001b[39m\u001b[38;5;124m \u001b[39m\u001b[38;5;132;01m{\u001b[39;00m\u001b[38;5;28mlen\u001b[39m(text_pair)\u001b[38;5;132;01m}\u001b[39;00m\u001b[38;5;124m.\u001b[39m\u001b[38;5;124m\"\u001b[39m\n\u001b[1;32m   2886\u001b[0m         )\n\u001b[1;32m   2887\u001b[0m     batch_text_or_text_pairs \u001b[38;5;241m=\u001b[39m \u001b[38;5;28mlist\u001b[39m(\u001b[38;5;28mzip\u001b[39m(text, text_pair)) \u001b[38;5;28;01mif\u001b[39;00m text_pair \u001b[38;5;129;01mis\u001b[39;00m \u001b[38;5;129;01mnot\u001b[39;00m \u001b[38;5;28;01mNone\u001b[39;00m \u001b[38;5;28;01melse\u001b[39;00m text\n\u001b[0;32m-> 2888\u001b[0m     \u001b[38;5;28;01mreturn\u001b[39;00m \u001b[38;5;28mself\u001b[39m\u001b[38;5;241m.\u001b[39mbatch_encode_plus(\n\u001b[1;32m   2889\u001b[0m         batch_text_or_text_pairs\u001b[38;5;241m=\u001b[39mbatch_text_or_text_pairs,\n\u001b[1;32m   2890\u001b[0m         add_special_tokens\u001b[38;5;241m=\u001b[39madd_special_tokens,\n\u001b[1;32m   2891\u001b[0m         padding\u001b[38;5;241m=\u001b[39mpadding,\n\u001b[1;32m   2892\u001b[0m         truncation\u001b[38;5;241m=\u001b[39mtruncation,\n\u001b[1;32m   2893\u001b[0m         max_length\u001b[38;5;241m=\u001b[39mmax_length,\n\u001b[1;32m   2894\u001b[0m         stride\u001b[38;5;241m=\u001b[39mstride,\n\u001b[1;32m   2895\u001b[0m         is_split_into_words\u001b[38;5;241m=\u001b[39mis_split_into_words,\n\u001b[1;32m   2896\u001b[0m         pad_to_multiple_of\u001b[38;5;241m=\u001b[39mpad_to_multiple_of,\n\u001b[1;32m   2897\u001b[0m         return_tensors\u001b[38;5;241m=\u001b[39mreturn_tensors,\n\u001b[1;32m   2898\u001b[0m         return_token_type_ids\u001b[38;5;241m=\u001b[39mreturn_token_type_ids,\n\u001b[1;32m   2899\u001b[0m         return_attention_mask\u001b[38;5;241m=\u001b[39mreturn_attention_mask,\n\u001b[1;32m   2900\u001b[0m         return_overflowing_tokens\u001b[38;5;241m=\u001b[39mreturn_overflowing_tokens,\n\u001b[1;32m   2901\u001b[0m         return_special_tokens_mask\u001b[38;5;241m=\u001b[39mreturn_special_tokens_mask,\n\u001b[1;32m   2902\u001b[0m         return_offsets_mapping\u001b[38;5;241m=\u001b[39mreturn_offsets_mapping,\n\u001b[1;32m   2903\u001b[0m         return_length\u001b[38;5;241m=\u001b[39mreturn_length,\n\u001b[1;32m   2904\u001b[0m         verbose\u001b[38;5;241m=\u001b[39mverbose,\n\u001b[1;32m   2905\u001b[0m         \u001b[38;5;241m*\u001b[39m\u001b[38;5;241m*\u001b[39mkwargs,\n\u001b[1;32m   2906\u001b[0m     )\n\u001b[1;32m   2907\u001b[0m \u001b[38;5;28;01melse\u001b[39;00m:\n\u001b[1;32m   2908\u001b[0m     \u001b[38;5;28;01mreturn\u001b[39;00m \u001b[38;5;28mself\u001b[39m\u001b[38;5;241m.\u001b[39mencode_plus(\n\u001b[1;32m   2909\u001b[0m         text\u001b[38;5;241m=\u001b[39mtext,\n\u001b[1;32m   2910\u001b[0m         text_pair\u001b[38;5;241m=\u001b[39mtext_pair,\n\u001b[0;32m   (...)\u001b[0m\n\u001b[1;32m   2926\u001b[0m         \u001b[38;5;241m*\u001b[39m\u001b[38;5;241m*\u001b[39mkwargs,\n\u001b[1;32m   2927\u001b[0m     )\n",
      "File \u001b[0;32m/opt/conda/lib/python3.11/site-packages/transformers/tokenization_utils_base.py:3079\u001b[0m, in \u001b[0;36mPreTrainedTokenizerBase.batch_encode_plus\u001b[0;34m(self, batch_text_or_text_pairs, add_special_tokens, padding, truncation, max_length, stride, is_split_into_words, pad_to_multiple_of, return_tensors, return_token_type_ids, return_attention_mask, return_overflowing_tokens, return_special_tokens_mask, return_offsets_mapping, return_length, verbose, **kwargs)\u001b[0m\n\u001b[1;32m   3069\u001b[0m \u001b[38;5;66;03m# Backward compatibility for 'truncation_strategy', 'pad_to_max_length'\u001b[39;00m\n\u001b[1;32m   3070\u001b[0m padding_strategy, truncation_strategy, max_length, kwargs \u001b[38;5;241m=\u001b[39m \u001b[38;5;28mself\u001b[39m\u001b[38;5;241m.\u001b[39m_get_padding_truncation_strategies(\n\u001b[1;32m   3071\u001b[0m     padding\u001b[38;5;241m=\u001b[39mpadding,\n\u001b[1;32m   3072\u001b[0m     truncation\u001b[38;5;241m=\u001b[39mtruncation,\n\u001b[0;32m   (...)\u001b[0m\n\u001b[1;32m   3076\u001b[0m     \u001b[38;5;241m*\u001b[39m\u001b[38;5;241m*\u001b[39mkwargs,\n\u001b[1;32m   3077\u001b[0m )\n\u001b[0;32m-> 3079\u001b[0m \u001b[38;5;28;01mreturn\u001b[39;00m \u001b[38;5;28mself\u001b[39m\u001b[38;5;241m.\u001b[39m_batch_encode_plus(\n\u001b[1;32m   3080\u001b[0m     batch_text_or_text_pairs\u001b[38;5;241m=\u001b[39mbatch_text_or_text_pairs,\n\u001b[1;32m   3081\u001b[0m     add_special_tokens\u001b[38;5;241m=\u001b[39madd_special_tokens,\n\u001b[1;32m   3082\u001b[0m     padding_strategy\u001b[38;5;241m=\u001b[39mpadding_strategy,\n\u001b[1;32m   3083\u001b[0m     truncation_strategy\u001b[38;5;241m=\u001b[39mtruncation_strategy,\n\u001b[1;32m   3084\u001b[0m     max_length\u001b[38;5;241m=\u001b[39mmax_length,\n\u001b[1;32m   3085\u001b[0m     stride\u001b[38;5;241m=\u001b[39mstride,\n\u001b[1;32m   3086\u001b[0m     is_split_into_words\u001b[38;5;241m=\u001b[39mis_split_into_words,\n\u001b[1;32m   3087\u001b[0m     pad_to_multiple_of\u001b[38;5;241m=\u001b[39mpad_to_multiple_of,\n\u001b[1;32m   3088\u001b[0m     return_tensors\u001b[38;5;241m=\u001b[39mreturn_tensors,\n\u001b[1;32m   3089\u001b[0m     return_token_type_ids\u001b[38;5;241m=\u001b[39mreturn_token_type_ids,\n\u001b[1;32m   3090\u001b[0m     return_attention_mask\u001b[38;5;241m=\u001b[39mreturn_attention_mask,\n\u001b[1;32m   3091\u001b[0m     return_overflowing_tokens\u001b[38;5;241m=\u001b[39mreturn_overflowing_tokens,\n\u001b[1;32m   3092\u001b[0m     return_special_tokens_mask\u001b[38;5;241m=\u001b[39mreturn_special_tokens_mask,\n\u001b[1;32m   3093\u001b[0m     return_offsets_mapping\u001b[38;5;241m=\u001b[39mreturn_offsets_mapping,\n\u001b[1;32m   3094\u001b[0m     return_length\u001b[38;5;241m=\u001b[39mreturn_length,\n\u001b[1;32m   3095\u001b[0m     verbose\u001b[38;5;241m=\u001b[39mverbose,\n\u001b[1;32m   3096\u001b[0m     \u001b[38;5;241m*\u001b[39m\u001b[38;5;241m*\u001b[39mkwargs,\n\u001b[1;32m   3097\u001b[0m )\n",
      "File \u001b[0;32m/opt/conda/lib/python3.11/site-packages/transformers/tokenization_utils_fast.py:552\u001b[0m, in \u001b[0;36mPreTrainedTokenizerFast._batch_encode_plus\u001b[0;34m(self, batch_text_or_text_pairs, add_special_tokens, padding_strategy, truncation_strategy, max_length, stride, is_split_into_words, pad_to_multiple_of, return_tensors, return_token_type_ids, return_attention_mask, return_overflowing_tokens, return_special_tokens_mask, return_offsets_mapping, return_length, verbose)\u001b[0m\n\u001b[1;32m    550\u001b[0m \u001b[38;5;28;01mfor\u001b[39;00m input_ids \u001b[38;5;129;01min\u001b[39;00m sanitized_tokens[\u001b[38;5;124m\"\u001b[39m\u001b[38;5;124minput_ids\u001b[39m\u001b[38;5;124m\"\u001b[39m]:\n\u001b[1;32m    551\u001b[0m     \u001b[38;5;28mself\u001b[39m\u001b[38;5;241m.\u001b[39m_eventual_warn_about_too_long_sequence(input_ids, max_length, verbose)\n\u001b[0;32m--> 552\u001b[0m \u001b[38;5;28;01mreturn\u001b[39;00m BatchEncoding(sanitized_tokens, sanitized_encodings, tensor_type\u001b[38;5;241m=\u001b[39mreturn_tensors)\n",
      "File \u001b[0;32m/opt/conda/lib/python3.11/site-packages/transformers/tokenization_utils_base.py:223\u001b[0m, in \u001b[0;36mBatchEncoding.__init__\u001b[0;34m(self, data, encoding, tensor_type, prepend_batch_axis, n_sequences)\u001b[0m\n\u001b[1;32m    219\u001b[0m     n_sequences \u001b[38;5;241m=\u001b[39m encoding[\u001b[38;5;241m0\u001b[39m]\u001b[38;5;241m.\u001b[39mn_sequences\n\u001b[1;32m    221\u001b[0m \u001b[38;5;28mself\u001b[39m\u001b[38;5;241m.\u001b[39m_n_sequences \u001b[38;5;241m=\u001b[39m n_sequences\n\u001b[0;32m--> 223\u001b[0m \u001b[38;5;28mself\u001b[39m\u001b[38;5;241m.\u001b[39mconvert_to_tensors(tensor_type\u001b[38;5;241m=\u001b[39mtensor_type, prepend_batch_axis\u001b[38;5;241m=\u001b[39mprepend_batch_axis)\n",
      "File \u001b[0;32m/opt/conda/lib/python3.11/site-packages/transformers/tokenization_utils_base.py:764\u001b[0m, in \u001b[0;36mBatchEncoding.convert_to_tensors\u001b[0;34m(self, tensor_type, prepend_batch_axis)\u001b[0m\n\u001b[1;32m    759\u001b[0m         \u001b[38;5;28;01mif\u001b[39;00m key \u001b[38;5;241m==\u001b[39m \u001b[38;5;124m\"\u001b[39m\u001b[38;5;124moverflowing_tokens\u001b[39m\u001b[38;5;124m\"\u001b[39m:\n\u001b[1;32m    760\u001b[0m             \u001b[38;5;28;01mraise\u001b[39;00m \u001b[38;5;167;01mValueError\u001b[39;00m(\n\u001b[1;32m    761\u001b[0m                 \u001b[38;5;124m\"\u001b[39m\u001b[38;5;124mUnable to create tensor returning overflowing tokens of different lengths. \u001b[39m\u001b[38;5;124m\"\u001b[39m\n\u001b[1;32m    762\u001b[0m                 \u001b[38;5;124m\"\u001b[39m\u001b[38;5;124mPlease see if a fast version of this tokenizer is available to have this feature available.\u001b[39m\u001b[38;5;124m\"\u001b[39m\n\u001b[1;32m    763\u001b[0m             ) \u001b[38;5;28;01mfrom\u001b[39;00m \u001b[38;5;21;01me\u001b[39;00m\n\u001b[0;32m--> 764\u001b[0m         \u001b[38;5;28;01mraise\u001b[39;00m \u001b[38;5;167;01mValueError\u001b[39;00m(\n\u001b[1;32m    765\u001b[0m             \u001b[38;5;124m\"\u001b[39m\u001b[38;5;124mUnable to create tensor, you should probably activate truncation and/or padding with\u001b[39m\u001b[38;5;124m\"\u001b[39m\n\u001b[1;32m    766\u001b[0m             \u001b[38;5;124m\"\u001b[39m\u001b[38;5;124m \u001b[39m\u001b[38;5;124m'\u001b[39m\u001b[38;5;124mpadding=True\u001b[39m\u001b[38;5;124m'\u001b[39m\u001b[38;5;124m \u001b[39m\u001b[38;5;124m'\u001b[39m\u001b[38;5;124mtruncation=True\u001b[39m\u001b[38;5;124m'\u001b[39m\u001b[38;5;124m to have batched tensors with the same length. Perhaps your\u001b[39m\u001b[38;5;124m\"\u001b[39m\n\u001b[1;32m    767\u001b[0m             \u001b[38;5;124mf\u001b[39m\u001b[38;5;124m\"\u001b[39m\u001b[38;5;124m features (`\u001b[39m\u001b[38;5;132;01m{\u001b[39;00mkey\u001b[38;5;132;01m}\u001b[39;00m\u001b[38;5;124m` in this case) have excessive nesting (inputs type `list` where type `int` is\u001b[39m\u001b[38;5;124m\"\u001b[39m\n\u001b[1;32m    768\u001b[0m             \u001b[38;5;124m\"\u001b[39m\u001b[38;5;124m expected).\u001b[39m\u001b[38;5;124m\"\u001b[39m\n\u001b[1;32m    769\u001b[0m         ) \u001b[38;5;28;01mfrom\u001b[39;00m \u001b[38;5;21;01me\u001b[39;00m\n\u001b[1;32m    771\u001b[0m \u001b[38;5;28;01mreturn\u001b[39;00m \u001b[38;5;28mself\u001b[39m\n",
      "\u001b[0;31mValueError\u001b[0m: Unable to create tensor, you should probably activate truncation and/or padding with 'padding=True' 'truncation=True' to have batched tensors with the same length. Perhaps your features (`input_ids` in this case) have excessive nesting (inputs type `list` where type `int` is expected)."
     ]
    }
   ],
   "source": [
    "from jsonformer import Jsonformer\n",
    "from transformers import AutoModelForCausalLM, AutoTokenizer\n",
    "\n",
    "json_schema = {\n",
    "    \"type\": \"object\",\n",
    "    \"properties\": {\n",
    "        \"name\": {\"type\": \"string\"},\n",
    "        \"age\": {\"type\": \"number\"},\n",
    "        \"is_student\": {\"type\": \"boolean\"},\n",
    "        \"courses\": {\n",
    "            \"type\": \"array\",\n",
    "            \"items\": {\"type\": \"string\"}\n",
    "        }\n",
    "    }\n",
    "}\n",
    "\n",
    "jsonformer = Jsonformer(ft_model, tokenizer, json_schema, prompts)\n",
    "generated_data = jsonformer()\n",
    "print(generated_data)"
   ]
  },
  {
   "cell_type": "code",
   "execution_count": null,
   "id": "ef79e40e-1383-47de-b2a9-de9abcad436d",
   "metadata": {},
   "outputs": [],
   "source": []
  }
 ],
 "metadata": {
  "kernelspec": {
   "display_name": "Python 3 (ipykernel)",
   "language": "python",
   "name": "python3"
  },
  "language_info": {
   "codemirror_mode": {
    "name": "ipython",
    "version": 3
   },
   "file_extension": ".py",
   "mimetype": "text/x-python",
   "name": "python",
   "nbconvert_exporter": "python",
   "pygments_lexer": "ipython3",
   "version": "3.11.5"
  }
 },
 "nbformat": 4,
 "nbformat_minor": 5
}
