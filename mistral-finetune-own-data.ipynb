{
 "cells": [
  {
   "cell_type": "markdown",
   "metadata": {
    "id": "xFCx6jZU3m11"
   },
   "source": [
    "![title](securly-banner2.jpg)\n",
    "\n",
    "# Mistral for Discern - Fine Tune POC\n",
    "\n",
    "This notebook was adapted from this video: https://youtu.be/kmkcNVvEz-k?si=Ogt1wRFNqYI6zXfw&t=1\n",
    "\n",
    "We will use QLoRA, a fine-tuning method that combines quantization and LoRA. For more information about what those are and how they work, see [this post](https://brev.dev/blog/how-qlora-works).\n",
    "\n",
    "In this notebook, we will load the large model in 4bit using `bitsandbytes` and use LoRA to train using the PEFT library from Hugging Face 🤗."
   ]
  },
  {
   "cell_type": "raw",
   "metadata": {},
   "source": [
    "# Ideas for improvement\n",
    "* Larger Batch sizes\n",
    "* Randomize data order\n",
    "* Try on a bigger server"
   ]
  },
  {
   "cell_type": "markdown",
   "metadata": {},
   "source": [
    "## Preliminaries\n",
    "\n",
    "Install libraries, load environment, etc.   You're going to need a .env file that looks like this:\n",
    "\n",
    "```bash\n",
    "ES_KEY_ID=\"HljH...\"\r\n",
    "ES_KEY=\"J2eGSPU...\"\n",
    "WANDB_API_KEY=\"asdasd....\"\n",
    "\n",
    "```\n",
    "\n",
    "Then we need to run the cells below once per new instance to set up support libraries`"
   ]
  },
  {
   "cell_type": "code",
   "execution_count": 1,
   "metadata": {
    "scrolled": true
   },
   "outputs": [
    {
     "name": "stdout",
     "output_type": "stream",
     "text": [
      "Retrieving notices: ...working... done\n",
      "Channels:\n",
      " - defaults\n",
      " - nvidia\n",
      " - pytorch\n",
      "Platform: linux-64\n",
      "Collecting package metadata (repodata.json): ...working... done\n",
      "Solving environment: ...working... done\n",
      "\n",
      "## Package Plan ##\n",
      "\n",
      "  environment location: /opt/conda\n",
      "\n",
      "  added / updated specs:\n",
      "    - matplotlib\n",
      "    - scikit-learn\n",
      "    - scipy\n",
      "\n",
      "\n",
      "The following packages will be downloaded:\n",
      "\n",
      "    package                    |            build\n",
      "    ---------------------------|-----------------\n",
      "    brotli-1.0.9               |       h5eee18b_7          18 KB\n",
      "    brotli-bin-1.0.9           |       h5eee18b_7          19 KB\n",
      "    contourpy-1.2.0            |  py311hdb19cb5_0         263 KB\n",
      "    cycler-0.11.0              |     pyhd3eb1b0_0          12 KB\n",
      "    cyrus-sasl-2.1.28          |       h52b45da_1         237 KB\n",
      "    dbus-1.13.18               |       hb2f20db_0         504 KB\n",
      "    expat-2.5.0                |       h6a678d5_0         172 KB\n",
      "    fontconfig-2.14.1          |       h4c34cd2_2         281 KB\n",
      "    fonttools-4.25.0           |     pyhd3eb1b0_0         632 KB\n",
      "    glib-2.69.1                |       he621ea3_2         1.9 MB\n",
      "    gst-plugins-base-1.14.1    |       h6a678d5_1         2.2 MB\n",
      "    gstreamer-1.14.1           |       h5eee18b_1         1.7 MB\n",
      "    joblib-1.2.0               |  py311h06a4308_0         527 KB\n",
      "    kiwisolver-1.4.4           |  py311h6a678d5_0          70 KB\n",
      "    libbrotlicommon-1.0.9      |       h5eee18b_7          70 KB\n",
      "    libbrotlidec-1.0.9         |       h5eee18b_7          31 KB\n",
      "    libbrotlienc-1.0.9         |       h5eee18b_7         264 KB\n",
      "    libclang-14.0.6            |default_hc6dbbc7_1         137 KB\n",
      "    libclang13-14.0.6          |default_he11475f_1         9.8 MB\n",
      "    libcups-2.4.2              |       h2d74bed_1         4.5 MB\n",
      "    libgfortran-ng-11.2.0      |       h00389a5_1          20 KB\n",
      "    libgfortran5-11.2.0        |       h1234567_1         2.0 MB\n",
      "    libllvm14-14.0.6           |       hdb19cb5_3        33.4 MB\n",
      "    libpq-12.15                |       hdbd6064_1         2.4 MB\n",
      "    libxcb-1.15                |       h7f8727e_0         505 KB\n",
      "    libxkbcommon-1.0.1         |       h5eee18b_1         590 KB\n",
      "    matplotlib-3.8.0           |  py311h06a4308_0           8 KB\n",
      "    matplotlib-base-3.8.0      |  py311ha02d727_0         7.7 MB\n",
      "    munkres-1.1.4              |             py_0          13 KB\n",
      "    mysql-5.7.24               |       h721c034_2        60.0 MB\n",
      "    numpy-1.24.3               |  py311h08b1b3b_1          11 KB\n",
      "    numpy-base-1.24.3          |  py311hf175353_1         7.2 MB\n",
      "    pcre-8.45                  |       h295c915_0         207 KB\n",
      "    ply-3.11                   |  py311h06a4308_0         111 KB\n",
      "    pyparsing-3.0.9            |  py311h06a4308_0         204 KB\n",
      "    pyqt-5.15.10               |  py311h6a678d5_0         5.7 MB\n",
      "    pyqt5-sip-12.13.0          |  py311h5eee18b_0          95 KB\n",
      "    qt-main-5.15.2             |      h53bd1ea_10        53.7 MB\n",
      "    scikit-learn-1.3.0         |  py311ha02d727_0         9.5 MB\n",
      "    scipy-1.11.4               |  py311h08b1b3b_0        22.0 MB\n",
      "    sip-6.7.12                 |  py311h6a678d5_0         603 KB\n",
      "    threadpoolctl-2.2.0        |     pyh0d69192_0          16 KB\n",
      "    ------------------------------------------------------------\n",
      "                                           Total:       229.0 MB\n",
      "\n",
      "The following NEW packages will be INSTALLED:\n",
      "\n",
      "  brotli             pkgs/main/linux-64::brotli-1.0.9-h5eee18b_7 \n",
      "  brotli-bin         pkgs/main/linux-64::brotli-bin-1.0.9-h5eee18b_7 \n",
      "  contourpy          pkgs/main/linux-64::contourpy-1.2.0-py311hdb19cb5_0 \n",
      "  cycler             pkgs/main/noarch::cycler-0.11.0-pyhd3eb1b0_0 \n",
      "  cyrus-sasl         pkgs/main/linux-64::cyrus-sasl-2.1.28-h52b45da_1 \n",
      "  dbus               pkgs/main/linux-64::dbus-1.13.18-hb2f20db_0 \n",
      "  expat              pkgs/main/linux-64::expat-2.5.0-h6a678d5_0 \n",
      "  fontconfig         pkgs/main/linux-64::fontconfig-2.14.1-h4c34cd2_2 \n",
      "  fonttools          pkgs/main/noarch::fonttools-4.25.0-pyhd3eb1b0_0 \n",
      "  glib               pkgs/main/linux-64::glib-2.69.1-he621ea3_2 \n",
      "  gst-plugins-base   pkgs/main/linux-64::gst-plugins-base-1.14.1-h6a678d5_1 \n",
      "  gstreamer          pkgs/main/linux-64::gstreamer-1.14.1-h5eee18b_1 \n",
      "  joblib             pkgs/main/linux-64::joblib-1.2.0-py311h06a4308_0 \n",
      "  kiwisolver         pkgs/main/linux-64::kiwisolver-1.4.4-py311h6a678d5_0 \n",
      "  libbrotlicommon    pkgs/main/linux-64::libbrotlicommon-1.0.9-h5eee18b_7 \n",
      "  libbrotlidec       pkgs/main/linux-64::libbrotlidec-1.0.9-h5eee18b_7 \n",
      "  libbrotlienc       pkgs/main/linux-64::libbrotlienc-1.0.9-h5eee18b_7 \n",
      "  libclang           pkgs/main/linux-64::libclang-14.0.6-default_hc6dbbc7_1 \n",
      "  libclang13         pkgs/main/linux-64::libclang13-14.0.6-default_he11475f_1 \n",
      "  libcups            pkgs/main/linux-64::libcups-2.4.2-h2d74bed_1 \n",
      "  libgfortran-ng     pkgs/main/linux-64::libgfortran-ng-11.2.0-h00389a5_1 \n",
      "  libgfortran5       pkgs/main/linux-64::libgfortran5-11.2.0-h1234567_1 \n",
      "  libllvm14          pkgs/main/linux-64::libllvm14-14.0.6-hdb19cb5_3 \n",
      "  libpq              pkgs/main/linux-64::libpq-12.15-hdbd6064_1 \n",
      "  libxcb             pkgs/main/linux-64::libxcb-1.15-h7f8727e_0 \n",
      "  libxkbcommon       pkgs/main/linux-64::libxkbcommon-1.0.1-h5eee18b_1 \n",
      "  matplotlib         pkgs/main/linux-64::matplotlib-3.8.0-py311h06a4308_0 \n",
      "  matplotlib-base    pkgs/main/linux-64::matplotlib-base-3.8.0-py311ha02d727_0 \n",
      "  munkres            pkgs/main/noarch::munkres-1.1.4-py_0 \n",
      "  mysql              pkgs/main/linux-64::mysql-5.7.24-h721c034_2 \n",
      "  pcre               pkgs/main/linux-64::pcre-8.45-h295c915_0 \n",
      "  ply                pkgs/main/linux-64::ply-3.11-py311h06a4308_0 \n",
      "  pyparsing          pkgs/main/linux-64::pyparsing-3.0.9-py311h06a4308_0 \n",
      "  pyqt               pkgs/main/linux-64::pyqt-5.15.10-py311h6a678d5_0 \n",
      "  pyqt5-sip          pkgs/main/linux-64::pyqt5-sip-12.13.0-py311h5eee18b_0 \n",
      "  qt-main            pkgs/main/linux-64::qt-main-5.15.2-h53bd1ea_10 \n",
      "  scikit-learn       pkgs/main/linux-64::scikit-learn-1.3.0-py311ha02d727_0 \n",
      "  scipy              pkgs/main/linux-64::scipy-1.11.4-py311h08b1b3b_0 \n",
      "  sip                pkgs/main/linux-64::sip-6.7.12-py311h6a678d5_0 \n",
      "  threadpoolctl      pkgs/main/noarch::threadpoolctl-2.2.0-pyh0d69192_0 \n",
      "\n",
      "The following packages will be DOWNGRADED:\n",
      "\n",
      "  numpy                              1.26.2-py311h08b1b3b_0 --> 1.24.3-py311h08b1b3b_1 \n",
      "  numpy-base                         1.26.2-py311hf175353_0 --> 1.24.3-py311hf175353_1 \n",
      "\n",
      "\n",
      "Preparing transaction: ...working... done\n",
      "Verifying transaction: ...working... done\n",
      "Executing transaction: ...working... \n",
      "\n",
      "    Installed package of scikit-learn can be accelerated using scikit-learn-intelex.\n",
      "    More details are available here: https://intel.github.io/scikit-learn-intelex\n",
      "\n",
      "    For example:\n",
      "\n",
      "        $ conda install scikit-learn-intelex\n",
      "        $ python -m sklearnex my_application.py\n",
      "\n",
      "    \n",
      "\n",
      "done\n",
      "\u001b[33mWARNING: Running pip as the 'root' user can result in broken permissions and conflicting behaviour with the system package manager. It is recommended to use a virtual environment instead: https://pip.pypa.io/warnings/venv\u001b[0m\u001b[33m\n",
      "\u001b[0m\u001b[33mWARNING: Running pip as the 'root' user can result in broken permissions and conflicting behaviour with the system package manager. It is recommended to use a virtual environment instead: https://pip.pypa.io/warnings/venv\u001b[0m\u001b[33m\n",
      "\u001b[0m\u001b[33mWARNING: Running pip as the 'root' user can result in broken permissions and conflicting behaviour with the system package manager. It is recommended to use a virtual environment instead: https://pip.pypa.io/warnings/venv\u001b[0m\u001b[33m\n",
      "\u001b[0m\u001b[33mWARNING: Running pip as the 'root' user can result in broken permissions and conflicting behaviour with the system package manager. It is recommended to use a virtual environment instead: https://pip.pypa.io/warnings/venv\u001b[0m\u001b[33m\n",
      "\u001b[0m\u001b[33mWARNING: Running pip as the 'root' user can result in broken permissions and conflicting behaviour with the system package manager. It is recommended to use a virtual environment instead: https://pip.pypa.io/warnings/venv\u001b[0m\u001b[33m\n",
      "\u001b[0m\u001b[33mWARNING: Running pip as the 'root' user can result in broken permissions and conflicting behaviour with the system package manager. It is recommended to use a virtual environment instead: https://pip.pypa.io/warnings/venv\u001b[0m\u001b[33m\n",
      "\u001b[0m\u001b[33mWARNING: Running pip as the 'root' user can result in broken permissions and conflicting behaviour with the system package manager. It is recommended to use a virtual environment instead: https://pip.pypa.io/warnings/venv\u001b[0m\u001b[33m\n",
      "\u001b[0m\u001b[33mWARNING: Running pip as the 'root' user can result in broken permissions and conflicting behaviour with the system package manager. It is recommended to use a virtual environment instead: https://pip.pypa.io/warnings/venv\u001b[0m\u001b[33m\n",
      "\u001b[0m"
     ]
    }
   ],
   "source": [
    "!conda install -qy scikit-learn scipy matplotlib\n",
    "!pip install -q -U python-dotenv\n",
    "!pip install -q -U  elasticsearch\n",
    "!pip install -q -U  datasets # The version in conda is broken?\n",
    "!pip install -q -U bitsandbytes\n",
    "!pip install -q -U git+https://github.com/huggingface/transformers.git\n",
    "!pip install -q -U git+https://github.com/huggingface/peft.git\n",
    "!pip install -q -U git+https://github.com/huggingface/accelerate.git\n",
    "!pip install -q -U wandb"
   ]
  },
  {
   "cell_type": "markdown",
   "metadata": {
    "id": "VC-9m2yv3m18"
   },
   "source": [
    "## Preparing data \n",
    "\n",
    "To prepare your dataset for loading, we need two `.jsonl` files structured something like this:\n",
    "```json\n",
    "{\"document\": \"journal-entry-for-model-to-predict\"}\n",
    "{\"document\": \"journal-entry-for-model-to-predict-1\"}\n",
    "{\"document\": \"journal-entry-for-model-to-predict-2\"}\n",
    "```\n",
    "\n",
    "You probably only need to do this once"
   ]
  },
  {
   "cell_type": "code",
   "execution_count": 2,
   "metadata": {},
   "outputs": [
    {
     "data": {
      "text/plain": [
       "True"
      ]
     },
     "execution_count": 2,
     "metadata": {},
     "output_type": "execute_result"
    }
   ],
   "source": [
    "from dotenv import load_dotenv\n",
    "import os\n",
    "\n",
    "# Load keys and such from the .env file\n",
    "load_dotenv()"
   ]
  },
  {
   "cell_type": "markdown",
   "metadata": {},
   "source": [
    "### Download Data from Elasticsearch"
   ]
  },
  {
   "cell_type": "code",
   "execution_count": 3,
   "metadata": {},
   "outputs": [
    {
     "data": {
      "text/html": [
       "<div>\n",
       "<style scoped>\n",
       "    .dataframe tbody tr th:only-of-type {\n",
       "        vertical-align: middle;\n",
       "    }\n",
       "\n",
       "    .dataframe tbody tr th {\n",
       "        vertical-align: top;\n",
       "    }\n",
       "\n",
       "    .dataframe thead th {\n",
       "        text-align: right;\n",
       "    }\n",
       "</style>\n",
       "<table border=\"1\" class=\"dataframe\">\n",
       "  <thead>\n",
       "    <tr style=\"text-align: right;\">\n",
       "      <th></th>\n",
       "      <th>Keywords</th>\n",
       "      <th>Variables</th>\n",
       "      <th>Note</th>\n",
       "      <th>AiTrainingPrompt</th>\n",
       "      <th>ExampleAiOutput</th>\n",
       "    </tr>\n",
       "  </thead>\n",
       "  <tbody>\n",
       "    <tr>\n",
       "      <th>0</th>\n",
       "      <td>[alexs, slope formula, aslope]</td>\n",
       "      <td>{'sports-and-athletics': 0.0, 'environmentalis...</td>\n",
       "      <td>The student searched for 'slope formula' which...</td>\n",
       "      <td>You are a Student Web Activity Analyzer develo...</td>\n",
       "      <td>{\\r\\n  \"sports-and-athletics\": \"1\",\\r\\n  \"spor...</td>\n",
       "    </tr>\n",
       "    <tr>\n",
       "      <th>1</th>\n",
       "      <td>[adj, hellosmart]</td>\n",
       "      <td>{'sports-and-athletics': 0.0, 'environmentalis...</td>\n",
       "      <td>The search term 'adj' does not provide enough ...</td>\n",
       "      <td>You are a Student Web Activity Analyzer develo...</td>\n",
       "      <td>{\\r\\n  \"sports-and-athletics\": \"1\",\\r\\n  \"spor...</td>\n",
       "    </tr>\n",
       "    <tr>\n",
       "      <th>2</th>\n",
       "      <td>[carrie fanart tawog, paswg art style, carrie ...</td>\n",
       "      <td>{'sports-and-athletics': 0.0, 'environmentalis...</td>\n",
       "      <td>The student's web activity shows a strong inte...</td>\n",
       "      <td>You are a Student Web Activity Analyzer develo...</td>\n",
       "      <td>{\\r\\n  \"sports-and-athletics\": \"1\",\\r\\n  \"spor...</td>\n",
       "    </tr>\n",
       "    <tr>\n",
       "      <th>3</th>\n",
       "      <td>[how were marriages arranged in ancient babylo...</td>\n",
       "      <td>{'sports-and-athletics': 0.0, 'environmentalis...</td>\n",
       "      <td>The student's web activity indicates a strong ...</td>\n",
       "      <td>You are a Student Web Activity Analyzer develo...</td>\n",
       "      <td>{\\r\\n  \"sports-and-athletics\": \"1\",\\r\\n  \"spor...</td>\n",
       "    </tr>\n",
       "    <tr>\n",
       "      <th>4</th>\n",
       "      <td>[kahoot join, lamborghini egoista  black, calc...</td>\n",
       "      <td>{'sports-and-athletics': 0.0, 'environmentalis...</td>\n",
       "      <td>The student's online activities include multip...</td>\n",
       "      <td>You are a Student Web Activity Analyzer develo...</td>\n",
       "      <td>{\\r\\n  \"sports-and-athletics\": \"1\",\\r\\n  \"spor...</td>\n",
       "    </tr>\n",
       "    <tr>\n",
       "      <th>...</th>\n",
       "      <td>...</td>\n",
       "      <td>...</td>\n",
       "      <td>...</td>\n",
       "      <td>...</td>\n",
       "      <td>...</td>\n",
       "    </tr>\n",
       "    <tr>\n",
       "      <th>54480</th>\n",
       "      <td>[the war overseas had been causing the price o...</td>\n",
       "      <td>{'parental-absence': 0.0, 'academic-poor-perfo...</td>\n",
       "      <td>The online activities consist of searches rela...</td>\n",
       "      <td>You are an AI designed to conduct a School Vio...</td>\n",
       "      <td>{\\r\\n  \"parental-absence\": \"1\",\\r\\n  \"parental...</td>\n",
       "    </tr>\n",
       "    <tr>\n",
       "      <th>54481</th>\n",
       "      <td>[a process that is used to gain knowledge abou...</td>\n",
       "      <td>{'parental-absence': 0.0, 'academic-poor-perfo...</td>\n",
       "      <td>The online activities consist primarily of aca...</td>\n",
       "      <td>You are an AI designed to conduct a School Vio...</td>\n",
       "      <td>{\\r\\n  \"parental-absence\": \"1\",\\r\\n  \"parental...</td>\n",
       "    </tr>\n",
       "    <tr>\n",
       "      <th>54482</th>\n",
       "      <td>[words that modify or describe nouns, verbs th...</td>\n",
       "      <td>{'parental-absence': 0.0, 'academic-poor-perfo...</td>\n",
       "      <td>The online activities consist of searches rela...</td>\n",
       "      <td>You are an AI designed to conduct a School Vio...</td>\n",
       "      <td>{\\r\\n  \"parental-absence\": \"1\",\\r\\n  \"parental...</td>\n",
       "    </tr>\n",
       "    <tr>\n",
       "      <th>54483</th>\n",
       "      <td>[freshman math problems, hard math problems wi...</td>\n",
       "      <td>{'parental-absence': 0.0, 'academic-poor-perfo...</td>\n",
       "      <td>The student appears to be engaging in typical ...</td>\n",
       "      <td>You are an AI designed to conduct a School Vio...</td>\n",
       "      <td>{\\r\\n  \"parental-absence\": \"1\",\\r\\n  \"parental...</td>\n",
       "    </tr>\n",
       "    <tr>\n",
       "      <th>54484</th>\n",
       "      <td>[what did confucius emphasize most about socie...</td>\n",
       "      <td>{'parental-absence': 0.0, 'academic-poor-perfo...</td>\n",
       "      <td>The online activities involve educational sear...</td>\n",
       "      <td>You are an AI designed to conduct a School Vio...</td>\n",
       "      <td>{\\r\\n  \"parental-absence\": \"1\",\\r\\n  \"parental...</td>\n",
       "    </tr>\n",
       "  </tbody>\n",
       "</table>\n",
       "<p>54485 rows × 5 columns</p>\n",
       "</div>"
      ],
      "text/plain": [
       "                                                Keywords  \\\n",
       "0                         [alexs, slope formula, aslope]   \n",
       "1                                      [adj, hellosmart]   \n",
       "2      [carrie fanart tawog, paswg art style, carrie ...   \n",
       "3      [how were marriages arranged in ancient babylo...   \n",
       "4      [kahoot join, lamborghini egoista  black, calc...   \n",
       "...                                                  ...   \n",
       "54480  [the war overseas had been causing the price o...   \n",
       "54481  [a process that is used to gain knowledge abou...   \n",
       "54482  [words that modify or describe nouns, verbs th...   \n",
       "54483  [freshman math problems, hard math problems wi...   \n",
       "54484  [what did confucius emphasize most about socie...   \n",
       "\n",
       "                                               Variables  \\\n",
       "0      {'sports-and-athletics': 0.0, 'environmentalis...   \n",
       "1      {'sports-and-athletics': 0.0, 'environmentalis...   \n",
       "2      {'sports-and-athletics': 0.0, 'environmentalis...   \n",
       "3      {'sports-and-athletics': 0.0, 'environmentalis...   \n",
       "4      {'sports-and-athletics': 0.0, 'environmentalis...   \n",
       "...                                                  ...   \n",
       "54480  {'parental-absence': 0.0, 'academic-poor-perfo...   \n",
       "54481  {'parental-absence': 0.0, 'academic-poor-perfo...   \n",
       "54482  {'parental-absence': 0.0, 'academic-poor-perfo...   \n",
       "54483  {'parental-absence': 0.0, 'academic-poor-perfo...   \n",
       "54484  {'parental-absence': 0.0, 'academic-poor-perfo...   \n",
       "\n",
       "                                                    Note  \\\n",
       "0      The student searched for 'slope formula' which...   \n",
       "1      The search term 'adj' does not provide enough ...   \n",
       "2      The student's web activity shows a strong inte...   \n",
       "3      The student's web activity indicates a strong ...   \n",
       "4      The student's online activities include multip...   \n",
       "...                                                  ...   \n",
       "54480  The online activities consist of searches rela...   \n",
       "54481  The online activities consist primarily of aca...   \n",
       "54482  The online activities consist of searches rela...   \n",
       "54483  The student appears to be engaging in typical ...   \n",
       "54484  The online activities involve educational sear...   \n",
       "\n",
       "                                        AiTrainingPrompt  \\\n",
       "0      You are a Student Web Activity Analyzer develo...   \n",
       "1      You are a Student Web Activity Analyzer develo...   \n",
       "2      You are a Student Web Activity Analyzer develo...   \n",
       "3      You are a Student Web Activity Analyzer develo...   \n",
       "4      You are a Student Web Activity Analyzer develo...   \n",
       "...                                                  ...   \n",
       "54480  You are an AI designed to conduct a School Vio...   \n",
       "54481  You are an AI designed to conduct a School Vio...   \n",
       "54482  You are an AI designed to conduct a School Vio...   \n",
       "54483  You are an AI designed to conduct a School Vio...   \n",
       "54484  You are an AI designed to conduct a School Vio...   \n",
       "\n",
       "                                         ExampleAiOutput  \n",
       "0      {\\r\\n  \"sports-and-athletics\": \"1\",\\r\\n  \"spor...  \n",
       "1      {\\r\\n  \"sports-and-athletics\": \"1\",\\r\\n  \"spor...  \n",
       "2      {\\r\\n  \"sports-and-athletics\": \"1\",\\r\\n  \"spor...  \n",
       "3      {\\r\\n  \"sports-and-athletics\": \"1\",\\r\\n  \"spor...  \n",
       "4      {\\r\\n  \"sports-and-athletics\": \"1\",\\r\\n  \"spor...  \n",
       "...                                                  ...  \n",
       "54480  {\\r\\n  \"parental-absence\": \"1\",\\r\\n  \"parental...  \n",
       "54481  {\\r\\n  \"parental-absence\": \"1\",\\r\\n  \"parental...  \n",
       "54482  {\\r\\n  \"parental-absence\": \"1\",\\r\\n  \"parental...  \n",
       "54483  {\\r\\n  \"parental-absence\": \"1\",\\r\\n  \"parental...  \n",
       "54484  {\\r\\n  \"parental-absence\": \"1\",\\r\\n  \"parental...  \n",
       "\n",
       "[54485 rows x 5 columns]"
      ]
     },
     "metadata": {},
     "output_type": "display_data"
    }
   ],
   "source": [
    "from elasticsearch import Elasticsearch\n",
    "import pandas as pd\n",
    "\n",
    "es = Elasticsearch(\n",
    "    'https://elastic-ksi-prod.es.us-east-1.aws.found.io:443',\n",
    "    api_key=(os.getenv(\"ES_KEY_ID\"), os.getenv(\"ES_KEY\")),                  # Use this if you have an API key\n",
    ")\n",
    "\n",
    "# Define and Execute Query\n",
    "query = {\n",
    "    \"_source\": [\"AiTrainingPrompt\", \"Keywords\", \"ExampleAiOutput\", \"Variables\", \"Note\"],\n",
    "    \"query\": {\n",
    "        \"bool\": {\n",
    "            \"must\": [\n",
    "                {\"match\": {\"ClinicalFrameworkName\": \"Students' Interests - Alpha\"}},\n",
    "                {\"match\": {\"IsSuccess\": True}}\n",
    "            ]\n",
    "        }\n",
    "    }\n",
    "}\n",
    "\n",
    "scroll_timeout = \"10m\"\n",
    "response  = es.search(index=\"prod-gpt-response\", body=query, scroll=scroll_timeout, size=1000)\n",
    "scroll_id = response['_scroll_id']\n",
    "hits = response['hits']['hits']\n",
    "\n",
    "while True:\n",
    "    response = es.scroll(scroll_id=scroll_id, scroll=scroll_timeout)\n",
    "\n",
    "    if not response['hits']['hits']:\n",
    "        break\n",
    "\n",
    "    scroll_id = response['_scroll_id']\n",
    "    hits.extend(response['hits']['hits'])\n",
    "\n",
    "# Process and Display Data\n",
    "data = pd.DataFrame([hit['_source'] for hit in hits])\n",
    "display(data)"
   ]
  },
  {
   "cell_type": "code",
   "execution_count": 4,
   "metadata": {},
   "outputs": [
    {
     "data": {
      "text/plain": [
       "54485"
      ]
     },
     "execution_count": 4,
     "metadata": {},
     "output_type": "execute_result"
    }
   ],
   "source": [
    "len(data)"
   ]
  },
  {
   "cell_type": "markdown",
   "metadata": {},
   "source": [
    "### Formatting the data back into a single message"
   ]
  },
  {
   "cell_type": "code",
   "execution_count": 5,
   "metadata": {
    "scrolled": true
   },
   "outputs": [
    {
     "name": "stdout",
     "output_type": "stream",
     "text": [
      "### Question:\n",
      "You are a Student Web Activity Analyzer developed to support professionals, including Social Workers, School Psychologists, District Administrators, School Safety Specialists, and related roles. Your primary objective is to meticulously evaluate the online activity of K-12 students and identify specific indicators related to their interests and passions. For each identified indicator, provide a JSON object containing:\n",
      "\n",
      "Presence: Indicate a value of 1 (if the indicator is present) or 0 (if not). Even if only a portion of the data aligns with an indicator, mark it as 1.\n",
      "Confidence: Assign a confidence level on a scale of 1-10 to indicate the certainty level of your analysis.\n",
      "\n",
      "Additionally, please include a note that outlines the rationale behind identifying certain indicators and offers a summary of the analyzed web activity.\n",
      "\n",
      "Adhere to the JSON format outlined in the example output section precisely.\n",
      "\n",
      "Each individual online activity you receive represents one search or interaction on a student's device. Occasionally, searches that include large amounts of text will be summarized. These summaries will be marked with 'S~'. Such summarization typically occurs when students copy and paste extensive text blocks, although other cases may exist. Additional details will be provided in the summary.\n",
      "\n",
      "In situations where the presence of an indicator is ambiguous or if anomalies are present in the data, exercise your best judgment while providing a confidence level that reflects the level of uncertainty.\n",
      "\n",
      "Here are the specific indicators that you should use for this task, with definitions, delimited by single quotes.\n",
      "\n",
      "'sports-and-athletics: participating in physical activities and team sports to promote fitness, teamwork, and sportsmanship.'\n",
      "'environmentalism-and-sustainability: learning about the environment, conservation, and sustainable practices to become responsible global citizens.'\n",
      "'gaming-and-e-sports: engaging in digital gaming and competitive e-sports to develop strategic thinking, problem-solving, and teamwork skills.'\n",
      "'college-and-career: engaging in planning, research, and/or discovery around future college and career opportunities or otherwise demonstrating an interest in college or career activities after high school'\n",
      "'cooking-and-food: investigating cooking or food'\n",
      "'reading-and-literature: exploring the world of books and stories through reading and interpretation.'\n",
      "'writing-and-creative-writing: expressing thoughts, ideas, and imagination through written words and storytelling.'\n",
      "'science-and-technology: investigating the natural world and technological advancements'\n",
      "'mathematics-and-statistics: engaging in problem-solving and numerical analysis to understand patterns, shapes, and quantities.'\n",
      "'history-and-social-studies: discovering past events, cultures, and societies to gain a deeper understanding of the world.'\n",
      "'creative-arts: expressing creativity through various art forms like drawing, painting, sculpture, music, performing arts, and more'\n",
      "'animals-and-nature: reflects a student's enthusiasm and curiosity for studying, observing, or interacting with animals and natural environments, potentially driving academic pursuits, extracurricular activities, or career paths related to biology, ecology, or conservation.'\n",
      "\n",
      "\n",
      "### Search Data:\n",
      "['alexs', 'slope formula', 'aslope']\n",
      "\n",
      "### Example Output:\n",
      "{\n",
      "  \"sports-and-athletics\": \"1\",\n",
      "  \"sports-and-athletics-confidence\": \"6\",\n",
      "  \"environmentalism-and-sustainability\": \"0\",\n",
      "  \"environmentalism-and-sustainability-confidence\": \"8\",\n",
      "  \"gaming-and-e-sports\": \"0\",\n",
      "  \"gaming-and-e-sports-confidence\": \"10\",\n",
      "  \"college-and-career\": \"1\",\n",
      "  \"college-and-career-confidence\": \"7\",\n",
      "  \"cooking-and-food\": \"1\",\n",
      "  \"cooking-and-food-confidence\": \"7\",\n",
      "  \"reading-and-literature\": \"0\",\n",
      "  \"reading-and-literature-confidence\": \"7\",\n",
      "  \"writing-and-creative-writing\": \"1\",\n",
      "  \"writing-and-creative-writing-confidence\": \"8\",\n",
      "  \"science-and-technology\": \"0\",\n",
      "  \"science-and-technology-confidence\": \"10\",\n",
      "  \"mathematics-and-statistics\": \"1\",\n",
      "  \"mathematics-and-statistics-confidence\": \"6\",\n",
      "  \"history-and-social-studies\": \"9\",\n",
      "  \"history-and-social-studies-confidence\": \"0\",\n",
      "  \"creative-arts\": \"1\",\n",
      "  \"creative-arts-confidence\": \"8\",\n",
      "  \"animals-and-nature\": \"1\",\n",
      "  \"animals-and-nature-confidence\": \"9\",\n",
      "  \"note\": \"Detailed Summary Goes Here \"\n",
      "}\n",
      "\n",
      "### Solution:\n",
      "{\n",
      "  \"sports-and-athletics\": \"0.0\",\n",
      "  \"sports-and-athletics-confidence\": \"10.0\",\n",
      "  \"environmentalism-and-sustainability\": \"0.0\",\n",
      "  \"environmentalism-and-sustainability-confidence\": \"10.0\",\n",
      "  \"gaming-and-e-sports\": \"0.0\",\n",
      "  \"gaming-and-e-sports-confidence\": \"10.0\",\n",
      "  \"college-and-career\": \"0.0\",\n",
      "  \"college-and-career-confidence\": \"10.0\",\n",
      "  \"cooking-and-food\": \"0.0\",\n",
      "  \"cooking-and-food-confidence\": \"10.0\",\n",
      "  \"reading-and-literature\": \"0.0\",\n",
      "  \"reading-and-literature-confidence\": \"10.0\",\n",
      "  \"writing-and-creative-writing\": \"0.0\",\n",
      "  \"writing-and-creative-writing-confidence\": \"10.0\",\n",
      "  \"science-and-technology\": \"0.0\",\n",
      "  \"science-and-technology-confidence\": \"10.0\",\n",
      "  \"mathematics-and-statistics\": \"1.0\",\n",
      "  \"mathematics-and-statistics-confidence\": \"9.0\",\n",
      "  \"history-and-social-studies\": \"0.0\",\n",
      "  \"history-and-social-studies-confidence\": \"10.0\",\n",
      "  \"creative-arts\": \"0.0\",\n",
      "  \"creative-arts-confidence\": \"10.0\",\n",
      "  \"animals-and-nature\": \"0.0\",\n",
      "  \"animals-and-nature-confidence\": \"10.0\",\n",
      "  \"note\": \"The student searched for 'slope formula' which is related to mathematics, indicating an interest or homework activity in this subject. The confidence is high due to the specific nature of the search term. The other search term 'alexs' is ambiguous and does not provide enough context to confidently associate with any of the given indicators.\"\n",
      "}\n"
     ]
    }
   ],
   "source": [
    "import json\n",
    "\n",
    "def question_func(data):\n",
    "    question = \"\"\"### Question:\n",
    "{prompt}\n",
    "\n",
    "### Search Data:\n",
    "{searches}\n",
    "\n",
    "### Example Output:\n",
    "{example}\n",
    "\n",
    "### Solution:\"\"\".format(prompt=data['AiTrainingPrompt'], searches=data['Keywords'], example=data['ExampleAiOutput'])\n",
    "\n",
    "    return question\n",
    "\n",
    "def solution_func(data):\n",
    "    solution = \"\"\"\n",
    "{{\n",
    "  \"sports-and-athletics\": \"{sportsandathletics}\",\n",
    "  \"sports-and-athletics-confidence\": \"{sportsandathleticsconfidence}\",\n",
    "  \"environmentalism-and-sustainability\": \"{environmentalismandsustainability}\",\n",
    "  \"environmentalism-and-sustainability-confidence\": \"{environmentalismandsustainabilityconfidence}\",\n",
    "  \"gaming-and-e-sports\": \"{gamingandesports}\",\n",
    "  \"gaming-and-e-sports-confidence\": \"{gamingandesportsconfidence}\",\n",
    "  \"college-and-career\": \"{collegeandcareer}\",\n",
    "  \"college-and-career-confidence\": \"{collegeandcareerconfidence}\",\n",
    "  \"cooking-and-food\": \"{cookingandfood}\",\n",
    "  \"cooking-and-food-confidence\": \"{cookingandfoodconfidence}\",\n",
    "  \"reading-and-literature\": \"{readingandliterature}\",\n",
    "  \"reading-and-literature-confidence\": \"{readingandliteratureconfidence}\",\n",
    "  \"writing-and-creative-writing\": \"{writingandcreativewriting}\",\n",
    "  \"writing-and-creative-writing-confidence\": \"{writingandcreativewritingconfidence}\",\n",
    "  \"science-and-technology\": \"{scienceandtechnology}\",\n",
    "  \"science-and-technology-confidence\": \"{scienceandtechnologyconfidence}\",\n",
    "  \"mathematics-and-statistics\": \"{mathematicsandstatistics}\",\n",
    "  \"mathematics-and-statistics-confidence\": \"{mathematicsandstatisticsconfidence}\",\n",
    "  \"history-and-social-studies\": \"{historyandsocialstudies}\",\n",
    "  \"history-and-social-studies-confidence\": \"{historyandsocialstudiesconfidence}\",\n",
    "  \"creative-arts\": \"{creativearts}\",\n",
    "  \"creative-arts-confidence\": \"{creativeartsconfidence}\",\n",
    "  \"animals-and-nature\": \"{animalsandnature}\",\n",
    "  \"animals-and-nature-confidence\": \"{animalsandnatureconfidence}\",\n",
    "  \"note\": \"{note}\"\n",
    "}}\"\"\".format(sportsandathletics=data['Variables']['sports-and-athletics'],\n",
    "            sportsandathleticsconfidence=data['Variables']['sports-and-athletics-confidence'],\n",
    "            environmentalismandsustainability=data['Variables']['environmentalism-and-sustainability'],\n",
    "            environmentalismandsustainabilityconfidence=data['Variables']['environmentalism-and-sustainability-confidence'],\n",
    "            gamingandesports=data['Variables']['gaming-and-e-sports'],\n",
    "            gamingandesportsconfidence=data['Variables']['gaming-and-e-sports-confidence'],\n",
    "            collegeandcareer=data['Variables']['college-and-career'],\n",
    "            collegeandcareerconfidence=data['Variables']['college-and-career-confidence'],\n",
    "            cookingandfood=data['Variables']['cooking-and-food'],\n",
    "            cookingandfoodconfidence=data['Variables']['cooking-and-food-confidence'],\n",
    "            readingandliterature=data['Variables']['reading-and-literature'],\n",
    "            readingandliteratureconfidence=data['Variables']['reading-and-literature-confidence'],\n",
    "            writingandcreativewriting=data['Variables']['writing-and-creative-writing'],\n",
    "            writingandcreativewritingconfidence=data['Variables']['writing-and-creative-writing-confidence'],\n",
    "            scienceandtechnology=data['Variables']['science-and-technology'],\n",
    "            scienceandtechnologyconfidence=data['Variables']['science-and-technology-confidence'],\n",
    "            mathematicsandstatistics=data['Variables']['mathematics-and-statistics'],\n",
    "            mathematicsandstatisticsconfidence=data['Variables']['mathematics-and-statistics-confidence'],\n",
    "            historyandsocialstudies=data['Variables']['history-and-social-studies'],\n",
    "            historyandsocialstudiesconfidence=data['Variables']['history-and-social-studies-confidence'],\n",
    "            creativearts=data['Variables']['creative-arts'],\n",
    "            creativeartsconfidence=data['Variables']['creative-arts-confidence'],\n",
    "            animalsandnature=data['Variables']['animals-and-nature'],\n",
    "            animalsandnatureconfidence=data['Variables']['animals-and-nature-confidence'],\n",
    "            note=data['Note']\n",
    ")\n",
    "    \n",
    "    return solution\n",
    "\n",
    "def formatting_func(data):\n",
    "    try:\n",
    "        question = question_func(data)\n",
    "        solution = solution_func(data)\n",
    "        return question+solution\n",
    "    except:\n",
    "        return 0\n",
    "    \n",
    "print(formatting_func(data.loc[0]))"
   ]
  },
  {
   "cell_type": "code",
   "execution_count": 6,
   "metadata": {},
   "outputs": [
    {
     "data": {
      "text/plain": [
       "0        ### Question:\\nYou are a Student Web Activity ...\n",
       "1        ### Question:\\nYou are a Student Web Activity ...\n",
       "2        ### Question:\\nYou are a Student Web Activity ...\n",
       "3        ### Question:\\nYou are a Student Web Activity ...\n",
       "4        ### Question:\\nYou are a Student Web Activity ...\n",
       "                               ...                        \n",
       "22662    ### Question:\\nYou are a Student Web Activity ...\n",
       "22663    ### Question:\\nYou are a Student Web Activity ...\n",
       "22664    ### Question:\\nYou are a Student Web Activity ...\n",
       "22665    ### Question:\\nYou are a Student Web Activity ...\n",
       "22666    ### Question:\\nYou are a Student Web Activity ...\n",
       "Length: 22660, dtype: object"
      ]
     },
     "execution_count": 6,
     "metadata": {},
     "output_type": "execute_result"
    }
   ],
   "source": [
    "# Apply the formatting function and filter out any documents that fail to format\n",
    "documents = data.apply(formatting_func, axis=1).loc[lambda x : x != 0]\n",
    "documents"
   ]
  },
  {
   "cell_type": "code",
   "execution_count": 7,
   "metadata": {},
   "outputs": [],
   "source": [
    "from sklearn.model_selection import train_test_split\n",
    "train_data, val_data = train_test_split(documents, test_size=0.02, random_state=42)\n",
    "\n",
    "train_df = pd.DataFrame(train_data)\n",
    "train_df.columns = ['document']\n",
    "val_df = pd.DataFrame(val_data)\n",
    "val_df.columns = ['document']\n",
    "\n",
    "train_df.to_json('train_data.jsonl', orient='records', lines=True)\n",
    "val_df.to_json('validation_data.jsonl', orient='records', lines=True)"
   ]
  },
  {
   "cell_type": "markdown",
   "metadata": {},
   "source": [
    "## Setting Up Data Pipeline\n"
   ]
  },
  {
   "cell_type": "code",
   "execution_count": 8,
   "metadata": {
    "id": "s6f4z8EYmcJ6"
   },
   "outputs": [
    {
     "data": {
      "application/vnd.jupyter.widget-view+json": {
       "model_id": "e164449fb04c4a05a25fb5791bdbfbb4",
       "version_major": 2,
       "version_minor": 0
      },
      "text/plain": [
       "Downloading data files:   0%|          | 0/1 [00:00<?, ?it/s]"
      ]
     },
     "metadata": {},
     "output_type": "display_data"
    },
    {
     "data": {
      "application/vnd.jupyter.widget-view+json": {
       "model_id": "922f25f306194de6acd6eb04bfe0959a",
       "version_major": 2,
       "version_minor": 0
      },
      "text/plain": [
       "Extracting data files:   0%|          | 0/1 [00:00<?, ?it/s]"
      ]
     },
     "metadata": {},
     "output_type": "display_data"
    },
    {
     "data": {
      "application/vnd.jupyter.widget-view+json": {
       "model_id": "27230de059f340baa077f8c03d4923dc",
       "version_major": 2,
       "version_minor": 0
      },
      "text/plain": [
       "Generating train split: 0 examples [00:00, ? examples/s]"
      ]
     },
     "metadata": {},
     "output_type": "display_data"
    },
    {
     "data": {
      "application/vnd.jupyter.widget-view+json": {
       "model_id": "04f8fa681c194caa9c60a05feaf6f07e",
       "version_major": 2,
       "version_minor": 0
      },
      "text/plain": [
       "Downloading data files:   0%|          | 0/1 [00:00<?, ?it/s]"
      ]
     },
     "metadata": {},
     "output_type": "display_data"
    },
    {
     "data": {
      "application/vnd.jupyter.widget-view+json": {
       "model_id": "8fb69c83bb934c8c9d75608d28164d21",
       "version_major": 2,
       "version_minor": 0
      },
      "text/plain": [
       "Extracting data files:   0%|          | 0/1 [00:00<?, ?it/s]"
      ]
     },
     "metadata": {},
     "output_type": "display_data"
    },
    {
     "data": {
      "application/vnd.jupyter.widget-view+json": {
       "model_id": "c4f01e0f065741a382c4a4d4e5d09e7e",
       "version_major": 2,
       "version_minor": 0
      },
      "text/plain": [
       "Generating train split: 0 examples [00:00, ? examples/s]"
      ]
     },
     "metadata": {},
     "output_type": "display_data"
    }
   ],
   "source": [
    "from datasets import load_dataset\n",
    "\n",
    "train_dataset = load_dataset(\"json\", data_files='./train_data.jsonl', split='train')\n",
    "eval_dataset = load_dataset(\"json\", data_files='./validation_data.jsonl', split='train')"
   ]
  },
  {
   "cell_type": "markdown",
   "metadata": {
    "id": "shz8Xdv-yRgf"
   },
   "source": [
    "### Load Base Model"
   ]
  },
  {
   "cell_type": "markdown",
   "metadata": {
    "id": "MJ-5idQwzvg-"
   },
   "source": [
    "Let's now load Mistral - mistralai/Mistral-7B-v0.1 - using 4-bit quantization!"
   ]
  },
  {
   "cell_type": "code",
   "execution_count": 9,
   "metadata": {
    "colab": {
     "referenced_widgets": [
      "45524c98039a46d5b7745ad7cb638d2f"
     ]
    },
    "id": "E0Nl5mWL0k2T",
    "outputId": "47b6b01d-e9f2-4b70-919c-17ae64993843"
   },
   "outputs": [
    {
     "data": {
      "application/vnd.jupyter.widget-view+json": {
       "model_id": "5b3e7fdfa05a4af58b24b98874c0067f",
       "version_major": 2,
       "version_minor": 0
      },
      "text/plain": [
       "config.json:   0%|          | 0.00/571 [00:00<?, ?B/s]"
      ]
     },
     "metadata": {},
     "output_type": "display_data"
    },
    {
     "data": {
      "application/vnd.jupyter.widget-view+json": {
       "model_id": "5ffd49baaa12440a87db1f168762b0d1",
       "version_major": 2,
       "version_minor": 0
      },
      "text/plain": [
       "pytorch_model.bin.index.json:   0%|          | 0.00/23.9k [00:00<?, ?B/s]"
      ]
     },
     "metadata": {},
     "output_type": "display_data"
    },
    {
     "data": {
      "application/vnd.jupyter.widget-view+json": {
       "model_id": "397650687db245669fb1e9fe3fc0dcb0",
       "version_major": 2,
       "version_minor": 0
      },
      "text/plain": [
       "Downloading shards:   0%|          | 0/2 [00:00<?, ?it/s]"
      ]
     },
     "metadata": {},
     "output_type": "display_data"
    },
    {
     "data": {
      "application/vnd.jupyter.widget-view+json": {
       "model_id": "8342d7c7686e44c68e7ea4f66075d5ff",
       "version_major": 2,
       "version_minor": 0
      },
      "text/plain": [
       "pytorch_model-00001-of-00002.bin:   0%|          | 0.00/9.94G [00:00<?, ?B/s]"
      ]
     },
     "metadata": {},
     "output_type": "display_data"
    },
    {
     "data": {
      "application/vnd.jupyter.widget-view+json": {
       "model_id": "199cb99588db44b8ae9504b9518e1ab0",
       "version_major": 2,
       "version_minor": 0
      },
      "text/plain": [
       "pytorch_model-00002-of-00002.bin:   0%|          | 0.00/5.06G [00:00<?, ?B/s]"
      ]
     },
     "metadata": {},
     "output_type": "display_data"
    },
    {
     "data": {
      "application/vnd.jupyter.widget-view+json": {
       "model_id": "8f857b5bee3742e098ccd300e9d3bef7",
       "version_major": 2,
       "version_minor": 0
      },
      "text/plain": [
       "Loading checkpoint shards:   0%|          | 0/2 [00:00<?, ?it/s]"
      ]
     },
     "metadata": {},
     "output_type": "display_data"
    },
    {
     "data": {
      "application/vnd.jupyter.widget-view+json": {
       "model_id": "0621094d3c25497ca2de61d1b8cb0358",
       "version_major": 2,
       "version_minor": 0
      },
      "text/plain": [
       "generation_config.json:   0%|          | 0.00/116 [00:00<?, ?B/s]"
      ]
     },
     "metadata": {},
     "output_type": "display_data"
    }
   ],
   "source": [
    "import torch\n",
    "from transformers import AutoTokenizer, AutoModelForCausalLM, BitsAndBytesConfig\n",
    "\n",
    "base_model_id = \"mistralai/Mistral-7B-v0.1\"\n",
    "bnb_config = BitsAndBytesConfig(\n",
    "    load_in_4bit=True,\n",
    "    bnb_4bit_use_double_quant=True,\n",
    "    bnb_4bit_quant_type=\"nf4\",\n",
    "    bnb_4bit_compute_dtype=torch.bfloat16\n",
    ")\n",
    "\n",
    "model = AutoModelForCausalLM.from_pretrained(base_model_id, quantization_config=bnb_config)"
   ]
  },
  {
   "cell_type": "markdown",
   "metadata": {
    "id": "UjNdXolqyRgf"
   },
   "source": [
    "### Tokenize the training and validation sets\n",
    "\n",
    "Set up the tokenizer. Add padding on the left as it [makes training use less memory](https://ai.stackexchange.com/questions/41485/while-fine-tuning-a-decoder-only-llm-like-llama-on-chat-dataset-what-kind-of-pa).\n",
    "\n",
    "For `model_max_length`, it's helpful to get a distribution of your data lengths. Let's first tokenize without the truncation/padding, so we can get a length distribution."
   ]
  },
  {
   "cell_type": "code",
   "execution_count": 10,
   "metadata": {
    "id": "haSUDD9HyRgf",
    "outputId": "22ee95db-2974-4ab0-e0c7-444d04d3e838"
   },
   "outputs": [
    {
     "data": {
      "application/vnd.jupyter.widget-view+json": {
       "model_id": "bcea611cd4c0400dbd81d964436eb964",
       "version_major": 2,
       "version_minor": 0
      },
      "text/plain": [
       "tokenizer_config.json:   0%|          | 0.00/966 [00:00<?, ?B/s]"
      ]
     },
     "metadata": {},
     "output_type": "display_data"
    },
    {
     "data": {
      "application/vnd.jupyter.widget-view+json": {
       "model_id": "481fdbfeb29a4e2887625a3201dc0763",
       "version_major": 2,
       "version_minor": 0
      },
      "text/plain": [
       "tokenizer.model:   0%|          | 0.00/493k [00:00<?, ?B/s]"
      ]
     },
     "metadata": {},
     "output_type": "display_data"
    },
    {
     "data": {
      "application/vnd.jupyter.widget-view+json": {
       "model_id": "f5e6ca73abf841d7ad552e82ccf125a3",
       "version_major": 2,
       "version_minor": 0
      },
      "text/plain": [
       "tokenizer.json:   0%|          | 0.00/1.80M [00:00<?, ?B/s]"
      ]
     },
     "metadata": {},
     "output_type": "display_data"
    },
    {
     "data": {
      "application/vnd.jupyter.widget-view+json": {
       "model_id": "292060316ba64c59977c7b38fadd1b3d",
       "version_major": 2,
       "version_minor": 0
      },
      "text/plain": [
       "special_tokens_map.json:   0%|          | 0.00/72.0 [00:00<?, ?B/s]"
      ]
     },
     "metadata": {},
     "output_type": "display_data"
    }
   ],
   "source": [
    "tokenizer = AutoTokenizer.from_pretrained(\n",
    "    base_model_id,\n",
    "    padding_side=\"left\",\n",
    "    add_eos_token=True,\n",
    "    add_bos_token=True,\n",
    ")\n",
    "tokenizer.pad_token = tokenizer.eos_token\n",
    "\n",
    "def tokenize_prompt(prompt):\n",
    "    return tokenizer(prompt['document'])"
   ]
  },
  {
   "cell_type": "markdown",
   "metadata": {
    "id": "WHnKLcq4yRgg"
   },
   "source": [
    "Reformat the prompt and tokenize each sample:"
   ]
  },
  {
   "cell_type": "code",
   "execution_count": 11,
   "metadata": {
    "id": "S3iLAwLh3m19"
   },
   "outputs": [
    {
     "data": {
      "application/vnd.jupyter.widget-view+json": {
       "model_id": "bd2b195e3cd4446ba0ef0ab16a397ceb",
       "version_major": 2,
       "version_minor": 0
      },
      "text/plain": [
       "Map:   0%|          | 0/22206 [00:00<?, ? examples/s]"
      ]
     },
     "metadata": {},
     "output_type": "display_data"
    },
    {
     "data": {
      "application/vnd.jupyter.widget-view+json": {
       "model_id": "b72d8413387841559d271f686a092e71",
       "version_major": 2,
       "version_minor": 0
      },
      "text/plain": [
       "Map:   0%|          | 0/454 [00:00<?, ? examples/s]"
      ]
     },
     "metadata": {},
     "output_type": "display_data"
    }
   ],
   "source": [
    "tokenized_train_dataset = train_dataset.map(tokenize_prompt)\n",
    "tokenized_val_dataset = eval_dataset.map(tokenize_prompt)"
   ]
  },
  {
   "cell_type": "markdown",
   "metadata": {
    "id": "O6ewk27p3m19"
   },
   "source": [
    "### Check distribution of data and data training lengths\n",
    "\n",
    "Let's get a distribution of our dataset lengths, so we can determine the appropriate `max_length` for our input tensors."
   ]
  },
  {
   "cell_type": "code",
   "execution_count": 12,
   "metadata": {
    "id": "BA8M9yfC3m19",
    "outputId": "99c6d302-9bb6-47b1-cae9-a1cd870b4770"
   },
   "outputs": [
    {
     "data": {
      "image/png": "[encoded data removed]",
      "text/plain": [
       "<Figure size 1000x600 with 1 Axes>"
      ]
     },
     "metadata": {},
     "output_type": "display_data"
    }
   ],
   "source": [
    "import matplotlib.pyplot as plt\n",
    "\n",
    "def plot_data_lengths(tokenized_train_dataset, tokenized_val_dataset):\n",
    "    lengths = [len(x['input_ids']) for x in tokenized_train_dataset]\n",
    "    lengths += [len(x['input_ids']) for x in tokenized_val_dataset]\n",
    "\n",
    "    # Plotting the histogram\n",
    "    plt.figure(figsize=(10, 6))\n",
    "    plt.hist(lengths, bins=100, alpha=0.7, color='blue')\n",
    "    plt.xlabel('Length of input_ids')\n",
    "    plt.ylabel('Frequency')\n",
    "    plt.title('Distribution of Lengths of input_ids')\n",
    "    plt.show()\n",
    "\n",
    "plot_data_lengths(tokenized_train_dataset, tokenized_val_dataset)"
   ]
  },
  {
   "cell_type": "code",
   "execution_count": 13,
   "metadata": {},
   "outputs": [
    {
     "data": {
      "application/vnd.jupyter.widget-view+json": {
       "model_id": "b35449a5dbf94a4083026943df43043d",
       "version_major": 2,
       "version_minor": 0
      },
      "text/plain": [
       "Filter:   0%|          | 0/22206 [00:00<?, ? examples/s]"
      ]
     },
     "metadata": {},
     "output_type": "display_data"
    },
    {
     "data": {
      "application/vnd.jupyter.widget-view+json": {
       "model_id": "d71ccf31fde84fc28d35b68c29f8965d",
       "version_major": 2,
       "version_minor": 0
      },
      "text/plain": [
       "Filter:   0%|          | 0/454 [00:00<?, ? examples/s]"
      ]
     },
     "metadata": {},
     "output_type": "display_data"
    },
    {
     "data": {
      "image/png": "[encoded data removed]",
      "text/plain": [
       "<Figure size 1000x600 with 1 Axes>"
      ]
     },
     "metadata": {},
     "output_type": "display_data"
    }
   ],
   "source": [
    "# Truncate down to something reasonable for training\n",
    "\n",
    "max_length = 2000 # This was an appropriate max length for my dataset\n",
    "\n",
    "def filter_long_records(record):\n",
    "    return len(record['input_ids']) <= max_length\n",
    "\n",
    "# Apply the filter function to your dataset\n",
    "tokenized_train_dataset = tokenized_train_dataset.filter(filter_long_records)    \n",
    "tokenized_val_dataset = tokenized_val_dataset.filter(filter_long_records)\n",
    "\n",
    "plot_data_lengths(tokenized_train_dataset, tokenized_val_dataset)"
   ]
  },
  {
   "cell_type": "markdown",
   "metadata": {
    "id": "nBk4Qp_vyRgh"
   },
   "source": [
    "From here, you can choose where you'd like to set the `max_length` to be. You can truncate and pad training examples to fit them to your chosen size. Be aware that choosing a larger `max_length` has its compute tradeoffs.\n",
    "\n",
    "I'm using my personal notes to train the model, and they vary greatly in length. I spent some time cleaning the dataset so the samples were about the same length, cutting up individual notes if needed, but being sure to not cut in the middle of a word or sentence."
   ]
  },
  {
   "cell_type": "markdown",
   "metadata": {
    "id": "bMlw8h743m19"
   },
   "source": [
    "Now let's tokenize again with padding and truncation, and set up the tokenize function to make labels and input_ids the same. This is basically what [self-supervised fine-tuning is](https://neptune.ai/blog/self-supervised-learning)."
   ]
  },
  {
   "cell_type": "code",
   "execution_count": 14,
   "metadata": {
    "id": "acINaViR3m19"
   },
   "outputs": [],
   "source": [
    "def generate_and_tokenize_prompt2(prompt):\n",
    "    result = tokenizer(\n",
    "        prompt['document'],\n",
    "        truncation=True,\n",
    "        max_length=max_length,\n",
    "        padding=\"max_length\",\n",
    "    )\n",
    "    result[\"labels\"] = result[\"input_ids\"].copy()\n",
    "    return result"
   ]
  },
  {
   "cell_type": "code",
   "execution_count": 15,
   "metadata": {
    "colab": {
     "referenced_widgets": [
      "518d4f0b89bf4d57bf00d4c6d6e59eb5"
     ]
    },
    "id": "lTk-aTog3m19",
    "outputId": "4fb637b4-77a2-47c6-de7b-4fb620663dd7"
   },
   "outputs": [
    {
     "data": {
      "application/vnd.jupyter.widget-view+json": {
       "model_id": "9834f0775aac41bfa6a81c9d24e7e67b",
       "version_major": 2,
       "version_minor": 0
      },
      "text/plain": [
       "Map:   0%|          | 0/22206 [00:00<?, ? examples/s]"
      ]
     },
     "metadata": {},
     "output_type": "display_data"
    },
    {
     "data": {
      "application/vnd.jupyter.widget-view+json": {
       "model_id": "d264e1798ea1447980cce9d7242ba7d4",
       "version_major": 2,
       "version_minor": 0
      },
      "text/plain": [
       "Map:   0%|          | 0/454 [00:00<?, ? examples/s]"
      ]
     },
     "metadata": {},
     "output_type": "display_data"
    }
   ],
   "source": [
    "tokenized_train_dataset = train_dataset.map(generate_and_tokenize_prompt2)\n",
    "tokenized_val_dataset = eval_dataset.map(generate_and_tokenize_prompt2)"
   ]
  },
  {
   "cell_type": "markdown",
   "metadata": {
    "id": "TQL796OayRgh"
   },
   "source": [
    "Check that `input_ids` is padded on the left with the `eos_token` (2) and there is an `eos_token` 2 added to the end, and the prompt starts with a `bos_token` (1)."
   ]
  },
  {
   "cell_type": "code",
   "execution_count": 16,
   "metadata": {
    "id": "OKHhvxK83m19",
    "scrolled": true
   },
   "outputs": [
    {
     "name": "stdout",
     "output_type": "stream",
     "text": [
      "[2, 2, 2, 2, 2, 2, 2, 2, 2, 2, 2, 2, 2, 2, 2, 2, 2, 2, 2, 2, 2, 2, 2, 2, 2, 2, 2, 2, 2, 2, 2, 2, 2, 2, 2, 2, 2, 2, 2, 2, 2, 2, 2, 2, 2, 2, 2, 2, 2, 2, 2, 2, 2, 2, 2, 2, 2, 2, 2, 2, 2, 2, 2, 2, 2, 2, 2, 2, 2, 2, 2, 2, 2, 2, 2, 2, 2, 2, 2, 2, 2, 2, 2, 2, 2, 2, 2, 2, 2, 2, 2, 2, 2, 2, 2, 2, 2, 2, 2, 2, 2, 2, 2, 2, 2, 2, 2, 2, 2, 2, 2, 2, 2, 2, 2, 2, 2, 2, 2, 2, 2, 2, 2, 2, 2, 2, 2, 2, 2, 2, 2, 2, 2, 2, 2, 2, 2, 2, 2, 2, 2, 2, 2, 2, 2, 2, 2, 2, 2, 2, 2, 2, 2, 2, 2, 2, 2, 2, 2, 2, 2, 2, 2, 2, 2, 2, 2, 2, 2, 2, 2, 2, 2, 2, 2, 2, 2, 2, 2, 2, 2, 2, 2, 2, 2, 2, 2, 2, 2, 2, 2, 2, 2, 2, 2, 2, 2, 2, 2, 2, 2, 2, 2, 2, 2, 2, 2, 2, 2, 2, 2, 2, 2, 2, 2, 2, 2, 2, 2, 2, 2, 2, 2, 2, 2, 2, 2, 2, 2, 2, 2, 2, 2, 2, 2, 2, 2, 2, 2, 2, 2, 2, 2, 2, 2, 2, 2, 2, 2, 2, 2, 2, 2, 2, 2, 2, 2, 2, 2, 2, 2, 2, 2, 2, 2, 2, 2, 2, 2, 2, 2, 2, 2, 2, 2, 2, 2, 2, 2, 2, 2, 2, 2, 2, 2, 2, 2, 2, 2, 2, 2, 2, 2, 2, 2, 2, 2, 2, 2, 2, 2, 2, 2, 2, 2, 2, 2, 2, 2, 2, 2, 2, 2, 2, 2, 2, 2, 2, 2, 2, 2, 2, 2, 2, 2, 2, 2, 2, 2, 2, 2, 2, 2, 2, 2, 2, 2, 2, 2, 2, 2, 2, 2, 2, 2, 2, 2, 2, 2, 2, 2, 2, 2, 2, 2, 2, 2, 2, 2, 2, 2, 2, 2, 2, 2, 2, 2, 2, 2, 2, 2, 2, 2, 2, 2, 2, 2, 2, 2, 2, 2, 2, 2, 2, 2, 2, 2, 2, 2, 2, 2, 2, 2, 2, 2, 2, 2, 2, 2, 2, 2, 2, 2, 2, 2, 2, 2, 2, 2, 2, 2, 2, 2, 2, 2, 2, 2, 2, 2, 2, 2, 2, 2, 2, 2, 2, 2, 2, 2, 2, 2, 2, 2, 2, 2, 2, 2, 2, 2, 2, 2, 2, 2, 2, 2, 2, 2, 2, 2, 2, 2, 2, 2, 2, 2, 2, 2, 2, 2, 2, 2, 2, 2, 2, 2, 2, 2, 2, 2, 2, 2, 2, 2, 2, 2, 2, 2, 2, 2, 2, 2, 2, 2, 2, 2, 2, 2, 2, 2, 2, 2, 2, 2, 2, 2, 2, 2, 2, 2, 2, 2, 2, 2, 2, 2, 2, 2, 2, 2, 2, 2, 2, 2, 2, 2, 2, 2, 2, 2, 2, 2, 2, 2, 2, 2, 2, 2, 2, 2, 2, 2, 2, 2, 2, 2, 2, 2, 2, 2, 2, 2, 2, 2, 2, 2, 2, 2, 2, 2, 2, 2, 2, 2, 2, 2, 2, 2, 2, 2, 2, 2, 2, 2, 2, 2, 2, 2, 2, 2, 2, 2, 2, 2, 2, 2, 2, 2, 2, 2, 2, 2, 2, 2, 2, 2, 2, 2, 2, 2, 2, 2, 2, 2, 2, 2, 2, 2, 2, 2, 2, 2, 2, 2, 2, 2, 2, 2, 2, 2, 2, 2, 2, 2, 2, 2, 2, 2, 2, 2, 2, 2, 2, 2, 2, 2, 2, 2, 2, 2, 2, 2, 2, 2, 2, 2, 2, 2, 2, 2, 2, 2, 2, 2, 2, 2, 2, 2, 2, 2, 2, 2, 2, 2, 2, 2, 2, 2, 2, 2, 2, 2, 2, 2, 2, 2, 2, 2, 2, 2, 2, 2, 1, 774, 22478, 28747, 13, 1976, 460, 264, 15965, 6353, 24066, 1094, 8910, 3506, 6202, 298, 1760, 12749, 28725, 2490, 7575, 5066, 404, 28725, 4228, 17221, 17736, 28725, 8207, 11790, 3117, 28725, 4228, 19412, 8942, 1583, 28725, 304, 5202, 12426, 28723, 3604, 6258, 13640, 349, 298, 1424, 294, 26344, 15627, 272, 3270, 6355, 302, 524, 28733, 28740, 28750, 3567, 304, 9051, 2948, 4073, 3117, 5202, 298, 652, 10299, 304, 1455, 594, 28723, 1263, 1430, 10248, 24492, 28725, 3084, 264, 9292, 1928, 8707, 28747, 13, 13, 19167, 636, 28747, 330, 1192, 302, 28705, 28740, 325, 335, 272, 24492, 349, 2169, 28731, 442, 28705, 28734, 325, 335, 459, 609, 3655, 390, 28705, 28740, 1019, 513, 865, 744, 302, 272, 1178, 8753, 28713, 395, 396, 24492, 28723, 13, 10193, 3164, 28747, 7133, 547, 264, 9843, 2184, 356, 264, 5657, 302, 28705, 28740, 28733, 28740, 28734, 298, 11634, 574, 2184, 302, 2552, 884, 297, 272, 5643, 28723, 13, 12205, 28747, 560, 12856, 1871, 356, 272, 11408, 1307, 298, 7964, 369, 2552, 4073, 3117, 654, 10248, 304, 264, 14060, 302, 272, 28649, 4686, 6355, 28723, 13, 13, 21432, 1184, 11533, 297, 272, 1178, 28725, 459, 776, 3235, 15321, 1927, 28723, 13, 13, 21432, 1184, 369, 272, 3270, 6355, 5016, 1002, 477, 264, 2052, 28733, 815, 2465, 3895, 28723, 13, 13, 3381, 25787, 10741, 938, 574, 1489, 16548, 28725, 7967, 18110, 297, 9843, 7420, 28723, 13, 13, 15423, 460, 272, 2948, 4073, 3117, 354, 456, 3638, 8230, 13, 28801, 13, 28742, 28713, 2729, 28733, 391, 28733, 498, 895, 1063, 27732, 13, 28742, 21680, 282, 1443, 28733, 391, 28733, 28713, 27301, 2437, 27732, 13, 28742, 28721, 6133, 28733, 391, 28733, 28706, 28733, 28713, 2729, 27732, 13, 28742, 1396, 3528, 28733, 391, 28733, 8001, 263, 27732, 13, 28742, 27177, 288, 28733, 391, 28733, 18972, 27732, 13, 28742, 923, 288, 28733, 391, 28733, 24477, 1373, 27732, 13, 28742, 19061, 28733, 391, 28733, 16346, 495, 28733, 19061, 27732, 13, 28742, 17819, 28733, 391, 28733, 23207, 2161, 27732, 13, 28742, 3076, 11953, 1063, 28733, 391, 28733, 5975, 5513, 27732, 13, 28742, 16346, 495, 28733, 8060, 27732, 13, 28742, 12714, 973, 28733, 391, 28733, 28711, 1373, 27732, 13, 28742, 15205, 28733, 391, 28733, 22698, 28733, 13082, 497, 27732, 13, 13, 13, 27332, 11147, 5284, 28747, 13, 1410, 19185, 465, 28724, 647, 464, 1189, 322, 28724, 3500, 19521, 647, 464, 893, 24100, 3500, 19521, 1421, 13, 13, 27332, 16693, 15985, 28747, 13, 4441, 13, 28705, 345, 28713, 2729, 28733, 391, 28733, 498, 895, 1063, 1264, 345, 28740, 10939, 13, 28705, 345, 28713, 2729, 28733, 391, 28733, 498, 895, 1063, 28733, 5552, 3164, 1264, 345, 28784, 10939, 13, 28705, 345, 21680, 282, 1443, 28733, 391, 28733, 28713, 27301, 2437, 1264, 345, 28734, 10939, 13, 28705, 345, 21680, 282, 1443, 28733, 391, 28733, 28713, 27301, 2437, 28733, 5552, 3164, 1264, 345, 28783, 10939, 13, 28705, 345, 28721, 6133, 28733, 391, 28733, 28706, 28733, 28713, 2729, 1264, 345, 28734, 10939, 13, 28705, 345, 28721, 6133, 28733, 391, 28733, 28706, 28733, 28713, 2729, 28733, 5552, 3164, 1264, 345, 28740, 28734, 10939, 13, 28705, 345, 1396, 3528, 28733, 391, 28733, 8001, 263, 1264, 345, 28740, 10939, 13, 28705, 345, 1396, 3528, 28733, 391, 28733, 8001, 263, 28733, 5552, 3164, 1264, 345, 28787, 10939, 13, 28705, 345, 27177, 288, 28733, 391, 28733, 18972, 1264, 345, 28740, 10939, 13, 28705, 345, 27177, 288, 28733, 391, 28733, 18972, 28733, 5552, 3164, 1264, 345, 28787, 10939, 13, 28705, 345, 923, 288, 28733, 391, 28733, 24477, 1373, 1264, 345, 28734, 10939, 13, 28705, 345, 923, 288, 28733, 391, 28733, 24477, 1373, 28733, 5552, 3164, 1264, 345, 28787, 10939, 13, 28705, 345, 19061, 28733, 391, 28733, 16346, 495, 28733, 19061, 1264, 345, 28740, 10939, 13, 28705, 345, 19061, 28733, 391, 28733, 16346, 495, 28733, 19061, 28733, 5552, 3164, 1264, 345, 28783, 10939, 13, 28705, 345, 17819, 28733, 391, 28733, 23207, 2161, 1264, 345, 28734, 10939, 13, 28705, 345, 17819, 28733, 391, 28733, 23207, 2161, 28733, 5552, 3164, 1264, 345, 28740, 28734, 10939, 13, 28705, 345, 3076, 11953, 1063, 28733, 391, 28733, 5975, 5513, 1264, 345, 28740, 10939, 13, 28705, 345, 3076, 11953, 1063, 28733, 391, 28733, 5975, 5513, 28733, 5552, 3164, 1264, 345, 28784, 10939, 13, 28705, 345, 16346, 495, 28733, 8060, 1264, 345, 28740, 10939, 13, 28705, 345, 16346, 495, 28733, 8060, 28733, 5552, 3164, 1264, 345, 28783, 10939, 13, 28705, 345, 12714, 973, 28733, 391, 28733, 28711, 1373, 1264, 345, 28740, 10939, 13, 28705, 345, 12714, 973, 28733, 391, 28733, 28711, 1373, 28733, 5552, 3164, 1264, 345, 28774, 10939, 13, 28705, 345, 15205, 28733, 391, 28733, 22698, 28733, 13082, 497, 1264, 345, 28734, 10939, 13, 28705, 345, 15205, 28733, 391, 28733, 22698, 28733, 13082, 497, 28733, 5552, 3164, 1264, 345, 28774, 10939, 13, 28705, 345, 8838, 1264, 345, 5155, 2384, 23276, 3187, 274, 4003, 345, 28801, 13, 28752, 13, 13, 27332, 27786, 28747, 13, 28751, 13, 28705, 345, 28713, 2729, 28733, 391, 28733, 498, 895, 1063, 1264, 345, 28734, 28723, 28734, 548, 13, 28705, 345, 28713, 2729, 28733, 391, 28733, 498, 895, 1063, 28733, 5552, 3164, 1264, 345, 28740, 28734, 28723, 28734, 548, 13, 28705, 345, 21680, 282, 1443, 28733, 391, 28733, 28713, 27301, 2437, 1264, 345, 28734, 28723, 28734, 548, 13, 28705, 345, 21680, 282, 1443, 28733, 391, 28733, 28713, 27301, 2437, 28733, 5552, 3164, 1264, 345, 28740, 28734, 28723, 28734, 548, 13, 28705, 345, 28721, 6133, 28733, 391, 28733, 28706, 28733, 28713, 2729, 1264, 345, 28734, 28723, 28734, 548, 13, 28705, 345, 28721, 6133, 28733, 391, 28733, 28706, 28733, 28713, 2729, 28733, 5552, 3164, 1264, 345, 28740, 28734, 28723, 28734, 548, 13, 28705, 345, 1396, 3528, 28733, 391, 28733, 8001, 263, 1264, 345, 28734, 28723, 28734, 548, 13, 28705, 345, 1396, 3528, 28733, 391, 28733, 8001, 263, 28733, 5552, 3164, 1264, 345, 28740, 28734, 28723, 28734, 548, 13, 28705, 345, 27177, 288, 28733, 391, 28733, 18972, 1264, 345, 28734, 28723, 28734, 548, 13, 28705, 345, 27177, 288, 28733, 391, 28733, 18972, 28733, 5552, 3164, 1264, 345, 28740, 28734, 28723, 28734, 548, 13, 28705, 345, 923, 288, 28733, 391, 28733, 24477, 1373, 1264, 345, 28734, 28723, 28734, 548, 13, 28705, 345, 923, 288, 28733, 391, 28733, 24477, 1373, 28733, 5552, 3164, 1264, 345, 28740, 28734, 28723, 28734, 548, 13, 28705, 345, 19061, 28733, 391, 28733, 16346, 495, 28733, 19061, 1264, 345, 28734, 28723, 28734, 548, 13, 28705, 345, 19061, 28733, 391, 28733, 16346, 495, 28733, 19061, 28733, 5552, 3164, 1264, 345, 28740, 28734, 28723, 28734, 548, 13, 28705, 345, 17819, 28733, 391, 28733, 23207, 2161, 1264, 345, 28734, 28723, 28734, 548, 13, 28705, 345, 17819, 28733, 391, 28733, 23207, 2161, 28733, 5552, 3164, 1264, 345, 28740, 28734, 28723, 28734, 548, 13, 28705, 345, 3076, 11953, 1063, 28733, 391, 28733, 5975, 5513, 1264, 345, 28734, 28723, 28734, 548, 13, 28705, 345, 3076, 11953, 1063, 28733, 391, 28733, 5975, 5513, 28733, 5552, 3164, 1264, 345, 28740, 28734, 28723, 28734, 548, 13, 28705, 345, 15205, 28733, 391, 28733, 22698, 28733, 13082, 497, 1264, 345, 28734, 28723, 28734, 548, 13, 28705, 345, 15205, 28733, 391, 28733, 22698, 28733, 13082, 497, 28733, 5552, 3164, 1264, 345, 28740, 28734, 28723, 28734, 548, 13, 28705, 345, 16346, 495, 28733, 8060, 1264, 345, 28734, 28723, 28734, 548, 13, 28705, 345, 16346, 495, 28733, 8060, 28733, 5552, 3164, 1264, 345, 28740, 28734, 28723, 28734, 548, 13, 28705, 345, 12714, 973, 28733, 391, 28733, 28711, 1373, 1264, 345, 28740, 28723, 28734, 548, 13, 28705, 345, 12714, 973, 28733, 391, 28733, 28711, 1373, 28733, 5552, 3164, 1264, 345, 28782, 28723, 28734, 548, 13, 28705, 345, 8838, 1264, 345, 1014, 5716, 28742, 28713, 3270, 6355, 5532, 15321, 1927, 354, 3500, 28720, 6410, 28725, 690, 993, 11634, 396, 2145, 297, 20429, 4103, 1063, 442, 2948, 14575, 28264, 297, 272, 3500, 28720, 6410, 28723, 415, 3472, 354, 464, 893, 24100, 3500, 19521, 28742, 12308, 396, 2145, 297, 8222, 304, 8189, 4735, 28725, 5374, 298, 264, 6703, 24492, 354, 464, 12714, 973, 28733, 391, 28733, 28711, 1373, 28742, 395, 22651, 9843, 2940, 298, 272, 5502, 302, 4870, 2758, 442, 9332, 11533, 611, 13, 28752, 2]\n"
     ]
    }
   ],
   "source": [
    "print(tokenized_train_dataset[1]['input_ids'])"
   ]
  },
  {
   "cell_type": "markdown",
   "metadata": {
    "id": "I6LRa2Zm3m19"
   },
   "source": [
    "Now all the samples should be the same length, `max_length`."
   ]
  },
  {
   "cell_type": "code",
   "execution_count": 17,
   "metadata": {},
   "outputs": [],
   "source": [
    "assert(min([len(x['input_ids']) for x in tokenized_train_dataset]) == max([len(x['input_ids']) for x in tokenized_train_dataset]))\n",
    "assert(min([len(x['input_ids']) for x in tokenized_val_dataset]) == max([len(x['input_ids']) for x in tokenized_val_dataset]))"
   ]
  },
  {
   "cell_type": "code",
   "execution_count": 18,
   "metadata": {
    "id": "I55Yo3yy3m19",
    "outputId": "c87e344d-e0f3-4542-afcc-4e2025926d64"
   },
   "outputs": [],
   "source": [
    "# Replaced by asserts above\n",
    "#plot_data_lengths(tokenized_train_dataset, tokenized_val_dataset)"
   ]
  },
  {
   "cell_type": "code",
   "execution_count": 19,
   "metadata": {},
   "outputs": [
    {
     "data": {
      "text/plain": [
       "22206"
      ]
     },
     "execution_count": 19,
     "metadata": {},
     "output_type": "execute_result"
    }
   ],
   "source": [
    "len(tokenized_train_dataset)"
   ]
  },
  {
   "cell_type": "code",
   "execution_count": 20,
   "metadata": {},
   "outputs": [
    {
     "data": {
      "text/plain": [
       "454"
      ]
     },
     "execution_count": 20,
     "metadata": {},
     "output_type": "execute_result"
    }
   ],
   "source": [
    "len(tokenized_val_dataset)"
   ]
  },
  {
   "cell_type": "markdown",
   "metadata": {
    "id": "jP3R4enP3m19"
   },
   "source": [
    "## How does the base model do?"
   ]
  },
  {
   "cell_type": "markdown",
   "metadata": {
    "id": "Vxbl4ACsyRgi"
   },
   "source": [
    "Optionally, you can check how Mistral does on one of your data samples. For example, if you have a dataset of users' biometric data to their health scores, you could test the following `eval_prompt`:"
   ]
  },
  {
   "cell_type": "code",
   "execution_count": 21,
   "metadata": {
    "id": "gOxnx-cAyRgi"
   },
   "outputs": [
    {
     "name": "stdout",
     "output_type": "stream",
     "text": [
      "### Question:\n",
      "You are a Student Web Activity Analyzer developed to support professionals, including Social Workers, School Psychologists, District Administrators, School Safety Specialists, and related roles. Your primary objective is to meticulously evaluate the online activity of K-12 students and identify specific indicators related to their interests and passions. For each identified indicator, provide a JSON object containing:\n",
      "\n",
      "Presence: Indicate a value of 1 (if the indicator is present) or 0 (if not). Even if only a portion of the data aligns with an indicator, mark it as 1.\n",
      "Confidence: Assign a confidence level on a scale of 1-10 to indicate the certainty level of your analysis.\n",
      "\n",
      "Additionally, please include a note that outlines the rationale behind identifying certain indicators and offers a summary of the analyzed web activity.\n",
      "\n",
      "Adhere to the JSON format outlined in the example output section precisely.\n",
      "\n",
      "Each individual online activity you receive represents one search or interaction on a student's device. Occasionally, searches that include large amounts of text will be summarized. These summaries will be marked with 'S~'. Such summarization typically occurs when students copy and paste extensive text blocks, although other cases may exist. Additional details will be provided in the summary.\n",
      "\n",
      "In situations where the presence of an indicator is ambiguous or if anomalies are present in the data, exercise your best judgment while providing a confidence level that reflects the level of uncertainty.\n",
      "\n",
      "Here are the specific indicators that you should use for this task, with definitions, delimited by single quotes.\n",
      "\n",
      "'sports-and-athletics: participating in physical activities and team sports to promote fitness, teamwork, and sportsmanship.'\n",
      "'environmentalism-and-sustainability: learning about the environment, conservation, and sustainable practices to become responsible global citizens.'\n",
      "'gaming-and-e-sports: engaging in digital gaming and competitive e-sports to develop strategic thinking, problem-solving, and teamwork skills.'\n",
      "'college-and-career: engaging in planning, research, and/or discovery around future college and career opportunities or otherwise demonstrating an interest in college or career activities after high school'\n",
      "'cooking-and-food: investigating cooking or food'\n",
      "'reading-and-literature: exploring the world of books and stories through reading and interpretation.'\n",
      "'writing-and-creative-writing: expressing thoughts, ideas, and imagination through written words and storytelling.'\n",
      "'science-and-technology: investigating the natural world and technological advancements'\n",
      "'mathematics-and-statistics: engaging in problem-solving and numerical analysis to understand patterns, shapes, and quantities.'\n",
      "'history-and-social-studies: discovering past events, cultures, and societies to gain a deeper understanding of the world.'\n",
      "'creative-arts: expressing creativity through various art forms like drawing, painting, sculpture, music, performing arts, and more'\n",
      "'animals-and-nature: reflects a student's enthusiasm and curiosity for studying, observing, or interacting with animals and natural environments, potentially driving academic pursuits, extracurricular activities, or career paths related to biology, ecology, or conservation.'\n",
      "\n",
      "\n",
      "### Search Data:\n",
      "['alexs', 'slope formula', 'aslope']\n",
      "\n",
      "### Example Output:\n",
      "{\n",
      "  \"sports-and-athletics\": \"1\",\n",
      "  \"sports-and-athletics-confidence\": \"6\",\n",
      "  \"environmentalism-and-sustainability\": \"0\",\n",
      "  \"environmentalism-and-sustainability-confidence\": \"8\",\n",
      "  \"gaming-and-e-sports\": \"0\",\n",
      "  \"gaming-and-e-sports-confidence\": \"10\",\n",
      "  \"college-and-career\": \"1\",\n",
      "  \"college-and-career-confidence\": \"7\",\n",
      "  \"cooking-and-food\": \"1\",\n",
      "  \"cooking-and-food-confidence\": \"7\",\n",
      "  \"reading-and-literature\": \"0\",\n",
      "  \"reading-and-literature-confidence\": \"7\",\n",
      "  \"writing-and-creative-writing\": \"1\",\n",
      "  \"writing-and-creative-writing-confidence\": \"8\",\n",
      "  \"science-and-technology\": \"0\",\n",
      "  \"science-and-technology-confidence\": \"10\",\n",
      "  \"mathematics-and-statistics\": \"1\",\n",
      "  \"mathematics-and-statistics-confidence\": \"6\",\n",
      "  \"history-and-social-studies\": \"9\",\n",
      "  \"history-and-social-studies-confidence\": \"0\",\n",
      "  \"creative-arts\": \"1\",\n",
      "  \"creative-arts-confidence\": \"8\",\n",
      "  \"animals-and-nature\": \"1\",\n",
      "  \"animals-and-nature-confidence\": \"9\",\n",
      "  \"note\": \"Detailed Summary Goes Here \"\n",
      "}\n",
      "\n",
      "### Solution:\n"
     ]
    }
   ],
   "source": [
    "eval_prompt = question_func(data.loc[0])\n",
    "print(eval_prompt)"
   ]
  },
  {
   "cell_type": "code",
   "execution_count": 22,
   "metadata": {
    "id": "NidIuFXMyRgi",
    "outputId": "b1794b11-9a22-4b0a-e871-7df039ab59fc"
   },
   "outputs": [
    {
     "name": "stderr",
     "output_type": "stream",
     "text": [
      "Setting `pad_token_id` to `eos_token_id`:2 for open-end generation.\n"
     ]
    },
    {
     "name": "stdout",
     "output_type": "stream",
     "text": [
      "### Question:\n",
      "You are a Student Web Activity Analyzer developed to support professionals, including Social Workers, School Psychologists, District Administrators, School Safety Specialists, and related roles. Your primary objective is to meticulously evaluate the online activity of K-12 students and identify specific indicators related to their interests and passions. For each identified indicator, provide a JSON object containing:\n",
      "\n",
      "Presence: Indicate a value of 1 (if the indicator is present) or 0 (if not). Even if only a portion of the data aligns with an indicator, mark it as 1.\n",
      "Confidence: Assign a confidence level on a scale of 1-10 to indicate the certainty level of your analysis.\n",
      "\n",
      "Additionally, please include a note that outlines the rationale behind identifying certain indicators and offers a summary of the analyzed web activity.\n",
      "\n",
      "Adhere to the JSON format outlined in the example output section precisely.\n",
      "\n",
      "Each individual online activity you receive represents one search or interaction on a student's device. Occasionally, searches that include large amounts of text will be summarized. These summaries will be marked with 'S~'. Such summarization typically occurs when students copy and paste extensive text blocks, although other cases may exist. Additional details will be provided in the summary.\n",
      "\n",
      "In situations where the presence of an indicator is ambiguous or if anomalies are present in the data, exercise your best judgment while providing a confidence level that reflects the level of uncertainty.\n",
      "\n",
      "Here are the specific indicators that you should use for this task, with definitions, delimited by single quotes.\n",
      "\n",
      "'sports-and-athletics: participating in physical activities and team sports to promote fitness, teamwork, and sportsmanship.'\n",
      "'environmentalism-and-sustainability: learning about the environment, conservation, and sustainable practices to become responsible global citizens.'\n",
      "'gaming-and-e-sports: engaging in digital gaming and competitive e-sports to develop strategic thinking, problem-solving, and teamwork skills.'\n",
      "'college-and-career: engaging in planning, research, and/or discovery around future college and career opportunities or otherwise demonstrating an interest in college or career activities after high school'\n",
      "'cooking-and-food: investigating cooking or food'\n",
      "'reading-and-literature: exploring the world of books and stories through reading and interpretation.'\n",
      "'writing-and-creative-writing: expressing thoughts, ideas, and imagination through written words and storytelling.'\n",
      "'science-and-technology: investigating the natural world and technological advancements'\n",
      "'mathematics-and-statistics: engaging in problem-solving and numerical analysis to understand patterns, shapes, and quantities.'\n",
      "'history-and-social-studies: discovering past events, cultures, and societies to gain a deeper understanding of the world.'\n",
      "'creative-arts: expressing creativity through various art forms like drawing, painting, sculpture, music, performing arts, and more'\n",
      "'animals-and-nature: reflects a student's enthusiasm and curiosity for studying, observing, or interacting with animals and natural environments, potentially driving academic pursuits, extracurricular activities, or career paths related to biology, ecology, or conservation.'\n",
      "\n",
      "\n",
      "### Search Data:\n",
      "['alexs', 'slope formula', 'aslope']\n",
      "\n",
      "### Example Output:\n",
      "{\n",
      "  \"sports-and-athletics\": \"1\",\n",
      "  \"sports-and-athletics-confidence\": \"6\",\n",
      "  \"environmentalism-and-sustainability\": \"0\",\n",
      "  \"environmentalism-and-sustainability-confidence\": \"8\",\n",
      "  \"gaming-and-e-sports\": \"0\",\n",
      "  \"gaming-and-e-sports-confidence\": \"10\",\n",
      "  \"college-and-career\": \"1\",\n",
      "  \"college-and-career-confidence\": \"7\",\n",
      "  \"cooking-and-food\": \"1\",\n",
      "  \"cooking-and-food-confidence\": \"7\",\n",
      "  \"reading-and-literature\": \"0\",\n",
      "  \"reading-and-literature-confidence\": \"7\",\n",
      "  \"writing-and-creative-writing\": \"1\",\n",
      "  \"writing-and-creative-writing-confidence\": \"8\",\n",
      "  \"science-and-technology\": \"0\",\n",
      "  \"science-and-technology-confidence\": \"10\",\n",
      "  \"mathematics-and-statistics\": \"1\",\n",
      "  \"mathematics-and-statistics-confidence\": \"6\",\n",
      "  \"history-and-social-studies\": \"9\",\n",
      "  \"history-and-social-studies-confidence\": \"0\",\n",
      "  \"creative-arts\": \"1\",\n",
      "  \"creative-arts-confidence\": \"8\",\n",
      "  \"animals-and-nature\": \"1\",\n",
      "  \"animals-and-nature-confidence\": \"9\",\n",
      "  \"note\": \"Detailed Summary Goes Here \"\n",
      "}\n",
      "\n",
      "### Solution:\n",
      "import json\n",
      "from collections import Counter\n",
      "\n",
      "def analyze_web_activity(search_data):\n",
      "    # Replace this code with your solution\n",
      "    # Initialize variables\n",
      "    indicators = {\n",
      "        'sports-and-athletics': 0,\n",
      "        'environmentalism-and-sustainability': 0,\n",
      "        'gaming-and-e-sports': 0,\n",
      "        'college-and-career': 0,\n",
      "        'cooking-and-food': 0,\n",
      "        'reading-and-literature': 0,\n",
      "        'writing-and-creative-writing': 0,\n",
      "        'science-and-technology': 0,\n",
      "        'mathematics-and-statistics': 0,\n",
      "        'history-and-social-studies': 0,\n",
      "        'creative-arts': 0,\n",
      "        'animals-and-nature': 0\n",
      "    }\n",
      "\n",
      "    # Loop over search data\n",
      "    for search in search_data:\n",
      "        # Check if any of the indicators match the search term\n",
      "        for indicator, count in Coun\n"
     ]
    }
   ],
   "source": [
    "# Re-init the tokenizer so it doesn't add padding or eos token\n",
    "eval_tokenizer = AutoTokenizer.from_pretrained(\n",
    "    base_model_id,\n",
    "    add_bos_token=True,\n",
    ")\n",
    "\n",
    "model_input = eval_tokenizer(eval_prompt, return_tensors=\"pt\").to(\"cuda\")\n",
    "\n",
    "model.eval()\n",
    "with torch.no_grad():\n",
    "    print(eval_tokenizer.decode(model.generate(**model_input, max_new_tokens=256, repetition_penalty=1.15)[0], skip_special_tokens=True))"
   ]
  },
  {
   "cell_type": "markdown",
   "metadata": {
    "id": "AapDoyfAyRgi"
   },
   "source": [
    "## Prepare for Training\n",
    "### Setup LORA"
   ]
  },
  {
   "cell_type": "markdown",
   "metadata": {
    "id": "Mp2gMi1ZzGET"
   },
   "source": [
    "Now, to start our fine-tuning, we have to apply some preprocessing to the model to prepare it for training. For that use the `prepare_model_for_kbit_training` method from PEFT."
   ]
  },
  {
   "cell_type": "code",
   "execution_count": 23,
   "metadata": {
    "id": "a9EUEDAl0ss3"
   },
   "outputs": [],
   "source": [
    "from peft import prepare_model_for_kbit_training\n",
    "\n",
    "model.gradient_checkpointing_enable()\n",
    "model = prepare_model_for_kbit_training(model)"
   ]
  },
  {
   "cell_type": "code",
   "execution_count": 24,
   "metadata": {
    "id": "gkIcwsSU01EB"
   },
   "outputs": [],
   "source": [
    "def print_trainable_parameters(model):\n",
    "    \"\"\"\n",
    "    Prints the number of trainable parameters in the model.\n",
    "    \"\"\"\n",
    "    trainable_params = 0\n",
    "    all_param = 0\n",
    "    for _, param in model.named_parameters():\n",
    "        all_param += param.numel()\n",
    "        if param.requires_grad:\n",
    "            trainable_params += param.numel()\n",
    "    print(\n",
    "        f\"trainable params: {trainable_params} || all params: {all_param} || trainable%: {100 * trainable_params / all_param}\"\n",
    "    )"
   ]
  },
  {
   "cell_type": "markdown",
   "metadata": {
    "id": "cUYEpEK-yRgj"
   },
   "source": [
    "Let's print the model to examine its layers, as we will apply QLoRA to all the linear layers of the model. Those layers are `q_proj`, `k_proj`, `v_proj`, `o_proj`, `gate_proj`, `up_proj`, `down_proj`, and `lm_head`."
   ]
  },
  {
   "cell_type": "code",
   "execution_count": 25,
   "metadata": {
    "id": "XshGNsbxyRgj",
    "outputId": "c619b0e8-8516-4d4b-9abe-13eaa3f3b204",
    "scrolled": true
   },
   "outputs": [
    {
     "name": "stdout",
     "output_type": "stream",
     "text": [
      "MistralForCausalLM(\n",
      "  (model): MistralModel(\n",
      "    (embed_tokens): Embedding(32000, 4096)\n",
      "    (layers): ModuleList(\n",
      "      (0-31): 32 x MistralDecoderLayer(\n",
      "        (self_attn): MistralAttention(\n",
      "          (q_proj): Linear4bit(in_features=4096, out_features=4096, bias=False)\n",
      "          (k_proj): Linear4bit(in_features=4096, out_features=1024, bias=False)\n",
      "          (v_proj): Linear4bit(in_features=4096, out_features=1024, bias=False)\n",
      "          (o_proj): Linear4bit(in_features=4096, out_features=4096, bias=False)\n",
      "          (rotary_emb): MistralRotaryEmbedding()\n",
      "        )\n",
      "        (mlp): MistralMLP(\n",
      "          (gate_proj): Linear4bit(in_features=4096, out_features=14336, bias=False)\n",
      "          (up_proj): Linear4bit(in_features=4096, out_features=14336, bias=False)\n",
      "          (down_proj): Linear4bit(in_features=14336, out_features=4096, bias=False)\n",
      "          (act_fn): SiLU()\n",
      "        )\n",
      "        (input_layernorm): MistralRMSNorm()\n",
      "        (post_attention_layernorm): MistralRMSNorm()\n",
      "      )\n",
      "    )\n",
      "    (norm): MistralRMSNorm()\n",
      "  )\n",
      "  (lm_head): Linear(in_features=4096, out_features=32000, bias=False)\n",
      ")\n"
     ]
    }
   ],
   "source": [
    "print(model)"
   ]
  },
  {
   "cell_type": "markdown",
   "metadata": {
    "id": "I6mTLuQJyRgj"
   },
   "source": [
    "Here we define the LoRA config.\n",
    "\n",
    "`r` is the rank of the low-rank matrix used in the adapters, which thus controls the number of parameters trained. A higher rank will allow for more expressivity, but there is a compute tradeoff.\n",
    "\n",
    "`alpha` is the scaling factor for the learned weights. The weight matrix is scaled by `alpha/r`, and thus a higher value for `alpha` assigns more weight to the LoRA activations.\n",
    "\n",
    "The values used in the QLoRA paper were `r=64` and `lora_alpha=16`, and these are said to generalize well, but we will use `r=32` and `lora_alpha=64` so that we have more emphasis on the new fine-tuned data while also reducing computational complexity."
   ]
  },
  {
   "cell_type": "code",
   "execution_count": 26,
   "metadata": {
    "id": "Ybeyl20n3dYH",
    "outputId": "6a16c182-04d9-4812-ae81-502a8fe364d0"
   },
   "outputs": [
    {
     "name": "stdout",
     "output_type": "stream",
     "text": [
      "trainable params: 85041152 || all params: 3837112320 || trainable%: 2.2162799758751914\n"
     ]
    }
   ],
   "source": [
    "from peft import LoraConfig, get_peft_model\n",
    "\n",
    "config = LoraConfig(\n",
    "    r=32,\n",
    "    lora_alpha=64,\n",
    "    target_modules=[\n",
    "        \"q_proj\",\n",
    "        \"k_proj\",\n",
    "        \"v_proj\",\n",
    "        \"o_proj\",\n",
    "        \"gate_proj\",\n",
    "        \"up_proj\",\n",
    "        \"down_proj\",\n",
    "        \"lm_head\",\n",
    "    ],\n",
    "    bias=\"none\",\n",
    "    lora_dropout=0.05,  # Conventional\n",
    "    task_type=\"CAUSAL_LM\",\n",
    ")\n",
    "\n",
    "model = get_peft_model(model, config)\n",
    "print_trainable_parameters(model)"
   ]
  },
  {
   "cell_type": "markdown",
   "metadata": {
    "id": "X_FHi_VLyRgn"
   },
   "source": [
    "See how the model looks different now, with the LoRA adapters added:"
   ]
  },
  {
   "cell_type": "code",
   "execution_count": 27,
   "metadata": {
    "id": "IaYMWak4yRgn"
   },
   "outputs": [
    {
     "name": "stdout",
     "output_type": "stream",
     "text": [
      "PeftModelForCausalLM(\n",
      "  (base_model): LoraModel(\n",
      "    (model): MistralForCausalLM(\n",
      "      (model): MistralModel(\n",
      "        (embed_tokens): Embedding(32000, 4096)\n",
      "        (layers): ModuleList(\n",
      "          (0-31): 32 x MistralDecoderLayer(\n",
      "            (self_attn): MistralAttention(\n",
      "              (q_proj): lora.Linear4bit(\n",
      "                (base_layer): Linear4bit(in_features=4096, out_features=4096, bias=False)\n",
      "                (lora_dropout): ModuleDict(\n",
      "                  (default): Dropout(p=0.05, inplace=False)\n",
      "                )\n",
      "                (lora_A): ModuleDict(\n",
      "                  (default): Linear(in_features=4096, out_features=32, bias=False)\n",
      "                )\n",
      "                (lora_B): ModuleDict(\n",
      "                  (default): Linear(in_features=32, out_features=4096, bias=False)\n",
      "                )\n",
      "                (lora_embedding_A): ParameterDict()\n",
      "                (lora_embedding_B): ParameterDict()\n",
      "              )\n",
      "              (k_proj): lora.Linear4bit(\n",
      "                (base_layer): Linear4bit(in_features=4096, out_features=1024, bias=False)\n",
      "                (lora_dropout): ModuleDict(\n",
      "                  (default): Dropout(p=0.05, inplace=False)\n",
      "                )\n",
      "                (lora_A): ModuleDict(\n",
      "                  (default): Linear(in_features=4096, out_features=32, bias=False)\n",
      "                )\n",
      "                (lora_B): ModuleDict(\n",
      "                  (default): Linear(in_features=32, out_features=1024, bias=False)\n",
      "                )\n",
      "                (lora_embedding_A): ParameterDict()\n",
      "                (lora_embedding_B): ParameterDict()\n",
      "              )\n",
      "              (v_proj): lora.Linear4bit(\n",
      "                (base_layer): Linear4bit(in_features=4096, out_features=1024, bias=False)\n",
      "                (lora_dropout): ModuleDict(\n",
      "                  (default): Dropout(p=0.05, inplace=False)\n",
      "                )\n",
      "                (lora_A): ModuleDict(\n",
      "                  (default): Linear(in_features=4096, out_features=32, bias=False)\n",
      "                )\n",
      "                (lora_B): ModuleDict(\n",
      "                  (default): Linear(in_features=32, out_features=1024, bias=False)\n",
      "                )\n",
      "                (lora_embedding_A): ParameterDict()\n",
      "                (lora_embedding_B): ParameterDict()\n",
      "              )\n",
      "              (o_proj): lora.Linear4bit(\n",
      "                (base_layer): Linear4bit(in_features=4096, out_features=4096, bias=False)\n",
      "                (lora_dropout): ModuleDict(\n",
      "                  (default): Dropout(p=0.05, inplace=False)\n",
      "                )\n",
      "                (lora_A): ModuleDict(\n",
      "                  (default): Linear(in_features=4096, out_features=32, bias=False)\n",
      "                )\n",
      "                (lora_B): ModuleDict(\n",
      "                  (default): Linear(in_features=32, out_features=4096, bias=False)\n",
      "                )\n",
      "                (lora_embedding_A): ParameterDict()\n",
      "                (lora_embedding_B): ParameterDict()\n",
      "              )\n",
      "              (rotary_emb): MistralRotaryEmbedding()\n",
      "            )\n",
      "            (mlp): MistralMLP(\n",
      "              (gate_proj): lora.Linear4bit(\n",
      "                (base_layer): Linear4bit(in_features=4096, out_features=14336, bias=False)\n",
      "                (lora_dropout): ModuleDict(\n",
      "                  (default): Dropout(p=0.05, inplace=False)\n",
      "                )\n",
      "                (lora_A): ModuleDict(\n",
      "                  (default): Linear(in_features=4096, out_features=32, bias=False)\n",
      "                )\n",
      "                (lora_B): ModuleDict(\n",
      "                  (default): Linear(in_features=32, out_features=14336, bias=False)\n",
      "                )\n",
      "                (lora_embedding_A): ParameterDict()\n",
      "                (lora_embedding_B): ParameterDict()\n",
      "              )\n",
      "              (up_proj): lora.Linear4bit(\n",
      "                (base_layer): Linear4bit(in_features=4096, out_features=14336, bias=False)\n",
      "                (lora_dropout): ModuleDict(\n",
      "                  (default): Dropout(p=0.05, inplace=False)\n",
      "                )\n",
      "                (lora_A): ModuleDict(\n",
      "                  (default): Linear(in_features=4096, out_features=32, bias=False)\n",
      "                )\n",
      "                (lora_B): ModuleDict(\n",
      "                  (default): Linear(in_features=32, out_features=14336, bias=False)\n",
      "                )\n",
      "                (lora_embedding_A): ParameterDict()\n",
      "                (lora_embedding_B): ParameterDict()\n",
      "              )\n",
      "              (down_proj): lora.Linear4bit(\n",
      "                (base_layer): Linear4bit(in_features=14336, out_features=4096, bias=False)\n",
      "                (lora_dropout): ModuleDict(\n",
      "                  (default): Dropout(p=0.05, inplace=False)\n",
      "                )\n",
      "                (lora_A): ModuleDict(\n",
      "                  (default): Linear(in_features=14336, out_features=32, bias=False)\n",
      "                )\n",
      "                (lora_B): ModuleDict(\n",
      "                  (default): Linear(in_features=32, out_features=4096, bias=False)\n",
      "                )\n",
      "                (lora_embedding_A): ParameterDict()\n",
      "                (lora_embedding_B): ParameterDict()\n",
      "              )\n",
      "              (act_fn): SiLU()\n",
      "            )\n",
      "            (input_layernorm): MistralRMSNorm()\n",
      "            (post_attention_layernorm): MistralRMSNorm()\n",
      "          )\n",
      "        )\n",
      "        (norm): MistralRMSNorm()\n",
      "      )\n",
      "      (lm_head): lora.Linear(\n",
      "        (base_layer): Linear(in_features=4096, out_features=32000, bias=False)\n",
      "        (lora_dropout): ModuleDict(\n",
      "          (default): Dropout(p=0.05, inplace=False)\n",
      "        )\n",
      "        (lora_A): ModuleDict(\n",
      "          (default): Linear(in_features=4096, out_features=32, bias=False)\n",
      "        )\n",
      "        (lora_B): ModuleDict(\n",
      "          (default): Linear(in_features=32, out_features=32000, bias=False)\n",
      "        )\n",
      "        (lora_embedding_A): ParameterDict()\n",
      "        (lora_embedding_B): ParameterDict()\n",
      "      )\n",
      "    )\n",
      "  )\n",
      ")\n"
     ]
    }
   ],
   "source": [
    "print(model)"
   ]
  },
  {
   "cell_type": "markdown",
   "metadata": {
    "id": "05H5MIfjyRgc"
   },
   "source": [
    "### Accelerator\n",
    "\n",
    "Set up the Accelerator. I'm not sure if we really need this for a QLoRA given its [description](https://huggingface.co/docs/accelerate/v0.19.0/en/usage_guides/fsdp) (I have to read more about it) but it seems it can't hurt, and it's helpful to have the code for future reference. You can always comment out the accelerator if you want to try without."
   ]
  },
  {
   "cell_type": "code",
   "execution_count": 28,
   "metadata": {
    "id": "TEzYBadkyRgd"
   },
   "outputs": [],
   "source": [
    "from accelerate import FullyShardedDataParallelPlugin, Accelerator\n",
    "from torch.distributed.fsdp.fully_sharded_data_parallel import FullOptimStateDictConfig, FullStateDictConfig\n",
    "\n",
    "fsdp_plugin = FullyShardedDataParallelPlugin(\n",
    "    state_dict_config=FullStateDictConfig(offload_to_cpu=True, rank0_only=False),\n",
    "    optim_state_dict_config=FullOptimStateDictConfig(offload_to_cpu=True, rank0_only=False),\n",
    ")\n",
    "\n",
    "accelerator = Accelerator(fsdp_plugin=fsdp_plugin)"
   ]
  },
  {
   "cell_type": "code",
   "execution_count": 29,
   "metadata": {
    "id": "yxSbpKQSLY6B"
   },
   "outputs": [],
   "source": [
    "model = accelerator.prepare_model(model)"
   ]
  },
  {
   "cell_type": "markdown",
   "metadata": {
    "id": "-9KNTJZkyRgn"
   },
   "source": [
    "### Setup Weights & Biases\n",
    "Let's use Weights & Biases to track our training metrics. You'll need to apply an API key when prompted. Feel free to skip this if you'd like, and just comment out the `wandb` parameters in the `Trainer` definition below."
   ]
  },
  {
   "cell_type": "code",
   "execution_count": 30,
   "metadata": {
    "id": "DDqUNyIoyRgo"
   },
   "outputs": [
    {
     "name": "stderr",
     "output_type": "stream",
     "text": [
      "\u001b[34m\u001b[1mwandb\u001b[0m: Currently logged in as: \u001b[33mdavid-hinkle\u001b[0m (\u001b[33msecurly\u001b[0m). Use \u001b[1m`wandb login --relogin`\u001b[0m to force relogin\n"
     ]
    }
   ],
   "source": [
    "import wandb, os\n",
    "wandb.login()\n",
    "\n",
    "wandb_project = \"discern-finetune\"\n",
    "if len(wandb_project) > 0:\n",
    "    os.environ[\"WANDB_PROJECT\"] = wandb_project"
   ]
  },
  {
   "cell_type": "markdown",
   "metadata": {
    "id": "_0MOtwf3zdZp"
   },
   "source": [
    "## Run Training!"
   ]
  },
  {
   "cell_type": "markdown",
   "metadata": {
    "id": "fEe0uWYSyRgo"
   },
   "source": [
    "With that said, a note on training: you can set the `max_steps` to be high initially, and examine at what step your model's performance starts to degrade. There is where you'll find a sweet spot for how many steps to perform. For example, say you start with 1000 steps, and find that at around 500 steps the model starts overfitting, as described above. Therefore, 500 steps would be your sweet spot, so you would use the `checkpoint-500` model repo in your output dir (`mistral-journal-finetune`) as your final model in step 6 below.\n",
    "\n",
    "If you're just doing something for fun like I did and are OK with overfitting, you can try different checkpoint versions with different degrees of overfitting.\n",
    "\n",
    "You can interrupt the process via Kernel -> Interrupt Kernel in the top nav bar once you realize you didn't need to train anymore."
   ]
  },
  {
   "cell_type": "code",
   "execution_count": 31,
   "metadata": {
    "id": "c_L1131GyRgo"
   },
   "outputs": [],
   "source": [
    "if torch.cuda.device_count() > 1: # If more than 1 GPU\n",
    "    model.is_parallelizable = True\n",
    "    model.model_parallel = True"
   ]
  },
  {
   "cell_type": "code",
   "execution_count": 32,
   "metadata": {
    "scrolled": true
   },
   "outputs": [
    {
     "data": {
      "text/plain": [
       "LlamaTokenizerFast(name_or_path='mistralai/Mistral-7B-v0.1', vocab_size=32000, model_max_length=1000000000000000019884624838656, is_fast=True, padding_side='left', truncation_side='right', special_tokens={'bos_token': '<s>', 'eos_token': '</s>', 'unk_token': '<unk>', 'pad_token': '</s>'}, clean_up_tokenization_spaces=False),  added_tokens_decoder={\n",
       "\t0: AddedToken(\"<unk>\", rstrip=False, lstrip=False, single_word=False, normalized=False, special=True),\n",
       "\t1: AddedToken(\"<s>\", rstrip=False, lstrip=False, single_word=False, normalized=False, special=True),\n",
       "\t2: AddedToken(\"</s>\", rstrip=False, lstrip=False, single_word=False, normalized=False, special=True),\n",
       "}"
      ]
     },
     "execution_count": 32,
     "metadata": {},
     "output_type": "execute_result"
    }
   ],
   "source": [
    "tokenizer"
   ]
  },
  {
   "cell_type": "code",
   "execution_count": 33,
   "metadata": {
    "id": "jq0nX33BmfaC"
   },
   "outputs": [
    {
     "data": {
      "text/html": [
       "Changes to your `wandb` environment variables will be ignored because your `wandb` session has already started. For more information on how to modify your settings with `wandb.init()` arguments, please refer to <a href='https://wandb.me/wandb-init' target=\"_blank\">the W&B docs</a>."
      ],
      "text/plain": [
       "<IPython.core.display.HTML object>"
      ]
     },
     "metadata": {},
     "output_type": "display_data"
    },
    {
     "data": {
      "text/html": [
       "Tracking run with wandb version 0.16.1"
      ],
      "text/plain": [
       "<IPython.core.display.HTML object>"
      ]
     },
     "metadata": {},
     "output_type": "display_data"
    },
    {
     "data": {
      "text/html": [
       "Run data is saved locally in <code>/opt/notebooks/wandb/run-20231208_041139-zfq2fe38</code>"
      ],
      "text/plain": [
       "<IPython.core.display.HTML object>"
      ]
     },
     "metadata": {},
     "output_type": "display_data"
    },
    {
     "data": {
      "text/html": [
       "Syncing run <strong><a href='https://wandb.ai/securly/discern-finetune/runs/zfq2fe38' target=\"_blank\">mistral-discern-finetune-2023-12-08-04-11</a></strong> to <a href='https://wandb.ai/securly/discern-finetune' target=\"_blank\">Weights & Biases</a> (<a href='https://wandb.me/run' target=\"_blank\">docs</a>)<br/>"
      ],
      "text/plain": [
       "<IPython.core.display.HTML object>"
      ]
     },
     "metadata": {},
     "output_type": "display_data"
    },
    {
     "data": {
      "text/html": [
       " View project at <a href='https://wandb.ai/securly/discern-finetune' target=\"_blank\">https://wandb.ai/securly/discern-finetune</a>"
      ],
      "text/plain": [
       "<IPython.core.display.HTML object>"
      ]
     },
     "metadata": {},
     "output_type": "display_data"
    },
    {
     "data": {
      "text/html": [
       " View run at <a href='https://wandb.ai/securly/discern-finetune/runs/zfq2fe38' target=\"_blank\">https://wandb.ai/securly/discern-finetune/runs/zfq2fe38</a>"
      ],
      "text/plain": [
       "<IPython.core.display.HTML object>"
      ]
     },
     "metadata": {},
     "output_type": "display_data"
    },
    {
     "name": "stderr",
     "output_type": "stream",
     "text": [
      "You're using a LlamaTokenizerFast tokenizer. Please note that with a fast tokenizer, using the `__call__` method is faster than using a method to encode the text followed by a call to the `pad` method to get a padded encoding.\n",
      "/opt/conda/lib/python3.11/site-packages/torch/utils/checkpoint.py:429: UserWarning: torch.utils.checkpoint: please pass in use_reentrant=True or use_reentrant=False explicitly. The default value of use_reentrant will be updated to be False in the future. To maintain current behavior, pass use_reentrant=True. It is recommended that you use use_reentrant=False. Refer to docs for more details on the differences between the two variants.\n",
      "  warnings.warn(\n"
     ]
    },
    {
     "data": {
      "text/html": [
       "\n",
       "    <div>\n",
       "      \n",
       "      <progress value='11417' max='1000000' style='width:300px; height:20px; vertical-align: middle;'></progress>\n",
       "      [  11417/1000000 14:37:44 < 1266:56:06, 0.22 it/s, Epoch 1.03/91]\n",
       "    </div>\n",
       "    <table border=\"1\" class=\"dataframe\">\n",
       "  <thead>\n",
       " <tr style=\"text-align: left;\">\n",
       "      <th>Step</th>\n",
       "      <th>Training Loss</th>\n",
       "      <th>Validation Loss</th>\n",
       "    </tr>\n",
       "  </thead>\n",
       "  <tbody>\n",
       "    <tr>\n",
       "      <td>1000</td>\n",
       "      <td>0.387400</td>\n",
       "      <td>0.422027</td>\n",
       "    </tr>\n",
       "    <tr>\n",
       "      <td>2000</td>\n",
       "      <td>0.428300</td>\n",
       "      <td>0.410518</td>\n",
       "    </tr>\n",
       "    <tr>\n",
       "      <td>3000</td>\n",
       "      <td>0.353200</td>\n",
       "      <td>0.404573</td>\n",
       "    </tr>\n",
       "    <tr>\n",
       "      <td>4000</td>\n",
       "      <td>0.349600</td>\n",
       "      <td>0.398369</td>\n",
       "    </tr>\n",
       "    <tr>\n",
       "      <td>5000</td>\n",
       "      <td>0.329800</td>\n",
       "      <td>0.394410</td>\n",
       "    </tr>\n",
       "    <tr>\n",
       "      <td>6000</td>\n",
       "      <td>0.331700</td>\n",
       "      <td>0.391068</td>\n",
       "    </tr>\n",
       "    <tr>\n",
       "      <td>7000</td>\n",
       "      <td>0.370300</td>\n",
       "      <td>0.388334</td>\n",
       "    </tr>\n",
       "    <tr>\n",
       "      <td>8000</td>\n",
       "      <td>0.358900</td>\n",
       "      <td>0.386018</td>\n",
       "    </tr>\n",
       "    <tr>\n",
       "      <td>9000</td>\n",
       "      <td>0.376800</td>\n",
       "      <td>0.384440</td>\n",
       "    </tr>\n",
       "    <tr>\n",
       "      <td>10000</td>\n",
       "      <td>0.352700</td>\n",
       "      <td>0.382585</td>\n",
       "    </tr>\n",
       "    <tr>\n",
       "      <td>11000</td>\n",
       "      <td>0.342600</td>\n",
       "      <td>0.380896</td>\n",
       "    </tr>\n",
       "  </tbody>\n",
       "</table><p>"
      ],
      "text/plain": [
       "<IPython.core.display.HTML object>"
      ]
     },
     "metadata": {},
     "output_type": "display_data"
    },
    {
     "name": "stderr",
     "output_type": "stream",
     "text": [
      "/opt/conda/lib/python3.11/site-packages/peft/utils/save_and_load.py:131: UserWarning: Setting `save_embedding_layers` to `True` as embedding layers found in `target_modules`.\n",
      "  warnings.warn(\"Setting `save_embedding_layers` to `True` as embedding layers found in `target_modules`.\")\n",
      "/opt/conda/lib/python3.11/site-packages/torch/utils/checkpoint.py:429: UserWarning: torch.utils.checkpoint: please pass in use_reentrant=True or use_reentrant=False explicitly. The default value of use_reentrant will be updated to be False in the future. To maintain current behavior, pass use_reentrant=True. It is recommended that you use use_reentrant=False. Refer to docs for more details on the differences between the two variants.\n",
      "  warnings.warn(\n",
      "/opt/conda/lib/python3.11/site-packages/peft/utils/save_and_load.py:131: UserWarning: Setting `save_embedding_layers` to `True` as embedding layers found in `target_modules`.\n",
      "  warnings.warn(\"Setting `save_embedding_layers` to `True` as embedding layers found in `target_modules`.\")\n",
      "/opt/conda/lib/python3.11/site-packages/torch/utils/checkpoint.py:429: UserWarning: torch.utils.checkpoint: please pass in use_reentrant=True or use_reentrant=False explicitly. The default value of use_reentrant will be updated to be False in the future. To maintain current behavior, pass use_reentrant=True. It is recommended that you use use_reentrant=False. Refer to docs for more details on the differences between the two variants.\n",
      "  warnings.warn(\n",
      "/opt/conda/lib/python3.11/site-packages/peft/utils/save_and_load.py:131: UserWarning: Setting `save_embedding_layers` to `True` as embedding layers found in `target_modules`.\n",
      "  warnings.warn(\"Setting `save_embedding_layers` to `True` as embedding layers found in `target_modules`.\")\n",
      "/opt/conda/lib/python3.11/site-packages/torch/utils/checkpoint.py:429: UserWarning: torch.utils.checkpoint: please pass in use_reentrant=True or use_reentrant=False explicitly. The default value of use_reentrant will be updated to be False in the future. To maintain current behavior, pass use_reentrant=True. It is recommended that you use use_reentrant=False. Refer to docs for more details on the differences between the two variants.\n",
      "  warnings.warn(\n",
      "/opt/conda/lib/python3.11/site-packages/peft/utils/save_and_load.py:131: UserWarning: Setting `save_embedding_layers` to `True` as embedding layers found in `target_modules`.\n",
      "  warnings.warn(\"Setting `save_embedding_layers` to `True` as embedding layers found in `target_modules`.\")\n",
      "/opt/conda/lib/python3.11/site-packages/torch/utils/checkpoint.py:429: UserWarning: torch.utils.checkpoint: please pass in use_reentrant=True or use_reentrant=False explicitly. The default value of use_reentrant will be updated to be False in the future. To maintain current behavior, pass use_reentrant=True. It is recommended that you use use_reentrant=False. Refer to docs for more details on the differences between the two variants.\n",
      "  warnings.warn(\n",
      "/opt/conda/lib/python3.11/site-packages/peft/utils/save_and_load.py:131: UserWarning: Setting `save_embedding_layers` to `True` as embedding layers found in `target_modules`.\n",
      "  warnings.warn(\"Setting `save_embedding_layers` to `True` as embedding layers found in `target_modules`.\")\n",
      "/opt/conda/lib/python3.11/site-packages/torch/utils/checkpoint.py:429: UserWarning: torch.utils.checkpoint: please pass in use_reentrant=True or use_reentrant=False explicitly. The default value of use_reentrant will be updated to be False in the future. To maintain current behavior, pass use_reentrant=True. It is recommended that you use use_reentrant=False. Refer to docs for more details on the differences between the two variants.\n",
      "  warnings.warn(\n",
      "/opt/conda/lib/python3.11/site-packages/peft/utils/save_and_load.py:131: UserWarning: Setting `save_embedding_layers` to `True` as embedding layers found in `target_modules`.\n",
      "  warnings.warn(\"Setting `save_embedding_layers` to `True` as embedding layers found in `target_modules`.\")\n",
      "/opt/conda/lib/python3.11/site-packages/torch/utils/checkpoint.py:429: UserWarning: torch.utils.checkpoint: please pass in use_reentrant=True or use_reentrant=False explicitly. The default value of use_reentrant will be updated to be False in the future. To maintain current behavior, pass use_reentrant=True. It is recommended that you use use_reentrant=False. Refer to docs for more details on the differences between the two variants.\n",
      "  warnings.warn(\n",
      "/opt/conda/lib/python3.11/site-packages/peft/utils/save_and_load.py:131: UserWarning: Setting `save_embedding_layers` to `True` as embedding layers found in `target_modules`.\n",
      "  warnings.warn(\"Setting `save_embedding_layers` to `True` as embedding layers found in `target_modules`.\")\n",
      "/opt/conda/lib/python3.11/site-packages/torch/utils/checkpoint.py:429: UserWarning: torch.utils.checkpoint: please pass in use_reentrant=True or use_reentrant=False explicitly. The default value of use_reentrant will be updated to be False in the future. To maintain current behavior, pass use_reentrant=True. It is recommended that you use use_reentrant=False. Refer to docs for more details on the differences between the two variants.\n",
      "  warnings.warn(\n",
      "/opt/conda/lib/python3.11/site-packages/peft/utils/save_and_load.py:131: UserWarning: Setting `save_embedding_layers` to `True` as embedding layers found in `target_modules`.\n",
      "  warnings.warn(\"Setting `save_embedding_layers` to `True` as embedding layers found in `target_modules`.\")\n",
      "/opt/conda/lib/python3.11/site-packages/torch/utils/checkpoint.py:429: UserWarning: torch.utils.checkpoint: please pass in use_reentrant=True or use_reentrant=False explicitly. The default value of use_reentrant will be updated to be False in the future. To maintain current behavior, pass use_reentrant=True. It is recommended that you use use_reentrant=False. Refer to docs for more details on the differences between the two variants.\n",
      "  warnings.warn(\n",
      "/opt/conda/lib/python3.11/site-packages/peft/utils/save_and_load.py:131: UserWarning: Setting `save_embedding_layers` to `True` as embedding layers found in `target_modules`.\n",
      "  warnings.warn(\"Setting `save_embedding_layers` to `True` as embedding layers found in `target_modules`.\")\n",
      "/opt/conda/lib/python3.11/site-packages/torch/utils/checkpoint.py:429: UserWarning: torch.utils.checkpoint: please pass in use_reentrant=True or use_reentrant=False explicitly. The default value of use_reentrant will be updated to be False in the future. To maintain current behavior, pass use_reentrant=True. It is recommended that you use use_reentrant=False. Refer to docs for more details on the differences between the two variants.\n",
      "  warnings.warn(\n",
      "/opt/conda/lib/python3.11/site-packages/peft/utils/save_and_load.py:131: UserWarning: Setting `save_embedding_layers` to `True` as embedding layers found in `target_modules`.\n",
      "  warnings.warn(\"Setting `save_embedding_layers` to `True` as embedding layers found in `target_modules`.\")\n",
      "/opt/conda/lib/python3.11/site-packages/torch/utils/checkpoint.py:429: UserWarning: torch.utils.checkpoint: please pass in use_reentrant=True or use_reentrant=False explicitly. The default value of use_reentrant will be updated to be False in the future. To maintain current behavior, pass use_reentrant=True. It is recommended that you use use_reentrant=False. Refer to docs for more details on the differences between the two variants.\n",
      "  warnings.warn(\n",
      "/opt/conda/lib/python3.11/site-packages/peft/utils/save_and_load.py:131: UserWarning: Setting `save_embedding_layers` to `True` as embedding layers found in `target_modules`.\n",
      "  warnings.warn(\"Setting `save_embedding_layers` to `True` as embedding layers found in `target_modules`.\")\n",
      "/opt/conda/lib/python3.11/site-packages/torch/utils/checkpoint.py:429: UserWarning: torch.utils.checkpoint: please pass in use_reentrant=True or use_reentrant=False explicitly. The default value of use_reentrant will be updated to be False in the future. To maintain current behavior, pass use_reentrant=True. It is recommended that you use use_reentrant=False. Refer to docs for more details on the differences between the two variants.\n",
      "  warnings.warn(\n",
      "/opt/conda/lib/python3.11/site-packages/peft/utils/save_and_load.py:131: UserWarning: Setting `save_embedding_layers` to `True` as embedding layers found in `target_modules`.\n",
      "  warnings.warn(\"Setting `save_embedding_layers` to `True` as embedding layers found in `target_modules`.\")\n",
      "/opt/conda/lib/python3.11/site-packages/torch/utils/checkpoint.py:429: UserWarning: torch.utils.checkpoint: please pass in use_reentrant=True or use_reentrant=False explicitly. The default value of use_reentrant will be updated to be False in the future. To maintain current behavior, pass use_reentrant=True. It is recommended that you use use_reentrant=False. Refer to docs for more details on the differences between the two variants.\n",
      "  warnings.warn(\n",
      "/opt/conda/lib/python3.11/site-packages/peft/utils/save_and_load.py:131: UserWarning: Setting `save_embedding_layers` to `True` as embedding layers found in `target_modules`.\n",
      "  warnings.warn(\"Setting `save_embedding_layers` to `True` as embedding layers found in `target_modules`.\")\n",
      "/opt/conda/lib/python3.11/site-packages/torch/utils/checkpoint.py:429: UserWarning: torch.utils.checkpoint: please pass in use_reentrant=True or use_reentrant=False explicitly. The default value of use_reentrant will be updated to be False in the future. To maintain current behavior, pass use_reentrant=True. It is recommended that you use use_reentrant=False. Refer to docs for more details on the differences between the two variants.\n",
      "  warnings.warn(\n",
      "/opt/conda/lib/python3.11/site-packages/peft/utils/save_and_load.py:131: UserWarning: Setting `save_embedding_layers` to `True` as embedding layers found in `target_modules`.\n",
      "  warnings.warn(\"Setting `save_embedding_layers` to `True` as embedding layers found in `target_modules`.\")\n",
      "/opt/conda/lib/python3.11/site-packages/torch/utils/checkpoint.py:429: UserWarning: torch.utils.checkpoint: please pass in use_reentrant=True or use_reentrant=False explicitly. The default value of use_reentrant will be updated to be False in the future. To maintain current behavior, pass use_reentrant=True. It is recommended that you use use_reentrant=False. Refer to docs for more details on the differences between the two variants.\n",
      "  warnings.warn(\n",
      "/opt/conda/lib/python3.11/site-packages/peft/utils/save_and_load.py:131: UserWarning: Setting `save_embedding_layers` to `True` as embedding layers found in `target_modules`.\n",
      "  warnings.warn(\"Setting `save_embedding_layers` to `True` as embedding layers found in `target_modules`.\")\n",
      "/opt/conda/lib/python3.11/site-packages/torch/utils/checkpoint.py:429: UserWarning: torch.utils.checkpoint: please pass in use_reentrant=True or use_reentrant=False explicitly. The default value of use_reentrant will be updated to be False in the future. To maintain current behavior, pass use_reentrant=True. It is recommended that you use use_reentrant=False. Refer to docs for more details on the differences between the two variants.\n",
      "  warnings.warn(\n",
      "/opt/conda/lib/python3.11/site-packages/peft/utils/save_and_load.py:131: UserWarning: Setting `save_embedding_layers` to `True` as embedding layers found in `target_modules`.\n",
      "  warnings.warn(\"Setting `save_embedding_layers` to `True` as embedding layers found in `target_modules`.\")\n",
      "/opt/conda/lib/python3.11/site-packages/torch/utils/checkpoint.py:429: UserWarning: torch.utils.checkpoint: please pass in use_reentrant=True or use_reentrant=False explicitly. The default value of use_reentrant will be updated to be False in the future. To maintain current behavior, pass use_reentrant=True. It is recommended that you use use_reentrant=False. Refer to docs for more details on the differences between the two variants.\n",
      "  warnings.warn(\n",
      "/opt/conda/lib/python3.11/site-packages/peft/utils/save_and_load.py:131: UserWarning: Setting `save_embedding_layers` to `True` as embedding layers found in `target_modules`.\n",
      "  warnings.warn(\"Setting `save_embedding_layers` to `True` as embedding layers found in `target_modules`.\")\n",
      "/opt/conda/lib/python3.11/site-packages/torch/utils/checkpoint.py:429: UserWarning: torch.utils.checkpoint: please pass in use_reentrant=True or use_reentrant=False explicitly. The default value of use_reentrant will be updated to be False in the future. To maintain current behavior, pass use_reentrant=True. It is recommended that you use use_reentrant=False. Refer to docs for more details on the differences between the two variants.\n",
      "  warnings.warn(\n",
      "/opt/conda/lib/python3.11/site-packages/peft/utils/save_and_load.py:131: UserWarning: Setting `save_embedding_layers` to `True` as embedding layers found in `target_modules`.\n",
      "  warnings.warn(\"Setting `save_embedding_layers` to `True` as embedding layers found in `target_modules`.\")\n",
      "/opt/conda/lib/python3.11/site-packages/torch/utils/checkpoint.py:429: UserWarning: torch.utils.checkpoint: please pass in use_reentrant=True or use_reentrant=False explicitly. The default value of use_reentrant will be updated to be False in the future. To maintain current behavior, pass use_reentrant=True. It is recommended that you use use_reentrant=False. Refer to docs for more details on the differences between the two variants.\n",
      "  warnings.warn(\n",
      "/opt/conda/lib/python3.11/site-packages/peft/utils/save_and_load.py:131: UserWarning: Setting `save_embedding_layers` to `True` as embedding layers found in `target_modules`.\n",
      "  warnings.warn(\"Setting `save_embedding_layers` to `True` as embedding layers found in `target_modules`.\")\n",
      "/opt/conda/lib/python3.11/site-packages/torch/utils/checkpoint.py:429: UserWarning: torch.utils.checkpoint: please pass in use_reentrant=True or use_reentrant=False explicitly. The default value of use_reentrant will be updated to be False in the future. To maintain current behavior, pass use_reentrant=True. It is recommended that you use use_reentrant=False. Refer to docs for more details on the differences between the two variants.\n",
      "  warnings.warn(\n",
      "/opt/conda/lib/python3.11/site-packages/peft/utils/save_and_load.py:131: UserWarning: Setting `save_embedding_layers` to `True` as embedding layers found in `target_modules`.\n",
      "  warnings.warn(\"Setting `save_embedding_layers` to `True` as embedding layers found in `target_modules`.\")\n",
      "/opt/conda/lib/python3.11/site-packages/torch/utils/checkpoint.py:429: UserWarning: torch.utils.checkpoint: please pass in use_reentrant=True or use_reentrant=False explicitly. The default value of use_reentrant will be updated to be False in the future. To maintain current behavior, pass use_reentrant=True. It is recommended that you use use_reentrant=False. Refer to docs for more details on the differences between the two variants.\n",
      "  warnings.warn(\n",
      "/opt/conda/lib/python3.11/site-packages/peft/utils/save_and_load.py:131: UserWarning: Setting `save_embedding_layers` to `True` as embedding layers found in `target_modules`.\n",
      "  warnings.warn(\"Setting `save_embedding_layers` to `True` as embedding layers found in `target_modules`.\")\n",
      "/opt/conda/lib/python3.11/site-packages/torch/utils/checkpoint.py:429: UserWarning: torch.utils.checkpoint: please pass in use_reentrant=True or use_reentrant=False explicitly. The default value of use_reentrant will be updated to be False in the future. To maintain current behavior, pass use_reentrant=True. It is recommended that you use use_reentrant=False. Refer to docs for more details on the differences between the two variants.\n",
      "  warnings.warn(\n",
      "/opt/conda/lib/python3.11/site-packages/peft/utils/save_and_load.py:131: UserWarning: Setting `save_embedding_layers` to `True` as embedding layers found in `target_modules`.\n",
      "  warnings.warn(\"Setting `save_embedding_layers` to `True` as embedding layers found in `target_modules`.\")\n",
      "/opt/conda/lib/python3.11/site-packages/torch/utils/checkpoint.py:429: UserWarning: torch.utils.checkpoint: please pass in use_reentrant=True or use_reentrant=False explicitly. The default value of use_reentrant will be updated to be False in the future. To maintain current behavior, pass use_reentrant=True. It is recommended that you use use_reentrant=False. Refer to docs for more details on the differences between the two variants.\n",
      "  warnings.warn(\n",
      "/opt/conda/lib/python3.11/site-packages/peft/utils/save_and_load.py:131: UserWarning: Setting `save_embedding_layers` to `True` as embedding layers found in `target_modules`.\n",
      "  warnings.warn(\"Setting `save_embedding_layers` to `True` as embedding layers found in `target_modules`.\")\n",
      "/opt/conda/lib/python3.11/site-packages/torch/utils/checkpoint.py:429: UserWarning: torch.utils.checkpoint: please pass in use_reentrant=True or use_reentrant=False explicitly. The default value of use_reentrant will be updated to be False in the future. To maintain current behavior, pass use_reentrant=True. It is recommended that you use use_reentrant=False. Refer to docs for more details on the differences between the two variants.\n",
      "  warnings.warn(\n",
      "/opt/conda/lib/python3.11/site-packages/peft/utils/save_and_load.py:131: UserWarning: Setting `save_embedding_layers` to `True` as embedding layers found in `target_modules`.\n",
      "  warnings.warn(\"Setting `save_embedding_layers` to `True` as embedding layers found in `target_modules`.\")\n",
      "/opt/conda/lib/python3.11/site-packages/torch/utils/checkpoint.py:429: UserWarning: torch.utils.checkpoint: please pass in use_reentrant=True or use_reentrant=False explicitly. The default value of use_reentrant will be updated to be False in the future. To maintain current behavior, pass use_reentrant=True. It is recommended that you use use_reentrant=False. Refer to docs for more details on the differences between the two variants.\n",
      "  warnings.warn(\n",
      "/opt/conda/lib/python3.11/site-packages/peft/utils/save_and_load.py:131: UserWarning: Setting `save_embedding_layers` to `True` as embedding layers found in `target_modules`.\n",
      "  warnings.warn(\"Setting `save_embedding_layers` to `True` as embedding layers found in `target_modules`.\")\n",
      "/opt/conda/lib/python3.11/site-packages/torch/utils/checkpoint.py:429: UserWarning: torch.utils.checkpoint: please pass in use_reentrant=True or use_reentrant=False explicitly. The default value of use_reentrant will be updated to be False in the future. To maintain current behavior, pass use_reentrant=True. It is recommended that you use use_reentrant=False. Refer to docs for more details on the differences between the two variants.\n",
      "  warnings.warn(\n",
      "/opt/conda/lib/python3.11/site-packages/peft/utils/save_and_load.py:131: UserWarning: Setting `save_embedding_layers` to `True` as embedding layers found in `target_modules`.\n",
      "  warnings.warn(\"Setting `save_embedding_layers` to `True` as embedding layers found in `target_modules`.\")\n",
      "/opt/conda/lib/python3.11/site-packages/torch/utils/checkpoint.py:429: UserWarning: torch.utils.checkpoint: please pass in use_reentrant=True or use_reentrant=False explicitly. The default value of use_reentrant will be updated to be False in the future. To maintain current behavior, pass use_reentrant=True. It is recommended that you use use_reentrant=False. Refer to docs for more details on the differences between the two variants.\n",
      "  warnings.warn(\n",
      "/opt/conda/lib/python3.11/site-packages/peft/utils/save_and_load.py:131: UserWarning: Setting `save_embedding_layers` to `True` as embedding layers found in `target_modules`.\n",
      "  warnings.warn(\"Setting `save_embedding_layers` to `True` as embedding layers found in `target_modules`.\")\n",
      "/opt/conda/lib/python3.11/site-packages/torch/utils/checkpoint.py:429: UserWarning: torch.utils.checkpoint: please pass in use_reentrant=True or use_reentrant=False explicitly. The default value of use_reentrant will be updated to be False in the future. To maintain current behavior, pass use_reentrant=True. It is recommended that you use use_reentrant=False. Refer to docs for more details on the differences between the two variants.\n",
      "  warnings.warn(\n",
      "/opt/conda/lib/python3.11/site-packages/peft/utils/save_and_load.py:131: UserWarning: Setting `save_embedding_layers` to `True` as embedding layers found in `target_modules`.\n",
      "  warnings.warn(\"Setting `save_embedding_layers` to `True` as embedding layers found in `target_modules`.\")\n",
      "/opt/conda/lib/python3.11/site-packages/torch/utils/checkpoint.py:429: UserWarning: torch.utils.checkpoint: please pass in use_reentrant=True or use_reentrant=False explicitly. The default value of use_reentrant will be updated to be False in the future. To maintain current behavior, pass use_reentrant=True. It is recommended that you use use_reentrant=False. Refer to docs for more details on the differences between the two variants.\n",
      "  warnings.warn(\n",
      "/opt/conda/lib/python3.11/site-packages/peft/utils/save_and_load.py:131: UserWarning: Setting `save_embedding_layers` to `True` as embedding layers found in `target_modules`.\n",
      "  warnings.warn(\"Setting `save_embedding_layers` to `True` as embedding layers found in `target_modules`.\")\n",
      "/opt/conda/lib/python3.11/site-packages/torch/utils/checkpoint.py:429: UserWarning: torch.utils.checkpoint: please pass in use_reentrant=True or use_reentrant=False explicitly. The default value of use_reentrant will be updated to be False in the future. To maintain current behavior, pass use_reentrant=True. It is recommended that you use use_reentrant=False. Refer to docs for more details on the differences between the two variants.\n",
      "  warnings.warn(\n",
      "/opt/conda/lib/python3.11/site-packages/peft/utils/save_and_load.py:131: UserWarning: Setting `save_embedding_layers` to `True` as embedding layers found in `target_modules`.\n",
      "  warnings.warn(\"Setting `save_embedding_layers` to `True` as embedding layers found in `target_modules`.\")\n",
      "/opt/conda/lib/python3.11/site-packages/torch/utils/checkpoint.py:429: UserWarning: torch.utils.checkpoint: please pass in use_reentrant=True or use_reentrant=False explicitly. The default value of use_reentrant will be updated to be False in the future. To maintain current behavior, pass use_reentrant=True. It is recommended that you use use_reentrant=False. Refer to docs for more details on the differences between the two variants.\n",
      "  warnings.warn(\n",
      "/opt/conda/lib/python3.11/site-packages/peft/utils/save_and_load.py:131: UserWarning: Setting `save_embedding_layers` to `True` as embedding layers found in `target_modules`.\n",
      "  warnings.warn(\"Setting `save_embedding_layers` to `True` as embedding layers found in `target_modules`.\")\n",
      "/opt/conda/lib/python3.11/site-packages/torch/utils/checkpoint.py:429: UserWarning: torch.utils.checkpoint: please pass in use_reentrant=True or use_reentrant=False explicitly. The default value of use_reentrant will be updated to be False in the future. To maintain current behavior, pass use_reentrant=True. It is recommended that you use use_reentrant=False. Refer to docs for more details on the differences between the two variants.\n",
      "  warnings.warn(\n",
      "/opt/conda/lib/python3.11/site-packages/peft/utils/save_and_load.py:131: UserWarning: Setting `save_embedding_layers` to `True` as embedding layers found in `target_modules`.\n",
      "  warnings.warn(\"Setting `save_embedding_layers` to `True` as embedding layers found in `target_modules`.\")\n",
      "/opt/conda/lib/python3.11/site-packages/torch/utils/checkpoint.py:429: UserWarning: torch.utils.checkpoint: please pass in use_reentrant=True or use_reentrant=False explicitly. The default value of use_reentrant will be updated to be False in the future. To maintain current behavior, pass use_reentrant=True. It is recommended that you use use_reentrant=False. Refer to docs for more details on the differences between the two variants.\n",
      "  warnings.warn(\n",
      "/opt/conda/lib/python3.11/site-packages/peft/utils/save_and_load.py:131: UserWarning: Setting `save_embedding_layers` to `True` as embedding layers found in `target_modules`.\n",
      "  warnings.warn(\"Setting `save_embedding_layers` to `True` as embedding layers found in `target_modules`.\")\n",
      "/opt/conda/lib/python3.11/site-packages/torch/utils/checkpoint.py:429: UserWarning: torch.utils.checkpoint: please pass in use_reentrant=True or use_reentrant=False explicitly. The default value of use_reentrant will be updated to be False in the future. To maintain current behavior, pass use_reentrant=True. It is recommended that you use use_reentrant=False. Refer to docs for more details on the differences between the two variants.\n",
      "  warnings.warn(\n",
      "/opt/conda/lib/python3.11/site-packages/peft/utils/save_and_load.py:131: UserWarning: Setting `save_embedding_layers` to `True` as embedding layers found in `target_modules`.\n",
      "  warnings.warn(\"Setting `save_embedding_layers` to `True` as embedding layers found in `target_modules`.\")\n",
      "/opt/conda/lib/python3.11/site-packages/torch/utils/checkpoint.py:429: UserWarning: torch.utils.checkpoint: please pass in use_reentrant=True or use_reentrant=False explicitly. The default value of use_reentrant will be updated to be False in the future. To maintain current behavior, pass use_reentrant=True. It is recommended that you use use_reentrant=False. Refer to docs for more details on the differences between the two variants.\n",
      "  warnings.warn(\n",
      "/opt/conda/lib/python3.11/site-packages/peft/utils/save_and_load.py:131: UserWarning: Setting `save_embedding_layers` to `True` as embedding layers found in `target_modules`.\n",
      "  warnings.warn(\"Setting `save_embedding_layers` to `True` as embedding layers found in `target_modules`.\")\n",
      "/opt/conda/lib/python3.11/site-packages/torch/utils/checkpoint.py:429: UserWarning: torch.utils.checkpoint: please pass in use_reentrant=True or use_reentrant=False explicitly. The default value of use_reentrant will be updated to be False in the future. To maintain current behavior, pass use_reentrant=True. It is recommended that you use use_reentrant=False. Refer to docs for more details on the differences between the two variants.\n",
      "  warnings.warn(\n",
      "/opt/conda/lib/python3.11/site-packages/peft/utils/save_and_load.py:131: UserWarning: Setting `save_embedding_layers` to `True` as embedding layers found in `target_modules`.\n",
      "  warnings.warn(\"Setting `save_embedding_layers` to `True` as embedding layers found in `target_modules`.\")\n",
      "/opt/conda/lib/python3.11/site-packages/torch/utils/checkpoint.py:429: UserWarning: torch.utils.checkpoint: please pass in use_reentrant=True or use_reentrant=False explicitly. The default value of use_reentrant will be updated to be False in the future. To maintain current behavior, pass use_reentrant=True. It is recommended that you use use_reentrant=False. Refer to docs for more details on the differences between the two variants.\n",
      "  warnings.warn(\n",
      "/opt/conda/lib/python3.11/site-packages/peft/utils/save_and_load.py:131: UserWarning: Setting `save_embedding_layers` to `True` as embedding layers found in `target_modules`.\n",
      "  warnings.warn(\"Setting `save_embedding_layers` to `True` as embedding layers found in `target_modules`.\")\n",
      "/opt/conda/lib/python3.11/site-packages/torch/utils/checkpoint.py:429: UserWarning: torch.utils.checkpoint: please pass in use_reentrant=True or use_reentrant=False explicitly. The default value of use_reentrant will be updated to be False in the future. To maintain current behavior, pass use_reentrant=True. It is recommended that you use use_reentrant=False. Refer to docs for more details on the differences between the two variants.\n",
      "  warnings.warn(\n",
      "/opt/conda/lib/python3.11/site-packages/peft/utils/save_and_load.py:131: UserWarning: Setting `save_embedding_layers` to `True` as embedding layers found in `target_modules`.\n",
      "  warnings.warn(\"Setting `save_embedding_layers` to `True` as embedding layers found in `target_modules`.\")\n",
      "/opt/conda/lib/python3.11/site-packages/torch/utils/checkpoint.py:429: UserWarning: torch.utils.checkpoint: please pass in use_reentrant=True or use_reentrant=False explicitly. The default value of use_reentrant will be updated to be False in the future. To maintain current behavior, pass use_reentrant=True. It is recommended that you use use_reentrant=False. Refer to docs for more details on the differences between the two variants.\n",
      "  warnings.warn(\n",
      "/opt/conda/lib/python3.11/site-packages/peft/utils/save_and_load.py:131: UserWarning: Setting `save_embedding_layers` to `True` as embedding layers found in `target_modules`.\n",
      "  warnings.warn(\"Setting `save_embedding_layers` to `True` as embedding layers found in `target_modules`.\")\n",
      "/opt/conda/lib/python3.11/site-packages/torch/utils/checkpoint.py:429: UserWarning: torch.utils.checkpoint: please pass in use_reentrant=True or use_reentrant=False explicitly. The default value of use_reentrant will be updated to be False in the future. To maintain current behavior, pass use_reentrant=True. It is recommended that you use use_reentrant=False. Refer to docs for more details on the differences between the two variants.\n",
      "  warnings.warn(\n",
      "/opt/conda/lib/python3.11/site-packages/peft/utils/save_and_load.py:131: UserWarning: Setting `save_embedding_layers` to `True` as embedding layers found in `target_modules`.\n",
      "  warnings.warn(\"Setting `save_embedding_layers` to `True` as embedding layers found in `target_modules`.\")\n",
      "/opt/conda/lib/python3.11/site-packages/torch/utils/checkpoint.py:429: UserWarning: torch.utils.checkpoint: please pass in use_reentrant=True or use_reentrant=False explicitly. The default value of use_reentrant will be updated to be False in the future. To maintain current behavior, pass use_reentrant=True. It is recommended that you use use_reentrant=False. Refer to docs for more details on the differences between the two variants.\n",
      "  warnings.warn(\n",
      "/opt/conda/lib/python3.11/site-packages/peft/utils/save_and_load.py:131: UserWarning: Setting `save_embedding_layers` to `True` as embedding layers found in `target_modules`.\n",
      "  warnings.warn(\"Setting `save_embedding_layers` to `True` as embedding layers found in `target_modules`.\")\n",
      "/opt/conda/lib/python3.11/site-packages/torch/utils/checkpoint.py:429: UserWarning: torch.utils.checkpoint: please pass in use_reentrant=True or use_reentrant=False explicitly. The default value of use_reentrant will be updated to be False in the future. To maintain current behavior, pass use_reentrant=True. It is recommended that you use use_reentrant=False. Refer to docs for more details on the differences between the two variants.\n",
      "  warnings.warn(\n",
      "/opt/conda/lib/python3.11/site-packages/peft/utils/save_and_load.py:131: UserWarning: Setting `save_embedding_layers` to `True` as embedding layers found in `target_modules`.\n",
      "  warnings.warn(\"Setting `save_embedding_layers` to `True` as embedding layers found in `target_modules`.\")\n",
      "/opt/conda/lib/python3.11/site-packages/torch/utils/checkpoint.py:429: UserWarning: torch.utils.checkpoint: please pass in use_reentrant=True or use_reentrant=False explicitly. The default value of use_reentrant will be updated to be False in the future. To maintain current behavior, pass use_reentrant=True. It is recommended that you use use_reentrant=False. Refer to docs for more details on the differences between the two variants.\n",
      "  warnings.warn(\n",
      "/opt/conda/lib/python3.11/site-packages/peft/utils/save_and_load.py:131: UserWarning: Setting `save_embedding_layers` to `True` as embedding layers found in `target_modules`.\n",
      "  warnings.warn(\"Setting `save_embedding_layers` to `True` as embedding layers found in `target_modules`.\")\n",
      "/opt/conda/lib/python3.11/site-packages/torch/utils/checkpoint.py:429: UserWarning: torch.utils.checkpoint: please pass in use_reentrant=True or use_reentrant=False explicitly. The default value of use_reentrant will be updated to be False in the future. To maintain current behavior, pass use_reentrant=True. It is recommended that you use use_reentrant=False. Refer to docs for more details on the differences between the two variants.\n",
      "  warnings.warn(\n",
      "/opt/conda/lib/python3.11/site-packages/peft/utils/save_and_load.py:131: UserWarning: Setting `save_embedding_layers` to `True` as embedding layers found in `target_modules`.\n",
      "  warnings.warn(\"Setting `save_embedding_layers` to `True` as embedding layers found in `target_modules`.\")\n",
      "/opt/conda/lib/python3.11/site-packages/torch/utils/checkpoint.py:429: UserWarning: torch.utils.checkpoint: please pass in use_reentrant=True or use_reentrant=False explicitly. The default value of use_reentrant will be updated to be False in the future. To maintain current behavior, pass use_reentrant=True. It is recommended that you use use_reentrant=False. Refer to docs for more details on the differences between the two variants.\n",
      "  warnings.warn(\n",
      "/opt/conda/lib/python3.11/site-packages/peft/utils/save_and_load.py:131: UserWarning: Setting `save_embedding_layers` to `True` as embedding layers found in `target_modules`.\n",
      "  warnings.warn(\"Setting `save_embedding_layers` to `True` as embedding layers found in `target_modules`.\")\n",
      "/opt/conda/lib/python3.11/site-packages/torch/utils/checkpoint.py:429: UserWarning: torch.utils.checkpoint: please pass in use_reentrant=True or use_reentrant=False explicitly. The default value of use_reentrant will be updated to be False in the future. To maintain current behavior, pass use_reentrant=True. It is recommended that you use use_reentrant=False. Refer to docs for more details on the differences between the two variants.\n",
      "  warnings.warn(\n",
      "/opt/conda/lib/python3.11/site-packages/peft/utils/save_and_load.py:131: UserWarning: Setting `save_embedding_layers` to `True` as embedding layers found in `target_modules`.\n",
      "  warnings.warn(\"Setting `save_embedding_layers` to `True` as embedding layers found in `target_modules`.\")\n",
      "/opt/conda/lib/python3.11/site-packages/torch/utils/checkpoint.py:429: UserWarning: torch.utils.checkpoint: please pass in use_reentrant=True or use_reentrant=False explicitly. The default value of use_reentrant will be updated to be False in the future. To maintain current behavior, pass use_reentrant=True. It is recommended that you use use_reentrant=False. Refer to docs for more details on the differences between the two variants.\n",
      "  warnings.warn(\n",
      "/opt/conda/lib/python3.11/site-packages/peft/utils/save_and_load.py:131: UserWarning: Setting `save_embedding_layers` to `True` as embedding layers found in `target_modules`.\n",
      "  warnings.warn(\"Setting `save_embedding_layers` to `True` as embedding layers found in `target_modules`.\")\n",
      "/opt/conda/lib/python3.11/site-packages/torch/utils/checkpoint.py:429: UserWarning: torch.utils.checkpoint: please pass in use_reentrant=True or use_reentrant=False explicitly. The default value of use_reentrant will be updated to be False in the future. To maintain current behavior, pass use_reentrant=True. It is recommended that you use use_reentrant=False. Refer to docs for more details on the differences between the two variants.\n",
      "  warnings.warn(\n",
      "/opt/conda/lib/python3.11/site-packages/peft/utils/save_and_load.py:131: UserWarning: Setting `save_embedding_layers` to `True` as embedding layers found in `target_modules`.\n",
      "  warnings.warn(\"Setting `save_embedding_layers` to `True` as embedding layers found in `target_modules`.\")\n",
      "/opt/conda/lib/python3.11/site-packages/torch/utils/checkpoint.py:429: UserWarning: torch.utils.checkpoint: please pass in use_reentrant=True or use_reentrant=False explicitly. The default value of use_reentrant will be updated to be False in the future. To maintain current behavior, pass use_reentrant=True. It is recommended that you use use_reentrant=False. Refer to docs for more details on the differences between the two variants.\n",
      "  warnings.warn(\n",
      "/opt/conda/lib/python3.11/site-packages/peft/utils/save_and_load.py:131: UserWarning: Setting `save_embedding_layers` to `True` as embedding layers found in `target_modules`.\n",
      "  warnings.warn(\"Setting `save_embedding_layers` to `True` as embedding layers found in `target_modules`.\")\n",
      "/opt/conda/lib/python3.11/site-packages/torch/utils/checkpoint.py:429: UserWarning: torch.utils.checkpoint: please pass in use_reentrant=True or use_reentrant=False explicitly. The default value of use_reentrant will be updated to be False in the future. To maintain current behavior, pass use_reentrant=True. It is recommended that you use use_reentrant=False. Refer to docs for more details on the differences between the two variants.\n",
      "  warnings.warn(\n",
      "/opt/conda/lib/python3.11/site-packages/peft/utils/save_and_load.py:131: UserWarning: Setting `save_embedding_layers` to `True` as embedding layers found in `target_modules`.\n",
      "  warnings.warn(\"Setting `save_embedding_layers` to `True` as embedding layers found in `target_modules`.\")\n",
      "/opt/conda/lib/python3.11/site-packages/torch/utils/checkpoint.py:429: UserWarning: torch.utils.checkpoint: please pass in use_reentrant=True or use_reentrant=False explicitly. The default value of use_reentrant will be updated to be False in the future. To maintain current behavior, pass use_reentrant=True. It is recommended that you use use_reentrant=False. Refer to docs for more details on the differences between the two variants.\n",
      "  warnings.warn(\n",
      "/opt/conda/lib/python3.11/site-packages/peft/utils/save_and_load.py:131: UserWarning: Setting `save_embedding_layers` to `True` as embedding layers found in `target_modules`.\n",
      "  warnings.warn(\"Setting `save_embedding_layers` to `True` as embedding layers found in `target_modules`.\")\n",
      "/opt/conda/lib/python3.11/site-packages/torch/utils/checkpoint.py:429: UserWarning: torch.utils.checkpoint: please pass in use_reentrant=True or use_reentrant=False explicitly. The default value of use_reentrant will be updated to be False in the future. To maintain current behavior, pass use_reentrant=True. It is recommended that you use use_reentrant=False. Refer to docs for more details on the differences between the two variants.\n",
      "  warnings.warn(\n",
      "/opt/conda/lib/python3.11/site-packages/peft/utils/save_and_load.py:131: UserWarning: Setting `save_embedding_layers` to `True` as embedding layers found in `target_modules`.\n",
      "  warnings.warn(\"Setting `save_embedding_layers` to `True` as embedding layers found in `target_modules`.\")\n",
      "/opt/conda/lib/python3.11/site-packages/torch/utils/checkpoint.py:429: UserWarning: torch.utils.checkpoint: please pass in use_reentrant=True or use_reentrant=False explicitly. The default value of use_reentrant will be updated to be False in the future. To maintain current behavior, pass use_reentrant=True. It is recommended that you use use_reentrant=False. Refer to docs for more details on the differences between the two variants.\n",
      "  warnings.warn(\n",
      "/opt/conda/lib/python3.11/site-packages/peft/utils/save_and_load.py:131: UserWarning: Setting `save_embedding_layers` to `True` as embedding layers found in `target_modules`.\n",
      "  warnings.warn(\"Setting `save_embedding_layers` to `True` as embedding layers found in `target_modules`.\")\n",
      "/opt/conda/lib/python3.11/site-packages/torch/utils/checkpoint.py:429: UserWarning: torch.utils.checkpoint: please pass in use_reentrant=True or use_reentrant=False explicitly. The default value of use_reentrant will be updated to be False in the future. To maintain current behavior, pass use_reentrant=True. It is recommended that you use use_reentrant=False. Refer to docs for more details on the differences between the two variants.\n",
      "  warnings.warn(\n",
      "/opt/conda/lib/python3.11/site-packages/peft/utils/save_and_load.py:131: UserWarning: Setting `save_embedding_layers` to `True` as embedding layers found in `target_modules`.\n",
      "  warnings.warn(\"Setting `save_embedding_layers` to `True` as embedding layers found in `target_modules`.\")\n",
      "/opt/conda/lib/python3.11/site-packages/torch/utils/checkpoint.py:429: UserWarning: torch.utils.checkpoint: please pass in use_reentrant=True or use_reentrant=False explicitly. The default value of use_reentrant will be updated to be False in the future. To maintain current behavior, pass use_reentrant=True. It is recommended that you use use_reentrant=False. Refer to docs for more details on the differences between the two variants.\n",
      "  warnings.warn(\n",
      "/opt/conda/lib/python3.11/site-packages/peft/utils/save_and_load.py:131: UserWarning: Setting `save_embedding_layers` to `True` as embedding layers found in `target_modules`.\n",
      "  warnings.warn(\"Setting `save_embedding_layers` to `True` as embedding layers found in `target_modules`.\")\n",
      "/opt/conda/lib/python3.11/site-packages/torch/utils/checkpoint.py:429: UserWarning: torch.utils.checkpoint: please pass in use_reentrant=True or use_reentrant=False explicitly. The default value of use_reentrant will be updated to be False in the future. To maintain current behavior, pass use_reentrant=True. It is recommended that you use use_reentrant=False. Refer to docs for more details on the differences between the two variants.\n",
      "  warnings.warn(\n",
      "/opt/conda/lib/python3.11/site-packages/peft/utils/save_and_load.py:131: UserWarning: Setting `save_embedding_layers` to `True` as embedding layers found in `target_modules`.\n",
      "  warnings.warn(\"Setting `save_embedding_layers` to `True` as embedding layers found in `target_modules`.\")\n",
      "/opt/conda/lib/python3.11/site-packages/torch/utils/checkpoint.py:429: UserWarning: torch.utils.checkpoint: please pass in use_reentrant=True or use_reentrant=False explicitly. The default value of use_reentrant will be updated to be False in the future. To maintain current behavior, pass use_reentrant=True. It is recommended that you use use_reentrant=False. Refer to docs for more details on the differences between the two variants.\n",
      "  warnings.warn(\n",
      "/opt/conda/lib/python3.11/site-packages/peft/utils/save_and_load.py:131: UserWarning: Setting `save_embedding_layers` to `True` as embedding layers found in `target_modules`.\n",
      "  warnings.warn(\"Setting `save_embedding_layers` to `True` as embedding layers found in `target_modules`.\")\n",
      "/opt/conda/lib/python3.11/site-packages/torch/utils/checkpoint.py:429: UserWarning: torch.utils.checkpoint: please pass in use_reentrant=True or use_reentrant=False explicitly. The default value of use_reentrant will be updated to be False in the future. To maintain current behavior, pass use_reentrant=True. It is recommended that you use use_reentrant=False. Refer to docs for more details on the differences between the two variants.\n",
      "  warnings.warn(\n"
     ]
    },
    {
     "ename": "KeyboardInterrupt",
     "evalue": "",
     "output_type": "error",
     "traceback": [
      "\u001b[0;31m---------------------------------------------------------------------------\u001b[0m",
      "\u001b[0;31mKeyboardInterrupt\u001b[0m                         Traceback (most recent call last)",
      "Cell \u001b[0;32mIn[33], line 37\u001b[0m\n\u001b[1;32m      9\u001b[0m trainer \u001b[38;5;241m=\u001b[39m transformers\u001b[38;5;241m.\u001b[39mTrainer(\n\u001b[1;32m     10\u001b[0m     model\u001b[38;5;241m=\u001b[39mmodel,\n\u001b[1;32m     11\u001b[0m     train_dataset\u001b[38;5;241m=\u001b[39mtokenized_train_dataset,\n\u001b[0;32m   (...)\u001b[0m\n\u001b[1;32m     33\u001b[0m     data_collator\u001b[38;5;241m=\u001b[39mtransformers\u001b[38;5;241m.\u001b[39mDataCollatorForLanguageModeling(tokenizer, mlm\u001b[38;5;241m=\u001b[39m\u001b[38;5;28;01mFalse\u001b[39;00m),\n\u001b[1;32m     34\u001b[0m )\n\u001b[1;32m     36\u001b[0m model\u001b[38;5;241m.\u001b[39mconfig\u001b[38;5;241m.\u001b[39muse_cache \u001b[38;5;241m=\u001b[39m \u001b[38;5;28;01mFalse\u001b[39;00m  \u001b[38;5;66;03m# silence the warnings. Please re-enable for inference!\u001b[39;00m\n\u001b[0;32m---> 37\u001b[0m trainer\u001b[38;5;241m.\u001b[39mtrain()\n",
      "File \u001b[0;32m/opt/conda/lib/python3.11/site-packages/transformers/trainer.py:1533\u001b[0m, in \u001b[0;36mTrainer.train\u001b[0;34m(self, resume_from_checkpoint, trial, ignore_keys_for_eval, **kwargs)\u001b[0m\n\u001b[1;32m   1531\u001b[0m         hf_hub_utils\u001b[38;5;241m.\u001b[39menable_progress_bars()\n\u001b[1;32m   1532\u001b[0m \u001b[38;5;28;01melse\u001b[39;00m:\n\u001b[0;32m-> 1533\u001b[0m     \u001b[38;5;28;01mreturn\u001b[39;00m inner_training_loop(\n\u001b[1;32m   1534\u001b[0m         args\u001b[38;5;241m=\u001b[39margs,\n\u001b[1;32m   1535\u001b[0m         resume_from_checkpoint\u001b[38;5;241m=\u001b[39mresume_from_checkpoint,\n\u001b[1;32m   1536\u001b[0m         trial\u001b[38;5;241m=\u001b[39mtrial,\n\u001b[1;32m   1537\u001b[0m         ignore_keys_for_eval\u001b[38;5;241m=\u001b[39mignore_keys_for_eval,\n\u001b[1;32m   1538\u001b[0m     )\n",
      "File \u001b[0;32m/opt/conda/lib/python3.11/site-packages/transformers/trainer.py:1847\u001b[0m, in \u001b[0;36mTrainer._inner_training_loop\u001b[0;34m(self, batch_size, args, resume_from_checkpoint, trial, ignore_keys_for_eval)\u001b[0m\n\u001b[1;32m   1844\u001b[0m     \u001b[38;5;28mself\u001b[39m\u001b[38;5;241m.\u001b[39mcontrol \u001b[38;5;241m=\u001b[39m \u001b[38;5;28mself\u001b[39m\u001b[38;5;241m.\u001b[39mcallback_handler\u001b[38;5;241m.\u001b[39mon_step_begin(args, \u001b[38;5;28mself\u001b[39m\u001b[38;5;241m.\u001b[39mstate, \u001b[38;5;28mself\u001b[39m\u001b[38;5;241m.\u001b[39mcontrol)\n\u001b[1;32m   1846\u001b[0m \u001b[38;5;28;01mwith\u001b[39;00m \u001b[38;5;28mself\u001b[39m\u001b[38;5;241m.\u001b[39maccelerator\u001b[38;5;241m.\u001b[39maccumulate(model):\n\u001b[0;32m-> 1847\u001b[0m     tr_loss_step \u001b[38;5;241m=\u001b[39m \u001b[38;5;28mself\u001b[39m\u001b[38;5;241m.\u001b[39mtraining_step(model, inputs)\n\u001b[1;32m   1849\u001b[0m \u001b[38;5;28;01mif\u001b[39;00m (\n\u001b[1;32m   1850\u001b[0m     args\u001b[38;5;241m.\u001b[39mlogging_nan_inf_filter\n\u001b[1;32m   1851\u001b[0m     \u001b[38;5;129;01mand\u001b[39;00m \u001b[38;5;129;01mnot\u001b[39;00m is_torch_tpu_available()\n\u001b[1;32m   1852\u001b[0m     \u001b[38;5;129;01mand\u001b[39;00m (torch\u001b[38;5;241m.\u001b[39misnan(tr_loss_step) \u001b[38;5;129;01mor\u001b[39;00m torch\u001b[38;5;241m.\u001b[39misinf(tr_loss_step))\n\u001b[1;32m   1853\u001b[0m ):\n\u001b[1;32m   1854\u001b[0m     \u001b[38;5;66;03m# if loss is nan or inf simply add the average of previous logged losses\u001b[39;00m\n\u001b[1;32m   1855\u001b[0m     tr_loss \u001b[38;5;241m+\u001b[39m\u001b[38;5;241m=\u001b[39m tr_loss \u001b[38;5;241m/\u001b[39m (\u001b[38;5;241m1\u001b[39m \u001b[38;5;241m+\u001b[39m \u001b[38;5;28mself\u001b[39m\u001b[38;5;241m.\u001b[39mstate\u001b[38;5;241m.\u001b[39mglobal_step \u001b[38;5;241m-\u001b[39m \u001b[38;5;28mself\u001b[39m\u001b[38;5;241m.\u001b[39m_globalstep_last_logged)\n",
      "File \u001b[0;32m/opt/conda/lib/python3.11/site-packages/transformers/trainer.py:2713\u001b[0m, in \u001b[0;36mTrainer.training_step\u001b[0;34m(self, model, inputs)\u001b[0m\n\u001b[1;32m   2711\u001b[0m         scaled_loss\u001b[38;5;241m.\u001b[39mbackward()\n\u001b[1;32m   2712\u001b[0m \u001b[38;5;28;01melse\u001b[39;00m:\n\u001b[0;32m-> 2713\u001b[0m     \u001b[38;5;28mself\u001b[39m\u001b[38;5;241m.\u001b[39maccelerator\u001b[38;5;241m.\u001b[39mbackward(loss)\n\u001b[1;32m   2715\u001b[0m \u001b[38;5;28;01mreturn\u001b[39;00m loss\u001b[38;5;241m.\u001b[39mdetach() \u001b[38;5;241m/\u001b[39m \u001b[38;5;28mself\u001b[39m\u001b[38;5;241m.\u001b[39margs\u001b[38;5;241m.\u001b[39mgradient_accumulation_steps\n",
      "File \u001b[0;32m/opt/conda/lib/python3.11/site-packages/accelerate/accelerator.py:1905\u001b[0m, in \u001b[0;36mAccelerator.backward\u001b[0;34m(self, loss, **kwargs)\u001b[0m\n\u001b[1;32m   1903\u001b[0m     \u001b[38;5;28mself\u001b[39m\u001b[38;5;241m.\u001b[39mscaler\u001b[38;5;241m.\u001b[39mscale(loss)\u001b[38;5;241m.\u001b[39mbackward(\u001b[38;5;241m*\u001b[39m\u001b[38;5;241m*\u001b[39mkwargs)\n\u001b[1;32m   1904\u001b[0m \u001b[38;5;28;01melse\u001b[39;00m:\n\u001b[0;32m-> 1905\u001b[0m     loss\u001b[38;5;241m.\u001b[39mbackward(\u001b[38;5;241m*\u001b[39m\u001b[38;5;241m*\u001b[39mkwargs)\n",
      "File \u001b[0;32m/opt/conda/lib/python3.11/site-packages/torch/_tensor.py:492\u001b[0m, in \u001b[0;36mTensor.backward\u001b[0;34m(self, gradient, retain_graph, create_graph, inputs)\u001b[0m\n\u001b[1;32m    482\u001b[0m \u001b[38;5;28;01mif\u001b[39;00m has_torch_function_unary(\u001b[38;5;28mself\u001b[39m):\n\u001b[1;32m    483\u001b[0m     \u001b[38;5;28;01mreturn\u001b[39;00m handle_torch_function(\n\u001b[1;32m    484\u001b[0m         Tensor\u001b[38;5;241m.\u001b[39mbackward,\n\u001b[1;32m    485\u001b[0m         (\u001b[38;5;28mself\u001b[39m,),\n\u001b[0;32m   (...)\u001b[0m\n\u001b[1;32m    490\u001b[0m         inputs\u001b[38;5;241m=\u001b[39minputs,\n\u001b[1;32m    491\u001b[0m     )\n\u001b[0;32m--> 492\u001b[0m torch\u001b[38;5;241m.\u001b[39mautograd\u001b[38;5;241m.\u001b[39mbackward(\n\u001b[1;32m    493\u001b[0m     \u001b[38;5;28mself\u001b[39m, gradient, retain_graph, create_graph, inputs\u001b[38;5;241m=\u001b[39minputs\n\u001b[1;32m    494\u001b[0m )\n",
      "File \u001b[0;32m/opt/conda/lib/python3.11/site-packages/torch/autograd/__init__.py:251\u001b[0m, in \u001b[0;36mbackward\u001b[0;34m(tensors, grad_tensors, retain_graph, create_graph, grad_variables, inputs)\u001b[0m\n\u001b[1;32m    246\u001b[0m     retain_graph \u001b[38;5;241m=\u001b[39m create_graph\n\u001b[1;32m    248\u001b[0m \u001b[38;5;66;03m# The reason we repeat the same comment below is that\u001b[39;00m\n\u001b[1;32m    249\u001b[0m \u001b[38;5;66;03m# some Python versions print out the first line of a multi-line function\u001b[39;00m\n\u001b[1;32m    250\u001b[0m \u001b[38;5;66;03m# calls in the traceback and some print out the last line\u001b[39;00m\n\u001b[0;32m--> 251\u001b[0m Variable\u001b[38;5;241m.\u001b[39m_execution_engine\u001b[38;5;241m.\u001b[39mrun_backward(  \u001b[38;5;66;03m# Calls into the C++ engine to run the backward pass\u001b[39;00m\n\u001b[1;32m    252\u001b[0m     tensors,\n\u001b[1;32m    253\u001b[0m     grad_tensors_,\n\u001b[1;32m    254\u001b[0m     retain_graph,\n\u001b[1;32m    255\u001b[0m     create_graph,\n\u001b[1;32m    256\u001b[0m     inputs,\n\u001b[1;32m    257\u001b[0m     allow_unreachable\u001b[38;5;241m=\u001b[39m\u001b[38;5;28;01mTrue\u001b[39;00m,\n\u001b[1;32m    258\u001b[0m     accumulate_grad\u001b[38;5;241m=\u001b[39m\u001b[38;5;28;01mTrue\u001b[39;00m,\n\u001b[1;32m    259\u001b[0m )\n",
      "\u001b[0;31mKeyboardInterrupt\u001b[0m: "
     ]
    }
   ],
   "source": [
    "import transformers\n",
    "from datetime import datetime\n",
    "\n",
    "project = \"discern-finetune\"\n",
    "base_model_name = \"mistral\"\n",
    "run_name = base_model_name + \"-\" + project\n",
    "output_dir = \"./\" + run_name\n",
    "\n",
    "trainer = transformers.Trainer(\n",
    "    model=model,\n",
    "    train_dataset=tokenized_train_dataset,\n",
    "    eval_dataset=tokenized_val_dataset,\n",
    "    args=transformers.TrainingArguments(\n",
    "        output_dir=output_dir,\n",
    "        warmup_steps=1,\n",
    "        per_device_train_batch_size=2,\n",
    "        gradient_accumulation_steps=1,\n",
    "        gradient_checkpointing=True,\n",
    "        max_steps=1000000,\n",
    "        learning_rate=2.5e-5, # Want a small lr for finetuning\n",
    "        bf16=True,\n",
    "        optim=\"paged_adamw_8bit\",\n",
    "        logging_steps=25,              # When to start reporting loss\n",
    "        logging_dir=\"./logs\",        # Directory for storing logs\n",
    "        save_strategy=\"steps\",       # Save the model checkpoint every logging step\n",
    "        save_steps=200,                # Save checkpoints every 50 steps\n",
    "        evaluation_strategy=\"steps\", # Evaluate the model every logging step\n",
    "        eval_steps=1000,               # Evaluate and save checkpoints every 50 steps\n",
    "        do_eval=True,                # Perform evaluation at the end of training\n",
    "        report_to=\"wandb\",           # Comment this out if you don't want to use weights & baises\n",
    "        run_name=f\"{run_name}-{datetime.now().strftime('%Y-%m-%d-%H-%M')}\",          # Name of the W&B run (optional)\n",
    "    ),\n",
    "    data_collator=transformers.DataCollatorForLanguageModeling(tokenizer, mlm=False),\n",
    ")\n",
    "\n",
    "model.config.use_cache = False  # silence the warnings. Please re-enable for inference!\n",
    "trainer.train()"
   ]
  },
  {
   "cell_type": "markdown",
   "metadata": {
    "id": "0D57XqcsyRgo"
   },
   "source": [
    "## Try the Trained Model!\n",
    "\n",
    "It's a good idea to kill the current process so that you don't run out of memory loading the base model again on top of the model we just trained. Go to `Kernel > Restart Kernel` or kill the process via the Terminal (`nvidia smi` > `kill [PID]`). \n",
    "\n",
    "By default, the PEFT library will only save the QLoRA adapters, so we need to first load the base model from the Huggingface Hub.\n",
    "\n",
    "### Load the base model"
   ]
  },
  {
   "cell_type": "code",
   "execution_count": 1,
   "metadata": {
    "colab": {
     "referenced_widgets": [
      "fb8230fb86884aa6be318e2d03a88af2"
     ]
    },
    "id": "SKSnF016yRgp",
    "outputId": "bce5209d-90da-4117-c6ac-cda9f3cb3422"
   },
   "outputs": [
    {
     "data": {
      "application/vnd.jupyter.widget-view+json": {
       "model_id": "ed8a2e3403734a678124cfd6e20f5743",
       "version_major": 2,
       "version_minor": 0
      },
      "text/plain": [
       "Loading checkpoint shards:   0%|          | 0/2 [00:00<?, ?it/s]"
      ]
     },
     "metadata": {},
     "output_type": "display_data"
    }
   ],
   "source": [
    "import torch\n",
    "from transformers import AutoTokenizer, AutoModelForCausalLM, BitsAndBytesConfig\n",
    "\n",
    "base_model_id = \"mistralai/Mistral-7B-v0.1\"\n",
    "bnb_config = BitsAndBytesConfig(\n",
    "    load_in_4bit=True,\n",
    "    bnb_4bit_use_double_quant=True,\n",
    "    bnb_4bit_quant_type=\"nf4\",\n",
    "    bnb_4bit_compute_dtype=torch.bfloat16\n",
    ")\n",
    "\n",
    "base_model = AutoModelForCausalLM.from_pretrained(\n",
    "    base_model_id,  # Mistral, same as before\n",
    "    quantization_config=bnb_config,  # Same quantization config as before\n",
    "    device_map=\"auto\",\n",
    "    trust_remote_code=True,\n",
    ")\n",
    "\n",
    "tokenizer = AutoTokenizer.from_pretrained(base_model_id, add_bos_token=True, trust_remote_code=True)"
   ]
  },
  {
   "cell_type": "markdown",
   "metadata": {
    "id": "_BxOhAiqyRgp"
   },
   "source": [
    "### Load the Trained QLora Adapter\n",
    "\n",
    "Now load the QLoRA adapter from the appropriate checkpoint directory, i.e. the best performing model checkpoint:"
   ]
  },
  {
   "cell_type": "code",
   "execution_count": 2,
   "metadata": {
    "id": "GwsiqhWuyRgp"
   },
   "outputs": [],
   "source": [
    "from peft import PeftModel\n",
    "\n",
    "ft_model = PeftModel.from_pretrained(base_model, \"mistral-discern-finetune/checkpoint-11000\")"
   ]
  },
  {
   "cell_type": "markdown",
   "metadata": {},
   "source": [
    "### Let's load the eval dataset"
   ]
  },
  {
   "cell_type": "code",
   "execution_count": 3,
   "metadata": {},
   "outputs": [],
   "source": [
    "from datasets import load_dataset\n",
    "\n",
    "eval_dataset = load_dataset(\"json\", data_files='./validation_data.jsonl', split='train')"
   ]
  },
  {
   "cell_type": "markdown",
   "metadata": {},
   "source": [
    "### Test out a random validation set member"
   ]
  },
  {
   "cell_type": "code",
   "execution_count": 24,
   "metadata": {
    "id": "lMkVNEUvyRgp",
    "outputId": "7d49d409-5dbe-4306-c1a4-9d87e3073397"
   },
   "outputs": [
    {
     "name": "stderr",
     "output_type": "stream",
     "text": [
      "Setting `pad_token_id` to `eos_token_id`:2 for open-end generation.\n"
     ]
    },
    {
     "name": "stdout",
     "output_type": "stream",
     "text": [
      "Mistral Anaswer:\n",
      "### Question:\n",
      "You are a Student Web Activity Analyzer developed to support professionals, including Social Workers, School Psychologists, District Administrators, School Safety Specialists, and related roles. Your primary objective is to meticulously evaluate the online activity of K-12 students and identify specific indicators related to their interests and passions. For each identified indicator, provide a JSON object containing:\n",
      "\n",
      "Presence: A value of 1 (if the indicator is present) or 0 (if not). Mark as 1 even if only part of the data aligns with an indicator.\n",
      "Confidence: Provide a confidence level on a scale of 1-10 to indicate your level of certainty in the analysis.\n",
      "Note: Include information on the logic used to decide that certain indicators were identified and a summary of the analyzed web activity.\n",
      "\n",
      "Consider patterns in the data, not just individual searches.\n",
      "\n",
      "Consider that the online activity originates from a school-issued device.\n",
      "\n",
      "If ambiguous use your best judgment, reflect uncertainty in confidence score.\n",
      "\n",
      "Here are the specific indicators for this task:\n",
      "\n",
      "'sports-and-athletics'\n",
      "'environmentalism-and-sustainability'\n",
      "'gaming-and-e-sports'\n",
      "'college-and-career'\n",
      "'cooking-and-food'\n",
      "'reading-and-literature'\n",
      "'writing-and-creative-writing'\n",
      "'science-and-technology'\n",
      "'mathematics-and-statistics'\n",
      "'creative-arts'\n",
      "'animals-and-nature'\n",
      "'history-and-social-studies'\n",
      "\n",
      "\n",
      "### Search Data:\n",
      "['memorization definition', 'memorization in a sentence', 'memorization in a sentence that a 6th grader uses', 'memorization in a sentence ', 'memorization in a sentence easy', 'commemorate in a sentence easy', 'aviation in a sentence easy', 'aviary in a sentence easy', 'aviatrix in a sentence easy', 'new moonlight liks', 'pokemon showdown', 'poke pokemon', 'mesopotamia location', 'mesopotamia money', 'ziggurats', 'ziggurat picture drawing', 'ziggurat picture drawing 3d', 'ziggurat picture drawing 3d easy', 'play spontaneous', 'mpontaneous', 'mesopotamia government', 'mesopotamia government building', 'mesopotamia government building easy drawing', 'mesopotamia government building ', 'hollow knight', 'hollow knight playthrough', 'hollow knight speedrun', 'hollow knight speedrun', 'hollow knight speedrun', 'hollow knight 5 endings ', 'mesopotamia location', 'mesopotamia house', 'stuff', 'ziggurat picture drawing 3d easy', 'ziggurat picture drawing 3d easy colored', 'drift boss', 'school bell', 'flag', 'flag that is not rea;', 'flag that is not real;', 'death flag', 'fag', 'google translate', 'google translate', 'red is susu', 'flag that is not rea;', 'flag that is not real;', 'monkey songs', 'monkey sounds', 'augus leavengood', 'august leavengood', 'what is the averge age people dei', 'when will a die', 'cole', 'athletic.net', 'the ponia notes to beemix by groovydominoes52', 'mesopotamia house', 'max and the midknights', 'max and the midknights 4', 'max and the midknights saying by', 'max and the midknights saying by', 'max and the midknights saying by', 'knight', 'snowrider3d', 'snow-rider-3d.github', 'chrishmis tree', 'christmas tree drawing', 'komodo dragons', 'komodo dragon venom effects', 'komodo dragon venom when was it discovered', 'sa', '1000 word essay', 'venomenis', 'venomous', 'in holes is mary lou a boy or gorl', 'how do you make a french', 'fence', 'how to find herobrin', 'how to find herobrine', 'how to find herobrine seed', 'sharecropper']\n",
      "\n",
      "### Example Output:\n",
      "{\n",
      "  \"sports-and-athletics\": \"1\",\n",
      "  \"sports-and-athletics-confidence\": \"6\",\n",
      "  \"environmentalism-and-sustainability\": \"0\",\n",
      "  \"environmentalism-and-sustainability-confidence\": \"8\",\n",
      "  \"gaming-and-e-sports\": \"0\",\n",
      "  \"gaming-and-e-sports-confidence\": \"10\",\n",
      "  \"college-and-career\": \"1\",\n",
      "  \"college-and-career-confidence\": \"7\",\n",
      "  \"cooking-and-food\": \"1\",\n",
      "  \"cooking-and-food-confidence\": \"7\",\n",
      "  \"reading-and-literature\": \"0\",\n",
      "  \"reading-and-literature-confidence\": \"7\",\n",
      "  \"writing-and-creative-writing\": \"1\",\n",
      "  \"writing-and-creative-writing-confidence\": \"8\",\n",
      "  \"science-and-technology\": \"0\",\n",
      "  \"science-and-technology-confidence\": \"10\",\n",
      "  \"mathematics-and-statistics\": \"1\",\n",
      "  \"mathematics-and-statistics-confidence\": \"6\",\n",
      "  \"creative-arts\": \"1\",\n",
      "  \"creative-arts-confidence\": \"8\",\n",
      "  \"animals-and-nature\": \"1\",\n",
      "  \"animals-and-nature-confidence\": \"9\",\n",
      "  \"history-and-social-studies\": \"0\",\n",
      "  \"history-and-social-studies-confidence\": \"9\",\n",
      "  \"note\": \"Detailed Summary Goes Here \"\n",
      "}\n",
      "\n",
      "### Solution:\n",
      "{\n",
      "  \"sports-and-athletics\": \"1.0\",\n",
      "  \"sports-and-athletics-confidence\": \"4.0\",\n",
      "  \"environmentalism-and-sustainability\": \"0.0\",\n",
      "  \"environmentalism-and-sustainability-confidence\": \"10.0\",\n",
      "  \"gaming-and-e-sports\": \"1.0\",\n",
      "  \"gaming-and-e-sports-confidence\": \"9.0\",\n",
      "  \"college-and-career\": \"0.0\",\n",
      "  \"college-and-career-confidence\": \"10.0\",\n",
      "  \"cooking-and-food\": \"0.0\",\n",
      "  \"cooking-and-food-confidence\": \"10.0\",\n",
      "  \"reading-and-literature\": \"1.0\",\n",
      "  \"reading-and-literature-confidence\": \"7.0\",\n",
      "  \"writing-and-creative-writing\": \"1.0\",\n",
      "  \"writing-and-creative-writing-confidence\": \"8.0\",\n",
      "  \"science-and-technology\": \"0.0\",\n",
      "  \"science-and-technology-confidence\": \"10.0\",\n",
      "  \"mathematics-and-statistics\": \"0.0\",\n",
      "  \"mathematics-and-statistics-confidence\": \"10.0\",\n",
      "  \"history-and-social-studies\": \"1.0\",\n",
      "  \"history-and-social-studies-confidence\": \"8.0\",\n",
      "  \"creative-arts\": \"1.0\",\n",
      "  \"creative-arts-confidence\": \"7.0\",\n",
      "  \"animals-and-nature\": \"1.0\",\n",
      "  \"animals-and-nature-confidence\": \"5.0\",\n",
      "  \"note\": \"The student showed interest in sports through a search about athletic.net, indicating some engagement with athletics, though the confidence is moderate due to limited data. Gaming interest is evident from multiple searches related to Pokémon and Hollow Knight, suggesting a strong inclination towards gaming and e-sports. Literature interest is indicated by repeated searches for 'Max and the Midknights,' a book series. Creative writing is suggested by searches for words like 'memorization' and 'commemorate' in sentences, possibly for a writing assignment. The student also searched for creative arts content such as drawings of ziggurats and Christmas trees. Interest in animals is shown by searches about komodo dragons. History and social studies interest is indicated by multiple searches about Mesopotamia.\"\n",
      "}\n",
      "\n",
      "### Note:\n",
      "The presence of searches related to 'Hollow Knight' suggests a strong interest in gaming, while the repeated searches for 'Max and the Midknights' indicate an interest in reading and literature. The student also engaged with creative activities, as seen in searches for drawings and definitions of words in sentences, which may suggest an interest in writing and creative arts. There is no clear evidence of environmentalism, college and career planning, cooking, science and technology, mathematics, or animals beyond the context of gaming. The search for 'athletic.net' indicates some interest in sports, but the confidence is lower due to the lack of additional supporting data. The student also looked up historical topics related to Mesopotamia, indicating an interest in history and social studies. No significant evidence was found for the other categories.\n",
      "\n",
      "Origional Answer\n",
      "\n",
      "{\n",
      "  \"sports-and-athletics\": \"1.0\",\n",
      "  \"sports-and-athletics-confidence\": \"4.0\",\n",
      "  \"environmentalism-and-sustainability\": \"0.0\",\n",
      "  \"environmentalism-and-sustainability-confidence\": \"10.0\",\n",
      "  \"gaming-and-e-sports\": \"1.0\",\n",
      "  \"gaming-and-e-sports-confidence\": \"9.0\",\n",
      "  \"college-and-career\": \"0.0\",\n",
      "  \"college-and-career-confidence\": \"10.0\",\n",
      "  \"cooking-and-food\": \"0.0\",\n",
      "  \"cooking-and-food-confidence\": \"10.0\",\n",
      "  \"reading-and-literature\": \"1.0\",\n",
      "  \"reading-and-literature-confidence\": \"7.0\",\n",
      "  \"writing-and-creative-writing\": \"1.0\",\n",
      "  \"writing-and-creative-writing-confidence\": \"8.0\",\n",
      "  \"science-and-technology\": \"0.0\",\n",
      "  \"science-and-technology-confidence\": \"10.0\",\n",
      "  \"mathematics-and-statistics\": \"0.0\",\n",
      "  \"mathematics-and-statistics-confidence\": \"10.0\",\n",
      "  \"history-and-social-studies\": \"1.0\",\n",
      "  \"history-and-social-studies-confidence\": \"9.0\",\n",
      "  \"creative-arts\": \"1.0\",\n",
      "  \"creative-arts-confidence\": \"7.0\",\n",
      "  \"animals-and-nature\": \"1.0\",\n",
      "  \"animals-and-nature-confidence\": \"6.0\",\n",
      "  \"note\": \"The student showed interest in sports through searches related to athletics.net, indicating some engagement with sports and athletics. Gaming interest is evident from repeated searches about 'pokemon showdown', 'hollow knight', and other gaming-related terms. Literature interest is shown through searches for 'max and the midknights', a book series. Creative writing is suggested by the focus on using words in sentences and looking up definitions. Creative arts are indicated by searches for drawing ziggurats and Christmas trees. Interest in animals and nature is shown by searches about komodo dragons. History and social studies are reflected in the repeated searches about Mesopotamia, its government, and houses.\"\n",
      "}\n"
     ]
    }
   ],
   "source": [
    "prompt, origional_answer = eval_dataset['document'][2].split(\"### Solution:\")\n",
    "prompt += \"### Solution:\"\n",
    "\n",
    "\n",
    "model_input = tokenizer(prompt, return_tensors=\"pt\").to(\"cuda\")\n",
    "\n",
    "ft_model.eval()\n",
    "with torch.no_grad():\n",
    "    print(\"Mistral Anaswer:\")\n",
    "    print(tokenizer.decode(ft_model.generate(**model_input, max_new_tokens=1000, repetition_penalty=1.15)[0], skip_special_tokens=True))\n",
    "    print(\"\\nOrigional Answer\")\n",
    "    print(origional_answer)"
   ]
  },
  {
   "cell_type": "code",
   "execution_count": null,
   "metadata": {
    "id": "ZjPlpRSJ-aSs"
   },
   "outputs": [],
   "source": []
  }
 ],
 "metadata": {
  "accelerator": "GPU",
  "colab": {
   "gpuType": "T4",
   "provenance": []
  },
  "gpuClass": "standard",
  "kernelspec": {
   "display_name": "Python 3 (ipykernel)",
   "language": "python",
   "name": "python3"
  },
  "language_info": {
   "codemirror_mode": {
    "name": "ipython",
    "version": 3
   },
   "file_extension": ".py",
   "mimetype": "text/x-python",
   "name": "python",
   "nbconvert_exporter": "python",
   "pygments_lexer": "ipython3",
   "version": "3.11.5"
  }
 },
 "nbformat": 4,
 "nbformat_minor": 4
}
