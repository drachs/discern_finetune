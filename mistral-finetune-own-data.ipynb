{
 "cells": [
  {
   "cell_type": "markdown",
   "metadata": {
    "id": "xFCx6jZU3m11"
   },
   "source": [
    "![title](securly-banner2.jpg)\n",
    "\n",
    "# Mistral for Discern - Fine Tune POC\n",
    "\n",
    "This notebook was adapted from this video: https://youtu.be/kmkcNVvEz-k?si=Ogt1wRFNqYI6zXfw&t=1\n",
    "\n",
    "We will use QLoRA, a fine-tuning method that combines quantization and LoRA. For more information about what those are and how they work, see [this post](https://brev.dev/blog/how-qlora-works).\n",
    "\n",
    "In this notebook, we will load the large model in 4bit using `bitsandbytes` and use LoRA to train using the PEFT library from Hugging Face 🤗."
   ]
  },
  {
   "cell_type": "markdown",
   "metadata": {},
   "source": [
    "## Preliminaries\n",
    "\n",
    "Install libraries, load environment, etc.   You're going to need a .env file that looks like this:\n",
    "\n",
    "```bash\n",
    "ES_KEY_ID=\"HljH...\"\r\n",
    "ES_KEY=\"J2eGSPU...g\n",
    "\n",
    "```"
   ]
  },
  {
   "cell_type": "code",
   "execution_count": 4,
   "metadata": {},
   "outputs": [
    {
     "name": "stdout",
     "output_type": "stream",
     "text": [
      "\u001b[33mWARNING: Running pip as the 'root' user can result in broken permissions and conflicting behaviour with the system package manager. It is recommended to use a virtual environment instead: https://pip.pypa.io/warnings/venv\u001b[0m\u001b[33m\n",
      "\u001b[0m\u001b[33mWARNING: Running pip as the 'root' user can result in broken permissions and conflicting behaviour with the system package manager. It is recommended to use a virtual environment instead: https://pip.pypa.io/warnings/venv\u001b[0m\u001b[33m\n",
      "\u001b[0m\u001b[33mWARNING: Running pip as the 'root' user can result in broken permissions and conflicting behaviour with the system package manager. It is recommended to use a virtual environment instead: https://pip.pypa.io/warnings/venv\u001b[0m\u001b[33m\n",
      "\u001b[0m\u001b[33mWARNING: Running pip as the 'root' user can result in broken permissions and conflicting behaviour with the system package manager. It is recommended to use a virtual environment instead: https://pip.pypa.io/warnings/venv\u001b[0m\u001b[33m\n",
      "\u001b[0m"
     ]
    }
   ],
   "source": [
    "!conda install -qy scikit-learn scipy matplotlib\n",
    "!pip install -q -U python-dotenv\n",
    "!pip install -q -U  elasticsearch\n",
    "!pip install -q -U  datasets # The version in conda is broken?\n",
    "!pip install -q -U bitsandbytes\n",
    "!pip install -q -U git+https://github.com/huggingface/transformers.git\n",
    "!pip install -q -U git+https://github.com/huggingface/peft.git\n",
    "!pip install -q -U git+https://github.com/huggingface/accelerate.git"
   ]
  },
  {
   "cell_type": "code",
   "execution_count": 41,
   "metadata": {},
   "outputs": [
    {
     "data": {
      "text/plain": [
       "True"
      ]
     },
     "execution_count": 41,
     "metadata": {},
     "output_type": "execute_result"
    }
   ],
   "source": [
    "from dotenv import load_dotenv\n",
    "import os\n",
    "\n",
    "# Load keys and such from the .env file\n",
    "load_dotenv()"
   ]
  },
  {
   "cell_type": "markdown",
   "metadata": {
    "id": "VC-9m2yv3m18"
   },
   "source": [
    "## Preparing data \n",
    "\n",
    "To prepare your dataset for loading, we need two `.jsonl` files structured something like this:\n",
    "```json\n",
    "{\"document\": \"journal-entry-for-model-to-predict\"}\n",
    "{\"document\": \"journal-entry-for-model-to-predict-1\"}\n",
    "{\"document\": \"journal-entry-for-model-to-predict-2\"}\n",
    "```\n",
    "\n",
    "You probably only need to do this once"
   ]
  },
  {
   "cell_type": "markdown",
   "metadata": {},
   "source": [
    "### Download Data from Elasticsearch"
   ]
  },
  {
   "cell_type": "code",
   "execution_count": 42,
   "metadata": {},
   "outputs": [
    {
     "data": {
      "text/html": [
       "<div>\n",
       "<style scoped>\n",
       "    .dataframe tbody tr th:only-of-type {\n",
       "        vertical-align: middle;\n",
       "    }\n",
       "\n",
       "    .dataframe tbody tr th {\n",
       "        vertical-align: top;\n",
       "    }\n",
       "\n",
       "    .dataframe thead th {\n",
       "        text-align: right;\n",
       "    }\n",
       "</style>\n",
       "<table border=\"1\" class=\"dataframe\">\n",
       "  <thead>\n",
       "    <tr style=\"text-align: right;\">\n",
       "      <th></th>\n",
       "      <th>Keywords</th>\n",
       "      <th>Variables</th>\n",
       "      <th>Note</th>\n",
       "      <th>AiTrainingPrompt</th>\n",
       "      <th>ExampleAiOutput</th>\n",
       "    </tr>\n",
       "  </thead>\n",
       "  <tbody>\n",
       "    <tr>\n",
       "      <th>0</th>\n",
       "      <td>[alexs, slope formula, aslope]</td>\n",
       "      <td>{'sports-and-athletics': 0.0, 'environmentalis...</td>\n",
       "      <td>The student searched for 'slope formula' which...</td>\n",
       "      <td>You are a Student Web Activity Analyzer develo...</td>\n",
       "      <td>{\\r\\n  \"sports-and-athletics\": \"1\",\\r\\n  \"spor...</td>\n",
       "    </tr>\n",
       "    <tr>\n",
       "      <th>1</th>\n",
       "      <td>[adj, hellosmart]</td>\n",
       "      <td>{'sports-and-athletics': 0.0, 'environmentalis...</td>\n",
       "      <td>The search term 'adj' does not provide enough ...</td>\n",
       "      <td>You are a Student Web Activity Analyzer develo...</td>\n",
       "      <td>{\\r\\n  \"sports-and-athletics\": \"1\",\\r\\n  \"spor...</td>\n",
       "    </tr>\n",
       "    <tr>\n",
       "      <th>2</th>\n",
       "      <td>[carrie fanart tawog, paswg art style, carrie ...</td>\n",
       "      <td>{'sports-and-athletics': 0.0, 'environmentalis...</td>\n",
       "      <td>The student's web activity shows a strong inte...</td>\n",
       "      <td>You are a Student Web Activity Analyzer develo...</td>\n",
       "      <td>{\\r\\n  \"sports-and-athletics\": \"1\",\\r\\n  \"spor...</td>\n",
       "    </tr>\n",
       "    <tr>\n",
       "      <th>3</th>\n",
       "      <td>[how were marriages arranged in ancient babylo...</td>\n",
       "      <td>{'sports-and-athletics': 0.0, 'environmentalis...</td>\n",
       "      <td>The student's web activity indicates a strong ...</td>\n",
       "      <td>You are a Student Web Activity Analyzer develo...</td>\n",
       "      <td>{\\r\\n  \"sports-and-athletics\": \"1\",\\r\\n  \"spor...</td>\n",
       "    </tr>\n",
       "    <tr>\n",
       "      <th>4</th>\n",
       "      <td>[kahoot join, lamborghini egoista  black, calc...</td>\n",
       "      <td>{'sports-and-athletics': 0.0, 'environmentalis...</td>\n",
       "      <td>The student's online activities include multip...</td>\n",
       "      <td>You are a Student Web Activity Analyzer develo...</td>\n",
       "      <td>{\\r\\n  \"sports-and-athletics\": \"1\",\\r\\n  \"spor...</td>\n",
       "    </tr>\n",
       "    <tr>\n",
       "      <th>...</th>\n",
       "      <td>...</td>\n",
       "      <td>...</td>\n",
       "      <td>...</td>\n",
       "      <td>...</td>\n",
       "      <td>...</td>\n",
       "    </tr>\n",
       "    <tr>\n",
       "      <th>495</th>\n",
       "      <td>[170 140, emma_bydlon, emma bydlon, 7x454, 12x...</td>\n",
       "      <td>{'sports-and-athletics': 1.0, 'environmentalis...</td>\n",
       "      <td>The student showed a strong interest in sports...</td>\n",
       "      <td>You are a Student Web Activity Analyzer develo...</td>\n",
       "      <td>{\\r\\n  \"sports-and-athletics\": \"1\",\\r\\n  \"spor...</td>\n",
       "    </tr>\n",
       "    <tr>\n",
       "      <th>496</th>\n",
       "      <td>[owens in cursive, owens in cowboys number 81 ...</td>\n",
       "      <td>{'sports-and-athletics': 1.0, 'environmentalis...</td>\n",
       "      <td>The student's web activity is heavily focused ...</td>\n",
       "      <td>You are a Student Web Activity Analyzer develo...</td>\n",
       "      <td>{\\r\\n  \"sports-and-athletics\": \"1\",\\r\\n  \"spor...</td>\n",
       "    </tr>\n",
       "    <tr>\n",
       "      <th>497</th>\n",
       "      <td>[suprem hoodie, derhan harman football camp 20...</td>\n",
       "      <td>{'sports-and-athletics': 1.0, 'environmentalis...</td>\n",
       "      <td>The student's web activity shows a strong inte...</td>\n",
       "      <td>You are a Student Web Activity Analyzer develo...</td>\n",
       "      <td>{\\r\\n  \"sports-and-athletics\": \"1\",\\r\\n  \"spor...</td>\n",
       "    </tr>\n",
       "    <tr>\n",
       "      <th>498</th>\n",
       "      <td>[99.math, hello kitty, kuromi, kuromi thankagi...</td>\n",
       "      <td>{'sports-and-athletics': 1.0, 'environmentalis...</td>\n",
       "      <td>The student showed interest in gaming, specifi...</td>\n",
       "      <td>You are a Student Web Activity Analyzer develo...</td>\n",
       "      <td>{\\r\\n  \"sports-and-athletics\": \"1\",\\r\\n  \"spor...</td>\n",
       "    </tr>\n",
       "    <tr>\n",
       "      <th>499</th>\n",
       "      <td>[b-shoc songs, google doodle baseball, how do ...</td>\n",
       "      <td>{'sports-and-athletics': 1.0, 'environmentalis...</td>\n",
       "      <td>The student showed interest in sports through ...</td>\n",
       "      <td>You are a Student Web Activity Analyzer develo...</td>\n",
       "      <td>{\\r\\n  \"sports-and-athletics\": \"1\",\\r\\n  \"spor...</td>\n",
       "    </tr>\n",
       "  </tbody>\n",
       "</table>\n",
       "<p>500 rows × 5 columns</p>\n",
       "</div>"
      ],
      "text/plain": [
       "                                              Keywords  \\\n",
       "0                       [alexs, slope formula, aslope]   \n",
       "1                                    [adj, hellosmart]   \n",
       "2    [carrie fanart tawog, paswg art style, carrie ...   \n",
       "3    [how were marriages arranged in ancient babylo...   \n",
       "4    [kahoot join, lamborghini egoista  black, calc...   \n",
       "..                                                 ...   \n",
       "495  [170 140, emma_bydlon, emma bydlon, 7x454, 12x...   \n",
       "496  [owens in cursive, owens in cowboys number 81 ...   \n",
       "497  [suprem hoodie, derhan harman football camp 20...   \n",
       "498  [99.math, hello kitty, kuromi, kuromi thankagi...   \n",
       "499  [b-shoc songs, google doodle baseball, how do ...   \n",
       "\n",
       "                                             Variables  \\\n",
       "0    {'sports-and-athletics': 0.0, 'environmentalis...   \n",
       "1    {'sports-and-athletics': 0.0, 'environmentalis...   \n",
       "2    {'sports-and-athletics': 0.0, 'environmentalis...   \n",
       "3    {'sports-and-athletics': 0.0, 'environmentalis...   \n",
       "4    {'sports-and-athletics': 0.0, 'environmentalis...   \n",
       "..                                                 ...   \n",
       "495  {'sports-and-athletics': 1.0, 'environmentalis...   \n",
       "496  {'sports-and-athletics': 1.0, 'environmentalis...   \n",
       "497  {'sports-and-athletics': 1.0, 'environmentalis...   \n",
       "498  {'sports-and-athletics': 1.0, 'environmentalis...   \n",
       "499  {'sports-and-athletics': 1.0, 'environmentalis...   \n",
       "\n",
       "                                                  Note  \\\n",
       "0    The student searched for 'slope formula' which...   \n",
       "1    The search term 'adj' does not provide enough ...   \n",
       "2    The student's web activity shows a strong inte...   \n",
       "3    The student's web activity indicates a strong ...   \n",
       "4    The student's online activities include multip...   \n",
       "..                                                 ...   \n",
       "495  The student showed a strong interest in sports...   \n",
       "496  The student's web activity is heavily focused ...   \n",
       "497  The student's web activity shows a strong inte...   \n",
       "498  The student showed interest in gaming, specifi...   \n",
       "499  The student showed interest in sports through ...   \n",
       "\n",
       "                                      AiTrainingPrompt  \\\n",
       "0    You are a Student Web Activity Analyzer develo...   \n",
       "1    You are a Student Web Activity Analyzer develo...   \n",
       "2    You are a Student Web Activity Analyzer develo...   \n",
       "3    You are a Student Web Activity Analyzer develo...   \n",
       "4    You are a Student Web Activity Analyzer develo...   \n",
       "..                                                 ...   \n",
       "495  You are a Student Web Activity Analyzer develo...   \n",
       "496  You are a Student Web Activity Analyzer develo...   \n",
       "497  You are a Student Web Activity Analyzer develo...   \n",
       "498  You are a Student Web Activity Analyzer develo...   \n",
       "499  You are a Student Web Activity Analyzer develo...   \n",
       "\n",
       "                                       ExampleAiOutput  \n",
       "0    {\\r\\n  \"sports-and-athletics\": \"1\",\\r\\n  \"spor...  \n",
       "1    {\\r\\n  \"sports-and-athletics\": \"1\",\\r\\n  \"spor...  \n",
       "2    {\\r\\n  \"sports-and-athletics\": \"1\",\\r\\n  \"spor...  \n",
       "3    {\\r\\n  \"sports-and-athletics\": \"1\",\\r\\n  \"spor...  \n",
       "4    {\\r\\n  \"sports-and-athletics\": \"1\",\\r\\n  \"spor...  \n",
       "..                                                 ...  \n",
       "495  {\\r\\n  \"sports-and-athletics\": \"1\",\\r\\n  \"spor...  \n",
       "496  {\\r\\n  \"sports-and-athletics\": \"1\",\\r\\n  \"spor...  \n",
       "497  {\\r\\n  \"sports-and-athletics\": \"1\",\\r\\n  \"spor...  \n",
       "498  {\\r\\n  \"sports-and-athletics\": \"1\",\\r\\n  \"spor...  \n",
       "499  {\\r\\n  \"sports-and-athletics\": \"1\",\\r\\n  \"spor...  \n",
       "\n",
       "[500 rows x 5 columns]"
      ]
     },
     "metadata": {},
     "output_type": "display_data"
    }
   ],
   "source": [
    "from elasticsearch import Elasticsearch\n",
    "import pandas as pd\n",
    "\n",
    "es = Elasticsearch(\n",
    "    'https://elastic-ksi-prod.es.us-east-1.aws.found.io:443',\n",
    "    api_key=(os.getenv(\"ES_KEY_ID\"), os.getenv(\"ES_KEY\")),                  # Use this if you have an API key\n",
    ")\n",
    "\n",
    "# Define and Execute Query\n",
    "query = {\n",
    "    \"_source\": [\"AiTrainingPrompt\", \"Keywords\", \"ExampleAiOutput\", \"Variables\", \"Note\"],\n",
    "    \"query\": {\n",
    "        \"bool\": {\n",
    "            \"must\": [\n",
    "                {\"match\": {\"ClinicalFrameworkName\": \"Students' Interests - Alpha\"}},\n",
    "                {\"match\": {\"IsSuccess\": True}}\n",
    "            ]\n",
    "        }\n",
    "    }\n",
    "}\n",
    "response = es.search(index=\"prod-gpt-response\", body=query, size=500)\n",
    "\n",
    "# Process and Display Data\n",
    "hits = response['hits']['hits']\n",
    "data = pd.DataFrame([hit['_source'] for hit in hits])\n",
    "display(data)"
   ]
  },
  {
   "cell_type": "markdown",
   "metadata": {},
   "source": [
    "### Formatting the data back into a single message"
   ]
  },
  {
   "cell_type": "code",
   "execution_count": 43,
   "metadata": {},
   "outputs": [
    {
     "name": "stdout",
     "output_type": "stream",
     "text": [
      "### Question:\n",
      "You are a Student Web Activity Analyzer developed to support professionals, including Social Workers, School Psychologists, District Administrators, School Safety Specialists, and related roles. Your primary objective is to meticulously evaluate the online activity of K-12 students and identify specific indicators related to their interests and passions. For each identified indicator, provide a JSON object containing:\n",
      "\n",
      "Presence: Indicate a value of 1 (if the indicator is present) or 0 (if not). Even if only a portion of the data aligns with an indicator, mark it as 1.\n",
      "Confidence: Assign a confidence level on a scale of 1-10 to indicate the certainty level of your analysis.\n",
      "\n",
      "Additionally, please include a note that outlines the rationale behind identifying certain indicators and offers a summary of the analyzed web activity.\n",
      "\n",
      "Adhere to the JSON format outlined in the example output section precisely.\n",
      "\n",
      "Each individual online activity you receive represents one search or interaction on a student's device. Occasionally, searches that include large amounts of text will be summarized. These summaries will be marked with 'S~'. Such summarization typically occurs when students copy and paste extensive text blocks, although other cases may exist. Additional details will be provided in the summary.\n",
      "\n",
      "In situations where the presence of an indicator is ambiguous or if anomalies are present in the data, exercise your best judgment while providing a confidence level that reflects the level of uncertainty.\n",
      "\n",
      "Here are the specific indicators that you should use for this task, with definitions, delimited by single quotes.\n",
      "\n",
      "'sports-and-athletics: participating in physical activities and team sports to promote fitness, teamwork, and sportsmanship.'\n",
      "'environmentalism-and-sustainability: learning about the environment, conservation, and sustainable practices to become responsible global citizens.'\n",
      "'gaming-and-e-sports: engaging in digital gaming and competitive e-sports to develop strategic thinking, problem-solving, and teamwork skills.'\n",
      "'college-and-career: engaging in planning, research, and/or discovery around future college and career opportunities or otherwise demonstrating an interest in college or career activities after high school'\n",
      "'cooking-and-food: investigating cooking or food'\n",
      "'reading-and-literature: exploring the world of books and stories through reading and interpretation.'\n",
      "'writing-and-creative-writing: expressing thoughts, ideas, and imagination through written words and storytelling.'\n",
      "'science-and-technology: investigating the natural world and technological advancements'\n",
      "'mathematics-and-statistics: engaging in problem-solving and numerical analysis to understand patterns, shapes, and quantities.'\n",
      "'history-and-social-studies: discovering past events, cultures, and societies to gain a deeper understanding of the world.'\n",
      "'creative-arts: expressing creativity through various art forms like drawing, painting, sculpture, music, performing arts, and more'\n",
      "'animals-and-nature: reflects a student's enthusiasm and curiosity for studying, observing, or interacting with animals and natural environments, potentially driving academic pursuits, extracurricular activities, or career paths related to biology, ecology, or conservation.'\n",
      "\n",
      "\n",
      "### Search Data:\n",
      "['alexs', 'slope formula', 'aslope']\n",
      "\n",
      "### Example Output:\n",
      "{\n",
      "  \"sports-and-athletics\": \"1\",\n",
      "  \"sports-and-athletics-confidence\": \"6\",\n",
      "  \"environmentalism-and-sustainability\": \"0\",\n",
      "  \"environmentalism-and-sustainability-confidence\": \"8\",\n",
      "  \"gaming-and-e-sports\": \"0\",\n",
      "  \"gaming-and-e-sports-confidence\": \"10\",\n",
      "  \"college-and-career\": \"1\",\n",
      "  \"college-and-career-confidence\": \"7\",\n",
      "  \"cooking-and-food\": \"1\",\n",
      "  \"cooking-and-food-confidence\": \"7\",\n",
      "  \"reading-and-literature\": \"0\",\n",
      "  \"reading-and-literature-confidence\": \"7\",\n",
      "  \"writing-and-creative-writing\": \"1\",\n",
      "  \"writing-and-creative-writing-confidence\": \"8\",\n",
      "  \"science-and-technology\": \"0\",\n",
      "  \"science-and-technology-confidence\": \"10\",\n",
      "  \"mathematics-and-statistics\": \"1\",\n",
      "  \"mathematics-and-statistics-confidence\": \"6\",\n",
      "  \"history-and-social-studies\": \"9\",\n",
      "  \"history-and-social-studies-confidence\": \"0\",\n",
      "  \"creative-arts\": \"1\",\n",
      "  \"creative-arts-confidence\": \"8\",\n",
      "  \"animals-and-nature\": \"1\",\n",
      "  \"animals-and-nature-confidence\": \"9\",\n",
      "  \"note\": \"Detailed Summary Goes Here \"\n",
      "}\n",
      "\n",
      "### Solution:\n",
      "{\n",
      "  \"sports-and-athletics\": \"0.0\",\n",
      "  \"sports-and-athletics-confidence\": \"10.0\",\n",
      "  \"environmentalism-and-sustainability\": \"0.0\",\n",
      "  \"environmentalism-and-sustainability-confidence\": \"10.0\",\n",
      "  \"gaming-and-e-sports\": \"0.0\",\n",
      "  \"gaming-and-e-sports-confidence\": \"10.0\",\n",
      "  \"college-and-career\": \"0.0\",\n",
      "  \"college-and-career-confidence\": \"10.0\",\n",
      "  \"cooking-and-food\": \"0.0\",\n",
      "  \"cooking-and-food-confidence\": \"10.0\",\n",
      "  \"reading-and-literature\": \"0.0\",\n",
      "  \"reading-and-literature-confidence\": \"10.0\",\n",
      "  \"writing-and-creative-writing\": \"0.0\",\n",
      "  \"writing-and-creative-writing-confidence\": \"10.0\",\n",
      "  \"science-and-technology\": \"0.0\",\n",
      "  \"science-and-technology-confidence\": \"10.0\",\n",
      "  \"mathematics-and-statistics\": \"1.0\",\n",
      "  \"mathematics-and-statistics-confidence\": \"9.0\",\n",
      "  \"history-and-social-studies\": \"0.0\",\n",
      "  \"history-and-social-studies-confidence\": \"10.0\",\n",
      "  \"creative-arts\": \"0.0\",\n",
      "  \"creative-arts-confidence\": \"10.0\",\n",
      "  \"animals-and-nature\": \"0.0\",\n",
      "  \"animals-and-nature-confidence\": \"10.0\",\n",
      "  \"note\": \"The student searched for 'slope formula' which is related to mathematics, indicating an interest or homework activity in this subject. The confidence is high due to the specific nature of the search term. The other search term 'alexs' is ambiguous and does not provide enough context to confidently associate with any of the given indicators.\"\n",
      "}\n"
     ]
    }
   ],
   "source": [
    "import json\n",
    "\n",
    "def question_func(data):\n",
    "    question = \"\"\"### Question:\n",
    "{prompt}\n",
    "\n",
    "### Search Data:\n",
    "{searches}\n",
    "\n",
    "### Example Output:\n",
    "{example}\n",
    "\n",
    "### Solution:\"\"\".format(prompt=data['AiTrainingPrompt'], searches=data['Keywords'], example=data['ExampleAiOutput'])\n",
    "\n",
    "    return question\n",
    "\n",
    "def solution_func(data):\n",
    "    solution = \"\"\"\n",
    "{{\n",
    "  \"sports-and-athletics\": \"{sportsandathletics}\",\n",
    "  \"sports-and-athletics-confidence\": \"{sportsandathleticsconfidence}\",\n",
    "  \"environmentalism-and-sustainability\": \"{environmentalismandsustainability}\",\n",
    "  \"environmentalism-and-sustainability-confidence\": \"{environmentalismandsustainabilityconfidence}\",\n",
    "  \"gaming-and-e-sports\": \"{gamingandesports}\",\n",
    "  \"gaming-and-e-sports-confidence\": \"{gamingandesportsconfidence}\",\n",
    "  \"college-and-career\": \"{collegeandcareer}\",\n",
    "  \"college-and-career-confidence\": \"{collegeandcareerconfidence}\",\n",
    "  \"cooking-and-food\": \"{cookingandfood}\",\n",
    "  \"cooking-and-food-confidence\": \"{cookingandfoodconfidence}\",\n",
    "  \"reading-and-literature\": \"{readingandliterature}\",\n",
    "  \"reading-and-literature-confidence\": \"{readingandliteratureconfidence}\",\n",
    "  \"writing-and-creative-writing\": \"{writingandcreativewriting}\",\n",
    "  \"writing-and-creative-writing-confidence\": \"{writingandcreativewritingconfidence}\",\n",
    "  \"science-and-technology\": \"{scienceandtechnology}\",\n",
    "  \"science-and-technology-confidence\": \"{scienceandtechnologyconfidence}\",\n",
    "  \"mathematics-and-statistics\": \"{mathematicsandstatistics}\",\n",
    "  \"mathematics-and-statistics-confidence\": \"{mathematicsandstatisticsconfidence}\",\n",
    "  \"history-and-social-studies\": \"{historyandsocialstudies}\",\n",
    "  \"history-and-social-studies-confidence\": \"{historyandsocialstudiesconfidence}\",\n",
    "  \"creative-arts\": \"{creativearts}\",\n",
    "  \"creative-arts-confidence\": \"{creativeartsconfidence}\",\n",
    "  \"animals-and-nature\": \"{animalsandnature}\",\n",
    "  \"animals-and-nature-confidence\": \"{animalsandnatureconfidence}\",\n",
    "  \"note\": \"{note}\"\n",
    "}}\"\"\".format(sportsandathletics=data['Variables']['sports-and-athletics'],\n",
    "            sportsandathleticsconfidence=data['Variables']['sports-and-athletics-confidence'],\n",
    "            environmentalismandsustainability=data['Variables']['environmentalism-and-sustainability'],\n",
    "            environmentalismandsustainabilityconfidence=data['Variables']['environmentalism-and-sustainability-confidence'],\n",
    "            gamingandesports=data['Variables']['gaming-and-e-sports'],\n",
    "            gamingandesportsconfidence=data['Variables']['gaming-and-e-sports-confidence'],\n",
    "            collegeandcareer=data['Variables']['college-and-career'],\n",
    "            collegeandcareerconfidence=data['Variables']['college-and-career-confidence'],\n",
    "            cookingandfood=data['Variables']['cooking-and-food'],\n",
    "            cookingandfoodconfidence=data['Variables']['cooking-and-food-confidence'],\n",
    "            readingandliterature=data['Variables']['reading-and-literature'],\n",
    "            readingandliteratureconfidence=data['Variables']['reading-and-literature-confidence'],\n",
    "            writingandcreativewriting=data['Variables']['writing-and-creative-writing'],\n",
    "            writingandcreativewritingconfidence=data['Variables']['writing-and-creative-writing-confidence'],\n",
    "            scienceandtechnology=data['Variables']['science-and-technology'],\n",
    "            scienceandtechnologyconfidence=data['Variables']['science-and-technology-confidence'],\n",
    "            mathematicsandstatistics=data['Variables']['mathematics-and-statistics'],\n",
    "            mathematicsandstatisticsconfidence=data['Variables']['mathematics-and-statistics-confidence'],\n",
    "            historyandsocialstudies=data['Variables']['history-and-social-studies'],\n",
    "            historyandsocialstudiesconfidence=data['Variables']['history-and-social-studies-confidence'],\n",
    "            creativearts=data['Variables']['creative-arts'],\n",
    "            creativeartsconfidence=data['Variables']['creative-arts-confidence'],\n",
    "            animalsandnature=data['Variables']['animals-and-nature'],\n",
    "            animalsandnatureconfidence=data['Variables']['animals-and-nature-confidence'],\n",
    "            note=data['Note']\n",
    ")\n",
    "    \n",
    "    return solution\n",
    "\n",
    "def formatting_func(data):\n",
    "    return question_func(data)+solution_func(data)\n",
    "    \n",
    "print(formatting_func(data.loc[0]))"
   ]
  },
  {
   "cell_type": "code",
   "execution_count": 114,
   "metadata": {},
   "outputs": [],
   "source": [
    "documents = data.apply(formatting_func, axis=1)\n",
    "\n",
    "from sklearn.model_selection import train_test_split\n",
    "train_data, val_data = train_test_split(documents, test_size=0.2, random_state=42)\n",
    "\n",
    "train_df = pd.DataFrame(train_data)\n",
    "train_df.columns = ['document']\n",
    "val_df = pd.DataFrame(val_data)\n",
    "val_df.columns = ['document']\n",
    "\n",
    "train_df.to_json('train_data.jsonl', orient='records', lines=True)\n",
    "val_df.to_json('validation_data.jsonl', orient='records', lines=True)"
   ]
  },
  {
   "cell_type": "markdown",
   "metadata": {},
   "source": [
    "## Setting Up Loading Data\n"
   ]
  },
  {
   "cell_type": "code",
   "execution_count": 1,
   "metadata": {
    "id": "s6f4z8EYmcJ6"
   },
   "outputs": [],
   "source": [
    "from datasets import load_dataset\n",
    "\n",
    "train_dataset = load_dataset(\"json\", data_files='./train_data.jsonl', split='train')\n",
    "eval_dataset = load_dataset(\"json\", data_files='./validation_data.jsonl', split='train')"
   ]
  },
  {
   "cell_type": "markdown",
   "metadata": {
    "id": "shz8Xdv-yRgf"
   },
   "source": [
    "### 2. Load Base Model"
   ]
  },
  {
   "cell_type": "markdown",
   "metadata": {
    "id": "MJ-5idQwzvg-"
   },
   "source": [
    "Let's now load Mistral - mistralai/Mistral-7B-v0.1 - using 4-bit quantization!"
   ]
  },
  {
   "cell_type": "code",
   "execution_count": 2,
   "metadata": {
    "colab": {
     "referenced_widgets": [
      "45524c98039a46d5b7745ad7cb638d2f"
     ]
    },
    "id": "E0Nl5mWL0k2T",
    "outputId": "47b6b01d-e9f2-4b70-919c-17ae64993843"
   },
   "outputs": [
    {
     "data": {
      "application/vnd.jupyter.widget-view+json": {
       "model_id": "55877f6454bf4b16996c942abaef1478",
       "version_major": 2,
       "version_minor": 0
      },
      "text/plain": [
       "Loading checkpoint shards:   0%|          | 0/2 [00:00<?, ?it/s]"
      ]
     },
     "metadata": {},
     "output_type": "display_data"
    }
   ],
   "source": [
    "import torch\n",
    "from transformers import AutoTokenizer, AutoModelForCausalLM, BitsAndBytesConfig\n",
    "\n",
    "base_model_id = \"mistralai/Mistral-7B-v0.1\"\n",
    "bnb_config = BitsAndBytesConfig(\n",
    "    load_in_4bit=True,\n",
    "    bnb_4bit_use_double_quant=True,\n",
    "    bnb_4bit_quant_type=\"nf4\",\n",
    "    bnb_4bit_compute_dtype=torch.bfloat16\n",
    ")\n",
    "\n",
    "model = AutoModelForCausalLM.from_pretrained(base_model_id, quantization_config=bnb_config)"
   ]
  },
  {
   "cell_type": "markdown",
   "metadata": {
    "id": "UjNdXolqyRgf"
   },
   "source": [
    "### 3. Tokenization\n",
    "\n",
    "Set up the tokenizer. Add padding on the left as it [makes training use less memory](https://ai.stackexchange.com/questions/41485/while-fine-tuning-a-decoder-only-llm-like-llama-on-chat-dataset-what-kind-of-pa).\n",
    "\n",
    "\n",
    "For `model_max_length`, it's helpful to get a distribution of your data lengths. Let's first tokenize without the truncation/padding, so we can get a length distribution."
   ]
  },
  {
   "cell_type": "code",
   "execution_count": 20,
   "metadata": {
    "id": "haSUDD9HyRgf",
    "outputId": "22ee95db-2974-4ab0-e0c7-444d04d3e838"
   },
   "outputs": [],
   "source": [
    "tokenizer = AutoTokenizer.from_pretrained(\n",
    "    base_model_id,\n",
    "    padding_side=\"left\",\n",
    "    add_eos_token=True,\n",
    "    add_bos_token=True,\n",
    ")\n",
    "tokenizer.pad_token = tokenizer.eos_token\n",
    "\n",
    "def tokenize_prompt(prompt):\n",
    "    return tokenizer(prompt['document'])"
   ]
  },
  {
   "cell_type": "markdown",
   "metadata": {
    "id": "WHnKLcq4yRgg"
   },
   "source": [
    "Reformat the prompt and tokenize each sample:"
   ]
  },
  {
   "cell_type": "code",
   "execution_count": 21,
   "metadata": {
    "id": "S3iLAwLh3m19"
   },
   "outputs": [],
   "source": [
    "tokenized_train_dataset = train_dataset.map(tokenize_prompt)\n",
    "tokenized_val_dataset = eval_dataset.map(tokenize_prompt)"
   ]
  },
  {
   "cell_type": "markdown",
   "metadata": {
    "id": "O6ewk27p3m19"
   },
   "source": [
    "Let's get a distribution of our dataset lengths, so we can determine the appropriate `max_length` for our input tensors."
   ]
  },
  {
   "cell_type": "code",
   "execution_count": 22,
   "metadata": {
    "id": "BA8M9yfC3m19",
    "outputId": "99c6d302-9bb6-47b1-cae9-a1cd870b4770"
   },
   "outputs": [
    {
     "data": {
      "image/png": "[encoded data removed]",
      "text/plain": [
       "<Figure size 1000x600 with 1 Axes>"
      ]
     },
     "metadata": {},
     "output_type": "display_data"
    }
   ],
   "source": [
    "import matplotlib.pyplot as plt\n",
    "\n",
    "def plot_data_lengths(tokenized_train_dataset, tokenized_val_dataset):\n",
    "    lengths = [len(x['input_ids']) for x in tokenized_train_dataset]\n",
    "    lengths += [len(x['input_ids']) for x in tokenized_val_dataset]\n",
    "\n",
    "    # Plotting the histogram\n",
    "    plt.figure(figsize=(10, 6))\n",
    "    plt.hist(lengths, bins=20, alpha=0.7, color='blue')\n",
    "    plt.xlabel('Length of input_ids')\n",
    "    plt.ylabel('Frequency')\n",
    "    plt.title('Distribution of Lengths of input_ids')\n",
    "    plt.show()\n",
    "\n",
    "plot_data_lengths(tokenized_train_dataset, tokenized_val_dataset)"
   ]
  },
  {
   "cell_type": "markdown",
   "metadata": {
    "id": "nBk4Qp_vyRgh"
   },
   "source": [
    "From here, you can choose where you'd like to set the `max_length` to be. You can truncate and pad training examples to fit them to your chosen size. Be aware that choosing a larger `max_length` has its compute tradeoffs.\n",
    "\n",
    "I'm using my personal notes to train the model, and they vary greatly in length. I spent some time cleaning the dataset so the samples were about the same length, cutting up individual notes if needed, but being sure to not cut in the middle of a word or sentence."
   ]
  },
  {
   "cell_type": "markdown",
   "metadata": {
    "id": "bMlw8h743m19"
   },
   "source": [
    "Now let's tokenize again with padding and truncation, and set up the tokenize function to make labels and input_ids the same. This is basically what [self-supervised fine-tuning is](https://neptune.ai/blog/self-supervised-learning)."
   ]
  },
  {
   "cell_type": "code",
   "execution_count": 23,
   "metadata": {
    "id": "acINaViR3m19"
   },
   "outputs": [],
   "source": [
    "max_length = 5000 # This was an appropriate max length for my dataset\n",
    "\n",
    "def generate_and_tokenize_prompt2(prompt):\n",
    "    result = tokenizer(\n",
    "        prompt['document'],\n",
    "        truncation=True,\n",
    "        max_length=max_length,\n",
    "        padding=\"max_length\",\n",
    "    )\n",
    "    result[\"labels\"] = result[\"input_ids\"].copy()\n",
    "    return result"
   ]
  },
  {
   "cell_type": "code",
   "execution_count": 24,
   "metadata": {
    "colab": {
     "referenced_widgets": [
      "518d4f0b89bf4d57bf00d4c6d6e59eb5"
     ]
    },
    "id": "lTk-aTog3m19",
    "outputId": "4fb637b4-77a2-47c6-de7b-4fb620663dd7"
   },
   "outputs": [],
   "source": [
    "tokenized_train_dataset = train_dataset.map(generate_and_tokenize_prompt2)\n",
    "tokenized_val_dataset = eval_dataset.map(generate_and_tokenize_prompt2)"
   ]
  },
  {
   "cell_type": "markdown",
   "metadata": {
    "id": "TQL796OayRgh"
   },
   "source": [
    "Check that `input_ids` is padded on the left with the `eos_token` (2) and there is an `eos_token` 2 added to the end, and the prompt starts with a `bos_token` (1)."
   ]
  },
  {
   "cell_type": "code",
   "execution_count": 25,
   "metadata": {
    "id": "OKHhvxK83m19",
    "scrolled": true
   },
   "outputs": [
    {
     "name": "stdout",
     "output_type": "stream",
     "text": [
      "[2, 2, 2, 2, 2, 2, 2, 2, 2, 2, 2, 2, 2, 2, 2, 2, 2, 2, 2, 2, 2, 2, 2, 2, 2, 2, 2, 2, 2, 2, 2, 2, 2, 2, 2, 2, 2, 2, 2, 2, 2, 2, 2, 2, 2, 2, 2, 2, 2, 2, 2, 2, 2, 2, 2, 2, 2, 2, 2, 2, 2, 2, 2, 2, 2, 2, 2, 2, 2, 2, 2, 2, 2, 2, 2, 2, 2, 2, 2, 2, 2, 2, 2, 2, 2, 2, 2, 2, 2, 2, 2, 2, 2, 2, 2, 2, 2, 2, 2, 2, 2, 2, 2, 2, 2, 2, 2, 2, 2, 2, 2, 2, 2, 2, 2, 2, 2, 2, 2, 2, 2, 2, 2, 2, 2, 2, 2, 2, 2, 2, 2, 2, 2, 2, 2, 2, 2, 2, 2, 2, 2, 2, 2, 2, 2, 2, 2, 2, 2, 2, 2, 2, 2, 2, 2, 2, 2, 2, 2, 2, 2, 2, 2, 2, 2, 2, 2, 2, 2, 2, 2, 2, 2, 2, 2, 2, 2, 2, 2, 2, 2, 2, 2, 2, 2, 2, 2, 2, 2, 2, 2, 2, 2, 2, 2, 2, 2, 2, 2, 2, 2, 2, 2, 2, 2, 2, 2, 2, 2, 2, 2, 2, 2, 2, 2, 2, 2, 2, 2, 2, 2, 2, 2, 2, 2, 2, 2, 2, 2, 2, 2, 2, 2, 2, 2, 2, 2, 2, 2, 2, 2, 2, 2, 2, 2, 2, 2, 2, 2, 2, 2, 2, 2, 2, 2, 2, 2, 2, 2, 2, 2, 2, 2, 2, 2, 2, 2, 2, 2, 2, 2, 2, 2, 2, 2, 2, 2, 2, 2, 2, 2, 2, 2, 2, 2, 2, 2, 2, 2, 2, 2, 2, 2, 2, 2, 2, 2, 2, 2, 2, 2, 2, 2, 2, 2, 2, 2, 2, 2, 2, 2, 2, 2, 2, 2, 2, 2, 2, 2, 2, 2, 2, 2, 2, 2, 2, 2, 2, 2, 2, 2, 2, 2, 2, 2, 2, 2, 2, 2, 2, 2, 2, 2, 2, 2, 2, 2, 2, 2, 2, 2, 2, 2, 2, 2, 2, 2, 2, 2, 2, 2, 2, 2, 2, 2, 2, 2, 2, 2, 2, 2, 2, 2, 2, 2, 2, 2, 2, 2, 2, 2, 2, 2, 2, 2, 2, 2, 2, 2, 2, 2, 2, 2, 2, 2, 2, 2, 2, 2, 2, 2, 2, 2, 2, 2, 2, 2, 2, 2, 2, 2, 2, 2, 2, 2, 2, 2, 2, 2, 2, 2, 2, 2, 2, 2, 2, 2, 2, 2, 2, 2, 2, 2, 2, 2, 2, 2, 2, 2, 2, 2, 2, 2, 2, 2, 2, 2, 2, 2, 2, 2, 2, 2, 2, 2, 2, 2, 2, 2, 2, 2, 2, 2, 2, 2, 2, 2, 2, 2, 2, 2, 2, 2, 2, 2, 2, 2, 2, 2, 2, 2, 2, 2, 2, 2, 2, 2, 2, 2, 2, 2, 2, 2, 2, 2, 2, 2, 2, 2, 2, 2, 2, 2, 2, 2, 2, 2, 2, 2, 2, 2, 2, 2, 2, 2, 2, 2, 2, 2, 2, 2, 2, 2, 2, 2, 2, 2, 2, 2, 2, 2, 2, 2, 2, 2, 2, 2, 2, 2, 2, 2, 2, 2, 2, 2, 2, 2, 2, 2, 2, 2, 2, 2, 2, 2, 2, 2, 2, 2, 2, 2, 2, 2, 2, 2, 2, 2, 2, 2, 2, 2, 2, 2, 2, 2, 2, 2, 2, 2, 2, 2, 2, 2, 2, 2, 2, 2, 2, 2, 2, 2, 2, 2, 2, 2, 2, 2, 2, 2, 2, 2, 2, 2, 2, 2, 2, 2, 2, 2, 2, 2, 2, 2, 2, 2, 2, 2, 2, 2, 2, 2, 2, 2, 2, 2, 2, 2, 2, 2, 2, 2, 2, 2, 2, 2, 2, 2, 2, 2, 2, 2, 2, 2, 2, 2, 2, 2, 2, 2, 2, 2, 2, 2, 2, 2, 2, 2, 2, 2, 2, 2, 2, 2, 2, 2, 2, 2, 2, 2, 2, 2, 2, 2, 2, 2, 2, 2, 2, 2, 2, 2, 2, 2, 2, 2, 2, 2, 2, 2, 2, 2, 2, 2, 2, 2, 2, 2, 2, 2, 2, 2, 2, 2, 2, 2, 2, 2, 2, 2, 2, 2, 2, 2, 2, 2, 2, 2, 2, 2, 2, 2, 2, 2, 2, 2, 2, 2, 2, 2, 2, 2, 2, 2, 2, 2, 2, 2, 2, 2, 2, 2, 2, 2, 2, 2, 2, 2, 2, 2, 2, 2, 2, 2, 2, 2, 2, 2, 2, 2, 2, 2, 2, 2, 2, 2, 2, 2, 2, 2, 2, 2, 2, 2, 2, 2, 2, 2, 2, 2, 2, 2, 2, 2, 2, 2, 2, 2, 2, 2, 2, 2, 2, 2, 2, 2, 2, 2, 2, 2, 2, 2, 2, 2, 2, 2, 2, 2, 2, 2, 2, 2, 2, 2, 2, 2, 2, 2, 2, 2, 2, 2, 2, 2, 2, 2, 2, 2, 2, 2, 2, 2, 2, 2, 2, 2, 2, 2, 2, 2, 2, 2, 2, 2, 2, 2, 2, 2, 2, 2, 2, 2, 2, 2, 2, 2, 2, 2, 2, 2, 2, 2, 2, 2, 2, 2, 2, 2, 2, 2, 2, 2, 2, 2, 2, 2, 2, 2, 2, 2, 2, 2, 2, 2, 2, 2, 2, 2, 2, 2, 2, 2, 2, 2, 2, 2, 2, 2, 2, 2, 2, 2, 2, 2, 2, 2, 2, 2, 2, 2, 2, 2, 2, 2, 2, 2, 2, 2, 2, 2, 2, 2, 2, 2, 2, 2, 2, 2, 2, 2, 2, 2, 2, 2, 2, 2, 2, 2, 2, 2, 2, 2, 2, 2, 2, 2, 2, 2, 2, 2, 2, 2, 2, 2, 2, 2, 2, 2, 2, 2, 2, 2, 2, 2, 2, 2, 2, 2, 2, 2, 2, 2, 2, 2, 2, 2, 2, 2, 2, 2, 2, 2, 2, 2, 2, 2, 2, 2, 2, 2, 2, 2, 2, 2, 2, 2, 2, 2, 2, 2, 2, 2, 2, 2, 2, 2, 2, 2, 2, 2, 2, 2, 2, 2, 2, 2, 2, 2, 2, 2, 2, 2, 2, 2, 2, 2, 2, 2, 2, 2, 2, 2, 2, 2, 2, 2, 2, 2, 2, 2, 2, 2, 2, 2, 2, 2, 2, 2, 2, 2, 2, 2, 2, 2, 2, 2, 2, 2, 2, 2, 2, 2, 2, 2, 2, 2, 2, 2, 2, 2, 2, 2, 2, 2, 2, 2, 2, 2, 2, 2, 2, 2, 2, 2, 2, 2, 2, 2, 2, 2, 2, 2, 2, 2, 2, 2, 2, 2, 2, 2, 2, 2, 2, 2, 2, 2, 2, 2, 2, 2, 2, 2, 2, 2, 2, 2, 2, 2, 2, 2, 2, 2, 2, 2, 2, 2, 2, 2, 2, 2, 2, 2, 2, 2, 2, 2, 2, 2, 2, 2, 2, 2, 2, 2, 2, 2, 2, 2, 2, 2, 2, 2, 2, 2, 2, 2, 2, 2, 2, 2, 2, 2, 2, 2, 2, 2, 2, 2, 2, 2, 2, 2, 2, 2, 2, 2, 2, 2, 2, 2, 2, 2, 2, 2, 2, 2, 2, 2, 2, 2, 2, 2, 2, 2, 2, 2, 2, 2, 2, 2, 2, 2, 2, 2, 2, 2, 2, 2, 2, 2, 2, 2, 2, 2, 2, 2, 2, 2, 2, 2, 2, 2, 2, 2, 2, 2, 2, 2, 2, 2, 2, 2, 2, 2, 2, 2, 2, 2, 2, 2, 2, 2, 2, 2, 2, 2, 2, 2, 2, 2, 2, 2, 2, 2, 2, 2, 2, 2, 2, 2, 2, 2, 2, 2, 2, 2, 2, 2, 2, 2, 2, 2, 2, 2, 2, 2, 2, 2, 2, 2, 2, 2, 2, 2, 2, 2, 2, 2, 2, 2, 2, 2, 2, 2, 2, 2, 2, 2, 2, 2, 2, 2, 2, 2, 2, 2, 2, 2, 2, 2, 2, 2, 2, 2, 2, 2, 2, 2, 2, 2, 2, 2, 2, 2, 2, 2, 2, 2, 2, 2, 2, 2, 2, 2, 2, 2, 2, 2, 2, 2, 2, 2, 2, 2, 2, 2, 2, 2, 2, 2, 2, 2, 2, 2, 2, 2, 2, 2, 2, 2, 2, 2, 2, 2, 2, 2, 2, 2, 2, 2, 2, 2, 2, 2, 2, 2, 2, 2, 2, 2, 2, 2, 2, 2, 2, 2, 2, 2, 2, 2, 2, 2, 2, 2, 2, 2, 2, 2, 2, 2, 2, 2, 2, 2, 2, 2, 2, 2, 2, 2, 2, 2, 2, 2, 2, 2, 2, 2, 2, 2, 2, 2, 2, 2, 2, 2, 2, 2, 2, 2, 2, 2, 2, 2, 2, 2, 2, 2, 2, 2, 2, 2, 2, 2, 2, 2, 2, 2, 2, 2, 2, 2, 2, 2, 2, 2, 2, 2, 2, 2, 2, 2, 2, 2, 2, 2, 2, 2, 2, 2, 2, 2, 2, 2, 2, 2, 2, 2, 2, 2, 2, 2, 2, 2, 2, 2, 2, 2, 2, 2, 2, 2, 2, 2, 2, 2, 2, 2, 2, 2, 2, 2, 2, 2, 2, 2, 2, 2, 2, 2, 2, 2, 2, 2, 2, 2, 2, 2, 2, 2, 2, 2, 2, 2, 2, 2, 2, 2, 2, 2, 2, 2, 2, 2, 2, 2, 2, 2, 2, 2, 2, 2, 2, 2, 2, 2, 2, 2, 2, 2, 2, 2, 2, 2, 2, 2, 2, 2, 2, 2, 2, 2, 2, 2, 2, 2, 2, 2, 2, 2, 2, 2, 2, 2, 2, 2, 2, 2, 2, 2, 2, 2, 2, 2, 2, 2, 2, 2, 2, 2, 2, 2, 2, 2, 2, 2, 2, 2, 2, 2, 2, 2, 2, 2, 2, 2, 2, 2, 2, 2, 2, 2, 2, 2, 2, 2, 2, 2, 2, 2, 2, 2, 2, 2, 2, 2, 2, 2, 2, 2, 2, 2, 2, 2, 2, 2, 2, 2, 2, 2, 2, 2, 2, 2, 2, 2, 2, 2, 2, 2, 2, 2, 2, 2, 2, 2, 2, 2, 2, 2, 2, 2, 2, 2, 2, 2, 2, 2, 2, 2, 2, 2, 2, 2, 2, 2, 2, 2, 2, 2, 2, 2, 2, 2, 2, 2, 2, 2, 2, 2, 2, 2, 2, 2, 2, 2, 2, 2, 2, 2, 2, 2, 2, 2, 2, 2, 2, 2, 2, 2, 2, 2, 2, 2, 2, 2, 2, 2, 2, 2, 2, 2, 2, 2, 2, 2, 2, 2, 2, 2, 2, 2, 2, 2, 2, 2, 2, 2, 2, 2, 2, 2, 2, 2, 2, 2, 2, 2, 2, 2, 2, 2, 2, 2, 2, 2, 2, 2, 2, 2, 2, 2, 2, 2, 2, 2, 2, 2, 2, 2, 2, 2, 2, 2, 2, 2, 2, 2, 2, 2, 2, 2, 2, 2, 2, 2, 2, 2, 2, 2, 2, 2, 2, 2, 2, 2, 2, 2, 2, 2, 2, 2, 2, 2, 2, 2, 2, 2, 2, 2, 2, 2, 2, 2, 2, 2, 2, 2, 2, 2, 2, 2, 2, 2, 2, 2, 2, 2, 2, 2, 2, 2, 2, 2, 2, 2, 2, 2, 2, 2, 2, 2, 2, 2, 2, 2, 2, 2, 2, 2, 2, 2, 2, 2, 2, 2, 2, 2, 2, 2, 2, 2, 2, 2, 2, 2, 2, 2, 2, 2, 2, 2, 2, 2, 2, 2, 2, 2, 2, 2, 2, 2, 2, 2, 2, 2, 2, 2, 2, 2, 2, 2, 2, 2, 2, 2, 2, 2, 2, 2, 2, 2, 2, 2, 2, 2, 2, 2, 2, 2, 2, 2, 2, 2, 2, 2, 2, 2, 2, 2, 2, 2, 2, 2, 2, 2, 2, 2, 2, 2, 2, 2, 2, 2, 2, 2, 2, 2, 2, 2, 2, 2, 2, 2, 2, 2, 2, 2, 2, 2, 2, 2, 2, 2, 2, 2, 2, 2, 2, 2, 2, 2, 2, 2, 2, 2, 2, 2, 2, 2, 2, 2, 2, 2, 2, 2, 2, 2, 2, 2, 2, 2, 2, 2, 2, 2, 2, 2, 2, 2, 2, 2, 2, 2, 2, 2, 2, 2, 2, 2, 2, 2, 2, 2, 2, 2, 2, 2, 2, 2, 2, 2, 2, 2, 2, 2, 2, 2, 2, 2, 2, 2, 2, 2, 2, 2, 2, 2, 2, 2, 2, 2, 2, 2, 2, 2, 2, 2, 2, 2, 2, 2, 2, 2, 2, 2, 2, 2, 2, 2, 2, 2, 2, 2, 2, 2, 2, 2, 2, 2, 2, 2, 2, 2, 2, 2, 2, 2, 2, 2, 2, 2, 2, 2, 2, 2, 2, 2, 2, 2, 2, 2, 2, 2, 2, 2, 2, 2, 2, 2, 2, 2, 2, 2, 2, 2, 2, 2, 2, 2, 2, 2, 2, 2, 2, 2, 2, 2, 2, 2, 2, 2, 2, 2, 2, 2, 2, 2, 2, 2, 2, 2, 2, 2, 2, 2, 2, 2, 2, 2, 2, 2, 2, 2, 2, 2, 2, 2, 2, 2, 2, 2, 2, 2, 2, 2, 2, 2, 2, 2, 2, 2, 2, 2, 2, 2, 2, 2, 2, 2, 2, 2, 2, 2, 2, 2, 2, 2, 2, 2, 2, 2, 2, 2, 2, 2, 2, 2, 2, 2, 2, 2, 2, 2, 2, 2, 2, 2, 2, 2, 2, 2, 2, 2, 2, 2, 2, 2, 2, 2, 2, 2, 2, 2, 2, 2, 2, 2, 2, 2, 2, 2, 2, 2, 2, 2, 2, 2, 2, 2, 2, 2, 2, 2, 2, 2, 2, 2, 2, 2, 2, 2, 2, 2, 2, 2, 2, 2, 2, 2, 2, 2, 2, 2, 2, 2, 2, 2, 2, 2, 2, 2, 2, 2, 2, 2, 2, 2, 2, 2, 2, 2, 2, 2, 2, 2, 2, 2, 2, 2, 2, 2, 2, 2, 2, 2, 2, 2, 2, 2, 2, 2, 2, 2, 2, 2, 2, 2, 2, 2, 2, 2, 2, 2, 2, 2, 2, 2, 2, 2, 2, 2, 2, 2, 2, 2, 2, 2, 2, 2, 2, 2, 2, 2, 2, 2, 2, 2, 2, 2, 2, 2, 2, 2, 2, 2, 2, 2, 2, 2, 2, 2, 2, 2, 2, 2, 2, 2, 2, 2, 2, 2, 2, 2, 2, 2, 2, 2, 2, 2, 2, 2, 2, 2, 2, 2, 2, 2, 2, 2, 2, 2, 2, 2, 2, 2, 2, 2, 2, 2, 2, 2, 2, 2, 2, 2, 2, 2, 2, 2, 2, 2, 2, 2, 2, 2, 2, 2, 2, 2, 2, 2, 2, 2, 2, 2, 2, 2, 2, 2, 2, 2, 2, 2, 2, 2, 2, 2, 2, 2, 2, 2, 2, 2, 2, 2, 2, 2, 2, 2, 2, 2, 2, 2, 2, 2, 2, 2, 2, 2, 2, 2, 2, 2, 2, 2, 2, 2, 2, 2, 2, 2, 2, 2, 2, 2, 2, 2, 2, 2, 2, 2, 2, 2, 2, 2, 2, 2, 2, 2, 2, 2, 2, 2, 2, 2, 2, 2, 2, 2, 2, 2, 2, 2, 2, 2, 2, 2, 2, 2, 2, 2, 2, 2, 2, 2, 2, 2, 2, 2, 2, 2, 2, 2, 2, 2, 2, 2, 2, 2, 2, 2, 2, 2, 2, 2, 2, 2, 2, 2, 2, 2, 2, 2, 2, 2, 2, 2, 2, 2, 2, 2, 2, 2, 2, 2, 2, 2, 2, 2, 2, 2, 2, 2, 2, 2, 2, 2, 2, 2, 2, 2, 2, 2, 2, 2, 2, 2, 2, 2, 2, 2, 2, 2, 2, 2, 2, 2, 2, 2, 2, 2, 2, 2, 2, 2, 2, 2, 2, 2, 2, 2, 2, 2, 2, 2, 2, 2, 2, 2, 2, 2, 2, 2, 2, 2, 2, 2, 2, 2, 2, 2, 2, 2, 2, 2, 2, 2, 2, 2, 2, 2, 2, 2, 2, 2, 2, 2, 2, 2, 2, 2, 2, 2, 2, 2, 2, 2, 2, 2, 2, 2, 2, 2, 2, 2, 2, 2, 2, 2, 2, 2, 2, 2, 2, 2, 2, 2, 2, 2, 2, 2, 2, 2, 2, 2, 2, 2, 2, 2, 2, 2, 2, 2, 2, 2, 2, 2, 2, 2, 2, 2, 2, 2, 2, 2, 2, 2, 2, 2, 2, 2, 2, 2, 2, 2, 2, 2, 2, 2, 2, 2, 2, 2, 2, 2, 2, 2, 2, 2, 2, 2, 2, 2, 2, 2, 2, 2, 2, 2, 2, 2, 2, 2, 2, 2, 2, 2, 2, 2, 2, 2, 2, 2, 2, 2, 2, 2, 2, 2, 2, 2, 2, 2, 2, 2, 2, 2, 2, 2, 2, 2, 2, 2, 2, 2, 2, 2, 2, 2, 2, 2, 2, 2, 2, 2, 2, 2, 2, 2, 2, 2, 2, 2, 2, 2, 2, 2, 2, 2, 2, 2, 2, 2, 2, 2, 2, 2, 2, 2, 2, 2, 2, 2, 2, 2, 2, 2, 2, 2, 2, 2, 2, 2, 2, 2, 2, 2, 2, 2, 2, 2, 2, 2, 2, 2, 2, 2, 2, 2, 2, 2, 2, 2, 2, 2, 2, 2, 2, 2, 2, 2, 2, 2, 2, 2, 2, 2, 2, 2, 2, 2, 2, 2, 2, 2, 2, 2, 2, 2, 2, 2, 2, 2, 2, 2, 2, 2, 2, 2, 2, 2, 2, 2, 2, 2, 2, 2, 2, 2, 2, 2, 2, 2, 2, 2, 2, 2, 2, 2, 2, 2, 2, 2, 2, 2, 2, 2, 2, 2, 2, 2, 2, 2, 2, 2, 2, 2, 2, 2, 2, 2, 2, 2, 2, 2, 2, 2, 2, 2, 2, 2, 2, 2, 2, 2, 2, 2, 2, 2, 2, 2, 2, 2, 2, 2, 2, 2, 2, 2, 2, 2, 2, 2, 2, 2, 2, 2, 2, 2, 2, 2, 2, 2, 2, 2, 2, 2, 2, 2, 2, 2, 2, 2, 2, 2, 2, 2, 2, 2, 2, 2, 2, 2, 2, 2, 2, 2, 2, 2, 2, 2, 2, 2, 2, 2, 2, 2, 2, 2, 2, 2, 2, 2, 2, 2, 2, 2, 2, 2, 2, 2, 2, 2, 2, 2, 2, 2, 2, 2, 2, 2, 2, 2, 2, 2, 2, 2, 2, 2, 2, 2, 2, 2, 2, 2, 2, 2, 2, 2, 2, 2, 2, 2, 2, 2, 2, 2, 2, 2, 2, 2, 2, 2, 2, 2, 2, 2, 2, 2, 2, 2, 2, 2, 2, 2, 2, 2, 2, 2, 2, 2, 2, 2, 2, 2, 2, 2, 2, 2, 2, 2, 2, 2, 2, 2, 2, 2, 2, 2, 2, 2, 2, 2, 2, 2, 2, 2, 2, 2, 2, 2, 2, 2, 2, 2, 2, 2, 2, 2, 2, 2, 2, 2, 2, 2, 2, 2, 2, 2, 2, 2, 2, 2, 2, 2, 2, 2, 2, 2, 2, 2, 2, 2, 2, 2, 2, 2, 2, 2, 2, 2, 2, 2, 2, 2, 2, 2, 2, 2, 2, 2, 2, 2, 2, 2, 2, 2, 2, 2, 2, 2, 2, 2, 2, 2, 2, 2, 2, 2, 2, 2, 2, 2, 2, 2, 2, 2, 2, 2, 2, 2, 2, 2, 2, 2, 2, 2, 2, 2, 2, 2, 2, 2, 2, 2, 2, 2, 2, 2, 2, 2, 2, 2, 2, 2, 2, 2, 2, 2, 2, 2, 2, 2, 2, 2, 2, 2, 2, 2, 2, 2, 2, 2, 2, 2, 2, 2, 2, 2, 2, 2, 2, 2, 2, 2, 2, 2, 2, 2, 2, 2, 2, 2, 2, 2, 2, 2, 2, 2, 2, 2, 2, 2, 2, 2, 2, 2, 2, 2, 2, 2, 2, 2, 2, 2, 2, 2, 2, 2, 2, 2, 2, 2, 2, 2, 2, 2, 2, 2, 2, 2, 2, 2, 2, 2, 2, 2, 2, 2, 2, 2, 2, 2, 2, 2, 2, 2, 2, 2, 2, 2, 2, 2, 2, 2, 2, 2, 2, 2, 2, 2, 2, 2, 2, 2, 2, 2, 2, 2, 2, 2, 2, 2, 2, 2, 2, 2, 2, 2, 2, 2, 2, 2, 2, 2, 2, 2, 2, 2, 2, 2, 2, 2, 2, 2, 2, 2, 2, 2, 2, 2, 2, 2, 2, 2, 2, 2, 2, 2, 2, 2, 2, 2, 2, 2, 2, 2, 2, 2, 2, 2, 2, 2, 2, 2, 2, 2, 2, 2, 2, 2, 2, 2, 2, 2, 2, 2, 2, 2, 2, 2, 2, 2, 2, 2, 2, 2, 2, 2, 2, 2, 2, 2, 2, 2, 2, 2, 2, 2, 2, 2, 2, 2, 2, 2, 2, 2, 2, 2, 2, 2, 2, 2, 2, 2, 2, 2, 2, 2, 2, 2, 2, 2, 2, 2, 2, 2, 2, 2, 2, 2, 2, 2, 2, 2, 2, 2, 2, 2, 2, 2, 2, 2, 2, 2, 2, 2, 2, 2, 2, 2, 2, 2, 2, 2, 2, 2, 2, 2, 2, 2, 2, 2, 2, 2, 2, 2, 2, 2, 2, 2, 2, 2, 2, 2, 2, 2, 2, 2, 2, 2, 2, 2, 2, 2, 2, 2, 2, 2, 2, 2, 2, 2, 2, 2, 2, 2, 2, 2, 2, 2, 2, 2, 2, 2, 2, 2, 2, 2, 2, 2, 2, 2, 2, 2, 2, 2, 2, 2, 2, 2, 2, 2, 2, 2, 2, 2, 2, 2, 2, 2, 2, 2, 2, 2, 2, 2, 2, 2, 2, 2, 2, 2, 2, 2, 2, 2, 2, 2, 2, 2, 2, 2, 2, 2, 2, 2, 2, 2, 2, 2, 2, 2, 2, 2, 2, 2, 2, 2, 2, 2, 2, 2, 2, 2, 2, 2, 2, 2, 2, 2, 2, 2, 2, 2, 2, 2, 2, 2, 2, 2, 2, 2, 2, 2, 2, 2, 2, 2, 2, 2, 2, 2, 2, 2, 2, 2, 2, 2, 2, 2, 2, 2, 2, 2, 2, 2, 2, 2, 2, 2, 2, 2, 2, 2, 2, 2, 2, 2, 2, 2, 2, 2, 2, 2, 2, 2, 2, 2, 2, 2, 2, 2, 2, 2, 2, 2, 2, 2, 2, 2, 2, 2, 2, 2, 2, 2, 2, 2, 2, 2, 2, 2, 2, 2, 2, 2, 2, 2, 2, 2, 2, 2, 2, 2, 2, 2, 2, 2, 2, 2, 2, 2, 2, 2, 2, 2, 2, 2, 2, 2, 1, 774, 22478, 28747, 13, 1976, 460, 264, 15965, 6353, 24066, 1094, 8910, 3506, 6202, 298, 1760, 12749, 28725, 2490, 7575, 5066, 404, 28725, 4228, 17221, 17736, 28725, 8207, 11790, 3117, 28725, 4228, 19412, 8942, 1583, 28725, 304, 5202, 12426, 28723, 3604, 6258, 13640, 349, 298, 1424, 294, 26344, 15627, 272, 3270, 6355, 302, 524, 28733, 28740, 28750, 3567, 304, 9051, 2948, 4073, 3117, 5202, 298, 652, 10299, 304, 1455, 594, 28723, 1263, 1430, 10248, 24492, 28725, 3084, 264, 9292, 1928, 8707, 28747, 13, 13, 19167, 636, 28747, 330, 1192, 302, 28705, 28740, 325, 335, 272, 24492, 349, 2169, 28731, 442, 28705, 28734, 325, 335, 459, 609, 3655, 390, 28705, 28740, 1019, 513, 865, 744, 302, 272, 1178, 8753, 28713, 395, 396, 24492, 28723, 13, 10193, 3164, 28747, 7133, 547, 264, 9843, 2184, 356, 264, 5657, 302, 28705, 28740, 28733, 28740, 28734, 298, 11634, 574, 2184, 302, 2552, 884, 297, 272, 5643, 28723, 13, 12205, 28747, 560, 12856, 1871, 356, 272, 11408, 1307, 298, 7964, 369, 2552, 4073, 3117, 654, 10248, 304, 264, 14060, 302, 272, 28649, 4686, 6355, 28723, 13, 13, 21432, 1184, 11533, 297, 272, 1178, 28725, 459, 776, 3235, 15321, 1927, 28723, 13, 13, 21432, 1184, 369, 272, 3270, 6355, 5016, 1002, 477, 264, 2052, 28733, 815, 2465, 3895, 28723, 13, 13, 3381, 25787, 10741, 938, 574, 1489, 16548, 28725, 7967, 18110, 297, 9843, 7420, 28723, 13, 13, 15423, 460, 272, 2948, 4073, 3117, 354, 456, 3638, 8230, 13, 28801, 13, 28742, 28713, 2729, 28733, 391, 28733, 498, 895, 1063, 27732, 13, 28742, 21680, 282, 1443, 28733, 391, 28733, 28713, 27301, 2437, 27732, 13, 28742, 28721, 6133, 28733, 391, 28733, 28706, 28733, 28713, 2729, 27732, 13, 28742, 1396, 3528, 28733, 391, 28733, 8001, 263, 27732, 13, 28742, 27177, 288, 28733, 391, 28733, 18972, 27732, 13, 28742, 923, 288, 28733, 391, 28733, 24477, 1373, 27732, 13, 28742, 19061, 28733, 391, 28733, 16346, 495, 28733, 19061, 27732, 13, 28742, 17819, 28733, 391, 28733, 23207, 2161, 27732, 13, 28742, 3076, 11953, 1063, 28733, 391, 28733, 5975, 5513, 27732, 13, 28742, 16346, 495, 28733, 8060, 27732, 13, 28742, 12714, 973, 28733, 391, 28733, 28711, 1373, 27732, 13, 28742, 15205, 28733, 391, 28733, 22698, 28733, 13082, 497, 27732, 13, 13, 13, 27332, 11147, 5284, 28747, 13, 1410, 4736, 14672, 647, 464, 28768, 357, 11042, 7871, 3117, 647, 464, 28768, 357, 11042, 7871, 3117, 304, 27911, 647, 464, 28768, 357, 11042, 7871, 3117, 464, 28793, 13, 13, 27332, 16693, 15985, 28747, 13, 4441, 13, 28705, 345, 28713, 2729, 28733, 391, 28733, 498, 895, 1063, 1264, 345, 28740, 10939, 13, 28705, 345, 28713, 2729, 28733, 391, 28733, 498, 895, 1063, 28733, 5552, 3164, 1264, 345, 28784, 10939, 13, 28705, 345, 21680, 282, 1443, 28733, 391, 28733, 28713, 27301, 2437, 1264, 345, 28734, 10939, 13, 28705, 345, 21680, 282, 1443, 28733, 391, 28733, 28713, 27301, 2437, 28733, 5552, 3164, 1264, 345, 28783, 10939, 13, 28705, 345, 28721, 6133, 28733, 391, 28733, 28706, 28733, 28713, 2729, 1264, 345, 28734, 10939, 13, 28705, 345, 28721, 6133, 28733, 391, 28733, 28706, 28733, 28713, 2729, 28733, 5552, 3164, 1264, 345, 28740, 28734, 10939, 13, 28705, 345, 1396, 3528, 28733, 391, 28733, 8001, 263, 1264, 345, 28740, 10939, 13, 28705, 345, 1396, 3528, 28733, 391, 28733, 8001, 263, 28733, 5552, 3164, 1264, 345, 28787, 10939, 13, 28705, 345, 27177, 288, 28733, 391, 28733, 18972, 1264, 345, 28740, 10939, 13, 28705, 345, 27177, 288, 28733, 391, 28733, 18972, 28733, 5552, 3164, 1264, 345, 28787, 10939, 13, 28705, 345, 923, 288, 28733, 391, 28733, 24477, 1373, 1264, 345, 28734, 10939, 13, 28705, 345, 923, 288, 28733, 391, 28733, 24477, 1373, 28733, 5552, 3164, 1264, 345, 28787, 10939, 13, 28705, 345, 19061, 28733, 391, 28733, 16346, 495, 28733, 19061, 1264, 345, 28740, 10939, 13, 28705, 345, 19061, 28733, 391, 28733, 16346, 495, 28733, 19061, 28733, 5552, 3164, 1264, 345, 28783, 10939, 13, 28705, 345, 17819, 28733, 391, 28733, 23207, 2161, 1264, 345, 28734, 10939, 13, 28705, 345, 17819, 28733, 391, 28733, 23207, 2161, 28733, 5552, 3164, 1264, 345, 28740, 28734, 10939, 13, 28705, 345, 3076, 11953, 1063, 28733, 391, 28733, 5975, 5513, 1264, 345, 28740, 10939, 13, 28705, 345, 3076, 11953, 1063, 28733, 391, 28733, 5975, 5513, 28733, 5552, 3164, 1264, 345, 28784, 10939, 13, 28705, 345, 16346, 495, 28733, 8060, 1264, 345, 28740, 10939, 13, 28705, 345, 16346, 495, 28733, 8060, 28733, 5552, 3164, 1264, 345, 28783, 10939, 13, 28705, 345, 12714, 973, 28733, 391, 28733, 28711, 1373, 1264, 345, 28740, 10939, 13, 28705, 345, 12714, 973, 28733, 391, 28733, 28711, 1373, 28733, 5552, 3164, 1264, 345, 28774, 10939, 13, 28705, 345, 15205, 28733, 391, 28733, 22698, 28733, 13082, 497, 1264, 345, 28734, 10939, 13, 28705, 345, 15205, 28733, 391, 28733, 22698, 28733, 13082, 497, 28733, 5552, 3164, 1264, 345, 28774, 10939, 13, 28705, 345, 8838, 1264, 345, 5155, 2384, 23276, 3187, 274, 4003, 345, 28801, 13, 28752, 13, 13, 27332, 27786, 28747, 13, 28751, 13, 28705, 345, 28713, 2729, 28733, 391, 28733, 498, 895, 1063, 1264, 345, 28740, 28723, 28734, 548, 13, 28705, 345, 28713, 2729, 28733, 391, 28733, 498, 895, 1063, 28733, 5552, 3164, 1264, 345, 28774, 28723, 28734, 548, 13, 28705, 345, 21680, 282, 1443, 28733, 391, 28733, 28713, 27301, 2437, 1264, 345, 28734, 28723, 28734, 548, 13, 28705, 345, 21680, 282, 1443, 28733, 391, 28733, 28713, 27301, 2437, 28733, 5552, 3164, 1264, 345, 28740, 28734, 28723, 28734, 548, 13, 28705, 345, 28721, 6133, 28733, 391, 28733, 28706, 28733, 28713, 2729, 1264, 345, 28734, 28723, 28734, 548, 13, 28705, 345, 28721, 6133, 28733, 391, 28733, 28706, 28733, 28713, 2729, 28733, 5552, 3164, 1264, 345, 28740, 28734, 28723, 28734, 548, 13, 28705, 345, 1396, 3528, 28733, 391, 28733, 8001, 263, 1264, 345, 28734, 28723, 28734, 548, 13, 28705, 345, 1396, 3528, 28733, 391, 28733, 8001, 263, 28733, 5552, 3164, 1264, 345, 28740, 28734, 28723, 28734, 548, 13, 28705, 345, 27177, 288, 28733, 391, 28733, 18972, 1264, 345, 28734, 28723, 28734, 548, 13, 28705, 345, 27177, 288, 28733, 391, 28733, 18972, 28733, 5552, 3164, 1264, 345, 28740, 28734, 28723, 28734, 548, 13, 28705, 345, 923, 288, 28733, 391, 28733, 24477, 1373, 1264, 345, 28734, 28723, 28734, 548, 13, 28705, 345, 923, 288, 28733, 391, 28733, 24477, 1373, 28733, 5552, 3164, 1264, 345, 28740, 28734, 28723, 28734, 548, 13, 28705, 345, 19061, 28733, 391, 28733, 16346, 495, 28733, 19061, 1264, 345, 28734, 28723, 28734, 548, 13, 28705, 345, 19061, 28733, 391, 28733, 16346, 495, 28733, 19061, 28733, 5552, 3164, 1264, 345, 28740, 28734, 28723, 28734, 548, 13, 28705, 345, 17819, 28733, 391, 28733, 23207, 2161, 1264, 345, 28734, 28723, 28734, 548, 13, 28705, 345, 17819, 28733, 391, 28733, 23207, 2161, 28733, 5552, 3164, 1264, 345, 28740, 28734, 28723, 28734, 548, 13, 28705, 345, 3076, 11953, 1063, 28733, 391, 28733, 5975, 5513, 1264, 345, 28734, 28723, 28734, 548, 13, 28705, 345, 3076, 11953, 1063, 28733, 391, 28733, 5975, 5513, 28733, 5552, 3164, 1264, 345, 28740, 28734, 28723, 28734, 548, 13, 28705, 345, 15205, 28733, 391, 28733, 22698, 28733, 13082, 497, 1264, 345, 28734, 28723, 28734, 548, 13, 28705, 345, 15205, 28733, 391, 28733, 22698, 28733, 13082, 497, 28733, 5552, 3164, 1264, 345, 28740, 28734, 28723, 28734, 548, 13, 28705, 345, 16346, 495, 28733, 8060, 1264, 345, 28734, 28723, 28734, 548, 13, 28705, 345, 16346, 495, 28733, 8060, 28733, 5552, 3164, 1264, 345, 28740, 28734, 28723, 28734, 548, 13, 28705, 345, 12714, 973, 28733, 391, 28733, 28711, 1373, 1264, 345, 28740, 28723, 28734, 548, 13, 28705, 345, 12714, 973, 28733, 391, 28733, 28711, 1373, 28733, 5552, 3164, 1264, 345, 28783, 28723, 28734, 548, 13, 28705, 345, 8838, 1264, 345, 1014, 5716, 6642, 264, 3081, 2145, 297, 8657, 28725, 10107, 14672, 28725, 14075, 486, 264, 1863, 3472, 28723, 851, 349, 10727, 395, 1486, 9843, 28723, 16569, 28725, 736, 654, 5166, 15321, 1927, 5202, 298, 461, 12736, 1168, 28725, 652, 7871, 3117, 28725, 304, 27911, 28725, 690, 12308, 396, 2145, 297, 8222, 304, 4735, 28723, 415, 9332, 4735, 302, 1167, 15321, 1927, 12095, 9843, 297, 456, 2145, 28723, 1387, 654, 708, 4073, 3117, 302, 272, 799, 13187, 297, 272, 3857, 1178, 611, 13, 28752, 2]\n"
     ]
    }
   ],
   "source": [
    "print(tokenized_train_dataset[1]['input_ids'])"
   ]
  },
  {
   "cell_type": "markdown",
   "metadata": {
    "id": "I6LRa2Zm3m19"
   },
   "source": [
    "Now all the samples should be the same length, `max_length`."
   ]
  },
  {
   "cell_type": "code",
   "execution_count": 37,
   "metadata": {},
   "outputs": [],
   "source": [
    "assert(min([len(x['input_ids']) for x in tokenized_train_dataset]) == max([len(x['input_ids']) for x in tokenized_train_dataset]))\n",
    "assert(min([len(x['input_ids']) for x in tokenized_val_dataset]) == max([len(x['input_ids']) for x in tokenized_val_dataset]))"
   ]
  },
  {
   "cell_type": "code",
   "execution_count": 38,
   "metadata": {
    "id": "I55Yo3yy3m19",
    "outputId": "c87e344d-e0f3-4542-afcc-4e2025926d64"
   },
   "outputs": [
    {
     "data": {
      "image/png": "[encoded data removed]",
      "text/plain": [
       "<Figure size 1000x600 with 1 Axes>"
      ]
     },
     "metadata": {},
     "output_type": "display_data"
    }
   ],
   "source": [
    "plot_data_lengths(tokenized_train_dataset, tokenized_val_dataset)"
   ]
  },
  {
   "cell_type": "markdown",
   "metadata": {
    "id": "jP3R4enP3m19"
   },
   "source": [
    "### How does the base model do?"
   ]
  },
  {
   "cell_type": "markdown",
   "metadata": {
    "id": "Vxbl4ACsyRgi"
   },
   "source": [
    "Optionally, you can check how Mistral does on one of your data samples. For example, if you have a dataset of users' biometric data to their health scores, you could test the following `eval_prompt`:"
   ]
  },
  {
   "cell_type": "code",
   "execution_count": 44,
   "metadata": {
    "id": "gOxnx-cAyRgi"
   },
   "outputs": [
    {
     "name": "stdout",
     "output_type": "stream",
     "text": [
      "### Question:\n",
      "You are a Student Web Activity Analyzer developed to support professionals, including Social Workers, School Psychologists, District Administrators, School Safety Specialists, and related roles. Your primary objective is to meticulously evaluate the online activity of K-12 students and identify specific indicators related to their interests and passions. For each identified indicator, provide a JSON object containing:\n",
      "\n",
      "Presence: Indicate a value of 1 (if the indicator is present) or 0 (if not). Even if only a portion of the data aligns with an indicator, mark it as 1.\n",
      "Confidence: Assign a confidence level on a scale of 1-10 to indicate the certainty level of your analysis.\n",
      "\n",
      "Additionally, please include a note that outlines the rationale behind identifying certain indicators and offers a summary of the analyzed web activity.\n",
      "\n",
      "Adhere to the JSON format outlined in the example output section precisely.\n",
      "\n",
      "Each individual online activity you receive represents one search or interaction on a student's device. Occasionally, searches that include large amounts of text will be summarized. These summaries will be marked with 'S~'. Such summarization typically occurs when students copy and paste extensive text blocks, although other cases may exist. Additional details will be provided in the summary.\n",
      "\n",
      "In situations where the presence of an indicator is ambiguous or if anomalies are present in the data, exercise your best judgment while providing a confidence level that reflects the level of uncertainty.\n",
      "\n",
      "Here are the specific indicators that you should use for this task, with definitions, delimited by single quotes.\n",
      "\n",
      "'sports-and-athletics: participating in physical activities and team sports to promote fitness, teamwork, and sportsmanship.'\n",
      "'environmentalism-and-sustainability: learning about the environment, conservation, and sustainable practices to become responsible global citizens.'\n",
      "'gaming-and-e-sports: engaging in digital gaming and competitive e-sports to develop strategic thinking, problem-solving, and teamwork skills.'\n",
      "'college-and-career: engaging in planning, research, and/or discovery around future college and career opportunities or otherwise demonstrating an interest in college or career activities after high school'\n",
      "'cooking-and-food: investigating cooking or food'\n",
      "'reading-and-literature: exploring the world of books and stories through reading and interpretation.'\n",
      "'writing-and-creative-writing: expressing thoughts, ideas, and imagination through written words and storytelling.'\n",
      "'science-and-technology: investigating the natural world and technological advancements'\n",
      "'mathematics-and-statistics: engaging in problem-solving and numerical analysis to understand patterns, shapes, and quantities.'\n",
      "'history-and-social-studies: discovering past events, cultures, and societies to gain a deeper understanding of the world.'\n",
      "'creative-arts: expressing creativity through various art forms like drawing, painting, sculpture, music, performing arts, and more'\n",
      "'animals-and-nature: reflects a student's enthusiasm and curiosity for studying, observing, or interacting with animals and natural environments, potentially driving academic pursuits, extracurricular activities, or career paths related to biology, ecology, or conservation.'\n",
      "\n",
      "\n",
      "### Search Data:\n",
      "['alexs', 'slope formula', 'aslope']\n",
      "\n",
      "### Example Output:\n",
      "{\n",
      "  \"sports-and-athletics\": \"1\",\n",
      "  \"sports-and-athletics-confidence\": \"6\",\n",
      "  \"environmentalism-and-sustainability\": \"0\",\n",
      "  \"environmentalism-and-sustainability-confidence\": \"8\",\n",
      "  \"gaming-and-e-sports\": \"0\",\n",
      "  \"gaming-and-e-sports-confidence\": \"10\",\n",
      "  \"college-and-career\": \"1\",\n",
      "  \"college-and-career-confidence\": \"7\",\n",
      "  \"cooking-and-food\": \"1\",\n",
      "  \"cooking-and-food-confidence\": \"7\",\n",
      "  \"reading-and-literature\": \"0\",\n",
      "  \"reading-and-literature-confidence\": \"7\",\n",
      "  \"writing-and-creative-writing\": \"1\",\n",
      "  \"writing-and-creative-writing-confidence\": \"8\",\n",
      "  \"science-and-technology\": \"0\",\n",
      "  \"science-and-technology-confidence\": \"10\",\n",
      "  \"mathematics-and-statistics\": \"1\",\n",
      "  \"mathematics-and-statistics-confidence\": \"6\",\n",
      "  \"history-and-social-studies\": \"9\",\n",
      "  \"history-and-social-studies-confidence\": \"0\",\n",
      "  \"creative-arts\": \"1\",\n",
      "  \"creative-arts-confidence\": \"8\",\n",
      "  \"animals-and-nature\": \"1\",\n",
      "  \"animals-and-nature-confidence\": \"9\",\n",
      "  \"note\": \"Detailed Summary Goes Here \"\n",
      "}\n",
      "\n",
      "### Solution:\n"
     ]
    }
   ],
   "source": [
    "eval_prompt = question_func(data.loc[0])\n",
    "print(eval_prompt)"
   ]
  },
  {
   "cell_type": "code",
   "execution_count": 47,
   "metadata": {
    "id": "NidIuFXMyRgi",
    "outputId": "b1794b11-9a22-4b0a-e871-7df039ab59fc"
   },
   "outputs": [
    {
     "name": "stderr",
     "output_type": "stream",
     "text": [
      "Setting `pad_token_id` to `eos_token_id`:2 for open-end generation.\n"
     ]
    },
    {
     "name": "stdout",
     "output_type": "stream",
     "text": [
      "### Question:\n",
      "You are a Student Web Activity Analyzer developed to support professionals, including Social Workers, School Psychologists, District Administrators, School Safety Specialists, and related roles. Your primary objective is to meticulously evaluate the online activity of K-12 students and identify specific indicators related to their interests and passions. For each identified indicator, provide a JSON object containing:\n",
      "\n",
      "Presence: Indicate a value of 1 (if the indicator is present) or 0 (if not). Even if only a portion of the data aligns with an indicator, mark it as 1.\n",
      "Confidence: Assign a confidence level on a scale of 1-10 to indicate the certainty level of your analysis.\n",
      "\n",
      "Additionally, please include a note that outlines the rationale behind identifying certain indicators and offers a summary of the analyzed web activity.\n",
      "\n",
      "Adhere to the JSON format outlined in the example output section precisely.\n",
      "\n",
      "Each individual online activity you receive represents one search or interaction on a student's device. Occasionally, searches that include large amounts of text will be summarized. These summaries will be marked with 'S~'. Such summarization typically occurs when students copy and paste extensive text blocks, although other cases may exist. Additional details will be provided in the summary.\n",
      "\n",
      "In situations where the presence of an indicator is ambiguous or if anomalies are present in the data, exercise your best judgment while providing a confidence level that reflects the level of uncertainty.\n",
      "\n",
      "Here are the specific indicators that you should use for this task, with definitions, delimited by single quotes.\n",
      "\n",
      "'sports-and-athletics: participating in physical activities and team sports to promote fitness, teamwork, and sportsmanship.'\n",
      "'environmentalism-and-sustainability: learning about the environment, conservation, and sustainable practices to become responsible global citizens.'\n",
      "'gaming-and-e-sports: engaging in digital gaming and competitive e-sports to develop strategic thinking, problem-solving, and teamwork skills.'\n",
      "'college-and-career: engaging in planning, research, and/or discovery around future college and career opportunities or otherwise demonstrating an interest in college or career activities after high school'\n",
      "'cooking-and-food: investigating cooking or food'\n",
      "'reading-and-literature: exploring the world of books and stories through reading and interpretation.'\n",
      "'writing-and-creative-writing: expressing thoughts, ideas, and imagination through written words and storytelling.'\n",
      "'science-and-technology: investigating the natural world and technological advancements'\n",
      "'mathematics-and-statistics: engaging in problem-solving and numerical analysis to understand patterns, shapes, and quantities.'\n",
      "'history-and-social-studies: discovering past events, cultures, and societies to gain a deeper understanding of the world.'\n",
      "'creative-arts: expressing creativity through various art forms like drawing, painting, sculpture, music, performing arts, and more'\n",
      "'animals-and-nature: reflects a student's enthusiasm and curiosity for studying, observing, or interacting with animals and natural environments, potentially driving academic pursuits, extracurricular activities, or career paths related to biology, ecology, or conservation.'\n",
      "\n",
      "\n",
      "### Search Data:\n",
      "['alexs', 'slope formula', 'aslope']\n",
      "\n",
      "### Example Output:\n",
      "{\n",
      "  \"sports-and-athletics\": \"1\",\n",
      "  \"sports-and-athletics-confidence\": \"6\",\n",
      "  \"environmentalism-and-sustainability\": \"0\",\n",
      "  \"environmentalism-and-sustainability-confidence\": \"8\",\n",
      "  \"gaming-and-e-sports\": \"0\",\n",
      "  \"gaming-and-e-sports-confidence\": \"10\",\n",
      "  \"college-and-career\": \"1\",\n",
      "  \"college-and-career-confidence\": \"7\",\n",
      "  \"cooking-and-food\": \"1\",\n",
      "  \"cooking-and-food-confidence\": \"7\",\n",
      "  \"reading-and-literature\": \"0\",\n",
      "  \"reading-and-literature-confidence\": \"7\",\n",
      "  \"writing-and-creative-writing\": \"1\",\n",
      "  \"writing-and-creative-writing-confidence\": \"8\",\n",
      "  \"science-and-technology\": \"0\",\n",
      "  \"science-and-technology-confidence\": \"10\",\n",
      "  \"mathematics-and-statistics\": \"1\",\n",
      "  \"mathematics-and-statistics-confidence\": \"6\",\n",
      "  \"history-and-social-studies\": \"9\",\n",
      "  \"history-and-social-studies-confidence\": \"0\",\n",
      "  \"creative-arts\": \"1\",\n",
      "  \"creative-arts-confidence\": \"8\",\n",
      "  \"animals-and-nature\": \"1\",\n",
      "  \"animals-and-nature-confidence\": \"9\",\n",
      "  \"note\": \"Detailed Summary Goes Here \"\n",
      "}\n",
      "\n",
      "### Solution:\n",
      "import json\n",
      "from collections import Counter\n",
      "\n",
      "def analyze_web_activity(search_data):\n",
      "    # Replace this code with your solution\n",
      "    # Initialize variables\n",
      "    indicators = {\n",
      "        'sports-and-athletics': 0,\n",
      "        'environmentalism-and-sustainability': 0,\n",
      "        'gaming-and-e-sports': 0,\n",
      "        'college-and-career': 0,\n",
      "        'cooking-and-food': 0,\n",
      "        'reading-and-literature': 0,\n",
      "        'writing-and-creative-writing': 0,\n",
      "        'science-and-technology': 0,\n",
      "        'mathematics-and-statistics': 0,\n",
      "        'history-and-social-studies': 0,\n",
      "        'creative-arts': 0,\n",
      "        'animals-and-nature': 0\n",
      "    }\n",
      "\n",
      "    # Loop over search data\n",
      "    for search in search_data:\n",
      "        # Check if any of the indicators match the search term\n",
      "        for indicator, count in Coun\n"
     ]
    }
   ],
   "source": [
    "# Re-init the tokenizer so it doesn't add padding or eos token\n",
    "tokenizer = AutoTokenizer.from_pretrained(\n",
    "    base_model_id,\n",
    "    add_bos_token=True,\n",
    ")\n",
    "\n",
    "model_input = tokenizer(eval_prompt, return_tensors=\"pt\").to(\"cuda\")\n",
    "\n",
    "model.eval()\n",
    "with torch.no_grad():\n",
    "    print(tokenizer.decode(model.generate(**model_input, max_new_tokens=256, repetition_penalty=1.15)[0], skip_special_tokens=True))"
   ]
  },
  {
   "cell_type": "markdown",
   "metadata": {
    "id": "AapDoyfAyRgi"
   },
   "source": [
    "### 4. Set Up LoRA"
   ]
  },
  {
   "cell_type": "markdown",
   "metadata": {
    "id": "Mp2gMi1ZzGET"
   },
   "source": [
    "Now, to start our fine-tuning, we have to apply some preprocessing to the model to prepare it for training. For that use the `prepare_model_for_kbit_training` method from PEFT."
   ]
  },
  {
   "cell_type": "code",
   "execution_count": 45,
   "metadata": {
    "id": "a9EUEDAl0ss3"
   },
   "outputs": [],
   "source": [
    "from peft import prepare_model_for_kbit_training\n",
    "\n",
    "model.gradient_checkpointing_enable()\n",
    "model = prepare_model_for_kbit_training(model)"
   ]
  },
  {
   "cell_type": "code",
   "execution_count": 46,
   "metadata": {
    "id": "gkIcwsSU01EB"
   },
   "outputs": [],
   "source": [
    "def print_trainable_parameters(model):\n",
    "    \"\"\"\n",
    "    Prints the number of trainable parameters in the model.\n",
    "    \"\"\"\n",
    "    trainable_params = 0\n",
    "    all_param = 0\n",
    "    for _, param in model.named_parameters():\n",
    "        all_param += param.numel()\n",
    "        if param.requires_grad:\n",
    "            trainable_params += param.numel()\n",
    "    print(\n",
    "        f\"trainable params: {trainable_params} || all params: {all_param} || trainable%: {100 * trainable_params / all_param}\"\n",
    "    )"
   ]
  },
  {
   "cell_type": "markdown",
   "metadata": {
    "id": "cUYEpEK-yRgj"
   },
   "source": [
    "Let's print the model to examine its layers, as we will apply QLoRA to all the linear layers of the model. Those layers are `q_proj`, `k_proj`, `v_proj`, `o_proj`, `gate_proj`, `up_proj`, `down_proj`, and `lm_head`."
   ]
  },
  {
   "cell_type": "code",
   "execution_count": 47,
   "metadata": {
    "id": "XshGNsbxyRgj",
    "outputId": "c619b0e8-8516-4d4b-9abe-13eaa3f3b204",
    "scrolled": true
   },
   "outputs": [
    {
     "name": "stdout",
     "output_type": "stream",
     "text": [
      "MistralForCausalLM(\n",
      "  (model): MistralModel(\n",
      "    (embed_tokens): Embedding(32000, 4096)\n",
      "    (layers): ModuleList(\n",
      "      (0-31): 32 x MistralDecoderLayer(\n",
      "        (self_attn): MistralAttention(\n",
      "          (q_proj): Linear4bit(in_features=4096, out_features=4096, bias=False)\n",
      "          (k_proj): Linear4bit(in_features=4096, out_features=1024, bias=False)\n",
      "          (v_proj): Linear4bit(in_features=4096, out_features=1024, bias=False)\n",
      "          (o_proj): Linear4bit(in_features=4096, out_features=4096, bias=False)\n",
      "          (rotary_emb): MistralRotaryEmbedding()\n",
      "        )\n",
      "        (mlp): MistralMLP(\n",
      "          (gate_proj): Linear4bit(in_features=4096, out_features=14336, bias=False)\n",
      "          (up_proj): Linear4bit(in_features=4096, out_features=14336, bias=False)\n",
      "          (down_proj): Linear4bit(in_features=14336, out_features=4096, bias=False)\n",
      "          (act_fn): SiLU()\n",
      "        )\n",
      "        (input_layernorm): MistralRMSNorm()\n",
      "        (post_attention_layernorm): MistralRMSNorm()\n",
      "      )\n",
      "    )\n",
      "    (norm): MistralRMSNorm()\n",
      "  )\n",
      "  (lm_head): Linear(in_features=4096, out_features=32000, bias=False)\n",
      ")\n"
     ]
    }
   ],
   "source": [
    "print(model)"
   ]
  },
  {
   "cell_type": "markdown",
   "metadata": {
    "id": "I6mTLuQJyRgj"
   },
   "source": [
    "Here we define the LoRA config.\n",
    "\n",
    "`r` is the rank of the low-rank matrix used in the adapters, which thus controls the number of parameters trained. A higher rank will allow for more expressivity, but there is a compute tradeoff.\n",
    "\n",
    "`alpha` is the scaling factor for the learned weights. The weight matrix is scaled by `alpha/r`, and thus a higher value for `alpha` assigns more weight to the LoRA activations.\n",
    "\n",
    "The values used in the QLoRA paper were `r=64` and `lora_alpha=16`, and these are said to generalize well, but we will use `r=32` and `lora_alpha=64` so that we have more emphasis on the new fine-tuned data while also reducing computational complexity."
   ]
  },
  {
   "cell_type": "code",
   "execution_count": 48,
   "metadata": {
    "id": "Ybeyl20n3dYH",
    "outputId": "6a16c182-04d9-4812-ae81-502a8fe364d0"
   },
   "outputs": [
    {
     "name": "stdout",
     "output_type": "stream",
     "text": [
      "trainable params: 85041152 || all params: 3837112320 || trainable%: 2.2162799758751914\n"
     ]
    }
   ],
   "source": [
    "from peft import LoraConfig, get_peft_model\n",
    "\n",
    "config = LoraConfig(\n",
    "    r=32,\n",
    "    lora_alpha=64,\n",
    "    target_modules=[\n",
    "        \"q_proj\",\n",
    "        \"k_proj\",\n",
    "        \"v_proj\",\n",
    "        \"o_proj\",\n",
    "        \"gate_proj\",\n",
    "        \"up_proj\",\n",
    "        \"down_proj\",\n",
    "        \"lm_head\",\n",
    "    ],\n",
    "    bias=\"none\",\n",
    "    lora_dropout=0.05,  # Conventional\n",
    "    task_type=\"CAUSAL_LM\",\n",
    ")\n",
    "\n",
    "model = get_peft_model(model, config)\n",
    "print_trainable_parameters(model)"
   ]
  },
  {
   "cell_type": "markdown",
   "metadata": {
    "id": "X_FHi_VLyRgn"
   },
   "source": [
    "See how the model looks different now, with the LoRA adapters added:"
   ]
  },
  {
   "cell_type": "code",
   "execution_count": 49,
   "metadata": {
    "id": "IaYMWak4yRgn"
   },
   "outputs": [
    {
     "name": "stdout",
     "output_type": "stream",
     "text": [
      "PeftModelForCausalLM(\n",
      "  (base_model): LoraModel(\n",
      "    (model): MistralForCausalLM(\n",
      "      (model): MistralModel(\n",
      "        (embed_tokens): Embedding(32000, 4096)\n",
      "        (layers): ModuleList(\n",
      "          (0-31): 32 x MistralDecoderLayer(\n",
      "            (self_attn): MistralAttention(\n",
      "              (q_proj): lora.Linear4bit(\n",
      "                (base_layer): Linear4bit(in_features=4096, out_features=4096, bias=False)\n",
      "                (lora_dropout): ModuleDict(\n",
      "                  (default): Dropout(p=0.05, inplace=False)\n",
      "                )\n",
      "                (lora_A): ModuleDict(\n",
      "                  (default): Linear(in_features=4096, out_features=32, bias=False)\n",
      "                )\n",
      "                (lora_B): ModuleDict(\n",
      "                  (default): Linear(in_features=32, out_features=4096, bias=False)\n",
      "                )\n",
      "                (lora_embedding_A): ParameterDict()\n",
      "                (lora_embedding_B): ParameterDict()\n",
      "              )\n",
      "              (k_proj): lora.Linear4bit(\n",
      "                (base_layer): Linear4bit(in_features=4096, out_features=1024, bias=False)\n",
      "                (lora_dropout): ModuleDict(\n",
      "                  (default): Dropout(p=0.05, inplace=False)\n",
      "                )\n",
      "                (lora_A): ModuleDict(\n",
      "                  (default): Linear(in_features=4096, out_features=32, bias=False)\n",
      "                )\n",
      "                (lora_B): ModuleDict(\n",
      "                  (default): Linear(in_features=32, out_features=1024, bias=False)\n",
      "                )\n",
      "                (lora_embedding_A): ParameterDict()\n",
      "                (lora_embedding_B): ParameterDict()\n",
      "              )\n",
      "              (v_proj): lora.Linear4bit(\n",
      "                (base_layer): Linear4bit(in_features=4096, out_features=1024, bias=False)\n",
      "                (lora_dropout): ModuleDict(\n",
      "                  (default): Dropout(p=0.05, inplace=False)\n",
      "                )\n",
      "                (lora_A): ModuleDict(\n",
      "                  (default): Linear(in_features=4096, out_features=32, bias=False)\n",
      "                )\n",
      "                (lora_B): ModuleDict(\n",
      "                  (default): Linear(in_features=32, out_features=1024, bias=False)\n",
      "                )\n",
      "                (lora_embedding_A): ParameterDict()\n",
      "                (lora_embedding_B): ParameterDict()\n",
      "              )\n",
      "              (o_proj): lora.Linear4bit(\n",
      "                (base_layer): Linear4bit(in_features=4096, out_features=4096, bias=False)\n",
      "                (lora_dropout): ModuleDict(\n",
      "                  (default): Dropout(p=0.05, inplace=False)\n",
      "                )\n",
      "                (lora_A): ModuleDict(\n",
      "                  (default): Linear(in_features=4096, out_features=32, bias=False)\n",
      "                )\n",
      "                (lora_B): ModuleDict(\n",
      "                  (default): Linear(in_features=32, out_features=4096, bias=False)\n",
      "                )\n",
      "                (lora_embedding_A): ParameterDict()\n",
      "                (lora_embedding_B): ParameterDict()\n",
      "              )\n",
      "              (rotary_emb): MistralRotaryEmbedding()\n",
      "            )\n",
      "            (mlp): MistralMLP(\n",
      "              (gate_proj): lora.Linear4bit(\n",
      "                (base_layer): Linear4bit(in_features=4096, out_features=14336, bias=False)\n",
      "                (lora_dropout): ModuleDict(\n",
      "                  (default): Dropout(p=0.05, inplace=False)\n",
      "                )\n",
      "                (lora_A): ModuleDict(\n",
      "                  (default): Linear(in_features=4096, out_features=32, bias=False)\n",
      "                )\n",
      "                (lora_B): ModuleDict(\n",
      "                  (default): Linear(in_features=32, out_features=14336, bias=False)\n",
      "                )\n",
      "                (lora_embedding_A): ParameterDict()\n",
      "                (lora_embedding_B): ParameterDict()\n",
      "              )\n",
      "              (up_proj): lora.Linear4bit(\n",
      "                (base_layer): Linear4bit(in_features=4096, out_features=14336, bias=False)\n",
      "                (lora_dropout): ModuleDict(\n",
      "                  (default): Dropout(p=0.05, inplace=False)\n",
      "                )\n",
      "                (lora_A): ModuleDict(\n",
      "                  (default): Linear(in_features=4096, out_features=32, bias=False)\n",
      "                )\n",
      "                (lora_B): ModuleDict(\n",
      "                  (default): Linear(in_features=32, out_features=14336, bias=False)\n",
      "                )\n",
      "                (lora_embedding_A): ParameterDict()\n",
      "                (lora_embedding_B): ParameterDict()\n",
      "              )\n",
      "              (down_proj): lora.Linear4bit(\n",
      "                (base_layer): Linear4bit(in_features=14336, out_features=4096, bias=False)\n",
      "                (lora_dropout): ModuleDict(\n",
      "                  (default): Dropout(p=0.05, inplace=False)\n",
      "                )\n",
      "                (lora_A): ModuleDict(\n",
      "                  (default): Linear(in_features=14336, out_features=32, bias=False)\n",
      "                )\n",
      "                (lora_B): ModuleDict(\n",
      "                  (default): Linear(in_features=32, out_features=4096, bias=False)\n",
      "                )\n",
      "                (lora_embedding_A): ParameterDict()\n",
      "                (lora_embedding_B): ParameterDict()\n",
      "              )\n",
      "              (act_fn): SiLU()\n",
      "            )\n",
      "            (input_layernorm): MistralRMSNorm()\n",
      "            (post_attention_layernorm): MistralRMSNorm()\n",
      "          )\n",
      "        )\n",
      "        (norm): MistralRMSNorm()\n",
      "      )\n",
      "      (lm_head): lora.Linear(\n",
      "        (base_layer): Linear(in_features=4096, out_features=32000, bias=False)\n",
      "        (lora_dropout): ModuleDict(\n",
      "          (default): Dropout(p=0.05, inplace=False)\n",
      "        )\n",
      "        (lora_A): ModuleDict(\n",
      "          (default): Linear(in_features=4096, out_features=32, bias=False)\n",
      "        )\n",
      "        (lora_B): ModuleDict(\n",
      "          (default): Linear(in_features=32, out_features=32000, bias=False)\n",
      "        )\n",
      "        (lora_embedding_A): ParameterDict()\n",
      "        (lora_embedding_B): ParameterDict()\n",
      "      )\n",
      "    )\n",
      "  )\n",
      ")\n"
     ]
    }
   ],
   "source": [
    "print(model)"
   ]
  },
  {
   "cell_type": "markdown",
   "metadata": {
    "id": "05H5MIfjyRgc"
   },
   "source": [
    "### Accelerator\n",
    "\n",
    "Set up the Accelerator. I'm not sure if we really need this for a QLoRA given its [description](https://huggingface.co/docs/accelerate/v0.19.0/en/usage_guides/fsdp) (I have to read more about it) but it seems it can't hurt, and it's helpful to have the code for future reference. You can always comment out the accelerator if you want to try without."
   ]
  },
  {
   "cell_type": "code",
   "execution_count": 50,
   "metadata": {
    "id": "TEzYBadkyRgd"
   },
   "outputs": [],
   "source": [
    "from accelerate import FullyShardedDataParallelPlugin, Accelerator\n",
    "from torch.distributed.fsdp.fully_sharded_data_parallel import FullOptimStateDictConfig, FullStateDictConfig\n",
    "\n",
    "fsdp_plugin = FullyShardedDataParallelPlugin(\n",
    "    state_dict_config=FullStateDictConfig(offload_to_cpu=True, rank0_only=False),\n",
    "    optim_state_dict_config=FullOptimStateDictConfig(offload_to_cpu=True, rank0_only=False),\n",
    ")\n",
    "\n",
    "accelerator = Accelerator(fsdp_plugin=fsdp_plugin)"
   ]
  },
  {
   "cell_type": "code",
   "execution_count": 51,
   "metadata": {
    "id": "yxSbpKQSLY6B"
   },
   "outputs": [],
   "source": [
    "model = accelerator.prepare_model(model)"
   ]
  },
  {
   "cell_type": "markdown",
   "metadata": {
    "id": "-9KNTJZkyRgn"
   },
   "source": [
    "\n",
    "Let's use Weights & Biases to track our training metrics. You'll need to apply an API key when prompted. Feel free to skip this if you'd like, and just comment out the `wandb` parameters in the `Trainer` definition below."
   ]
  },
  {
   "cell_type": "code",
   "execution_count": 52,
   "metadata": {
    "id": "DDqUNyIoyRgo"
   },
   "outputs": [
    {
     "name": "stderr",
     "output_type": "stream",
     "text": [
      "huggingface/tokenizers: The current process just got forked, after parallelism has already been used. Disabling parallelism to avoid deadlocks...\n",
      "To disable this warning, you can either:\n",
      "\t- Avoid using `tokenizers` before the fork if possible\n",
      "\t- Explicitly set the environment variable TOKENIZERS_PARALLELISM=(true | false)\n"
     ]
    },
    {
     "name": "stdout",
     "output_type": "stream",
     "text": [
      "\u001b[33mWARNING: Running pip as the 'root' user can result in broken permissions and conflicting behaviour with the system package manager. It is recommended to use a virtual environment instead: https://pip.pypa.io/warnings/venv\u001b[0m\u001b[33m\n",
      "\u001b[0m"
     ]
    },
    {
     "name": "stderr",
     "output_type": "stream",
     "text": [
      "\u001b[34m\u001b[1mwandb\u001b[0m: Logging into wandb.ai. (Learn how to deploy a W&B server locally: https://wandb.me/wandb-server)\n",
      "\u001b[34m\u001b[1mwandb\u001b[0m: You can find your API key in your browser here: https://wandb.ai/authorize\n",
      "\u001b[34m\u001b[1mwandb\u001b[0m: Paste an API key from your profile and hit enter, or press ctrl+c to quit:"
     ]
    },
    {
     "name": "stdin",
     "output_type": "stream",
     "text": [
      "  ········\n"
     ]
    },
    {
     "name": "stderr",
     "output_type": "stream",
     "text": [
      "\u001b[34m\u001b[1mwandb\u001b[0m: Appending key for api.wandb.ai to your netrc file: /root/.netrc\n"
     ]
    }
   ],
   "source": [
    "!pip install -q wandb -U\n",
    "\n",
    "import wandb, os\n",
    "wandb.login()\n",
    "\n",
    "wandb_project = \"discern-finetune\"\n",
    "if len(wandb_project) > 0:\n",
    "    os.environ[\"WANDB_PROJECT\"] = wandb_project"
   ]
  },
  {
   "cell_type": "markdown",
   "metadata": {
    "id": "_0MOtwf3zdZp"
   },
   "source": [
    "### 5. Run Training!"
   ]
  },
  {
   "cell_type": "markdown",
   "metadata": {
    "id": "fEe0uWYSyRgo"
   },
   "source": [
    "I didn't have a lot of training samples: only about 200 total train/validation. I used 500 training steps, and I was fine with overfitting in this case. I found that the end product worked well. It took about 20 minutes on the 1x A10G 24GB.\n",
    "\n",
    "Overfitting is when the validation loss goes up (bad) while the training loss goes down significantly, meaning the model is learning the training set really well, but is unable to generalize to new datapoints. In most cases, this is not desired, but since I am just playing around with a model to generate outputs like my journal entries, I was fine with a moderate amount of overfitting.\n",
    "\n",
    "With that said, a note on training: you can set the `max_steps` to be high initially, and examine at what step your model's performance starts to degrade. There is where you'll find a sweet spot for how many steps to perform. For example, say you start with 1000 steps, and find that at around 500 steps the model starts overfitting, as described above. Therefore, 500 steps would be your sweet spot, so you would use the `checkpoint-500` model repo in your output dir (`mistral-journal-finetune`) as your final model in step 6 below.\n",
    "\n",
    "If you're just doing something for fun like I did and are OK with overfitting, you can try different checkpoint versions with different degrees of overfitting.\n",
    "\n",
    "You can interrupt the process via Kernel -> Interrupt Kernel in the top nav bar once you realize you didn't need to train anymore."
   ]
  },
  {
   "cell_type": "code",
   "execution_count": 53,
   "metadata": {
    "id": "c_L1131GyRgo"
   },
   "outputs": [],
   "source": [
    "if torch.cuda.device_count() > 1: # If more than 1 GPU\n",
    "    model.is_parallelizable = True\n",
    "    model.model_parallel = True"
   ]
  },
  {
   "cell_type": "code",
   "execution_count": null,
   "metadata": {
    "id": "jq0nX33BmfaC",
    "scrolled": true
   },
   "outputs": [
    {
     "data": {
      "text/html": [
       "Changes to your `wandb` environment variables will be ignored because your `wandb` session has already started. For more information on how to modify your settings with `wandb.init()` arguments, please refer to <a href='https://wandb.me/wandb-init' target=\"_blank\">the W&B docs</a>."
      ],
      "text/plain": [
       "<IPython.core.display.HTML object>"
      ]
     },
     "metadata": {},
     "output_type": "display_data"
    },
    {
     "name": "stderr",
     "output_type": "stream",
     "text": [
      "\u001b[34m\u001b[1mwandb\u001b[0m: Currently logged in as: \u001b[33mdavid-hinkle\u001b[0m (\u001b[33msecurly\u001b[0m). Use \u001b[1m`wandb login --relogin`\u001b[0m to force relogin\n"
     ]
    },
    {
     "data": {
      "text/html": [
       "Tracking run with wandb version 0.16.1"
      ],
      "text/plain": [
       "<IPython.core.display.HTML object>"
      ]
     },
     "metadata": {},
     "output_type": "display_data"
    },
    {
     "data": {
      "text/html": [
       "Run data is saved locally in <code>/opt/notebooks/wandb/run-20231207_233514-acbgvx6u</code>"
      ],
      "text/plain": [
       "<IPython.core.display.HTML object>"
      ]
     },
     "metadata": {},
     "output_type": "display_data"
    },
    {
     "data": {
      "text/html": [
       "Syncing run <strong><a href='https://wandb.ai/securly/discern-finetune/runs/acbgvx6u' target=\"_blank\">mistral-journal-finetune-2023-12-07-23-35</a></strong> to <a href='https://wandb.ai/securly/discern-finetune' target=\"_blank\">Weights & Biases</a> (<a href='https://wandb.me/run' target=\"_blank\">docs</a>)<br/>"
      ],
      "text/plain": [
       "<IPython.core.display.HTML object>"
      ]
     },
     "metadata": {},
     "output_type": "display_data"
    },
    {
     "data": {
      "text/html": [
       " View project at <a href='https://wandb.ai/securly/discern-finetune' target=\"_blank\">https://wandb.ai/securly/discern-finetune</a>"
      ],
      "text/plain": [
       "<IPython.core.display.HTML object>"
      ]
     },
     "metadata": {},
     "output_type": "display_data"
    },
    {
     "data": {
      "text/html": [
       " View run at <a href='https://wandb.ai/securly/discern-finetune/runs/acbgvx6u' target=\"_blank\">https://wandb.ai/securly/discern-finetune/runs/acbgvx6u</a>"
      ],
      "text/plain": [
       "<IPython.core.display.HTML object>"
      ]
     },
     "metadata": {},
     "output_type": "display_data"
    },
    {
     "name": "stderr",
     "output_type": "stream",
     "text": [
      "You're using a LlamaTokenizerFast tokenizer. Please note that with a fast tokenizer, using the `__call__` method is faster than using a method to encode the text followed by a call to the `pad` method to get a padded encoding.\n",
      "/opt/conda/lib/python3.11/site-packages/torch/utils/checkpoint.py:429: UserWarning: torch.utils.checkpoint: please pass in use_reentrant=True or use_reentrant=False explicitly. The default value of use_reentrant will be updated to be False in the future. To maintain current behavior, pass use_reentrant=True. It is recommended that you use use_reentrant=False. Refer to docs for more details on the differences between the two variants.\n",
      "  warnings.warn(\n"
     ]
    },
    {
     "data": {
      "text/html": [
       "\n",
       "    <div>\n",
       "      \n",
       "      <progress value='2' max='1000' style='width:300px; height:20px; vertical-align: middle;'></progress>\n",
       "      [   2/1000 : < :, Epoch 0.01/5]\n",
       "    </div>\n",
       "    <table border=\"1\" class=\"dataframe\">\n",
       "  <thead>\n",
       " <tr style=\"text-align: left;\">\n",
       "      <th>Step</th>\n",
       "      <th>Training Loss</th>\n",
       "      <th>Validation Loss</th>\n",
       "    </tr>\n",
       "  </thead>\n",
       "  <tbody>\n",
       "  </tbody>\n",
       "</table><p>"
      ],
      "text/plain": [
       "<IPython.core.display.HTML object>"
      ]
     },
     "metadata": {},
     "output_type": "display_data"
    }
   ],
   "source": [
    "import transformers\n",
    "from datetime import datetime\n",
    "\n",
    "project = \"discern-finetune\"\n",
    "base_model_name = \"mistral\"\n",
    "run_name = base_model_name + \"-\" + project\n",
    "output_dir = \"./\" + run_name\n",
    "\n",
    "trainer = transformers.Trainer(\n",
    "    model=model,\n",
    "    train_dataset=tokenized_train_dataset,\n",
    "    eval_dataset=tokenized_val_dataset,\n",
    "    args=transformers.TrainingArguments(\n",
    "        output_dir=output_dir,\n",
    "        warmup_steps=1,\n",
    "        per_device_train_batch_size=2,\n",
    "        gradient_accumulation_steps=1,\n",
    "        gradient_checkpointing=True,\n",
    "        max_steps=1000,\n",
    "        learning_rate=2.5e-5, # Want a small lr for finetuning\n",
    "        bf16=True,\n",
    "        optim=\"paged_adamw_8bit\",\n",
    "        logging_steps=25,              # When to start reporting loss\n",
    "        logging_dir=\"./logs\",        # Directory for storing logs\n",
    "        save_strategy=\"steps\",       # Save the model checkpoint every logging step\n",
    "        save_steps=25,                # Save checkpoints every 50 steps\n",
    "        evaluation_strategy=\"steps\", # Evaluate the model every logging step\n",
    "        eval_steps=25,               # Evaluate and save checkpoints every 50 steps\n",
    "        do_eval=True,                # Perform evaluation at the end of training\n",
    "        report_to=\"wandb\",           # Comment this out if you don't want to use weights & baises\n",
    "        run_name=f\"{run_name}-{datetime.now().strftime('%Y-%m-%d-%H-%M')}\"          # Name of the W&B run (optional)\n",
    "    ),\n",
    "    data_collator=transformers.DataCollatorForLanguageModeling(tokenizer, mlm=False),\n",
    ")\n",
    "\n",
    "model.config.use_cache = False  # silence the warnings. Please re-enable for inference!\n",
    "trainer.train()"
   ]
  },
  {
   "cell_type": "markdown",
   "metadata": {
    "id": "0D57XqcsyRgo"
   },
   "source": [
    "### 6. Drum Roll... Try the Trained Model!\n",
    "\n",
    "It's a good idea to kill the current process so that you don't run out of memory loading the base model again on top of the model we just trained. Go to `Kernel > Restart Kernel` or kill the process via the Terminal (`nvidia smi` > `kill [PID]`). \n",
    "\n",
    "By default, the PEFT library will only save the QLoRA adapters, so we need to first load the base model from the Huggingface Hub:"
   ]
  },
  {
   "cell_type": "code",
   "execution_count": null,
   "metadata": {
    "colab": {
     "referenced_widgets": [
      "fb8230fb86884aa6be318e2d03a88af2"
     ]
    },
    "id": "SKSnF016yRgp",
    "outputId": "bce5209d-90da-4117-c6ac-cda9f3cb3422"
   },
   "outputs": [],
   "source": [
    "import torch\n",
    "from transformers import AutoTokenizer, AutoModelForCausalLM, BitsAndBytesConfig\n",
    "\n",
    "base_model_id = \"mistralai/Mistral-7B-v0.1\"\n",
    "bnb_config = BitsAndBytesConfig(\n",
    "    load_in_4bit=True,\n",
    "    bnb_4bit_use_double_quant=True,\n",
    "    bnb_4bit_quant_type=\"nf4\",\n",
    "    bnb_4bit_compute_dtype=torch.bfloat16\n",
    ")\n",
    "\n",
    "base_model = AutoModelForCausalLM.from_pretrained(\n",
    "    base_model_id,  # Mistral, same as before\n",
    "    quantization_config=bnb_config,  # Same quantization config as before\n",
    "    device_map=\"auto\",\n",
    "    trust_remote_code=True,\n",
    "    use_auth_token=True\n",
    ")\n",
    "\n",
    "tokenizer = AutoTokenizer.from_pretrained(base_model_id, add_bos_token=True, trust_remote_code=True)"
   ]
  },
  {
   "cell_type": "markdown",
   "metadata": {
    "id": "_BxOhAiqyRgp"
   },
   "source": [
    "Now load the QLoRA adapter from the appropriate checkpoint directory, i.e. the best performing model checkpoint:"
   ]
  },
  {
   "cell_type": "code",
   "execution_count": null,
   "metadata": {
    "id": "GwsiqhWuyRgp"
   },
   "outputs": [],
   "source": [
    "from peft import PeftModel\n",
    "\n",
    "ft_model = PeftModel.from_pretrained(base_model, \"mistral-journal-finetune/checkpoint-300\")"
   ]
  },
  {
   "cell_type": "markdown",
   "metadata": {
    "id": "lX39ibolyRgp"
   },
   "source": [
    "and run your inference!"
   ]
  },
  {
   "cell_type": "markdown",
   "metadata": {
    "id": "UUehsaVNyRgp"
   },
   "source": [
    "Let's try the same `eval_prompt` and thus `model_input` as above, and see if the new finetuned model performs better. I like playing with the repetition penalty (just little tweaks of .01-.05 at a time). THIS IS SO FUN. I'm obsessed wth this AI version of myself."
   ]
  },
  {
   "cell_type": "code",
   "execution_count": null,
   "metadata": {
    "id": "lMkVNEUvyRgp",
    "outputId": "7d49d409-5dbe-4306-c1a4-9d87e3073397"
   },
   "outputs": [
    {
     "name": "stdout",
     "output_type": "stream",
     "text": [
      " The following is a note by Eevee the Dog, which doesn't share anything too personal: # \n",
      "I’m grateful for my best friend coming to visit me. I know we’ll have so much fun and our relationship will continue to flourish. We really are each other’s number one fan and it’s such a beautiful thing. She supports me in all that I do and celebrates my successes with joy and excitement. I am excited to show her around SF and take her to some of my favorite places. I hope she gets to meet some of my friends here as\n"
     ]
    }
   ],
   "source": [
    "eval_prompt = \" The following is a note by Eevee the Dog, which doesn't share anything too personal: # \"\n",
    "model_input = tokenizer(eval_prompt, return_tensors=\"pt\").to(\"cuda\")\n",
    "\n",
    "ft_model.eval()\n",
    "with torch.no_grad():\n",
    "    print(tokenizer.decode(ft_model.generate(**model_input, max_new_tokens=100, repetition_penalty=1.15)[0], skip_special_tokens=True))"
   ]
  },
  {
   "cell_type": "markdown",
   "metadata": {
    "id": "VCJnpZoayRgq"
   },
   "source": [
    "### Sweet... it worked! The fine-tuned model now prints out journal entries in my style!\n",
    "\n",
    "How funny to see it write like me as an angsty teenager, and honestly adult. I am obsessed. It knows who my friends are and talks about them, and covers the same topics I usually cover. It's really cool.\n",
    "\n",
    "That output is quite private but I wanted you to see an example run, so I tweaked the `eval_prompt` so that it explicitly wouldn't say anything too sensitive, haha.\n",
    "\n",
    "I hope you enjoyed this tutorial on fine-tuning Mistral on your own data. If you have any questions, feel free to reach out to me on [X](https://x.com/harperscarroll) or [Discord](https://discord.gg/RN2a436M73).\n",
    "\n",
    "🤙 🤙 🤙 🤙 🤙 🤙 🤙 🤙 🤙 🤙 🤙 🤙 🤙 🤙 🤙 🤙 🤙 🤙 🤙 🤙 🤙 🤙 🤙 🤙 🤙 🤙 🤙 🤙 🤙 🤙 🤙 🤙 🤙 🤙 🤙 🤙 🤙 🤙 🤙 🤙 🤙 🤙 🤙 🤙 🤙 🤙 🤙 🤙 🤙 🤙 🤙 🤙 🤙 🤙 🤙 🤙"
   ]
  },
  {
   "cell_type": "code",
   "execution_count": null,
   "metadata": {
    "id": "ZjPlpRSJ-aSs"
   },
   "outputs": [],
   "source": []
  }
 ],
 "metadata": {
  "accelerator": "GPU",
  "colab": {
   "gpuType": "T4",
   "provenance": []
  },
  "gpuClass": "standard",
  "kernelspec": {
   "display_name": "Python 3 (ipykernel)",
   "language": "python",
   "name": "python3"
  },
  "language_info": {
   "codemirror_mode": {
    "name": "ipython",
    "version": 3
   },
   "file_extension": ".py",
   "mimetype": "text/x-python",
   "name": "python",
   "nbconvert_exporter": "python",
   "pygments_lexer": "ipython3",
   "version": "3.11.5"
  }
 },
 "nbformat": 4,
 "nbformat_minor": 4
}
