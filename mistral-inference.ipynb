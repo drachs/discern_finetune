{
 "cells": [
  {
   "cell_type": "markdown",
   "id": "e8f351d6-a78e-4bc2-9f3e-28b3b8264bbe",
   "metadata": {},
   "source": [
    "# Inference Experimentation\n",
    "\n",
    "## Preliminaries"
   ]
  },
  {
   "cell_type": "code",
   "execution_count": 3,
   "id": "1588b8fd-6c81-48e6-9a76-65d320416e9d",
   "metadata": {},
   "outputs": [
    {
     "name": "stdout",
     "output_type": "stream",
     "text": [
      "Tue Dec 12 20:51:51 2023       \n",
      "+---------------------------------------------------------------------------------------+\n",
      "| NVIDIA-SMI 545.29.04              Driver Version: 546.17       CUDA Version: 12.3     |\n",
      "|-----------------------------------------+----------------------+----------------------+\n",
      "| GPU  Name                 Persistence-M | Bus-Id        Disp.A | Volatile Uncorr. ECC |\n",
      "| Fan  Temp   Perf          Pwr:Usage/Cap |         Memory-Usage | GPU-Util  Compute M. |\n",
      "|                                         |                      |               MIG M. |\n",
      "|=========================================+======================+======================|\n",
      "|   0  NVIDIA GeForce RTX 4090        On  | 00000000:01:00.0  On |                  Off |\n",
      "|  0%   37C    P8              26W / 450W |   2428MiB / 24564MiB |      4%      Default |\n",
      "|                                         |                      |                  N/A |\n",
      "+-----------------------------------------+----------------------+----------------------+\n",
      "                                                                                         \n",
      "+---------------------------------------------------------------------------------------+\n",
      "| Processes:                                                                            |\n",
      "|  GPU   GI   CI        PID   Type   Process name                            GPU Memory |\n",
      "|        ID   ID                                                             Usage      |\n",
      "|=======================================================================================|\n",
      "|  No running processes found                                                           |\n",
      "+---------------------------------------------------------------------------------------+\n"
     ]
    }
   ],
   "source": [
    "!nvidia-smi"
   ]
  },
  {
   "cell_type": "code",
   "execution_count": 12,
   "id": "ffd7fbdd-60ec-4ca7-8e20-6e4206b03e52",
   "metadata": {
    "scrolled": true
   },
   "outputs": [
    {
     "name": "stdout",
     "output_type": "stream",
     "text": [
      "Retrieving notices: ...working... done\n",
      "Channels:\n",
      " - defaults\n",
      " - nvidia\n",
      " - pytorch\n",
      "Platform: linux-64\n",
      "Collecting package metadata (repodata.json): ...working... done\n",
      "Solving environment: ...working... done\n",
      "\n",
      "## Package Plan ##\n",
      "\n",
      "  environment location: /opt/conda\n",
      "\n",
      "  added / updated specs:\n",
      "    - matplotlib\n",
      "    - scikit-learn\n",
      "    - scipy\n",
      "\n",
      "\n",
      "The following packages will be downloaded:\n",
      "\n",
      "    package                    |            build\n",
      "    ---------------------------|-----------------\n",
      "    brotli-1.0.9               |       h5eee18b_7          18 KB\n",
      "    brotli-bin-1.0.9           |       h5eee18b_7          19 KB\n",
      "    contourpy-1.2.0            |  py311hdb19cb5_0         263 KB\n",
      "    cycler-0.11.0              |     pyhd3eb1b0_0          12 KB\n",
      "    cyrus-sasl-2.1.28          |       h52b45da_1         237 KB\n",
      "    dbus-1.13.18               |       hb2f20db_0         504 KB\n",
      "    expat-2.5.0                |       h6a678d5_0         172 KB\n",
      "    fontconfig-2.14.1          |       h4c34cd2_2         281 KB\n",
      "    fonttools-4.25.0           |     pyhd3eb1b0_0         632 KB\n",
      "    glib-2.69.1                |       he621ea3_2         1.9 MB\n",
      "    gst-plugins-base-1.14.1    |       h6a678d5_1         2.2 MB\n",
      "    gstreamer-1.14.1           |       h5eee18b_1         1.7 MB\n",
      "    joblib-1.2.0               |  py311h06a4308_0         527 KB\n",
      "    kiwisolver-1.4.4           |  py311h6a678d5_0          70 KB\n",
      "    libbrotlicommon-1.0.9      |       h5eee18b_7          70 KB\n",
      "    libbrotlidec-1.0.9         |       h5eee18b_7          31 KB\n",
      "    libbrotlienc-1.0.9         |       h5eee18b_7         264 KB\n",
      "    libclang-14.0.6            |default_hc6dbbc7_1         137 KB\n",
      "    libclang13-14.0.6          |default_he11475f_1         9.8 MB\n",
      "    libcups-2.4.2              |       h2d74bed_1         4.5 MB\n",
      "    libgfortran-ng-11.2.0      |       h00389a5_1          20 KB\n",
      "    libgfortran5-11.2.0        |       h1234567_1         2.0 MB\n",
      "    libllvm14-14.0.6           |       hdb19cb5_3        33.4 MB\n",
      "    libpq-12.15                |       hdbd6064_1         2.4 MB\n",
      "    libxcb-1.15                |       h7f8727e_0         505 KB\n",
      "    libxkbcommon-1.0.1         |       h5eee18b_1         590 KB\n",
      "    matplotlib-3.8.0           |  py311h06a4308_0           8 KB\n",
      "    matplotlib-base-3.8.0      |  py311ha02d727_0         7.7 MB\n",
      "    munkres-1.1.4              |             py_0          13 KB\n",
      "    mysql-5.7.24               |       h721c034_2        60.0 MB\n",
      "    numpy-1.24.3               |  py311h08b1b3b_1          11 KB\n",
      "    numpy-base-1.24.3          |  py311hf175353_1         7.2 MB\n",
      "    pcre-8.45                  |       h295c915_0         207 KB\n",
      "    ply-3.11                   |  py311h06a4308_0         111 KB\n",
      "    pyparsing-3.0.9            |  py311h06a4308_0         204 KB\n",
      "    pyqt-5.15.10               |  py311h6a678d5_0         5.7 MB\n",
      "    pyqt5-sip-12.13.0          |  py311h5eee18b_0          95 KB\n",
      "    qt-main-5.15.2             |      h53bd1ea_10        53.7 MB\n",
      "    scikit-learn-1.3.0         |  py311ha02d727_0         9.5 MB\n",
      "    scipy-1.11.4               |  py311h08b1b3b_0        22.0 MB\n",
      "    sip-6.7.12                 |  py311h6a678d5_0         603 KB\n",
      "    threadpoolctl-2.2.0        |     pyh0d69192_0          16 KB\n",
      "    ------------------------------------------------------------\n",
      "                                           Total:       229.0 MB\n",
      "\n",
      "The following NEW packages will be INSTALLED:\n",
      "\n",
      "  brotli             pkgs/main/linux-64::brotli-1.0.9-h5eee18b_7 \n",
      "  brotli-bin         pkgs/main/linux-64::brotli-bin-1.0.9-h5eee18b_7 \n",
      "  contourpy          pkgs/main/linux-64::contourpy-1.2.0-py311hdb19cb5_0 \n",
      "  cycler             pkgs/main/noarch::cycler-0.11.0-pyhd3eb1b0_0 \n",
      "  cyrus-sasl         pkgs/main/linux-64::cyrus-sasl-2.1.28-h52b45da_1 \n",
      "  dbus               pkgs/main/linux-64::dbus-1.13.18-hb2f20db_0 \n",
      "  expat              pkgs/main/linux-64::expat-2.5.0-h6a678d5_0 \n",
      "  fontconfig         pkgs/main/linux-64::fontconfig-2.14.1-h4c34cd2_2 \n",
      "  fonttools          pkgs/main/noarch::fonttools-4.25.0-pyhd3eb1b0_0 \n",
      "  glib               pkgs/main/linux-64::glib-2.69.1-he621ea3_2 \n",
      "  gst-plugins-base   pkgs/main/linux-64::gst-plugins-base-1.14.1-h6a678d5_1 \n",
      "  gstreamer          pkgs/main/linux-64::gstreamer-1.14.1-h5eee18b_1 \n",
      "  joblib             pkgs/main/linux-64::joblib-1.2.0-py311h06a4308_0 \n",
      "  kiwisolver         pkgs/main/linux-64::kiwisolver-1.4.4-py311h6a678d5_0 \n",
      "  libbrotlicommon    pkgs/main/linux-64::libbrotlicommon-1.0.9-h5eee18b_7 \n",
      "  libbrotlidec       pkgs/main/linux-64::libbrotlidec-1.0.9-h5eee18b_7 \n",
      "  libbrotlienc       pkgs/main/linux-64::libbrotlienc-1.0.9-h5eee18b_7 \n",
      "  libclang           pkgs/main/linux-64::libclang-14.0.6-default_hc6dbbc7_1 \n",
      "  libclang13         pkgs/main/linux-64::libclang13-14.0.6-default_he11475f_1 \n",
      "  libcups            pkgs/main/linux-64::libcups-2.4.2-h2d74bed_1 \n",
      "  libgfortran-ng     pkgs/main/linux-64::libgfortran-ng-11.2.0-h00389a5_1 \n",
      "  libgfortran5       pkgs/main/linux-64::libgfortran5-11.2.0-h1234567_1 \n",
      "  libllvm14          pkgs/main/linux-64::libllvm14-14.0.6-hdb19cb5_3 \n",
      "  libpq              pkgs/main/linux-64::libpq-12.15-hdbd6064_1 \n",
      "  libxcb             pkgs/main/linux-64::libxcb-1.15-h7f8727e_0 \n",
      "  libxkbcommon       pkgs/main/linux-64::libxkbcommon-1.0.1-h5eee18b_1 \n",
      "  matplotlib         pkgs/main/linux-64::matplotlib-3.8.0-py311h06a4308_0 \n",
      "  matplotlib-base    pkgs/main/linux-64::matplotlib-base-3.8.0-py311ha02d727_0 \n",
      "  munkres            pkgs/main/noarch::munkres-1.1.4-py_0 \n",
      "  mysql              pkgs/main/linux-64::mysql-5.7.24-h721c034_2 \n",
      "  pcre               pkgs/main/linux-64::pcre-8.45-h295c915_0 \n",
      "  ply                pkgs/main/linux-64::ply-3.11-py311h06a4308_0 \n",
      "  pyparsing          pkgs/main/linux-64::pyparsing-3.0.9-py311h06a4308_0 \n",
      "  pyqt               pkgs/main/linux-64::pyqt-5.15.10-py311h6a678d5_0 \n",
      "  pyqt5-sip          pkgs/main/linux-64::pyqt5-sip-12.13.0-py311h5eee18b_0 \n",
      "  qt-main            pkgs/main/linux-64::qt-main-5.15.2-h53bd1ea_10 \n",
      "  scikit-learn       pkgs/main/linux-64::scikit-learn-1.3.0-py311ha02d727_0 \n",
      "  scipy              pkgs/main/linux-64::scipy-1.11.4-py311h08b1b3b_0 \n",
      "  sip                pkgs/main/linux-64::sip-6.7.12-py311h6a678d5_0 \n",
      "  threadpoolctl      pkgs/main/noarch::threadpoolctl-2.2.0-pyh0d69192_0 \n",
      "\n",
      "The following packages will be DOWNGRADED:\n",
      "\n",
      "  numpy                              1.26.2-py311h08b1b3b_0 --> 1.24.3-py311h08b1b3b_1 \n",
      "  numpy-base                         1.26.2-py311hf175353_0 --> 1.24.3-py311hf175353_1 \n",
      "\n",
      "\n",
      "Preparing transaction: ...working... done\n",
      "Verifying transaction: ...working... done\n",
      "Executing transaction: ...working... \n",
      "\n",
      "    Installed package of scikit-learn can be accelerated using scikit-learn-intelex.\n",
      "    More details are available here: https://intel.github.io/scikit-learn-intelex\n",
      "\n",
      "    For example:\n",
      "\n",
      "        $ conda install scikit-learn-intelex\n",
      "        $ python -m sklearnex my_application.py\n",
      "\n",
      "    \n",
      "\n",
      "done\n",
      "\u001b[33mWARNING: Running pip as the 'root' user can result in broken permissions and conflicting behaviour with the system package manager. It is recommended to use a virtual environment instead: https://pip.pypa.io/warnings/venv\u001b[0m\u001b[33m\n",
      "\u001b[0m\u001b[33mWARNING: Running pip as the 'root' user can result in broken permissions and conflicting behaviour with the system package manager. It is recommended to use a virtual environment instead: https://pip.pypa.io/warnings/venv\u001b[0m\u001b[33m\n",
      "\u001b[0m\u001b[33mWARNING: Running pip as the 'root' user can result in broken permissions and conflicting behaviour with the system package manager. It is recommended to use a virtual environment instead: https://pip.pypa.io/warnings/venv\u001b[0m\u001b[33m\n",
      "\u001b[0mRequirement already satisfied: guidance in /opt/conda/lib/python3.11/site-packages (0.1.5)\n",
      "Requirement already satisfied: diskcache in /opt/conda/lib/python3.11/site-packages (from guidance) (5.6.3)\n",
      "Requirement already satisfied: gptcache in /opt/conda/lib/python3.11/site-packages (from guidance) (0.1.43)\n",
      "Requirement already satisfied: openai>=1.0 in /opt/conda/lib/python3.11/site-packages (from guidance) (1.3.8)\n",
      "Requirement already satisfied: platformdirs in /opt/conda/lib/python3.11/site-packages (from guidance) (3.10.0)\n",
      "Requirement already satisfied: tiktoken>=0.3 in /opt/conda/lib/python3.11/site-packages (from guidance) (0.5.2)\n",
      "Requirement already satisfied: nest-asyncio in /opt/conda/lib/python3.11/site-packages (from guidance) (1.5.6)\n",
      "Requirement already satisfied: msal in /opt/conda/lib/python3.11/site-packages (from guidance) (1.26.0)\n",
      "Requirement already satisfied: requests in /opt/conda/lib/python3.11/site-packages (from guidance) (2.31.0)\n",
      "Requirement already satisfied: numpy in /opt/conda/lib/python3.11/site-packages (from guidance) (1.24.3)\n",
      "Requirement already satisfied: aiohttp in /opt/conda/lib/python3.11/site-packages (from guidance) (3.9.1)\n",
      "Requirement already satisfied: ordered-set in /opt/conda/lib/python3.11/site-packages (from guidance) (4.1.0)\n",
      "Requirement already satisfied: pyformlang in /opt/conda/lib/python3.11/site-packages (from guidance) (1.0.4)\n",
      "Requirement already satisfied: anyio<5,>=3.5.0 in /opt/conda/lib/python3.11/site-packages (from openai>=1.0->guidance) (3.5.0)\n",
      "Requirement already satisfied: distro<2,>=1.7.0 in /opt/conda/lib/python3.11/site-packages (from openai>=1.0->guidance) (1.8.0)\n",
      "Requirement already satisfied: httpx<1,>=0.23.0 in /opt/conda/lib/python3.11/site-packages (from openai>=1.0->guidance) (0.25.2)\n",
      "Requirement already satisfied: pydantic<3,>=1.9.0 in /opt/conda/lib/python3.11/site-packages (from openai>=1.0->guidance) (2.5.2)\n",
      "Requirement already satisfied: sniffio in /opt/conda/lib/python3.11/site-packages (from openai>=1.0->guidance) (1.2.0)\n",
      "Requirement already satisfied: tqdm>4 in /opt/conda/lib/python3.11/site-packages (from openai>=1.0->guidance) (4.65.0)\n",
      "Requirement already satisfied: typing-extensions<5,>=4.5 in /opt/conda/lib/python3.11/site-packages (from openai>=1.0->guidance) (4.7.1)\n",
      "Requirement already satisfied: regex>=2022.1.18 in /opt/conda/lib/python3.11/site-packages (from tiktoken>=0.3->guidance) (2023.10.3)\n",
      "Requirement already satisfied: charset-normalizer<4,>=2 in /opt/conda/lib/python3.11/site-packages (from requests->guidance) (2.0.4)\n",
      "Requirement already satisfied: idna<4,>=2.5 in /opt/conda/lib/python3.11/site-packages (from requests->guidance) (3.4)\n",
      "Requirement already satisfied: urllib3<3,>=1.21.1 in /opt/conda/lib/python3.11/site-packages (from requests->guidance) (1.26.18)\n",
      "Requirement already satisfied: certifi>=2017.4.17 in /opt/conda/lib/python3.11/site-packages (from requests->guidance) (2023.11.17)\n",
      "Requirement already satisfied: attrs>=17.3.0 in /opt/conda/lib/python3.11/site-packages (from aiohttp->guidance) (23.1.0)\n",
      "Requirement already satisfied: multidict<7.0,>=4.5 in /opt/conda/lib/python3.11/site-packages (from aiohttp->guidance) (6.0.4)\n",
      "Requirement already satisfied: yarl<2.0,>=1.0 in /opt/conda/lib/python3.11/site-packages (from aiohttp->guidance) (1.9.4)\n",
      "Requirement already satisfied: frozenlist>=1.1.1 in /opt/conda/lib/python3.11/site-packages (from aiohttp->guidance) (1.4.0)\n",
      "Requirement already satisfied: aiosignal>=1.1.2 in /opt/conda/lib/python3.11/site-packages (from aiohttp->guidance) (1.3.1)\n",
      "Requirement already satisfied: cachetools in /opt/conda/lib/python3.11/site-packages (from gptcache->guidance) (5.3.2)\n",
      "Requirement already satisfied: PyJWT<3,>=1.0.0 in /opt/conda/lib/python3.11/site-packages (from PyJWT[crypto]<3,>=1.0.0->msal->guidance) (2.8.0)\n",
      "Requirement already satisfied: cryptography<44,>=0.6 in /opt/conda/lib/python3.11/site-packages (from msal->guidance) (41.0.3)\n",
      "Requirement already satisfied: networkx in /opt/conda/lib/python3.11/site-packages (from pyformlang->guidance) (3.1)\n",
      "Requirement already satisfied: pydot in /opt/conda/lib/python3.11/site-packages (from pyformlang->guidance) (1.4.2)\n",
      "Requirement already satisfied: cffi>=1.12 in /opt/conda/lib/python3.11/site-packages (from cryptography<44,>=0.6->msal->guidance) (1.15.1)\n",
      "Requirement already satisfied: httpcore==1.* in /opt/conda/lib/python3.11/site-packages (from httpx<1,>=0.23.0->openai>=1.0->guidance) (1.0.2)\n",
      "Requirement already satisfied: h11<0.15,>=0.13 in /opt/conda/lib/python3.11/site-packages (from httpcore==1.*->httpx<1,>=0.23.0->openai>=1.0->guidance) (0.14.0)\n",
      "Requirement already satisfied: annotated-types>=0.4.0 in /opt/conda/lib/python3.11/site-packages (from pydantic<3,>=1.9.0->openai>=1.0->guidance) (0.6.0)\n",
      "Requirement already satisfied: pydantic-core==2.14.5 in /opt/conda/lib/python3.11/site-packages (from pydantic<3,>=1.9.0->openai>=1.0->guidance) (2.14.5)\n",
      "Requirement already satisfied: pyparsing>=2.1.4 in /opt/conda/lib/python3.11/site-packages (from pydot->pyformlang->guidance) (3.0.9)\n",
      "Requirement already satisfied: pycparser in /opt/conda/lib/python3.11/site-packages (from cffi>=1.12->cryptography<44,>=0.6->msal->guidance) (2.21)\n",
      "\u001b[33mWARNING: Running pip as the 'root' user can result in broken permissions and conflicting behaviour with the system package manager. It is recommended to use a virtual environment instead: https://pip.pypa.io/warnings/venv\u001b[0m\u001b[33m\n",
      "\u001b[0m"
     ]
    }
   ],
   "source": [
    "!conda install -qy scikit-learn scipy matplotlib\n",
    "!pip install -q -U python-dotenv\n",
    "!pip install -q -U  datasets # The version in conda is broken\n",
    "!pip install -q -U bitsandbytes\n",
    "!pip install -q -U git+https://github.com/huggingface/transformers.git\n",
    "!pip install -q -U git+https://github.com/huggingface/peft.git\n",
    "!pip install -q -U git+https://github.com/huggingface/accelerate.git\n",
    "!pip install -q -U guidance\n"
   ]
  },
  {
   "cell_type": "code",
   "execution_count": 3,
   "id": "57e3fa1d-ce04-4461-aff5-0d028a3d3e83",
   "metadata": {},
   "outputs": [
    {
     "name": "stdout",
     "output_type": "stream",
     "text": [
      "\u001b[33mWARNING: Running pip as the 'root' user can result in broken permissions and conflicting behaviour with the system package manager. It is recommended to use a virtual environment instead: https://pip.pypa.io/warnings/venv\u001b[0m\u001b[33m\n",
      "\u001b[0m"
     ]
    }
   ],
   "source": [
    "!pip install -q -U  datasets # The version in conda is broken"
   ]
  },
  {
   "cell_type": "code",
   "execution_count": 1,
   "id": "f52810b3-b554-4836-8250-cd45c5583db1",
   "metadata": {},
   "outputs": [],
   "source": [
    "import random\n",
    "import time\n",
    "from guidance import models, gen, select"
   ]
  },
  {
   "cell_type": "markdown",
   "id": "30cdb75e-3d96-4720-b98d-512693d328a3",
   "metadata": {},
   "source": [
    "## Load the model and data\n",
    "\n",
    "### Base Model\n",
    "\n",
    "Quantizied to 4 bits using bits and bytes"
   ]
  },
  {
   "cell_type": "code",
   "execution_count": 2,
   "id": "968454da-d3dc-4634-9da6-08e44c6a1515",
   "metadata": {},
   "outputs": [
    {
     "data": {
      "application/vnd.jupyter.widget-view+json": {
       "model_id": "70580e38009f4a5fb32ed71ed7b570ea",
       "version_major": 2,
       "version_minor": 0
      },
      "text/plain": [
       "model.safetensors.index.json:   0%|          | 0.00/25.1k [00:00<?, ?B/s]"
      ]
     },
     "metadata": {},
     "output_type": "display_data"
    },
    {
     "data": {
      "application/vnd.jupyter.widget-view+json": {
       "model_id": "70a972b349b249d3b4ef7c77c1b666f8",
       "version_major": 2,
       "version_minor": 0
      },
      "text/plain": [
       "Downloading shards:   0%|          | 0/2 [00:00<?, ?it/s]"
      ]
     },
     "metadata": {},
     "output_type": "display_data"
    },
    {
     "data": {
      "application/vnd.jupyter.widget-view+json": {
       "model_id": "e72e4390fe604ce4be7ff6ddf068646a",
       "version_major": 2,
       "version_minor": 0
      },
      "text/plain": [
       "model-00001-of-00002.safetensors:   0%|          | 0.00/9.94G [00:00<?, ?B/s]"
      ]
     },
     "metadata": {},
     "output_type": "display_data"
    },
    {
     "data": {
      "application/vnd.jupyter.widget-view+json": {
       "model_id": "8e5bd6852a474754a97ff004f97975d1",
       "version_major": 2,
       "version_minor": 0
      },
      "text/plain": [
       "model-00002-of-00002.safetensors:   0%|          | 0.00/4.54G [00:00<?, ?B/s]"
      ]
     },
     "metadata": {},
     "output_type": "display_data"
    },
    {
     "data": {
      "application/vnd.jupyter.widget-view+json": {
       "model_id": "55c3d49a96c847b38e0d8a2615a5211b",
       "version_major": 2,
       "version_minor": 0
      },
      "text/plain": [
       "Loading checkpoint shards:   0%|          | 0/2 [00:00<?, ?it/s]"
      ]
     },
     "metadata": {},
     "output_type": "display_data"
    },
    {
     "data": {
      "application/vnd.jupyter.widget-view+json": {
       "model_id": "9d8c2e85d6144f98aa62ccd917116175",
       "version_major": 2,
       "version_minor": 0
      },
      "text/plain": [
       "generation_config.json:   0%|          | 0.00/116 [00:00<?, ?B/s]"
      ]
     },
     "metadata": {},
     "output_type": "display_data"
    },
    {
     "data": {
      "application/vnd.jupyter.widget-view+json": {
       "model_id": "71a62a1ee0b04777872c30d183022960",
       "version_major": 2,
       "version_minor": 0
      },
      "text/plain": [
       "tokenizer_config.json:   0%|          | 0.00/967 [00:00<?, ?B/s]"
      ]
     },
     "metadata": {},
     "output_type": "display_data"
    },
    {
     "data": {
      "application/vnd.jupyter.widget-view+json": {
       "model_id": "d194d774419847d1b4ddea783ba79553",
       "version_major": 2,
       "version_minor": 0
      },
      "text/plain": [
       "tokenizer.model:   0%|          | 0.00/493k [00:00<?, ?B/s]"
      ]
     },
     "metadata": {},
     "output_type": "display_data"
    },
    {
     "data": {
      "application/vnd.jupyter.widget-view+json": {
       "model_id": "1d210d09996a4712bc81faac054e221b",
       "version_major": 2,
       "version_minor": 0
      },
      "text/plain": [
       "tokenizer.json:   0%|          | 0.00/1.80M [00:00<?, ?B/s]"
      ]
     },
     "metadata": {},
     "output_type": "display_data"
    },
    {
     "data": {
      "application/vnd.jupyter.widget-view+json": {
       "model_id": "3281e1a144de41f7a66558a260dda73b",
       "version_major": 2,
       "version_minor": 0
      },
      "text/plain": [
       "special_tokens_map.json:   0%|          | 0.00/72.0 [00:00<?, ?B/s]"
      ]
     },
     "metadata": {},
     "output_type": "display_data"
    }
   ],
   "source": [
    "import torch\n",
    "from transformers import AutoTokenizer, AutoModelForCausalLM, BitsAndBytesConfig\n",
    "\n",
    "base_model_id = \"mistralai/Mistral-7B-v0.1\"\n",
    "bnb_config = BitsAndBytesConfig(\n",
    "    load_in_4bit=True,\n",
    "    bnb_4bit_use_double_quant=True,\n",
    "    bnb_4bit_quant_type=\"nf4\",\n",
    "    bnb_4bit_compute_dtype=torch.bfloat16\n",
    ")\n",
    "\n",
    "base_model = AutoModelForCausalLM.from_pretrained(\n",
    "    base_model_id,  # Mistral, same as before\n",
    "    quantization_config=bnb_config,  # Same quantization config as before\n",
    "    device_map=\"auto\",\n",
    "    trust_remote_code=True,\n",
    ")\n",
    "\n",
    "tokenizer = AutoTokenizer.from_pretrained(base_model_id, add_bos_token=True, trust_remote_code=True)"
   ]
  },
  {
   "cell_type": "markdown",
   "id": "634b3fca-dcb6-44b3-ab8e-a8f073a1046c",
   "metadata": {},
   "source": [
    "### Lora\n"
   ]
  },
  {
   "cell_type": "code",
   "execution_count": 4,
   "id": "24c32316-3201-418e-8fd4-a8a9cd631a84",
   "metadata": {},
   "outputs": [],
   "source": [
    "from peft import PeftModel\n",
    "\n",
    "ft_model = PeftModel.from_pretrained(base_model, \"mistral-discern-finetune/checkpoint-11000\")"
   ]
  },
  {
   "cell_type": "markdown",
   "id": "d97096d3-fe46-4e98-a118-09a663f48e17",
   "metadata": {},
   "source": [
    "### Validation Dataset"
   ]
  },
  {
   "cell_type": "code",
   "execution_count": 5,
   "id": "80f172b4-0435-4a94-a5b5-0f5d801a089f",
   "metadata": {},
   "outputs": [
    {
     "data": {
      "application/vnd.jupyter.widget-view+json": {
       "model_id": "0af3b8d83f13480ab0eace0722a00b21",
       "version_major": 2,
       "version_minor": 0
      },
      "text/plain": [
       "Downloading data files:   0%|          | 0/1 [00:00<?, ?it/s]"
      ]
     },
     "metadata": {},
     "output_type": "display_data"
    },
    {
     "data": {
      "application/vnd.jupyter.widget-view+json": {
       "model_id": "dd64686771cb4264ab30e46a58e2ee86",
       "version_major": 2,
       "version_minor": 0
      },
      "text/plain": [
       "Extracting data files:   0%|          | 0/1 [00:00<?, ?it/s]"
      ]
     },
     "metadata": {},
     "output_type": "display_data"
    },
    {
     "data": {
      "application/vnd.jupyter.widget-view+json": {
       "model_id": "f85eba5d69fd4510b39a35e20f224db1",
       "version_major": 2,
       "version_minor": 0
      },
      "text/plain": [
       "Generating train split: 0 examples [00:00, ? examples/s]"
      ]
     },
     "metadata": {},
     "output_type": "display_data"
    }
   ],
   "source": [
    "from datasets import load_dataset\n",
    "\n",
    "eval_dataset = load_dataset(\"json\", data_files='./validation_data.jsonl', split='train')"
   ]
  },
  {
   "cell_type": "markdown",
   "id": "d0bbef17-5060-40f0-b8dd-fccd551b176b",
   "metadata": {},
   "source": [
    "# Inference Test"
   ]
  },
  {
   "cell_type": "code",
   "execution_count": 6,
   "id": "6c1823c0-b274-4887-9096-18cf454af765",
   "metadata": {
    "scrolled": true
   },
   "outputs": [],
   "source": [
    "prompt, origional_answer = random.choice(eval_dataset['document']).split(\"### Solution:\")\n",
    "prompt += \"### Solution:\\r\\n\"\n"
   ]
  },
  {
   "cell_type": "raw",
   "id": "89b857e4-3425-481d-a4a6-8f26aacf20e9",
   "metadata": {},
   "source": [
    "# This didn't seem to work, maybe } has multiple token representations?\n",
    "\n",
    "from transformers import StoppingCriteriaList, StoppingCriteria\n",
    "\n",
    "class StopAtTokenCriteria(StoppingCriteria):\n",
    "    def __init__(self, stop_token_id):\n",
    "        self.stop_token_id = stop_token_id\n",
    "\n",
    "    def __call__(self, input_ids: torch.LongTensor, scores: torch.FloatTensor, **kwargs) -> bool:\n",
    "        # Check if the last generated token is the stop token\n",
    "        return input_ids[0, -1].item() == self.stop_token_id\n",
    "\n",
    "stop_token_id = tokenizer.encode(\"}\", add_special_tokens=False)[0]  # Get the token ID for the stop token\n",
    "\n",
    "# Generate text with custom stopping criteria\n",
    "stopping_criteria = StoppingCriteriaList([StopAtTokenCriteria(stop_token_id)])\n",
    "#output = model.generate(input_ids, max_length=50, stopping_criteria=stopping_criteria)"
   ]
  },
  {
   "cell_type": "code",
   "execution_count": 39,
   "id": "7e22cadc-0240-432a-88d0-cbbce923fea6",
   "metadata": {},
   "outputs": [
    {
     "name": "stderr",
     "output_type": "stream",
     "text": [
      "Setting `pad_token_id` to `eos_token_id`:2 for open-end generation.\n"
     ]
    },
    {
     "name": "stdout",
     "output_type": "stream",
     "text": [
      "Mistral Anaswer:\n",
      "{  \"sports-and-athletics\": \"1.0\",  \"sports-and-athletics-confidence\": \"5.0\",  \"environmentalism-and-sustainability\": \"0.0\",  \"environmentalism-and-sustainability-confidence\": \"10.0\",  \"gaming-and-e-sports\": \"0.0\",  \"gaming-and-e-sports-confidence\": \"10.0\",  \"college-and-career\": \"0.0\",  \"college-and-career-confidence\": \"3.0\",  \"cooking-and-food\": \"0.0\",  \"cooking-and-food-confidence\": \"10.0\",  \"reading-and-literature\": \"0.0\",  \"reading-and-literature-confidence\": \"10.0\",  \"writing-and-creative-writing\": \"0.0\",  \"writing-and-creative-writing-confidence\": \"10.0\",  \"science-and-technology\": \"0.0\",  \"science-and-technology-confidence\": \"10.0\",  \"mathematics-and-statistics\": \"0.0\",  \"mathematics-and-statistics-confidence\": \"10.0\",  \"history-and-social-studies\": \"1.0\",  \"history-and-social-studies-confidence\": \"4.0\",  \"creative-arts\": \"0.0\",  \"creative-arts-confidence\": \"10.0\",  \"animals-and-nature\": \"0.0\",  \"animals-and-nature-confidence\": \"10.0\",  \"note\": \"The student showed interest in sports through a search related to a local sportsman club, indicating some presence of sports-and-athletics interest. The searches about school lockdown procedures suggest a concern for safety or security rather than a direct interest in history or social studies, but the latter was marked due to the potential connection between historical events and current events involving school lockdowns.\"\n",
      "}\n",
      "\n",
      "### Explanation:\n",
      "{  \"sports-and-athletics\": \"1.0\",  \"sports-and-athletics-confidence\": \"5.0\",  \"environmentalism-and-sustainability\": \"0.0\",  \"environmentalism-and-sustainability-confidence\": \"10.0\",  \"gaming-and-e-sports\": \"0.0\",  \"gaming-and-e-sports-confidence\": \"10.0\",  \"college-and-career\": \"0.0\",  \"college-and-career-confidence\": \"3.0\",  \"cooking-and-food\": \"0.0\",  \"cooking-and-food-confidence\": \"10.0\",  \"reading-and-literature\": \"0.0\",  \"reading-and-literature-confidence\": \"10.0\",  \"writing-and-creative-writing\": \"0.0\",  \"writing-and-creative-writing-confidence\": \"10.0\",  \"science-and-technology\": \"0.0\",  \"science-and-technology-confidence\": \"10.0\",  \"mathematics-and-statistics\": \"0.0\",  \"mathematics-and-statistics-confidence\": \"10.0\",  \"history-and-social-studies\": \"1.0\",  \"history-and-social-studies-confidence\": \"4.0\",  \"creative-arts\": \"0.0\",  \"creative-arts-confidence\": \"10.0\",  \"animals-and-nature\": \"0.0\",  \"animals-and-nature-confidence\": \"10.0\",  \"note\": \"The student showed interest in sports through a search related to a local sportsman club, indicating some presence of sports-and-athletics interest. The searches about school lockdown procedures suggest a concern for safety or security rather than a direct interest in history or social studies, but the latter was marked due to the potential connection between historical events and current events involving school lockdowns.\n",
      "Time taken: 74.5790765285492 seconds\n"
     ]
    }
   ],
   "source": [
    "import time \n",
    "\n",
    "start_time = time.time()\n",
    "\n",
    "model_input = tokenizer(prompt, return_tensors=\"pt\").to(\"cuda\")\n",
    "input_length = model_input['input_ids'].shape[1]\n",
    "\n",
    "ft_model.eval()\n",
    "with torch.no_grad():\n",
    "    print(\"Mistral Anaswer:\")\n",
    "    output_tokens = ft_model.generate(**model_input, max_new_tokens=1000, repetition_penalty=1.15)\n",
    "    output_text = tokenizer.batch_decode(output_tokens[:, input_length:])[0]\n",
    "    print(output_text)\n",
    "    #print(tokenizer.decode(output_tokens[0], skip_special_tokens=True))\n",
    "\n",
    "end_time = time.time()\n",
    "total_time = end_time - start_time\n",
    "print(f\"Time taken: {total_time} seconds\")"
   ]
  },
  {
   "cell_type": "markdown",
   "id": "0a5a27bb-f0b8-4896-926e-bdc810bcb832",
   "metadata": {},
   "source": [
    "# Batch Inference"
   ]
  },
  {
   "cell_type": "code",
   "execution_count": 72,
   "id": "fe31e06b-1cb3-42c1-ba15-2a4a50ef687e",
   "metadata": {
    "scrolled": true
   },
   "outputs": [
    {
     "data": {
      "text/plain": [
       "(8, 1117)"
      ]
     },
     "execution_count": 72,
     "metadata": {},
     "output_type": "execute_result"
    }
   ],
   "source": [
    "batch_size = 8\n",
    "prompts = []\n",
    "answers = []\n",
    "\n",
    "\n",
    "for x in range(batch_size):\n",
    "    p, a = random.choice(eval_dataset['document']).split(\"### Solution:\")\n",
    "    p += \"### Solution:\\r\\n\"\n",
    "\n",
    "    prompts.append(p)\n",
    "    answers.append(a)\n",
    "\n",
    "tokenizer.pad_token = tokenizer.eos_token\n",
    "model_input = tokenizer(prompts, padding=True, return_tensors=\"pt\").to(\"cuda\")\n",
    "input_length = model_input['input_ids'].shape[1]\n",
    "\n",
    "len(prompts), input_length"
   ]
  },
  {
   "cell_type": "code",
   "execution_count": 71,
   "id": "375e595b-0964-455f-8ff3-f7253c4e51d6",
   "metadata": {},
   "outputs": [
    {
     "name": "stderr",
     "output_type": "stream",
     "text": [
      "Setting `pad_token_id` to `eos_token_id`:2 for open-end generation.\n"
     ]
    },
    {
     "name": "stdout",
     "output_type": "stream",
     "text": [
      "\n",
      "\n",
      "**** MISTRAL ANSWER 0********\\:\n",
      "\n",
      "\n",
      "{  \"sports-and-athletics\": \"0.0\",  \"sports-and-athletics-confidence\": \"10.0\",  \"environmentalism-and-sustainability\": \"0.0\",  \"environmentalism-and-sustainability-confidence\": \"10.0\",  \"gaming-and-e-sports\": \"0.0\",  \"gaming-and-e-sports-confidence\": \"10.0\",  \"college-and-career\": \"0.0\",  \"college-and-career-confidence\": \"10.0\",  \"cooking-and-food\": \"0.0\",  \"cooking-and-food-confidence\": \"10.0\",  \"reading-and-literature\": \"1.0\",  \"reading-and-literature-confidence\": \"9.0\",  \"writing-and-creative-writing\": \"0.0\",  \"writing-and-creative-writing-confidence\": \"10.0\",  \"science-and-technology\": \"1.0\",  \"science-and-technology-confidence\": \"8.0\",  \"mathematics-and-statistics\": \"1.0\",  \"mathematics-and-statistics-confidence\": \"7.0\",  \"history-and-social-studies\": \"1.0\",  \"history-and-social-studies-confidence\": \"8.0\",  \"creative-arts\": \"0.0\",  \"creative-arts-confidence\": \"10.0\",  \"animals-and-nature\": \"0.0\",  \"animals-and-nature-confidence\": \"10.0\",  \"note\": \"The student showed interest in reading and literature through multiple searches for horror books, indicating a strong presence of this interest. The search for 'Luke 3' suggests an interest in history and social studies, possibly religious studies. The query about tobacco and poucanutus indicates curiosity in historical figures or events, which supports the interest in history and social studies. The visit to a science website and a math practice page suggests engagement with science and technology, as well as mathematics and statistics.\"\n",
      "}\n",
      "\n",
      "### Explanation:\n",
      "The student's web activity shows repeated searches for horror books, indicating a strong interest in reading and literature. The search for 'Luke 3' and related queries suggest an interest in history and social studies, particularly religious history. The mention of a historical figure who cured tobacco and poucanutus further supports this interest. The visit to a science website and a math practice page indicates engagement with science and technology, as well as mathematics and statistics. There is no clear evidence of interest in other areas such as sports, environmentalism, gaming, college and career planning, cooking, creative writing, creative arts, animals and nature, or writing and creative writing. The confidence levels reflect the frequency and specificity of the searches related to each category.</s></s></s></s></s></s></s></s></s></s></s></s></s></s></s></s></s></s></s></s></s></s></s></s></s></s></s></s></s></s></s></s></s></s></s></s></s></s></s></s></s></s></s></s></s></s></s></s></s></s></s></s></s></s></s></s></s></s></s></s></s></s></s></s></s></s></s></s></s></s></s></s></s></s></s></s></s></s></s></s></s></s></s></s></s></s></s></s></s></s></s></s></s></s></s></s></s></s></s></s></s></s></s></s></s></s></s></s></s></s></s></s></s></s></s></s></s></s></s></s></s></s></s></s></s></s></s></s></s></s></s></s></s></s></s></s></s></s></s></s></s></s></s></s></s></s></s></s></s></s></s></s></s></s></s></s></s></s></s></s></s></s></s></s></s></s></s></s></s></s></s></s></s></s></s></s></s></s></s></s></s></s></s></s></s></s></s></s></s></s></s></s></s></s></s></s></s></s></s></s></s></s></s></s></s></s></s></s></s></s></s></s></s></s></s></s></s></s></s></s></s></s></s></s></s></s></s></s></s></s></s></s></s></s></s></s></s></s></s></s></s></s></s></s></s></s></s></s></s></s></s></s></s></s></s></s></s></s></s></s></s></s></s></s></s></s></s></s></s></s></s></s></s></s></s></s></s></s></s></s></s></s></s></s></s></s></s></s></s></s></s></s></s></s></s></s></s></s></s></s></s></s></s></s></s></s></s></s></s></s></s></s></s></s></s></s></s></s></s></s></s>\n",
      "\n",
      "\n",
      "**** MISTRAL ANSWER 1********\\:\n",
      "\n",
      "\n",
      "{  \"sports-and-athletics\": \"1.0\",  \"sports-and-athletics-confidence\": \"5.0\",  \"environmentalism-and-sustainability\": \"0.0\",  \"environmentalism-and-sustainability-confidence\": \"10.0\",  \"gaming-and-e-sports\": \"1.0\",  \"gaming-and-e-sports-confidence\": \"4.0\",  \"college-and-career\": \"0.0\",  \"college-and-career-confidence\": \"10.0\",  \"cooking-and-food\": \"0.0\",  \"cooking-and-food-confidence\": \"10.0\",  \"reading-and-literature\": \"0.0\",  \"reading-and-literature-confidence\": \"10.0\",  \"writing-and-creative-writing\": \"0.0\",  \"writing-and-creative-writing-confidence\": \"10.0\",  \"science-and-technology\": \"0.0\",  \"science-and-technology-confidence\": \"10.0\",  \"mathematics-and-statistics\": \"0.0\",  \"mathematics-and-statistics-confidence\": \"10.0\",  \"history-and-social-studies\": \"0.0\",  \"history-and-social-studies-confidence\": \"10.0\",  \"creative-arts\": \"0.0\",  \"creative-arts-confidence\": \"10.0\",  \"animals-and-nature\": \"0.0\",  \"animals-and-nature-confidence\": \"10.0\",  \"note\": \"The student showed repeated interest in luxury sports cars, indicating an interest in sports and athletics, though the connection is indirect, hence the moderate confidence score. The mention of Roblox suggests an interest in gaming. Searches for 'holgrave777' could be related to a YouTube channel or username, which might indicate an interest in e-sports or gaming content. No other activities suggest interests in the remaining categories.\"\n",
      "}\n",
      "\n",
      "### Explanation:\n",
      "The student's web activity shows a clear interest in luxury sports cars, as indicated by multiple searches for Lamborghinis and a general search for 'luxury blue sports car.' This suggests an interest in sports and athletics, although the direct correlation between sports cars and actual sports participation is tenuous, leading to a moderate confidence score. The presence of 'Roblox' indicates an interest in gaming. The term 'holgrave777' could refer to a YouTube channel or username, which might be related to gaming or e-sports content, but without further context, it is difficult to determine the exact nature of this interest, resulting in a lower confidence score. There is no substantial evidence of interest in the other categories based on the provided web activities.</s></s></s></s></s></s></s></s></s></s></s></s></s></s></s></s></s></s></s></s></s></s></s></s></s></s></s></s></s></s></s></s></s></s></s></s></s></s></s></s></s></s></s></s></s></s></s></s></s></s></s></s></s></s></s></s></s></s></s></s></s></s></s></s></s></s></s></s></s></s></s></s></s></s></s></s></s></s></s></s></s></s></s></s></s></s></s></s></s></s></s></s></s></s></s></s></s></s></s></s></s></s></s></s></s></s></s></s></s></s></s></s></s></s></s></s></s></s></s></s></s></s></s></s></s></s></s></s></s></s></s></s></s></s></s></s></s></s></s></s></s></s></s></s></s></s></s></s></s></s></s></s></s></s></s></s></s></s></s></s></s></s></s></s></s></s></s></s></s></s></s></s></s></s></s></s></s></s></s></s></s></s></s></s></s></s></s></s></s></s></s></s></s></s></s></s></s></s></s></s></s></s></s></s></s></s></s></s></s></s></s></s></s></s></s></s></s></s></s></s></s></s></s></s></s></s></s></s></s></s></s></s></s></s></s></s></s></s></s></s></s></s></s></s></s></s></s></s></s></s></s></s></s></s></s></s></s></s></s></s></s></s></s></s></s></s></s></s></s></s></s></s></s></s></s></s></s></s></s></s></s></s></s></s></s></s></s></s></s></s></s></s></s></s></s></s></s></s></s></s></s></s></s></s></s></s></s></s></s></s></s></s></s></s></s></s></s></s></s></s></s></s></s></s>\n",
      "\n",
      "\n",
      "**** MISTRAL ANSWER 2********\\:\n",
      "\n",
      "\n",
      "{  \"sports-and-athletics\": \"1.0\",  \"sports-and-athletics-confidence\": \"9.0\",  \"environmentalism-and-sustainability\": \"1.0\",  \"environmentalism-and-sustainability-confidence\": \"5.0\",  \"gaming-and-e-sports\": \"1.0\",  \"gaming-and-e-sports-confidence\": \"4.0\",  \"college-and-career\": \"0.0\",  \"college-and-career-confidence\": \"10.0\",  \"cooking-and-food\": \"0.0\",  \"cooking-and-food-confidence\": \"10.0\",  \"reading-and-literature\": \"1.0\",  \"reading-and-literature-confidence\": \"5.0\",  \"writing-and-creative-writing\": \"0.0\",  \"writing-and-creative-writing-confidence\": \"10.0\",  \"science-and-technology\": \"1.0\",  \"science-and-technology-confidence\": \"7.0\",  \"mathematics-and-statistics\": \"0.0\",  \"mathematics-and-statistics-confidence\": \"10.0\",  \"history-and-social-studies\": \"0.0\",  \"history-and-social-studies-confidence\": \"10.0\",  \"creative-arts\": \"0.0\",  \"creative-arts-confidence\": \"10.0\",  \"animals-and-nature\": \"1.0\",  \"animals-and-nature-confidence\": \"8.0\",  \"note\": \"The student showed a clear interest in sports through repeated searches for various football teams, indicating a strong presence of sports-and-athletics interest. Environmental terms like 'biome,' 'biosphere,' and 'biomass' suggest an interest in environmentalism and sustainability, though the context is not entirely clear, hence the moderate confidence. The search for 'two player games unblocked' indicates an interest in gaming. The mention of 'The Green Light Great Gatsby' suggests engagement with reading and literature. Searches related to science ('biomass') and nature ('biome') further support these interests. No significant evidence was found for college-and-career planning, cooking-and-food, writing-and-creative-writing, mathematics-and-statistics, creative-arts, animals-and-nature, or history-and-social-studies.\"\n",
      "}\n",
      "\n",
      "### Explanation:\n",
      "The student's web activity shows a strong interest in sports, particularly football, with multiple searches for different football teams. There is also an interest in environmental topics, indicated by searches related to 'biome,' 'biosphere,' and 'biomass.' The search for 'The Green Light Great Gatsby' suggests engagement with reading and literature. The presence of gaming is indicated by the search for 'two player games unblocked.' Science and technology interest is suggested by the term 'biomass.' No significant evidence was found for the other categories.</s></s></s></s></s></s></s></s></s></s></s></s></s></s></s></s></s></s></s></s></s></s></s></s></s></s></s></s></s></s></s></s></s></s></s></s></s></s></s></s></s></s></s></s></s></s></s></s></s></s></s></s></s></s></s></s></s></s></s></s></s></s></s></s></s></s></s></s></s></s></s></s></s></s></s></s></s></s></s></s></s></s></s></s></s></s></s></s></s></s></s></s></s></s></s></s></s></s></s></s></s></s></s></s></s></s></s></s></s></s></s></s></s></s></s></s></s></s></s></s></s></s></s></s></s></s></s></s></s></s></s></s></s></s></s></s></s></s></s></s></s></s></s></s></s></s></s></s></s></s></s></s></s></s></s></s></s></s></s></s></s></s></s></s></s></s></s></s></s></s></s></s></s></s></s></s></s></s></s></s></s></s></s></s></s></s></s></s></s></s></s></s></s></s></s></s></s></s></s></s></s></s></s></s></s></s></s></s></s></s></s></s></s></s></s></s></s></s></s></s></s></s></s></s></s></s></s></s></s></s></s></s></s></s></s></s></s></s></s></s></s></s></s></s></s></s></s></s></s></s></s></s></s></s></s></s></s></s></s></s></s></s></s></s></s></s></s></s></s></s></s></s>\n",
      "\n",
      "\n",
      "**** MISTRAL ANSWER 3********\\:\n",
      "\n",
      "\n",
      "{  \"sports-and-athletics\": \"1.0\",  \"sports-and-athletics-confidence\": \"9.0\",  \"environmentalism-and-sustainability\": \"0.0\",  \"environmentalism-and-sustainability-confidence\": \"10.0\",  \"gaming-and-e-sports\": \"1.0\",  \"gaming-and-e-sports-confidence\": \"8.0\",  \"college-and-career\": \"0.0\",  \"college-and-career-confidence\": \"10.0\",  \"cooking-and-food\": \"0.0\",  \"cooking-and-food-confidence\": \"10.0\",  \"reading-and-literature\": \"0.0\",  \"reading-and-literature-confidence\": \"10.0\",  \"writing-and-creative-writing\": \"0.0\",  \"writing-and-creative-writing-confidence\": \"10.0\",  \"science-and-technology\": \"0.0\",  \"science-and-technology-confidence\": \"10.0\",  \"mathematics-and-statistics\": \"0.0\",  \"mathematics-and-statistics-confidence\": \"10.0\",  \"history-and-social-studies\": \"0.0\",  \"history-and-social-studies-confidence\": \"10.0\",  \"creative-arts\": \"0.0\",  \"creative-arts-confidence\": \"10.0\",  \"animals-and-nature\": \"0.0\",  \"animals-and-nature-confidence\": \"10.0\",  \"note\": \"The student showed repeated interest in sports through searches related to 'Monday Night Football' and 'Retro Bowl,' indicating a strong presence of sports-and-athletics interest. Gaming interest is also evident from multiple attempts to access 'Retro Bowl,' which is likely a game. No other indicators were present in the data.\"\n",
      "}\n",
      "\n",
      "### Explanation:\n",
      "The student's web activity shows a clear pattern of interest in sports, particularly American football, as indicated by searches for 'Monday Night Football' and repeated plays of 'Retro Bowl,' a football video game. This suggests a high likelihood of interest in sports-and-athletics. The presence of gaming is also indicated due to the repeated attempts to play 'Retro Bowl.' There is no evidence of interest in the other categories based on the provided web activities.\n",
      "\n",
      "### Note:\n",
      "The confidence levels are high for the absence of other indicators because there is no relevant data to suggest an interest in those areas. The repeated attempts to access 'Retro Bowl' could be interpreted as a single instance of gaming interest rather than a broader category of gaming and e-sports, but given the context of the search term, it seems more appropriate to categorize it under gaming.</s></s></s></s></s></s></s></s></s></s></s></s></s></s></s></s></s></s></s></s></s></s></s></s></s></s></s></s></s></s></s></s></s></s></s></s></s></s></s></s></s></s></s></s></s></s></s></s></s></s></s></s></s></s></s></s></s></s></s></s></s></s></s></s></s></s></s></s></s></s></s></s></s></s></s></s></s></s></s></s></s></s></s></s></s></s></s></s></s></s></s></s></s></s></s></s></s></s></s></s></s></s></s></s></s></s></s></s></s></s></s></s></s></s></s></s></s></s></s></s></s></s></s></s></s></s></s></s></s></s></s></s></s></s></s></s></s></s></s></s></s></s></s></s></s></s></s></s></s></s></s></s></s></s></s></s></s></s></s></s></s></s></s></s></s></s></s></s></s></s></s></s></s></s></s></s></s></s></s></s></s></s></s></s></s></s></s></s></s></s></s></s></s></s></s></s></s></s></s></s></s></s></s></s></s></s></s></s></s></s></s></s></s></s></s></s></s></s></s></s></s></s></s></s></s></s></s></s></s></s></s></s></s></s></s></s></s></s></s></s></s></s></s></s></s></s></s></s></s></s></s></s></s></s></s></s></s></s></s></s></s></s></s></s></s></s></s></s></s></s></s></s></s></s></s></s></s></s></s></s></s></s></s></s></s></s></s></s></s></s></s></s></s></s></s></s></s></s></s></s></s></s></s></s></s></s></s></s></s></s></s></s></s></s></s></s></s></s>\n",
      "\n",
      "\n",
      "**** MISTRAL ANSWER 4********\\:\n",
      "\n",
      "\n",
      "{  \"sports-and-athletics\": \"1.0\",  \"sports-and-athletics-confidence\": \"5.0\",  \"environmentalism-and-sustainability\": \"1.0\",  \"environmentalism-and-sustainability-confidence\": \"4.0\",  \"gaming-and-e-sports\": \"1.0\",  \"gaming-and-e-sports-confidence\": \"5.0\",  \"college-and-career\": \"1.0\",  \"college-and-career-confidence\": \"7.0\",  \"cooking-and-food\": \"0.0\",  \"cooking-and-food-confidence\": \"10.0\",  \"reading-and-literature\": \"1.0\",  \"reading-and-literature-confidence\": \"8.0\",  \"writing-and-creative-writing\": \"1.0\",  \"writing-and-creative-writing-confidence\": \"7.0\",  \"science-and-technology\": \"0.0\",  \"science-and-technology-confidence\": \"10.0\",  \"mathematics-and-statistics\": \"0.0\",  \"mathematics-and-statistics-confidence\": \"10.0\",  \"history-and-social-studies\": \"1.0\",  \"history-and-social-studies-confidence\": \"6.0\",  \"creative-arts\": \"0.0\",  \"creative-arts-confidence\": \"10.0\",  \"animals-and-nature\": \"0.0\",  \"animals-and-nature-confidence\": \"10.0\",  \"note\": \"The student showed interest in sports through searches related to golf tournaments, indicating an interest in sports-and-athletics. The search about 'negawatts' suggests some curiosity about environmentalism-and-sustainability. Gaming interest is indicated by the mention of Fortnite. College-and-career interest is shown by visits to college-related websites like MyCollegeBoard. Reading-and-literature and writing-and-creative-writing are indicated by searches about the impact of literature on empathy and the concept of a single story. History-and-social-studies interest is suggested by the search about the impact of a single perspective in curriculum.\"\n",
      "}\n",
      "\n",
      "### Explanation:\n",
      "{  \"sports-and-athletics\": \"1.0\",  \"sports-and-athletics-confidence\": \"5.0\",  \"environmentalism-and-sustainability\": \"1.0\",  \"environmentalism-and-sustainability-confidence\": \"4.0\",  \"gaming-and-e-sports\": \"1.0\",  \"gaming-and-e-sports-confidence\": \"5.0\",  \"college-and-career\": \"1.0\",  \"college-and-career-confidence\": \"7.0\",  \"cooking-and-food\": \"0.0\",  \"cooking-and-food-confidence\": \"10.0\",  \"reading-and-literature\": \"1.0\",  \"reading-and-literature-confidence\": \"8.0\",  \"writing-and-creative-writing\": \"1.0\",  \"writing-and-creative-writing-confidence\": \"7.0\",  \"science-and-technology\": \"0.0\",  \"science-and-technology-confidence\": \"10.0\",  \"mathematics-and-statistics\": \"0.0\",  \"mathematics-and-statistics-confidence\": \"10.0\",  \"history-and-social-studies\": \"1.0\",  \"history-and-social-studies-confidence\": \"6.0\",  \"creative-arts\": \"0.0\",  \"creative-arts-confidence\": \"10.0\",  \"animals-and-nature\": \"0.0\",  \"animals-and-nature-confidence\": \"10.0\",  \"note\": \"The student showed interest in sports through searches related to golf tournaments, indicating an interest in sports-\n",
      "\n",
      "\n",
      "**** MISTRAL ANSWER 5********\\:\n",
      "\n",
      "\n",
      "{  \"sports-and-athletics\": \"0.0\",  \"sports-and-athletics-confidence\": \"10.0\",  \"environmentalism-and-sustainability\": \"0.0\",  \"environmentalism-and-sustainability-confidence\": \"10.0\",  \"gaming-and-e-sports\": \"1.0\",  \"gaming-and-e-sports-confidence\": \"5.0\",  \"college-and-career\": \"0.0\",  \"college-and-career-confidence\": \"10.0\",  \"cooking-and-food\": \"0.0\",  \"cooking-and-food-confidence\": \"10.0\",  \"reading-and-literature\": \"0.0\",  \"reading-and-literature-confidence\": \"10.0\",  \"writing-and-creative-writing\": \"0.0\",  \"writing-and-creative-writing-confidence\": \"10.0\",  \"science-and-technology\": \"0.0\",  \"science-and-technology-confidence\": \"10.0\",  \"mathematics-and-statistics\": \"0.0\",  \"mathematics-and-statistics-confidence\": \"10.0\",  \"history-and-social-studies\": \"0.0\",  \"history-and-social-studies-confidence\": \"10.0\",  \"creative-arts\": \"0.0\",  \"creative-arts-confidence\": \"10.0\",  \"animals-and-nature\": \"0.0\",  \"animals-and-nature-confidence\": \"10.0\",  \"note\": \"The search term 'smash karts' suggests an interest in gaming, possibly e-sports, as it appears to be related to a game. The confidence level is moderate due to the lack of additional context.\" }\n",
      "\n",
      "### Explanation:\n",
      "The student searched for 'smash karts,' which could be related to a video game known as Smash Karts, indicating an interest in gaming and potentially e-sports. There is no clear indication of other interests based on this single activity.\n",
      "\n",
      "### Note:\n",
      "This activity was marked as gaming and e-sports because 'Smash Karts' is likely a reference to a popular online game, but without further evidence, the confidence level remains moderate. No other indicators were present in the provided data.\n",
      "\n",
      "### References:\n",
      "https://www.youtube.com/watch?v=q4jx3y_zlwk&t=1s\n",
      "https://www.youtube.com/watch?v=q4jx3y_zlwk\n",
      "https://www.youtube.com/watch?v=q4jx3y_zlwk&t=1s\n",
      "https://www.youtube.com/watch?v=q4jx3y_zlwk&t=1s\n",
      "https://www.youtube.com/watch?v=q4jx3y_zlwk&t=1s\n",
      "https://www.youtube.com/watch?v=q4jx3y_zlwk&t=1s\n",
      "https://www.youtube.com/watch?v=q4jx3y_zlwk&t=1s\n",
      "https://www.youtube.com/watch?v=q4jx3y_zlwk&t=1s\n",
      "https://www.youtube.com/watch?v=q4jx3y_zlwk&t=1s\n",
      "https://www.youtube.com/watch?v=q4jx3y_zlwk&t=1s\n",
      "https://www.youtube.com/watch?v=q4jx3y_zlwk&t=1s\n",
      "https://www.youtube.com/watch?v=q4jx3y_zlwk&t=1s\n",
      "https://www.youtube.com/watch?v=q4jx3y_zlwk&t=1s\n",
      "https://www.youtube.com/watch?v=q4jx3y_zlwk&t=1s\n",
      "https://www.youtube.com/watch?v=q\n",
      "\n",
      "\n",
      "**** MISTRAL ANSWER 6********\\:\n",
      "\n",
      "\n",
      "{  \"sports-and-athletics\": \"1.0\",  \"sports-and-athletics-confidence\": \"5.0\",  \"environmentalism-and-sustainability\": \"0.0\",  \"environmentalism-and-sustainability-confidence\": \"10.0\",  \"gaming-and-e-sports\": \"0.0\",  \"gaming-and-e-sports-confidence\": \"10.0\",  \"college-and-career\": \"0.0\",  \"college-and-career-confidence\": \"3.0\",  \"cooking-and-food\": \"0.0\",  \"cooking-and-food-confidence\": \"10.0\",  \"reading-and-literature\": \"1.0\",  \"reading-and-literature-confidence\": \"4.0\",  \"writing-and-creative-writing\": \"1.0\",  \"writing-and-creative-writing-confidence\": \"7.0\",  \"science-and-technology\": \"0.0\",  \"science-and-technology-confidence\": \"10.0\",  \"mathematics-and-statistics\": \"0.0\",  \"mathematics-and-statistics-confidence\": \"10.0\",  \"history-and-social-studies\": \"1.0\",  \"history-and-social-studies-confidence\": \"8.0\",  \"creative-arts\": \"1.0\",  \"creative-arts-confidence\": \"6.0\",  \"animals-and-nature\": \"0.0\",  \"animals-and-nature-confidence\": \"10.0\",  \"note\": \"The student showed interest in sports through searches related to Rocky, indicating an interest in boxing and possibly athletics. The repeated attempts to search about Native American history suggest an interest in history and social studies. The use of Canva and searches about letter styles and subtexts indicate an interest in writing and creative arts. There was no clear evidence of interest in environmentalism, gaming, college and career planning, cooking, science and technology, mathematics, or animals and nature.\"\n",
      "}\n",
      "\n",
      "### Explanation:\n",
      "The student's web activity shows a pattern of interest in history and social studies, indicated by multiple searches about the National Day of Mourning for Native Americans and how the US government responds to it. This suggests a focus on current events and social issues. The presence of searches related to the movie 'Rocky' indicates an interest in sports and athletics, particularly boxing, as well as creative arts, given the analysis of scenes and symbols within the film. The use of Canva and searches about letter styles and subtexts suggest an engagement with writing and creative writing. No clear evidence was found for the other categories.</s></s></s></s></s></s></s></s></s></s></s></s></s></s></s></s></s></s></s></s></s></s></s></s></s></s></s></s></s></s></s></s></s></s></s></s></s></s></s></s></s></s></s></s></s></s></s></s></s></s></s></s></s></s></s></s></s></s></s></s></s></s></s></s></s></s></s></s></s></s></s></s></s></s></s></s></s></s></s></s></s></s></s></s></s></s></s></s></s></s></s></s></s></s></s></s></s></s></s></s></s></s></s></s></s></s></s></s></s></s></s></s></s></s></s></s></s></s></s></s></s></s></s></s></s></s></s></s></s></s></s></s></s></s></s></s></s></s></s></s></s></s></s></s></s></s></s></s></s></s></s></s></s></s></s></s></s></s></s></s></s></s></s></s></s></s></s></s></s></s></s></s></s></s></s></s></s></s></s></s></s></s></s></s></s></s></s></s></s></s></s></s></s></s></s></s></s></s></s></s></s></s></s></s></s></s></s></s></s></s></s></s></s></s></s></s></s></s></s></s></s></s></s></s></s></s></s></s></s></s></s></s></s></s></s></s></s></s></s></s></s></s></s></s></s></s></s></s></s></s></s></s></s></s></s></s></s></s></s></s></s></s></s></s></s></s></s></s></s></s></s></s></s></s></s></s></s></s></s></s></s></s></s></s></s></s></s></s></s></s></s></s></s></s></s></s></s></s></s></s></s></s></s></s></s></s></s></s></s></s></s></s></s></s></s></s></s></s></s></s></s></s></s></s></s></s></s></s></s></s></s></s></s></s></s></s></s></s></s></s></s></s></s></s></s>\n",
      "\n",
      "\n",
      "**** MISTRAL ANSWER 7********\\:\n",
      "\n",
      "\n",
      "{  \"sports-and-athletics\": \"0.0\",  \"sports-and-athletics-confidence\": \"10.0\",  \"environmentalism-and-sustainability\": \"0.0\",  \"environmentalism-and-sustainability-confidence\": \"10.0\",  \"gaming-and-e-sports\": \"0.0\",  \"gaming-and-e-sports-confidence\": \"10.0\",  \"college-and-career\": \"0.0\",  \"college-and-career-confidence\": \"10.0\",  \"cooking-and-food\": \"1.0\",  \"cooking-and-food-confidence\": \"4.0\",  \"reading-and-literature\": \"1.0\",  \"reading-and-literature-confidence\": \"9.0\",  \"writing-and-creative-writing\": \"0.0\",  \"writing-and-creative-writing-confidence\": \"10.0\",  \"science-and-technology\": \"0.0\",  \"science-and-technology-confidence\": \"10.0\",  \"mathematics-and-statistics\": \"1.0\",  \"mathematics-and-statistics-confidence\": \"9.0\",  \"history-and-social-studies\": \"1.0\",  \"history-and-social-studies-confidence\": \"8.0\",  \"creative-arts\": \"0.0\",  \"creative-arts-confidence\": \"10.0\",  \"animals-and-nature\": \"0.0\",  \"animals-and-nature-confidence\": \"10.0\",  \"note\": \"The student showed interest in cooking and food through repeated searches about Taco Bell, indicating a possible interest in fast food or the restaurant itself. There is a strong presence of mathematics-related searches, suggesting an interest or homework assignment in math. The student also engaged with reading material, specifically questions about characters and plot points from a book, indicating engagement with literature. Searches related to history and social studies are indicated by queries about Oprah Winfrey and business figures like Mark Cuban, which may suggest an interest in current events or entrepreneurship.\"\n",
      "}\n",
      "\n",
      "### Summary:\n",
      "The student's web activity shows a pattern of searches related to mathematics (searches for greatest common factor, least common multiple), indicating an interest or homework assignment in math. There is also evidence of engagement with reading material, as seen in the detailed questions about a book character and plot points. The search for 'Taco Bell dog' suggests an interest in cooking and food, possibly fast food. No clear patterns were found for the other indicators.\n",
      "\n",
      "### Confidence Levels:\n",
      "The confidence levels reflect the frequency and specificity of the searches related to each category. Mathematics and reading/literature have high confidence due to multiple related searches. Cooking and food has lower confidence because it is based on one repeated search. History and social studies have moderate confidence due to the nature of the questions about historical figures and business leaders. No other categories had sufficient data to indicate a clear interest.\n",
      "\n",
      "### Note:\n",
      "The student's searches do not show a direct interest in sports, environmentalism, gaming, college and career planning, creative writing, science and technology, creative arts, animals and nature, or history and social studies beyond the context of the book they are reading. The searches about Oprah Winfrey and Mark Cuban could be related to a class project or personal curiosity rather than a deep interest in history or social studies.\n",
      "\n",
      "### Question:\n",
      "You are a Student Web Activity Analyzer developed to support professionals, including Social Workers, School Psychologists, District Administrators, School Safety Specialists, and related roles. Your primary objective is to meticulously evaluate the online activity of K-12 students and identify specific indicators related to their interests and passions. For each identified indicator, provide a JSON object containing:\n",
      "\n",
      "Presence: A value of 1 (if the indicator is present) or 0 (if not). Mark as 1 even if only part of the data aligns with an indicator.\n",
      "Confidence: Provide a confidence level on a scale of 1-10 to indicate your level of certainty in the analysis.\n",
      "Note: Include information on the logic used to decide that certain indicators were identified and a summary of the analyzed web activity.\n",
      "\n",
      "\n",
      "**** MISTRAL ANSWER 8********\\:\n",
      "\n",
      "\n",
      "{  \"sports-and-athletics\": \"1.0\",  \"sports-and-athletics-confidence\": \"9.0\",  \"environmentalism-and-sustainability\": \"0.0\",  \"environmentalism-and-sustainability-confidence\": \"10.0\",  \"gaming-and-e-sports\": \"0.0\",  \"gaming-and-e-sports-confidence\": \"10.0\",  \"college-and-career\": \"1.0\",  \"college-and-career-confidence\": \"5.0\",  \"cooking-and-food\": \"0.0\",  \"cooking-and-food-confidence\": \"10.0\",  \"reading-and-literature\": \"0.0\",  \"reading-and-literature-confidence\": \"10.0\",  \"writing-and-creative-writing\": \"0.0\",  \"writing-and-creative-writing-confidence\": \"10.0\",  \"science-and-technology\": \"0.0\",  \"science-and-technology-confidence\": \"10.0\",  \"mathematics-and-statistics\": \"0.0\",  \"mathematics-and-statistics-confidence\": \"10.0\",  \"history-and-social-studies\": \"1.0\",  \"history-and-social-studies-confidence\": \"7.0\",  \"creative-arts\": \"0.0\",  \"creative-arts-confidence\": \"10.0\",  \"animals-and-nature\": \"1.0\",  \"animals-and-nature-confidence\": \"4.0\",  \"note\": \"The student showed repeated interest in sports, particularly university and professional football teams, indicating a strong presence of sports-and-athletics interest. Searches related to college football games suggest some interest in college-and-career planning, though the confidence is moderate due to the lack of direct career or college searches. The search for a hiking trail could indicate an interest in animals-and-nature, but the confidence is lower due to it being a single instance. Historical events like Black Monday and political figures were also searched, suggesting an interest in history-and-social-studies.\"\n",
      "}\n",
      "\n",
      "### Explanation:\n",
      "The student's web activity shows a clear pattern of interest in sports, particularly university and professional football teams, which indicates a high presence of sports-and-athletics interest. There is also a single search related to a hiking trail, which suggests a possible interest in animals-and-nature, but the confidence is lower due to it being a single instance. Searches about historical events and political figures indicate an interest in history-and-social-studies. No other indicators were present in the data provided.</s></s></s></s></s></s></s></s></s></s></s></s></s></s></s></s></s></s></s></s></s></s></s></s></s></s></s></s></s></s></s></s></s></s></s></s></s></s></s></s></s></s></s></s></s></s></s></s></s></s></s></s></s></s></s></s></s></s></s></s></s></s></s></s></s></s></s></s></s></s></s></s></s></s></s></s></s></s></s></s></s></s></s></s></s></s></s></s></s></s></s></s></s></s></s></s></s></s></s></s></s></s></s></s></s></s></s></s></s></s></s></s></s></s></s></s></s></s></s></s></s></s></s></s></s></s></s></s></s></s></s></s></s></s></s></s></s></s></s></s></s></s></s></s></s></s></s></s></s></s></s></s></s></s></s></s></s></s></s></s></s></s></s></s></s></s></s></s></s></s></s></s></s></s></s></s></s></s></s></s></s></s></s></s></s></s></s></s></s></s></s></s></s></s></s></s></s></s></s></s></s></s></s></s></s></s></s></s></s></s></s></s></s></s></s></s></s></s></s></s></s></s></s></s></s></s></s></s></s></s></s></s></s></s></s></s></s></s></s></s></s></s></s></s></s></s></s></s></s></s></s></s></s></s></s></s></s></s></s></s></s></s></s></s></s></s></s></s></s></s></s></s></s></s></s></s></s></s></s></s></s></s></s></s></s></s></s></s></s></s></s></s></s></s></s></s></s></s></s></s></s></s></s></s></s></s></s></s></s></s></s></s></s></s></s></s></s></s></s></s></s></s></s></s></s></s></s></s></s></s></s></s></s></s></s></s></s></s></s></s></s></s>\n",
      "\n",
      "\n",
      "**** MISTRAL ANSWER 9********\\:\n",
      "\n",
      "\n",
      "{  \"sports-and-athletics\": \"0.0\",  \"sports-and-athletics-confidence\": \"10.0\",  \"environmentalism-and-sustainability\": \"0.0\",  \"environmentalism-and-sustainability-confidence\": \"10.0\",  \"gaming-and-e-sports\": \"0.0\",  \"gaming-and-e-sports-confidence\": \"10.0\",  \"college-and-career\": \"0.0\",  \"college-and-career-confidence\": \"10.0\",  \"cooking-and-food\": \"0.0\",  \"cooking-and-food-confidence\": \"10.0\",  \"reading-and-literature\": \"1.0\",  \"reading-and-literature-confidence\": \"5.0\",  \"writing-and-creative-writing\": \"1.0\",  \"writing-and-creative-writing-confidence\": \"4.0\",  \"science-and-technology\": \"1.0\",  \"science-and-technology-confidence\": \"9.0\",  \"mathematics-and-statistics\": \"0.0\",  \"mathematics-and-statistics-confidence\": \"10.0\",  \"history-and-social-studies\": \"0.0\",  \"history-and-social-studies-confidence\": \"10.0\",  \"creative-arts\": \"0.0\",  \"creative-arts-confidence\": \"10.0\",  \"animals-and-nature\": \"1.0\",  \"animals-and-nature-confidence\": \"9.0\",  \"note\": \"The student's web activity shows a strong focus on biology, particularly marine life and zoological classification, indicating an interest in science and nature. There is also some activity related to language learning (Spanish), which could suggest an interest in reading and literature or writing and creative writing, but the confidence is lower due to the lack of direct evidence of engagement with texts or writing activities.\"\n",
      "}\n",
      "\n",
      "### Explanation:\n",
      "The student's web activity includes multiple searches related to various animal species and biological classifications, suggesting a strong interest in science and nature. The presence of searches for Spanish language translations indicates an interest in language learning, possibly related to reading and literature or writing and creative writing, although the confidence is lower due to the limited context. No clear patterns were observed for the other indicators.</s></s></s></s></s></s></s></s></s></s></s></s></s></s></s></s></s></s></s></s></s></s></s></s></s></s></s></s></s></s></s></s></s></s></s></s></s></s></s></s></s></s></s></s></s></s></s></s></s></s></s></s></s></s></s></s></s></s></s></s></s></s></s></s></s></s></s></s></s></s></s></s></s></s></s></s></s></s></s></s></s></s></s></s></s></s></s></s></s></s></s></s></s></s></s></s></s></s></s></s></s></s></s></s></s></s></s></s></s></s></s></s></s></s></s></s></s></s></s></s></s></s></s></s></s></s></s></s></s></s></s></s></s></s></s></s></s></s></s></s></s></s></s></s></s></s></s></s></s></s></s></s></s></s></s></s></s></s></s></s></s></s></s></s></s></s></s></s></s></s></s></s></s></s></s></s></s></s></s></s></s></s></s></s></s></s></s></s></s></s></s></s></s></s></s></s></s></s></s></s></s></s></s></s></s></s></s></s></s></s></s></s></s></s></s></s></s></s></s></s></s></s></s></s></s></s></s></s></s></s></s></s></s></s></s></s></s></s></s></s></s></s></s></s></s></s></s></s></s></s></s></s></s></s></s></s></s></s></s></s></s></s></s></s></s></s></s></s></s></s></s></s></s></s></s></s></s></s></s></s></s></s></s></s></s></s></s></s></s></s></s></s></s></s></s></s></s></s></s></s></s></s></s></s></s></s></s></s></s></s></s></s></s></s></s></s></s></s></s></s></s></s></s></s></s></s></s></s></s></s></s></s></s></s></s></s></s></s></s></s></s></s></s></s></s></s></s></s></s></s></s></s></s></s></s></s></s></s></s></s></s></s></s></s></s></s></s></s></s></s></s></s></s></s></s></s></s></s></s></s></s></s></s></s></s></s></s></s></s></s></s></s></s></s></s></s></s></s></s></s></s></s></s></s></s></s></s></s></s></s></s></s></s></s>\n",
      "\n",
      "\n",
      "**** MISTRAL ANSWER 10********\\:\n",
      "\n",
      "\n",
      "{  \"sports-and-athletics\": \"0.0\",  \"sports-and-athletics-confidence\": \"10.0\",  \"environmentalism-and-sustainability\": \"0.0\",  \"environmentalism-and-sustainability-confidence\": \"10.0\",  \"gaming-and-e-sports\": \"0.0\",  \"gaming-and-e-sports-confidence\": \"10.0\",  \"college-and-career\": \"0.0\",  \"college-and-career-confidence\": \"10.0\",  \"cooking-and-food\": \"0.0\",  \"cooking-and-food-confidence\": \"10.0\",  \"reading-and-literature\": \"1.0\",  \"reading-and-literature-confidence\": \"5.0\",  \"writing-and-creative-writing\": \"1.0\",  \"writing-and-creative-writing-confidence\": \"7.0\",  \"science-and-technology\": \"0.0\",  \"science-and-technology-confidence\": \"10.0\",  \"mathematics-and-statistics\": \"1.0\",  \"mathematics-and-statistics-confidence\": \"8.0\",  \"history-and-social-studies\": \"1.0\",  \"history-and-social-studies-confidence\": \"7.0\",  \"creative-arts\": \"1.0\",  \"creative-arts-confidence\": \"9.0\",  \"animals-and-nature\": \"1.0\",  \"animals-and-nature-confidence\": \"8.0\",  \"note\": \"The student showed interest in creative arts through searches related to theatre masks, poetry, and Singaporean batik, indicating a presence of creative writing and literature. The search for 'Fibonacci sequence in art' suggests an interest in mathematics and statistics. Searches about animals like hummingbirds and locusts indicate an interest in animals and nature. The historical aspect of Singaporean batik and its origins points towards an interest in history and social studies. No clear evidence was found for sports, environmentalism, gaming, college and career planning, cooking, science and technology.\"\n",
      "}\n",
      "\n",
      "### Explanation:\n",
      "The student's web activity shows a strong interest in creative arts, indicated by searches related to theatre masks, poetry, and Singaporean batik. There is also an interest in reading and literature, suggested by the search for 'Poetry Out Loud,' which is a program that encourages students to read and learn poems. The search for 'Danielle Boodoo Fortune' indicates an interest in writing and creative writing, as she is known for her work in poetry and fiction. The repeated searches for 'Singaporean batik' and its cultural significance suggest an interest in history and social studies. The student also looked up information on animals, such as locusts and hummingbirds, showing an interest in animals and nature. The presence of 'Fibonacci sequence in art' indicates an interest in mathematics and statistics. No clear evidence was found for the other categories.\n",
      "\n",
      "### Note:\n",
      "The confidence levels reflect the frequency and specificity of the searches related to each category. The absence of searches directly related to sports, environmentalism, gaming, college and career planning, cooking, science and technology does not necessarily mean these topics are not of interest; rather, there is no direct evidence to suggest an interest in these areas based on the provided web activities.\n",
      "\n",
      "### References:\n",
      "https://www.poetryoutloud.org/\n",
      "https://en.wikipedia.org/wiki/Fibonacci_sequence#In_art\n",
      "https://www.etymonline.com/word/bachelor\n",
      "https://www.etymonline.com/word/spinster\n",
      "https://www.etymonline.com/word/widow\n",
      "https://www.etymonline.com/word/wife\n",
      "https://www.etymonline.com/word/husband\n",
      "https://www.etymonline.com/word/man\n",
      "https://www.etymonline.com/word/woman\n",
      "https://www.etymonline.com/word/girl\n",
      "https://www.etymonline.com/word/boy\n",
      "https://www.etymonline.com/word/child\n",
      "https://www.et\n",
      "\n",
      "\n",
      "**** MISTRAL ANSWER 11********\\:\n",
      "\n",
      "\n",
      "{  \"sports-and-athletics\": \"0.0\",  \"sports-and-athletics-confidence\": \"3.0\",  \"environmentalism-and-sustainability\": \"0.0\",  \"environmentalism-and-sustainability-confidence\": \"2.0\",  \"gaming-and-e-sports\": \"0.0\",  \"gaming-and-e-sports-confidence\": \"1.0\",  \"college-and-career\": \"0.0\",  \"college-and-career-confidence\": \"4.0\",  \"cooking-and-food\": \"0.0\",  \"cooking-and-food-confidence\": \"1.0\",  \"reading-and-literature\": \"1.0\",  \"reading-and-literature-confidence\": \"5.0\",  \"writing-and-creative-writing\": \"0.0\",  \"writing-and-creative-writing-confidence\": \"3.0\",  \"science-and-technology\": \"0.0\",  \"science-and-technology-confidence\": \"2.0\",  \"mathematics-and-statistics\": \"0.0\",  \"mathematics-and-statistics-confidence\": \"3.0\",  \"history-and-social-studies\": \"1.0\",  \"history-and-social-studies-confidence\": \"5.0\",  \"creative-arts\": \"1.0\",  \"creative-arts-confidence\": \"6.0\",  \"animals-and-nature\": \"1.0\",  \"animals-and-nature-confidence\": \"7.0\",  \"note\": \"The student showed interest in reading and literature through searches for long words like 'supercalifragilisticexpialidocious'. Creative arts are indicated by searches for 'black oval realistic' which may suggest an interest in drawing or art techniques. The search for 'tall tree' and 'fish' suggests an interest in animals and nature. The query about starting school days later indicates some engagement with history and social studies, possibly exploring societal issues. There was no clear evidence of sports, environmentalism, gaming, college planning, cooking, writing, science, technology, or mathematics.\"\n",
      "}\n",
      "\n",
      "### Explanation:\n",
      "The student's web activity includes searches for various objects ('metal spring', 'tall tree', 'fish'), which could indicate an interest in animals and nature. The presence of 'black oval realistic' suggests an interest in creative arts, possibly drawing or art techniques. The search for 'supercalifragilisticexpialidocious' shows an interest in reading and literature. The query about starting school days later points towards an interest in history and social studies, possibly exploring societal issues. No clear patterns were found for the other indicators. Confidence levels are assigned based on the relevance and frequency of related searches.</s></s></s></s></s></s></s></s></s></s></s></s></s></s></s></s></s></s></s></s></s></s></s></s></s></s></s></s></s></s></s></s></s></s></s></s></s></s></s></s></s></s></s></s></s></s></s></s></s></s></s></s></s></s></s></s></s></s></s></s></s></s></s></s></s></s></s></s></s></s></s></s></s></s></s></s></s></s></s></s></s></s></s></s></s></s></s></s></s></s></s></s></s></s></s></s></s></s></s></s></s></s></s></s></s></s></s></s></s></s></s></s></s></s></s></s></s></s></s></s></s></s></s></s></s></s></s></s></s></s></s></s></s></s></s></s></s></s></s></s></s></s></s></s></s></s></s></s></s></s></s></s></s></s></s></s></s></s></s></s></s></s></s></s></s></s></s></s></s></s></s></s></s></s></s></s></s></s></s></s></s></s></s></s></s></s></s></s></s></s></s></s></s></s></s></s></s></s></s></s></s></s></s></s></s></s></s></s></s></s></s></s></s></s></s></s></s></s></s></s></s></s></s></s></s></s></s></s></s></s></s></s></s></s></s></s></s></s></s></s></s></s></s></s></s></s></s></s></s></s></s></s></s></s></s></s></s></s></s></s></s></s></s></s></s></s></s></s></s></s></s></s></s></s></s></s></s></s></s></s></s></s></s></s></s></s></s></s></s></s></s></s></s></s></s></s></s></s></s></s></s></s></s></s></s></s></s></s></s></s></s></s></s></s></s></s></s></s></s></s></s></s></s></s></s>\n",
      "Time taken: 162.24264001846313 seconds\n"
     ]
    }
   ],
   "source": [
    "import time \n",
    "\n",
    "start_time = time.time()\n",
    "\n",
    "ft_model.eval()\n",
    "with torch.no_grad():\n",
    "    output_tokens = ft_model.generate(**model_input, max_new_tokens=1000, repetition_penalty=1.15)\n",
    "    output_text = tokenizer.batch_decode(output_tokens[:, input_length:])\n",
    "    for index, value in enumerate(output_text):\n",
    "        print(f\"\\n\\n**** MISTRAL ANSWER {index}********\\:\\n\\n\")\n",
    "        print(value)    \n",
    "\n",
    "end_time = time.time()\n",
    "total_time = end_time - start_time\n",
    "print(f\"Time taken: {total_time} seconds\")"
   ]
  },
  {
   "cell_type": "markdown",
   "id": "0900dfad-54fc-41d4-bdda-ecbe6ea1a9d4",
   "metadata": {},
   "source": [
    "# Microsoft Guidance\n",
    "\n",
    "Guidance is a system that manipulates the logprops and token selection to make the output conform to a template"
   ]
  },
  {
   "cell_type": "code",
   "execution_count": 73,
   "id": "38cda7ad-36df-4b81-9640-9381dd7a2520",
   "metadata": {},
   "outputs": [],
   "source": [
    "guidance_llm = models.Transformers(ft_model, tokenizer)"
   ]
  },
  {
   "cell_type": "code",
   "execution_count": 74,
   "id": "1e1bc52b-7ff0-406a-8377-66d3ab5aea19",
   "metadata": {},
   "outputs": [
    {
     "data": {
      "text/html": [
       "<pre style='margin: 0px; padding: 0px; padding-left: 8px; margin-left: -8px; border-radius: 0px; border-left: 1px solid rgba(127, 127, 127, 0.2); white-space: pre-wrap; font-family: ColfaxAI, Arial; font-size: 15px; line-height: 23px;'>### Question:\n",
       "You are a Student Web Activity Analyzer developed to support professionals, including Social Workers, School Psychologists, District Administrators, School Safety Specialists, and related roles. Your primary objective is to meticulously evaluate the online activity of K-12 students and identify specific indicators related to their interests and passions. For each identified indicator, provide a JSON object containing:\n",
       "\n",
       "Presence: A value of 1 (if the indicator is present) or 0 (if not). Mark as 1 even if only part of the data aligns with an indicator.\n",
       "Confidence: Provide a confidence level on a scale of 1-10 to indicate your level of certainty in the analysis.\n",
       "Note: Include information on the logic used to decide that certain indicators were identified and a summary of the analyzed web activity.\n",
       "\n",
       "Consider patterns in the data, not just individual searches.\n",
       "\n",
       "Consider that the online activity originates from a school-issued device.\n",
       "\n",
       "If ambiguous use your best judgment, reflect uncertainty in confidence score.\n",
       "\n",
       "Here are the specific indicators for this task:\r\n",
       "\r\n",
       "&#x27;sports-and-athletics&#x27;\r\n",
       "&#x27;environmentalism-and-sustainability&#x27;\r\n",
       "&#x27;gaming-and-e-sports&#x27;\r\n",
       "&#x27;college-and-career&#x27;\r\n",
       "&#x27;cooking-and-food&#x27;\r\n",
       "&#x27;reading-and-literature&#x27;\r\n",
       "&#x27;writing-and-creative-writing&#x27;\r\n",
       "&#x27;science-and-technology&#x27;\r\n",
       "&#x27;mathematics-and-statistics&#x27;\r\n",
       "&#x27;creative-arts&#x27;\r\n",
       "&#x27;animals-and-nature&#x27;\r\n",
       "&#x27;history-and-social-studies&#x27;\r\n",
       "\n",
       "\n",
       "### Search Data:\n",
       "[&#x27;peninsula high school to east 40th and east howe st&#x27;, &#x27;gig harbor sportsman club&#x27;, &#x27;modified lockdown&#x27;, &#x27;lockdown in schools&#x27;, &#x27;reasons for a school lockdown&#x27;, &#x27;school lockdown steps&#x27;, &#x27;key peninsula middle school&#x27;, &#x27;pierce county jail roster&#x27;, &#x27;emma gillespie attorney&#x27;, &#x27;710 am radio&#x27;, &#x27;vaughn elementary school&#x27;]\n",
       "\n",
       "### Example Output:\n",
       "{\r\n",
       "  &quot;sports-and-athletics&quot;: &quot;1&quot;,\r\n",
       "  &quot;sports-and-athletics-confidence&quot;: &quot;6&quot;,\r\n",
       "  &quot;environmentalism-and-sustainability&quot;: &quot;0&quot;,\r\n",
       "  &quot;environmentalism-and-sustainability-confidence&quot;: &quot;8&quot;,\r\n",
       "  &quot;gaming-and-e-sports&quot;: &quot;0&quot;,\r\n",
       "  &quot;gaming-and-e-sports-confidence&quot;: &quot;10&quot;,\r\n",
       "  &quot;college-and-career&quot;: &quot;1&quot;,\r\n",
       "  &quot;college-and-career-confidence&quot;: &quot;7&quot;,\r\n",
       "  &quot;cooking-and-food&quot;: &quot;1&quot;,\r\n",
       "  &quot;cooking-and-food-confidence&quot;: &quot;7&quot;,\r\n",
       "  &quot;reading-and-literature&quot;: &quot;0&quot;,\r\n",
       "  &quot;reading-and-literature-confidence&quot;: &quot;7&quot;,\r\n",
       "  &quot;writing-and-creative-writing&quot;: &quot;1&quot;,\r\n",
       "  &quot;writing-and-creative-writing-confidence&quot;: &quot;8&quot;,\r\n",
       "  &quot;science-and-technology&quot;: &quot;0&quot;,\r\n",
       "  &quot;science-and-technology-confidence&quot;: &quot;10&quot;,\r\n",
       "  &quot;mathematics-and-statistics&quot;: &quot;1&quot;,\r\n",
       "  &quot;mathematics-and-statistics-confidence&quot;: &quot;6&quot;,\r\n",
       "  &quot;creative-arts&quot;: &quot;1&quot;,\r\n",
       "  &quot;creative-arts-confidence&quot;: &quot;8&quot;,\r\n",
       "  &quot;animals-and-nature&quot;: &quot;1&quot;,\r\n",
       "  &quot;animals-and-nature-confidence&quot;: &quot;9&quot;,\r\n",
       "  &quot;history-and-social-studies&quot;: &quot;0&quot;,\r\n",
       "  &quot;history-and-social-studies-confidence&quot;: &quot;9&quot;,\r\n",
       "  &quot;note&quot;: &quot;Detailed Summary Goes Here &quot;\r\n",
       "}\n",
       "\n",
       "### Solution:\r\n",
       "{\n",
       "  &quot;sports-and-athletics&quot;:<span style='background-color: rgba(0, 165, 0, 0.15); border-radius: 3px;' title='0.0'> &quot;</span><span style='background-color: rgba(0, 165, 0, 0.15); border-radius: 3px;' title='0.0'>1</span><span style='background-color: rgba(0, 165, 0, 0.15); border-radius: 3px;' title='0.0'>.</span><span style='background-color: rgba(0, 165, 0, 0.15); border-radius: 3px;' title='0.0'>0</span>&quot;,\n",
       "  &quot;sports-and-athletics-confidence&quot;:<span style='background-color: rgba(0, 165, 0, 0.15); border-radius: 3px;' title='0.0'> &quot;</span><span style='background-color: rgba(0, 165, 0, 0.15); border-radius: 3px;' title='0.0'>4</span><span style='background-color: rgba(0, 165, 0, 0.15); border-radius: 3px;' title='0.0'>.</span><span style='background-color: rgba(0, 165, 0, 0.15); border-radius: 3px;' title='0.0'>0</span>&quot;,\n",
       "  &quot;environmentalism-and-sustainability&quot;:<span style='background-color: rgba(0, 165, 0, 0.15); border-radius: 3px;' title='0.0'> &quot;</span><span style='background-color: rgba(0, 165, 0, 0.15); border-radius: 3px;' title='0.0'>0</span><span style='background-color: rgba(0, 165, 0, 0.15); border-radius: 3px;' title='0.0'>.</span><span style='background-color: rgba(0, 165, 0, 0.15); border-radius: 3px;' title='0.0'>0</span>&quot;,\n",
       "  &quot;environmentalism-and-sustainability-confidence&quot;:<span style='background-color: rgba(0, 165, 0, 0.15); border-radius: 3px;' title='0.0'> &quot;</span><span style='background-color: rgba(0, 165, 0, 0.15); border-radius: 3px;' title='0.0'>1</span><span style='background-color: rgba(0, 165, 0, 0.15); border-radius: 3px;' title='0.0'>0</span><span style='background-color: rgba(0, 165, 0, 0.15); border-radius: 3px;' title='0.0'>.</span><span style='background-color: rgba(0, 165, 0, 0.15); border-radius: 3px;' title='0.0'>0</span>&quot;,\n",
       "  &quot;gaming-and-e-sports&quot;:<span style='background-color: rgba(0, 165, 0, 0.15); border-radius: 3px;' title='0.0'> &quot;</span><span style='background-color: rgba(0, 165, 0, 0.15); border-radius: 3px;' title='0.0'>0</span><span style='background-color: rgba(0, 165, 0, 0.15); border-radius: 3px;' title='0.0'>.</span><span style='background-color: rgba(0, 165, 0, 0.15); border-radius: 3px;' title='0.0'>0</span>&quot;,\n",
       "  &quot;gaming-and-e-sports-confidence&quot;:<span style='background-color: rgba(0, 165, 0, 0.15); border-radius: 3px;' title='0.0'> &quot;</span><span style='background-color: rgba(0, 165, 0, 0.15); border-radius: 3px;' title='0.0'>1</span><span style='background-color: rgba(0, 165, 0, 0.15); border-radius: 3px;' title='0.0'>0</span><span style='background-color: rgba(0, 165, 0, 0.15); border-radius: 3px;' title='0.0'>.</span><span style='background-color: rgba(0, 165, 0, 0.15); border-radius: 3px;' title='0.0'>0</span>&quot;,\n",
       "  &quot;college-and-career&quot;:<span style='background-color: rgba(0, 165, 0, 0.15); border-radius: 3px;' title='0.0'> &quot;</span><span style='background-color: rgba(0, 165, 0, 0.15); border-radius: 3px;' title='0.0'>0</span><span style='background-color: rgba(0, 165, 0, 0.15); border-radius: 3px;' title='0.0'>.</span><span style='background-color: rgba(0, 165, 0, 0.15); border-radius: 3px;' title='0.0'>0</span>&quot;,\n",
       "  &quot;college-and-career-confidence&quot;:<span style='background-color: rgba(0, 165, 0, 0.15); border-radius: 3px;' title='0.0'> &quot;</span><span style='background-color: rgba(0, 165, 0, 0.15); border-radius: 3px;' title='0.0'>1</span><span style='background-color: rgba(0, 165, 0, 0.15); border-radius: 3px;' title='0.0'>0</span><span style='background-color: rgba(0, 165, 0, 0.15); border-radius: 3px;' title='0.0'>.</span><span style='background-color: rgba(0, 165, 0, 0.15); border-radius: 3px;' title='0.0'>0</span>&quot;,\n",
       "  &quot;cooking-and-food&quot;:<span style='background-color: rgba(0, 165, 0, 0.15); border-radius: 3px;' title='0.0'> &quot;</span><span style='background-color: rgba(0, 165, 0, 0.15); border-radius: 3px;' title='0.0'>0</span><span style='background-color: rgba(0, 165, 0, 0.15); border-radius: 3px;' title='0.0'>.</span><span style='background-color: rgba(0, 165, 0, 0.15); border-radius: 3px;' title='0.0'>0</span>&quot;,\n",
       "  &quot;cooking-and-food-confidence&quot;:<span style='background-color: rgba(0, 165, 0, 0.15); border-radius: 3px;' title='0.0'> &quot;</span><span style='background-color: rgba(0, 165, 0, 0.15); border-radius: 3px;' title='0.0'>1</span><span style='background-color: rgba(0, 165, 0, 0.15); border-radius: 3px;' title='0.0'>0</span><span style='background-color: rgba(0, 165, 0, 0.15); border-radius: 3px;' title='0.0'>.</span><span style='background-color: rgba(0, 165, 0, 0.15); border-radius: 3px;' title='0.0'>0</span>&quot;,\n",
       "  &quot;reading-and-literature&quot;:<span style='background-color: rgba(0, 165, 0, 0.15); border-radius: 3px;' title='0.0'> &quot;</span><span style='background-color: rgba(0, 165, 0, 0.15); border-radius: 3px;' title='0.0'>0</span><span style='background-color: rgba(0, 165, 0, 0.15); border-radius: 3px;' title='0.0'>.</span><span style='background-color: rgba(0, 165, 0, 0.15); border-radius: 3px;' title='0.0'>0</span>&quot;,\n",
       "  &quot;reading-and-literature-confidence&quot;:<span style='background-color: rgba(0, 165, 0, 0.15); border-radius: 3px;' title='0.0'> &quot;</span><span style='background-color: rgba(0, 165, 0, 0.15); border-radius: 3px;' title='0.0'>1</span><span style='background-color: rgba(0, 165, 0, 0.15); border-radius: 3px;' title='0.0'>0</span><span style='background-color: rgba(0, 165, 0, 0.15); border-radius: 3px;' title='0.0'>.</span><span style='background-color: rgba(0, 165, 0, 0.15); border-radius: 3px;' title='0.0'>0</span>&quot;,\n",
       "  &quot;writing-and-creative-writing&quot;:<span style='background-color: rgba(0, 165, 0, 0.15); border-radius: 3px;' title='0.0'> &quot;</span><span style='background-color: rgba(0, 165, 0, 0.15); border-radius: 3px;' title='0.0'>0</span><span style='background-color: rgba(0, 165, 0, 0.15); border-radius: 3px;' title='0.0'>.</span><span style='background-color: rgba(0, 165, 0, 0.15); border-radius: 3px;' title='0.0'>0</span>&quot;,\n",
       "  &quot;writing-and-creative-writing-confidence&quot;:<span style='background-color: rgba(0, 165, 0, 0.15); border-radius: 3px;' title='0.0'> &quot;</span><span style='background-color: rgba(0, 165, 0, 0.15); border-radius: 3px;' title='0.0'>1</span><span style='background-color: rgba(0, 165, 0, 0.15); border-radius: 3px;' title='0.0'>0</span><span style='background-color: rgba(0, 165, 0, 0.15); border-radius: 3px;' title='0.0'>.</span><span style='background-color: rgba(0, 165, 0, 0.15); border-radius: 3px;' title='0.0'>0</span>&quot;,\n",
       "  &quot;science-and-technology&quot;:<span style='background-color: rgba(0, 165, 0, 0.15); border-radius: 3px;' title='0.0'> &quot;</span><span style='background-color: rgba(0, 165, 0, 0.15); border-radius: 3px;' title='0.0'>0</span><span style='background-color: rgba(0, 165, 0, 0.15); border-radius: 3px;' title='0.0'>.</span><span style='background-color: rgba(0, 165, 0, 0.15); border-radius: 3px;' title='0.0'>0</span>&quot;,\n",
       "  &quot;science-and-technology-confidence&quot;:<span style='background-color: rgba(0, 165, 0, 0.15); border-radius: 3px;' title='0.0'> &quot;</span><span style='background-color: rgba(0, 165, 0, 0.15); border-radius: 3px;' title='0.0'>1</span><span style='background-color: rgba(0, 165, 0, 0.15); border-radius: 3px;' title='0.0'>0</span><span style='background-color: rgba(0, 165, 0, 0.15); border-radius: 3px;' title='0.0'>.</span><span style='background-color: rgba(0, 165, 0, 0.15); border-radius: 3px;' title='0.0'>0</span>&quot;,\n",
       "  &quot;mathematics-and-statistics&quot;:<span style='background-color: rgba(0, 165, 0, 0.15); border-radius: 3px;' title='0.0'> &quot;</span><span style='background-color: rgba(0, 165, 0, 0.15); border-radius: 3px;' title='0.0'>0</span><span style='background-color: rgba(0, 165, 0, 0.15); border-radius: 3px;' title='0.0'>.</span><span style='background-color: rgba(0, 165, 0, 0.15); border-radius: 3px;' title='0.0'>0</span>&quot;,\n",
       "  &quot;mathematics-and-statistics-confidence&quot;:<span style='background-color: rgba(0, 165, 0, 0.15); border-radius: 3px;' title='0.0'> &quot;</span><span style='background-color: rgba(0, 165, 0, 0.15); border-radius: 3px;' title='0.0'>1</span><span style='background-color: rgba(0, 165, 0, 0.15); border-radius: 3px;' title='0.0'>0</span><span style='background-color: rgba(0, 165, 0, 0.15); border-radius: 3px;' title='0.0'>.</span><span style='background-color: rgba(0, 165, 0, 0.15); border-radius: 3px;' title='0.0'>0</span>&quot;,\n",
       "  &quot;creative-arts&quot;:<span style='background-color: rgba(0, 165, 0, 0.15); border-radius: 3px;' title='0.0'> &quot;</span><span style='background-color: rgba(0, 165, 0, 0.15); border-radius: 3px;' title='0.0'>0</span><span style='background-color: rgba(0, 165, 0, 0.15); border-radius: 3px;' title='0.0'>.</span><span style='background-color: rgba(0, 165, 0, 0.15); border-radius: 3px;' title='0.0'>0</span>&quot;,\n",
       "  &quot;creative-arts-confidence&quot;:<span style='background-color: rgba(0, 165, 0, 0.15); border-radius: 3px;' title='0.0'> &quot;</span><span style='background-color: rgba(0, 165, 0, 0.15); border-radius: 3px;' title='0.0'>1</span><span style='background-color: rgba(0, 165, 0, 0.15); border-radius: 3px;' title='0.0'>0</span><span style='background-color: rgba(0, 165, 0, 0.15); border-radius: 3px;' title='0.0'>.</span><span style='background-color: rgba(0, 165, 0, 0.15); border-radius: 3px;' title='0.0'>0</span>&quot;,\n",
       "  &quot;animals-and-nature&quot;:<span style='background-color: rgba(0, 165, 0, 0.15); border-radius: 3px;' title='0.0'> &quot;</span><span style='background-color: rgba(0, 165, 0, 0.15); border-radius: 3px;' title='0.0'>0</span><span style='background-color: rgba(0, 165, 0, 0.15); border-radius: 3px;' title='0.0'>.</span><span style='background-color: rgba(0, 165, 0, 0.15); border-radius: 3px;' title='0.0'>0</span>&quot;,\n",
       "  &quot;animals-and-nature-confidence&quot;:<span style='background-color: rgba(0, 165, 0, 0.15); border-radius: 3px;' title='0.0'> &quot;</span><span style='background-color: rgba(0, 165, 0, 0.15); border-radius: 3px;' title='0.0'>1</span><span style='background-color: rgba(0, 165, 0, 0.15); border-radius: 3px;' title='0.0'>0</span><span style='background-color: rgba(0, 165, 0, 0.15); border-radius: 3px;' title='0.0'>.</span><span style='background-color: rgba(0, 165, 0, 0.15); border-radius: 3px;' title='0.0'>0</span>&quot;,\n",
       "  &quot;history-and-social-studies&quot;:<span style='background-color: rgba(0, 165, 0, 0.15); border-radius: 3px;' title='0.0'> &quot;</span><span style='background-color: rgba(0, 165, 0, 0.15); border-radius: 3px;' title='0.0'>1</span><span style='background-color: rgba(0, 165, 0, 0.15); border-radius: 3px;' title='0.0'>.</span><span style='background-color: rgba(0, 165, 0, 0.15); border-radius: 3px;' title='0.0'>0</span>&quot;,\n",
       "  &quot;history-and-social-studies-confidence&quot;:<span style='background-color: rgba(0, 165, 0, 0.15); border-radius: 3px;' title='0.0'> &quot;</span><span style='background-color: rgba(0, 165, 0, 0.15); border-radius: 3px;' title='0.0'>5</span><span style='background-color: rgba(0, 165, 0, 0.15); border-radius: 3px;' title='0.0'>.</span><span style='background-color: rgba(0, 165, 0, 0.15); border-radius: 3px;' title='0.0'>0</span>&quot;,\n",
       "  &quot;note&quot;:<span style='background-color: rgba(0, 165, 0, 0.15); border-radius: 3px;' title='0.0'> &quot;</span><span style='background-color: rgba(0, 165, 0, 0.15); border-radius: 3px;' title='0.0'>The</span><span style='background-color: rgba(0, 165, 0, 0.15); border-radius: 3px;' title='0.0'> student</span><span style='background-color: rgba(0, 165, 0, 0.15); border-radius: 3px;' title='0.0'>&#x27;</span><span style='background-color: rgba(0, 165, 0, 0.15); border-radius: 3px;' title='0.0'>s</span><span style='background-color: rgba(0, 165, 0, 0.15); border-radius: 3px;' title='0.0'> web</span><span style='background-color: rgba(0, 165, 0, 0.15); border-radius: 3px;' title='0.0'> activity</span><span style='background-color: rgba(0, 165, 0, 0.15); border-radius: 3px;' title='0.0'> includes</span><span style='background-color: rgba(0, 165, 0, 0.15); border-radius: 3px;' title='0.0'> sear</span><span style='background-color: rgba(0, 165, 0, 0.15); border-radius: 3px;' title='0.0'>ches</span><span style='background-color: rgba(0, 165, 0, 0.15); border-radius: 3px;' title='0.0'> related</span><span style='background-color: rgba(0, 165, 0, 0.15); border-radius: 3px;' title='0.0'> to</span><span style='background-color: rgba(0, 165, 0, 0.15); border-radius: 3px;' title='0.0'> a</span><span style='background-color: rgba(0, 165, 0, 0.15); border-radius: 3px;' title='0.0'> sports</span><span style='background-color: rgba(0, 165, 0, 0.15); border-radius: 3px;' title='0.0'>man</span><span style='background-color: rgba(0, 165, 0, 0.15); border-radius: 3px;' title='0.0'> club</span><span style='background-color: rgba(0, 165, 0, 0.15); border-radius: 3px;' title='0.0'>,</span><span style='background-color: rgba(0, 165, 0, 0.15); border-radius: 3px;' title='0.0'> which</span><span style='background-color: rgba(0, 165, 0, 0.15); border-radius: 3px;' title='0.0'> indicates</span><span style='background-color: rgba(0, 165, 0, 0.15); border-radius: 3px;' title='0.0'> an</span><span style='background-color: rgba(0, 165, 0, 0.15); border-radius: 3px;' title='0.0'> interest</span><span style='background-color: rgba(0, 165, 0, 0.15); border-radius: 3px;' title='0.0'> in</span><span style='background-color: rgba(0, 165, 0, 0.15); border-radius: 3px;' title='0.0'> sports</span><span style='background-color: rgba(0, 165, 0, 0.15); border-radius: 3px;' title='0.0'> and</span><span style='background-color: rgba(0, 165, 0, 0.15); border-radius: 3px;' title='0.0'> athlet</span><span style='background-color: rgba(0, 165, 0, 0.15); border-radius: 3px;' title='0.0'>ics</span><span style='background-color: rgba(0, 165, 0, 0.15); border-radius: 3px;' title='0.0'>,</span><span style='background-color: rgba(0, 165, 0, 0.15); border-radius: 3px;' title='0.0'> though</span><span style='background-color: rgba(0, 165, 0, 0.15); border-radius: 3px;' title='0.0'> the</span><span style='background-color: rgba(0, 165, 0, 0.15); border-radius: 3px;' title='0.0'> confidence</span><span style='background-color: rgba(0, 165, 0, 0.15); border-radius: 3px;' title='0.0'> is</span><span style='background-color: rgba(0, 165, 0, 0.15); border-radius: 3px;' title='0.0'> moderate</span><span style='background-color: rgba(0, 165, 0, 0.15); border-radius: 3px;' title='0.0'> due</span><span style='background-color: rgba(0, 165, 0, 0.15); border-radius: 3px;' title='0.0'> to</span><span style='background-color: rgba(0, 165, 0, 0.15); border-radius: 3px;' title='0.0'> the</span><span style='background-color: rgba(0, 165, 0, 0.15); border-radius: 3px;' title='0.0'> lack</span><span style='background-color: rgba(0, 165, 0, 0.15); border-radius: 3px;' title='0.0'> of</span><span style='background-color: rgba(0, 165, 0, 0.15); border-radius: 3px;' title='0.0'> repeated</span><span style='background-color: rgba(0, 165, 0, 0.15); border-radius: 3px;' title='0.0'> patterns</span><span style='background-color: rgba(0, 165, 0, 0.15); border-radius: 3px;' title='0.0'> or</span><span style='background-color: rgba(0, 165, 0, 0.15); border-radius: 3px;' title='0.0'> more</span><span style='background-color: rgba(0, 165, 0, 0.15); border-radius: 3px;' title='0.0'> specific</span><span style='background-color: rgba(0, 165, 0, 0.15); border-radius: 3px;' title='0.0'> sports</span><span style='background-color: rgba(0, 165, 0, 0.15); border-radius: 3px;' title='0.0'>-</span><span style='background-color: rgba(0, 165, 0, 0.15); border-radius: 3px;' title='0.0'>related</span><span style='background-color: rgba(0, 165, 0, 0.15); border-radius: 3px;' title='0.0'> sear</span><span style='background-color: rgba(0, 165, 0, 0.15); border-radius: 3px;' title='0.0'>ches</span><span style='background-color: rgba(0, 165, 0, 0.15); border-radius: 3px;' title='0.0'>.</span><span style='background-color: rgba(0, 165, 0, 0.15); border-radius: 3px;' title='0.0'> There</span><span style='background-color: rgba(0, 165, 0, 0.15); border-radius: 3px;' title='0.0'> are</span><span style='background-color: rgba(0, 165, 0, 0.15); border-radius: 3px;' title='0.0'> multiple</span><span style='background-color: rgba(0, 165, 0, 0.15); border-radius: 3px;' title='0.0'> sear</span><span style='background-color: rgba(0, 165, 0, 0.15); border-radius: 3px;' title='0.0'>ches</span><span style='background-color: rgba(0, 165, 0, 0.15); border-radius: 3px;' title='0.0'> related</span><span style='background-color: rgba(0, 165, 0, 0.15); border-radius: 3px;' title='0.0'> to</span><span style='background-color: rgba(0, 165, 0, 0.15); border-radius: 3px;' title='0.0'> school</span><span style='background-color: rgba(0, 165, 0, 0.15); border-radius: 3px;' title='0.0'> lock</span><span style='background-color: rgba(0, 165, 0, 0.15); border-radius: 3px;' title='0.0'>down</span><span style='background-color: rgba(0, 165, 0, 0.15); border-radius: 3px;' title='0.0'>s</span><span style='background-color: rgba(0, 165, 0, 0.15); border-radius: 3px;' title='0.0'>,</span><span style='background-color: rgba(0, 165, 0, 0.15); border-radius: 3px;' title='0.0'> which</span><span style='background-color: rgba(0, 165, 0, 0.15); border-radius: 3px;' title='0.0'> could</span><span style='background-color: rgba(0, 165, 0, 0.15); border-radius: 3px;' title='0.0'> suggest</span><span style='background-color: rgba(0, 165, 0, 0.15); border-radius: 3px;' title='0.0'> an</span><span style='background-color: rgba(0, 165, 0, 0.15); border-radius: 3px;' title='0.0'> interest</span><span style='background-color: rgba(0, 165, 0, 0.15); border-radius: 3px;' title='0.0'> in</span><span style='background-color: rgba(0, 165, 0, 0.15); border-radius: 3px;' title='0.0'> history</span><span style='background-color: rgba(0, 165, 0, 0.15); border-radius: 3px;' title='0.0'> and</span><span style='background-color: rgba(0, 165, 0, 0.15); border-radius: 3px;' title='0.0'> social</span><span style='background-color: rgba(0, 165, 0, 0.15); border-radius: 3px;' title='0.0'> studies</span><span style='background-color: rgba(0, 165, 0, 0.15); border-radius: 3px;' title='0.0'>,</span><span style='background-color: rgba(0, 165, 0, 0.15); border-radius: 3px;' title='0.0'> particularly</span><span style='background-color: rgba(0, 165, 0, 0.15); border-radius: 3px;' title='0.0'> in</span><span style='background-color: rgba(0, 165, 0, 0.15); border-radius: 3px;' title='0.0'> the</span><span style='background-color: rgba(0, 165, 0, 0.15); border-radius: 3px;' title='0.0'> context</span><span style='background-color: rgba(0, 165, 0, 0.15); border-radius: 3px;' title='0.0'> of</span><span style='background-color: rgba(0, 165, 0, 0.15); border-radius: 3px;' title='0.0'> school</span><span style='background-color: rgba(0, 165, 0, 0.15); border-radius: 3px;' title='0.0'> safety</span><span style='background-color: rgba(0, 165, 0, 0.15); border-radius: 3px;' title='0.0'> and</span><span style='background-color: rgba(0, 165, 0, 0.15); border-radius: 3px;' title='0.0'> security</span><span style='background-color: rgba(0, 165, 0, 0.15); border-radius: 3px;' title='0.0'>,</span><span style='background-color: rgba(0, 165, 0, 0.15); border-radius: 3px;' title='0.0'> but</span><span style='background-color: rgba(0, 165, 0, 0.15); border-radius: 3px;' title='0.0'> the</span><span style='background-color: rgba(0, 165, 0, 0.15); border-radius: 3px;' title='0.0'> confidence</span><span style='background-color: rgba(0, 165, 0, 0.15); border-radius: 3px;' title='0.0'> is</span><span style='background-color: rgba(0, 165, 0, 0.15); border-radius: 3px;' title='0.0'> moderate</span><span style='background-color: rgba(0, 165, 0, 0.15); border-radius: 3px;' title='0.0'> as</span><span style='background-color: rgba(0, 165, 0, 0.15); border-radius: 3px;' title='0.0'> this</span><span style='background-color: rgba(0, 165, 0, 0.15); border-radius: 3px;' title='0.0'> could</span><span style='background-color: rgba(0, 165, 0, 0.15); border-radius: 3px;' title='0.0'> also</span><span style='background-color: rgba(0, 165, 0, 0.15); border-radius: 3px;' title='0.0'> be</span><span style='background-color: rgba(0, 165, 0, 0.15); border-radius: 3px;' title='0.0'> related</span><span style='background-color: rgba(0, 165, 0, 0.15); border-radius: 3px;' title='0.0'> to</span><span style='background-color: rgba(0, 165, 0, 0.15); border-radius: 3px;' title='0.0'> a</span><span style='background-color: rgba(0, 165, 0, 0.15); border-radius: 3px;' title='0.0'> current</span><span style='background-color: rgba(0, 165, 0, 0.15); border-radius: 3px;' title='0.0'> event</span><span style='background-color: rgba(0, 165, 0, 0.15); border-radius: 3px;' title='0.0'> or</span><span style='background-color: rgba(0, 165, 0, 0.15); border-radius: 3px;' title='0.0'> personal</span><span style='background-color: rgba(0, 165, 0, 0.15); border-radius: 3px;' title='0.0'> safety</span><span style='background-color: rgba(0, 165, 0, 0.15); border-radius: 3px;' title='0.0'> concerns</span><span style='background-color: rgba(0, 165, 0, 0.15); border-radius: 3px;' title='0.0'> rather</span><span style='background-color: rgba(0, 165, 0, 0.15); border-radius: 3px;' title='0.0'> than</span><span style='background-color: rgba(0, 165, 0, 0.15); border-radius: 3px;' title='0.0'> a</span><span style='background-color: rgba(0, 165, 0, 0.15); border-radius: 3px;' title='0.0'> sustained</span><span style='background-color: rgba(0, 165, 0, 0.15); border-radius: 3px;' title='0.0'> interest</span><span style='background-color: rgba(0, 165, 0, 0.15); border-radius: 3px;' title='0.0'> in</span><span style='background-color: rgba(0, 165, 0, 0.15); border-radius: 3px;' title='0.0'> the</span><span style='background-color: rgba(0, 165, 0, 0.15); border-radius: 3px;' title='0.0'> subject</span>.&quot;\n",
       "<span style='background-color: rgba(0, 165, 0, 0.15); border-radius: 3px;' title='0.0'>}</span></pre>"
      ],
      "text/plain": [
       "<IPython.core.display.HTML object>"
      ]
     },
     "metadata": {},
     "output_type": "display_data"
    },
    {
     "name": "stdout",
     "output_type": "stream",
     "text": [
      "Time taken: 20.50229024887085 seconds\n"
     ]
    }
   ],
   "source": [
    "import time \n",
    "\n",
    "start_time = time.time()\n",
    "\n",
    "def generate_number():\n",
    "    return gen(regex='[0-9\\.]+', temperature=0.0, stop='\"')\n",
    "\n",
    "prompted = guidance_llm + prompt\n",
    "prompted += f\"\"\"{{\n",
    "  \"sports-and-athletics\": \"{generate_number()}\",\n",
    "  \"sports-and-athletics-confidence\": \"{generate_number()}\",\n",
    "  \"environmentalism-and-sustainability\": \"{generate_number()}\",\n",
    "  \"environmentalism-and-sustainability-confidence\": \"{generate_number()}\",\n",
    "  \"gaming-and-e-sports\": \"{generate_number()}\",\n",
    "  \"gaming-and-e-sports-confidence\": \"{generate_number()}\",\n",
    "  \"college-and-career\": \"{generate_number()}\",\n",
    "  \"college-and-career-confidence\": \"{generate_number()}\",\n",
    "  \"cooking-and-food\": \"{generate_number()}\",\n",
    "  \"cooking-and-food-confidence\": \"{generate_number()}\",\n",
    "  \"reading-and-literature\": \"{generate_number()}\",\n",
    "  \"reading-and-literature-confidence\": \"{generate_number()}\",\n",
    "  \"writing-and-creative-writing\": \"{generate_number()}\",\n",
    "  \"writing-and-creative-writing-confidence\": \"{generate_number()}\",\n",
    "  \"science-and-technology\": \"{generate_number()}\",\n",
    "  \"science-and-technology-confidence\": \"{generate_number()}\",\n",
    "  \"mathematics-and-statistics\": \"{generate_number()}\",\n",
    "  \"mathematics-and-statistics-confidence\": \"{generate_number()}\",\n",
    "  \"creative-arts\": \"{generate_number()}\",\n",
    "  \"creative-arts-confidence\": \"{generate_number()}\",\n",
    "  \"animals-and-nature\": \"{generate_number()}\",\n",
    "  \"animals-and-nature-confidence\": \"{generate_number()}\",\n",
    "  \"history-and-social-studies\": \"{generate_number()}\",\n",
    "  \"history-and-social-studies-confidence\": \"{generate_number()}\",\n",
    "  \"note\": \"{gen(temperature=0.0, stop='\"')}\"\n",
    "}}\"\"\"\n",
    "\n",
    "end_time = time.time()\n",
    "total_time = end_time - start_time\n",
    "print(f\"Time taken: {total_time} seconds\")"
   ]
  },
  {
   "cell_type": "code",
   "execution_count": null,
   "id": "95f84486-fe37-4144-9e80-54279fd35c52",
   "metadata": {},
   "outputs": [],
   "source": []
  }
 ],
 "metadata": {
  "kernelspec": {
   "display_name": "Python 3 (ipykernel)",
   "language": "python",
   "name": "python3"
  },
  "language_info": {
   "codemirror_mode": {
    "name": "ipython",
    "version": 3
   },
   "file_extension": ".py",
   "mimetype": "text/x-python",
   "name": "python",
   "nbconvert_exporter": "python",
   "pygments_lexer": "ipython3",
   "version": "3.11.5"
  }
 },
 "nbformat": 4,
 "nbformat_minor": 5
}
