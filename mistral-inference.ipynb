{
 "cells": [
  {
   "cell_type": "markdown",
   "id": "e8f351d6-a78e-4bc2-9f3e-28b3b8264bbe",
   "metadata": {},
   "source": [
    "# Inference Experimentation\n",
    "\n",
    "## Preliminaries"
   ]
  },
  {
   "cell_type": "code",
   "execution_count": 1,
   "id": "1588b8fd-6c81-48e6-9a76-65d320416e9d",
   "metadata": {},
   "outputs": [
    {
     "name": "stdout",
     "output_type": "stream",
     "text": [
      "Sun Dec 10 03:45:02 2023       \n",
      "+---------------------------------------------------------------------------------------+\n",
      "| NVIDIA-SMI 545.29.04              Driver Version: 546.17       CUDA Version: 12.3     |\n",
      "|-----------------------------------------+----------------------+----------------------+\n",
      "| GPU  Name                 Persistence-M | Bus-Id        Disp.A | Volatile Uncorr. ECC |\n",
      "| Fan  Temp   Perf          Pwr:Usage/Cap |         Memory-Usage | GPU-Util  Compute M. |\n",
      "|                                         |                      |               MIG M. |\n",
      "|=========================================+======================+======================|\n",
      "|   0  NVIDIA GeForce RTX 4090        On  | 00000000:01:00.0  On |                  Off |\n",
      "|  0%   35C    P8              27W / 450W |   2382MiB / 24564MiB |      5%      Default |\n",
      "|                                         |                      |                  N/A |\n",
      "+-----------------------------------------+----------------------+----------------------+\n",
      "                                                                                         \n",
      "+---------------------------------------------------------------------------------------+\n",
      "| Processes:                                                                            |\n",
      "|  GPU   GI   CI        PID   Type   Process name                            GPU Memory |\n",
      "|        ID   ID                                                             Usage      |\n",
      "|=======================================================================================|\n",
      "|  No running processes found                                                           |\n",
      "+---------------------------------------------------------------------------------------+\n"
     ]
    }
   ],
   "source": [
    "!nvidia-smi"
   ]
  },
  {
   "cell_type": "code",
   "execution_count": null,
   "id": "ffd7fbdd-60ec-4ca7-8e20-6e4206b03e52",
   "metadata": {},
   "outputs": [],
   "source": [
    "!pip install guidance"
   ]
  },
  {
   "cell_type": "code",
   "execution_count": 2,
   "id": "f52810b3-b554-4836-8250-cd45c5583db1",
   "metadata": {},
   "outputs": [],
   "source": [
    "import random\n",
    "import time\n",
    "from guidance import models, gen, select"
   ]
  },
  {
   "cell_type": "markdown",
   "id": "30cdb75e-3d96-4720-b98d-512693d328a3",
   "metadata": {},
   "source": [
    "## Load the model and data\n",
    "\n",
    "### Base Model\n",
    "\n",
    "Quantizied to 4 bits using bits and bytes"
   ]
  },
  {
   "cell_type": "code",
   "execution_count": 3,
   "id": "968454da-d3dc-4634-9da6-08e44c6a1515",
   "metadata": {},
   "outputs": [
    {
     "data": {
      "application/vnd.jupyter.widget-view+json": {
       "model_id": "2c5436c2d0564ff6bc4a1e966613eb80",
       "version_major": 2,
       "version_minor": 0
      },
      "text/plain": [
       "Loading checkpoint shards:   0%|          | 0/2 [00:00<?, ?it/s]"
      ]
     },
     "metadata": {},
     "output_type": "display_data"
    }
   ],
   "source": [
    "import torch\n",
    "from transformers import AutoTokenizer, AutoModelForCausalLM, BitsAndBytesConfig\n",
    "\n",
    "base_model_id = \"mistralai/Mistral-7B-v0.1\"\n",
    "bnb_config = BitsAndBytesConfig(\n",
    "    load_in_4bit=True,\n",
    "    bnb_4bit_use_double_quant=True,\n",
    "    bnb_4bit_quant_type=\"nf4\",\n",
    "    bnb_4bit_compute_dtype=torch.bfloat16\n",
    ")\n",
    "\n",
    "base_model = AutoModelForCausalLM.from_pretrained(\n",
    "    base_model_id,  # Mistral, same as before\n",
    "    quantization_config=bnb_config,  # Same quantization config as before\n",
    "    device_map=\"auto\",\n",
    "    trust_remote_code=True,\n",
    ")\n",
    "\n",
    "tokenizer = AutoTokenizer.from_pretrained(base_model_id, add_bos_token=True, trust_remote_code=True)"
   ]
  },
  {
   "cell_type": "markdown",
   "id": "634b3fca-dcb6-44b3-ab8e-a8f073a1046c",
   "metadata": {},
   "source": [
    "### Lora\n"
   ]
  },
  {
   "cell_type": "code",
   "execution_count": 4,
   "id": "24c32316-3201-418e-8fd4-a8a9cd631a84",
   "metadata": {},
   "outputs": [],
   "source": [
    "from peft import PeftModel\n",
    "\n",
    "ft_model = PeftModel.from_pretrained(base_model, \"mistral-discern-finetune/checkpoint-11000\")"
   ]
  },
  {
   "cell_type": "markdown",
   "id": "d97096d3-fe46-4e98-a118-09a663f48e17",
   "metadata": {},
   "source": [
    "### Validation Dataset"
   ]
  },
  {
   "cell_type": "code",
   "execution_count": 5,
   "id": "80f172b4-0435-4a94-a5b5-0f5d801a089f",
   "metadata": {},
   "outputs": [],
   "source": [
    "from datasets import load_dataset\n",
    "\n",
    "eval_dataset = load_dataset(\"json\", data_files='./validation_data.jsonl', split='train')"
   ]
  },
  {
   "cell_type": "markdown",
   "id": "d0bbef17-5060-40f0-b8dd-fccd551b176b",
   "metadata": {},
   "source": [
    "# Inference Test"
   ]
  },
  {
   "cell_type": "code",
   "execution_count": 24,
   "id": "6c1823c0-b274-4887-9096-18cf454af765",
   "metadata": {
    "scrolled": true
   },
   "outputs": [],
   "source": [
    "prompt, origional_answer = random.choice(eval_dataset['document']).split(\"### Solution:\")\n",
    "prompt += \"### Solution:\\r\\n\"\n"
   ]
  },
  {
   "cell_type": "code",
   "execution_count": 7,
   "id": "7e22cadc-0240-432a-88d0-cbbce923fea6",
   "metadata": {},
   "outputs": [
    {
     "name": "stderr",
     "output_type": "stream",
     "text": [
      "Setting `pad_token_id` to `eos_token_id`:2 for open-end generation.\n"
     ]
    },
    {
     "name": "stdout",
     "output_type": "stream",
     "text": [
      "Mistral Anaswer:\n",
      "### Question:\n",
      "You are a Student Web Activity Analyzer developed to support professionals, including Social Workers, School Psychologists, District Administrators, School Safety Specialists, and related roles. Your primary objective is to meticulously evaluate the online activity of K-12 students and identify specific indicators related to their interests and passions. For each identified indicator, provide a JSON object containing:\n",
      "\n",
      "Presence: A value of 1 (if the indicator is present) or 0 (if not). Mark as 1 even if only part of the data aligns with an indicator.\n",
      "Confidence: Provide a confidence level on a scale of 1-10 to indicate your level of certainty in the analysis.\n",
      "Note: Include information on the logic used to decide that certain indicators were identified and a summary of the analyzed web activity.\n",
      "\n",
      "Consider patterns in the data, not just individual searches.\n",
      "\n",
      "Consider that the online activity originates from a school-issued device.\n",
      "\n",
      "If ambiguous use your best judgment, reflect uncertainty in confidence score.\n",
      "\n",
      "Here are the specific indicators for this task:\n",
      "\n",
      "'sports-and-athletics'\n",
      "'environmentalism-and-sustainability'\n",
      "'gaming-and-e-sports'\n",
      "'college-and-career'\n",
      "'cooking-and-food'\n",
      "'reading-and-literature'\n",
      "'writing-and-creative-writing'\n",
      "'science-and-technology'\n",
      "'mathematics-and-statistics'\n",
      "'creative-arts'\n",
      "'animals-and-nature'\n",
      "'history-and-social-studies'\n",
      "\n",
      "\n",
      "### Search Data:\n",
      "['capybara song', '8.2 x -0.5', 'capybara song', 'baby capuchin monkey', 'baby capybara', '5.91 x 2', '11.82 x 2', 'what are multipes of 70', 'what are factors of 70', 'itll be alright', 'bruiss lewis capaldi lyrics', 'phonk', 'only in ohio', 'loudest audio', 'fast food rap', 'the state rap', 'the state rap mr grande', 'state rap', 'state rap mr grande', 'the history of china', 'the history of china chang chang', 'we got to celebrate our differendce', 'monkeytype', 'save your tears the weeknd lyrics', '72 x 6', 'loudest audio', 'saddest meme songs', '742 x 340', '80.9 x 2.6', 's', 'scratch', 'shresthanl@students.osd.wednet.edu', \"it\\\\'ll be alright dean lewis \", 'lewis capaldi bruises', 'how is the name kieth spelt', 'scratch', 'wpm test', 'typing test']\n",
      "\n",
      "### Example Output:\n",
      "{\n",
      "  \"sports-and-athletics\": \"1\",\n",
      "  \"sports-and-athletics-confidence\": \"6\",\n",
      "  \"environmentalism-and-sustainability\": \"0\",\n",
      "  \"environmentalism-and-sustainability-confidence\": \"8\",\n",
      "  \"gaming-and-e-sports\": \"0\",\n",
      "  \"gaming-and-e-sports-confidence\": \"10\",\n",
      "  \"college-and-career\": \"1\",\n",
      "  \"college-and-career-confidence\": \"7\",\n",
      "  \"cooking-and-food\": \"1\",\n",
      "  \"cooking-and-food-confidence\": \"7\",\n",
      "  \"reading-and-literature\": \"0\",\n",
      "  \"reading-and-literature-confidence\": \"7\",\n",
      "  \"writing-and-creative-writing\": \"1\",\n",
      "  \"writing-and-creative-writing-confidence\": \"8\",\n",
      "  \"science-and-technology\": \"0\",\n",
      "  \"science-and-technology-confidence\": \"10\",\n",
      "  \"mathematics-and-statistics\": \"1\",\n",
      "  \"mathematics-and-statistics-confidence\": \"6\",\n",
      "  \"creative-arts\": \"1\",\n",
      "  \"creative-arts-confidence\": \"8\",\n",
      "  \"animals-and-nature\": \"1\",\n",
      "  \"animals-and-nature-confidence\": \"9\",\n",
      "  \"history-and-social-studies\": \"0\",\n",
      "  \"history-and-social-studies-confidence\": \"9\",\n",
      "  \"note\": \"Detailed Summary Goes Here \"\n",
      "}\n",
      "\n",
      "### Solution:\n",
      "{  \"sports-and-athletics\": \"0.0\",  \"sports-and-athletics-confidence\": \"10.0\",  \"environmentalism-and-sustainability\": \"0.0\",  \"environmentalism-and-sustainability-confidence\": \"10.0\",  \"gaming-and-e-sports\": \"0.0\",  \"gaming-and-e-sports-confidence\": \"10.0\",  \"college-and-career\": \"0.0\",  \"college-and-career-confidence\": \"10.0\",  \"cooking-and-food\": \"0.0\",  \"cooking-and-food-confidence\": \"10.0\",  \"reading-and-literature\": \"0.0\",  \"reading-and-literature-confidence\": \"10.0\",  \"writing-and-creative-writing\": \"0.0\",  \"writing-and-creative-writing-confidence\": \"10.0\",  \"science-and-technology\": \"0.0\",  \"science-and-technology-confidence\": \"10.0\",  \"mathematics-and-statistics\": \"1.0\",  \"mathematics-and-statistics-confidence\": \"8.0\",  \"history-and-social-studies\": \"1.0\",  \"history-and-social-studies-confidence\": \"7.0\",  \"creative-arts\": \"1.0\",  \"creative-arts-confidence\": \"7.0\",  \"animals-and-nature\": \"1.0\",  \"animals-and-nature-confidence\": \"9.0\",  \"note\": \"The student showed interest in animals through repeated searches about capybaras and baby capuchins, indicating an affinity for animals and nature. Mathematics was indicated by multiple arithmetic operations and questions about multiples and factors. Creative arts were suggested by searches related to music and lyrics. History and social studies were indicated by a search about the history of China. No clear patterns were found for the other categories.\"\n",
      "}\n",
      "\n",
      "### Explanation:\n",
      "The student's web activity shows a consistent pattern of searching for animal content, particularly capybaras, which suggests an interest in animals and nature. There are also several mathematical calculations, indicating an engagement with mathematics. Searches related to music, such as song lyrics and artists, suggest an interest in creative arts. The search for 'the history of china' indicates some curiosity about history and social studies. No clear patterns were found for the other categories.\n",
      "\n",
      "Origional Answer\n",
      "\n",
      "{\n",
      "  \"sports-and-athletics\": \"0.0\",\n",
      "  \"sports-and-athletics-confidence\": \"10.0\",\n",
      "  \"environmentalism-and-sustainability\": \"0.0\",\n",
      "  \"environmentalism-and-sustainability-confidence\": \"10.0\",\n",
      "  \"gaming-and-e-sports\": \"1.0\",\n",
      "  \"gaming-and-e-sports-confidence\": \"4.0\",\n",
      "  \"college-and-career\": \"0.0\",\n",
      "  \"college-and-career-confidence\": \"10.0\",\n",
      "  \"cooking-and-food\": \"0.0\",\n",
      "  \"cooking-and-food-confidence\": \"10.0\",\n",
      "  \"reading-and-literature\": \"0.0\",\n",
      "  \"reading-and-literature-confidence\": \"10.0\",\n",
      "  \"writing-and-creative-writing\": \"1.0\",\n",
      "  \"writing-and-creative-writing-confidence\": \"3.0\",\n",
      "  \"science-and-technology\": \"0.0\",\n",
      "  \"science-and-technology-confidence\": \"10.0\",\n",
      "  \"mathematics-and-statistics\": \"1.0\",\n",
      "  \"mathematics-and-statistics-confidence\": \"8.0\",\n",
      "  \"history-and-social-studies\": \"1.0\",\n",
      "  \"history-and-social-studies-confidence\": \"6.0\",\n",
      "  \"creative-arts\": \"0.0\",\n",
      "  \"creative-arts-confidence\": \"10.0\",\n",
      "  \"animals-and-nature\": \"1.0\",\n",
      "  \"animals-and-nature-confidence\": \"7.0\",\n",
      "  \"note\": \"The student showed a repeated interest in capybaras and other animals, indicating an interest in animals and nature. There were multiple mathematical calculations, suggesting an engagement with mathematics. The searches for 'scratch' and 'monkeytype' suggest an interest in gaming and possibly coding, as Scratch is a coding platform for children. The presence of song lyrics and searches related to music, such as 'phonk' and 'saddest meme songs,' could indicate an interest in writing and creative writing, but with low confidence due to the lack of direct evidence of creative writing activity. There was also a search related to the history of China, indicating some interest in history and social studies.\"\n",
      "}\n",
      "Time taken: 46.52252697944641 seconds\n"
     ]
    }
   ],
   "source": [
    "import time \n",
    "\n",
    "start_time = time.time()\n",
    "\n",
    "model_input = tokenizer(prompt, return_tensors=\"pt\").to(\"cuda\")\n",
    "\n",
    "ft_model.eval()\n",
    "with torch.no_grad():\n",
    "    print(\"Mistral Anaswer:\")\n",
    "    print(tokenizer.decode(ft_model.generate(**model_input, max_new_tokens=1000, repetition_penalty=1.15)[0], skip_special_tokens=True))\n",
    "    print(\"\\nOrigional Answer\")\n",
    "    print(origional_answer)\n",
    "\n",
    "end_time = time.time()\n",
    "total_time = end_time - start_time\n",
    "print(f\"Time taken: {total_time} seconds\")"
   ]
  },
  {
   "cell_type": "markdown",
   "id": "0900dfad-54fc-41d4-bdda-ecbe6ea1a9d4",
   "metadata": {},
   "source": [
    "# Microsoft Guidance\n",
    "\n",
    "Guidance is a system that manipulates the logprops and token selection to make the output conform to a template"
   ]
  },
  {
   "cell_type": "code",
   "execution_count": 8,
   "id": "38cda7ad-36df-4b81-9640-9381dd7a2520",
   "metadata": {},
   "outputs": [],
   "source": [
    "guidance_llm = models.Transformers(ft_model, tokenizer)"
   ]
  },
  {
   "cell_type": "code",
   "execution_count": 25,
   "id": "1e1bc52b-7ff0-406a-8377-66d3ab5aea19",
   "metadata": {},
   "outputs": [
    {
     "data": {
      "text/html": [
       "<pre style='margin: 0px; padding: 0px; padding-left: 8px; margin-left: -8px; border-radius: 0px; border-left: 1px solid rgba(127, 127, 127, 0.2); white-space: pre-wrap; font-family: ColfaxAI, Arial; font-size: 15px; line-height: 23px;'>### Question:\n",
       "You are a Student Web Activity Analyzer developed to support professionals, including Social Workers, School Psychologists, District Administrators, School Safety Specialists, and related roles. Your primary objective is to meticulously evaluate the online activity of K-12 students and identify specific indicators related to their interests and passions. For each identified indicator, provide a JSON object containing:\n",
       "\n",
       "Presence: A value of 1 (if the indicator is present) or 0 (if not). Mark as 1 even if only part of the data aligns with an indicator.\n",
       "Confidence: Provide a confidence level on a scale of 1-10 to indicate your level of certainty in the analysis.\n",
       "Note: Include information on the logic used to decide that certain indicators were identified and a summary of the analyzed web activity.\n",
       "\n",
       "Consider patterns in the data, not just individual searches.\n",
       "\n",
       "Consider that the online activity originates from a school-issued device.\n",
       "\n",
       "If ambiguous use your best judgment, reflect uncertainty in confidence score.\n",
       "\n",
       "Here are the specific indicators for this task:\r\n",
       "\r\n",
       "&#x27;sports-and-athletics&#x27;\r\n",
       "&#x27;environmentalism-and-sustainability&#x27;\r\n",
       "&#x27;gaming-and-e-sports&#x27;\r\n",
       "&#x27;college-and-career&#x27;\r\n",
       "&#x27;cooking-and-food&#x27;\r\n",
       "&#x27;reading-and-literature&#x27;\r\n",
       "&#x27;writing-and-creative-writing&#x27;\r\n",
       "&#x27;science-and-technology&#x27;\r\n",
       "&#x27;mathematics-and-statistics&#x27;\r\n",
       "&#x27;creative-arts&#x27;\r\n",
       "&#x27;animals-and-nature&#x27;\r\n",
       "&#x27;history-and-social-studies&#x27;\r\n",
       "\n",
       "\n",
       "### Search Data:\n",
       "[&#x27;cool math games&#x27;, &#x27;ixl&#x27;, &#x27;cool math games&#x27;, &#x27;ixl&#x27;, &#x27;ixl&#x27;]\n",
       "\n",
       "### Example Output:\n",
       "{\r\n",
       "  &quot;sports-and-athletics&quot;: &quot;1&quot;,\r\n",
       "  &quot;sports-and-athletics-confidence&quot;: &quot;6&quot;,\r\n",
       "  &quot;environmentalism-and-sustainability&quot;: &quot;0&quot;,\r\n",
       "  &quot;environmentalism-and-sustainability-confidence&quot;: &quot;8&quot;,\r\n",
       "  &quot;gaming-and-e-sports&quot;: &quot;0&quot;,\r\n",
       "  &quot;gaming-and-e-sports-confidence&quot;: &quot;10&quot;,\r\n",
       "  &quot;college-and-career&quot;: &quot;1&quot;,\r\n",
       "  &quot;college-and-career-confidence&quot;: &quot;7&quot;,\r\n",
       "  &quot;cooking-and-food&quot;: &quot;1&quot;,\r\n",
       "  &quot;cooking-and-food-confidence&quot;: &quot;7&quot;,\r\n",
       "  &quot;reading-and-literature&quot;: &quot;0&quot;,\r\n",
       "  &quot;reading-and-literature-confidence&quot;: &quot;7&quot;,\r\n",
       "  &quot;writing-and-creative-writing&quot;: &quot;1&quot;,\r\n",
       "  &quot;writing-and-creative-writing-confidence&quot;: &quot;8&quot;,\r\n",
       "  &quot;science-and-technology&quot;: &quot;0&quot;,\r\n",
       "  &quot;science-and-technology-confidence&quot;: &quot;10&quot;,\r\n",
       "  &quot;mathematics-and-statistics&quot;: &quot;1&quot;,\r\n",
       "  &quot;mathematics-and-statistics-confidence&quot;: &quot;6&quot;,\r\n",
       "  &quot;creative-arts&quot;: &quot;1&quot;,\r\n",
       "  &quot;creative-arts-confidence&quot;: &quot;8&quot;,\r\n",
       "  &quot;animals-and-nature&quot;: &quot;1&quot;,\r\n",
       "  &quot;animals-and-nature-confidence&quot;: &quot;9&quot;,\r\n",
       "  &quot;history-and-social-studies&quot;: &quot;0&quot;,\r\n",
       "  &quot;history-and-social-studies-confidence&quot;: &quot;9&quot;,\r\n",
       "  &quot;note&quot;: &quot;Detailed Summary Goes Here &quot;\r\n",
       "}\n",
       "\n",
       "### Solution:\r\n",
       "{\n",
       "  &quot;sports-and-athletics&quot;:<span style='background-color: rgba(0, 165, 0, 0.15); border-radius: 3px;' title='0.0'> &quot;</span><span style='background-color: rgba(0, 165, 0, 0.15); border-radius: 3px;' title='0.0'>0</span><span style='background-color: rgba(0, 165, 0, 0.15); border-radius: 3px;' title='0.0'>.</span><span style='background-color: rgba(0, 165, 0, 0.15); border-radius: 3px;' title='0.0'>0</span>&quot;,\n",
       "  &quot;sports-and-athletics-confidence&quot;:<span style='background-color: rgba(0, 165, 0, 0.15); border-radius: 3px;' title='0.0'> &quot;</span><span style='background-color: rgba(0, 165, 0, 0.15); border-radius: 3px;' title='0.0'>1</span><span style='background-color: rgba(0, 165, 0, 0.15); border-radius: 3px;' title='0.0'>0</span><span style='background-color: rgba(0, 165, 0, 0.15); border-radius: 3px;' title='0.0'>.</span><span style='background-color: rgba(0, 165, 0, 0.15); border-radius: 3px;' title='0.0'>0</span>&quot;,\n",
       "  &quot;environmentalism-and-sustainability&quot;:<span style='background-color: rgba(0, 165, 0, 0.15); border-radius: 3px;' title='0.0'> &quot;</span><span style='background-color: rgba(0, 165, 0, 0.15); border-radius: 3px;' title='0.0'>0</span><span style='background-color: rgba(0, 165, 0, 0.15); border-radius: 3px;' title='0.0'>.</span><span style='background-color: rgba(0, 165, 0, 0.15); border-radius: 3px;' title='0.0'>0</span>&quot;,\n",
       "  &quot;environmentalism-and-sustainability-confidence&quot;:<span style='background-color: rgba(0, 165, 0, 0.15); border-radius: 3px;' title='0.0'> &quot;</span><span style='background-color: rgba(0, 165, 0, 0.15); border-radius: 3px;' title='0.0'>1</span><span style='background-color: rgba(0, 165, 0, 0.15); border-radius: 3px;' title='0.0'>0</span><span style='background-color: rgba(0, 165, 0, 0.15); border-radius: 3px;' title='0.0'>.</span><span style='background-color: rgba(0, 165, 0, 0.15); border-radius: 3px;' title='0.0'>0</span>&quot;,\n",
       "  &quot;gaming-and-e-sports&quot;:<span style='background-color: rgba(0, 165, 0, 0.15); border-radius: 3px;' title='0.0'> &quot;</span><span style='background-color: rgba(0, 165, 0, 0.15); border-radius: 3px;' title='0.0'>1</span><span style='background-color: rgba(0, 165, 0, 0.15); border-radius: 3px;' title='0.0'>.</span><span style='background-color: rgba(0, 165, 0, 0.15); border-radius: 3px;' title='0.0'>0</span>&quot;,\n",
       "  &quot;gaming-and-e-sports-confidence&quot;:<span style='background-color: rgba(0, 165, 0, 0.15); border-radius: 3px;' title='0.0'> &quot;</span><span style='background-color: rgba(0, 165, 0, 0.15); border-radius: 3px;' title='0.0'>5</span><span style='background-color: rgba(0, 165, 0, 0.15); border-radius: 3px;' title='0.0'>.</span><span style='background-color: rgba(0, 165, 0, 0.15); border-radius: 3px;' title='0.0'>0</span>&quot;,\n",
       "  &quot;college-and-career&quot;:<span style='background-color: rgba(0, 165, 0, 0.15); border-radius: 3px;' title='0.0'> &quot;</span><span style='background-color: rgba(0, 165, 0, 0.15); border-radius: 3px;' title='0.0'>0</span><span style='background-color: rgba(0, 165, 0, 0.15); border-radius: 3px;' title='0.0'>.</span><span style='background-color: rgba(0, 165, 0, 0.15); border-radius: 3px;' title='0.0'>0</span>&quot;,\n",
       "  &quot;college-and-career-confidence&quot;:<span style='background-color: rgba(0, 165, 0, 0.15); border-radius: 3px;' title='0.0'> &quot;</span><span style='background-color: rgba(0, 165, 0, 0.15); border-radius: 3px;' title='0.0'>1</span><span style='background-color: rgba(0, 165, 0, 0.15); border-radius: 3px;' title='0.0'>0</span><span style='background-color: rgba(0, 165, 0, 0.15); border-radius: 3px;' title='0.0'>.</span><span style='background-color: rgba(0, 165, 0, 0.15); border-radius: 3px;' title='0.0'>0</span>&quot;,\n",
       "  &quot;cooking-and-food&quot;:<span style='background-color: rgba(0, 165, 0, 0.15); border-radius: 3px;' title='0.0'> &quot;</span><span style='background-color: rgba(0, 165, 0, 0.15); border-radius: 3px;' title='0.0'>0</span><span style='background-color: rgba(0, 165, 0, 0.15); border-radius: 3px;' title='0.0'>.</span><span style='background-color: rgba(0, 165, 0, 0.15); border-radius: 3px;' title='0.0'>0</span>&quot;,\n",
       "  &quot;cooking-and-food-confidence&quot;:<span style='background-color: rgba(0, 165, 0, 0.15); border-radius: 3px;' title='0.0'> &quot;</span><span style='background-color: rgba(0, 165, 0, 0.15); border-radius: 3px;' title='0.0'>1</span><span style='background-color: rgba(0, 165, 0, 0.15); border-radius: 3px;' title='0.0'>0</span><span style='background-color: rgba(0, 165, 0, 0.15); border-radius: 3px;' title='0.0'>.</span><span style='background-color: rgba(0, 165, 0, 0.15); border-radius: 3px;' title='0.0'>0</span>&quot;,\n",
       "  &quot;reading-and-literature&quot;:<span style='background-color: rgba(0, 165, 0, 0.15); border-radius: 3px;' title='0.0'> &quot;</span><span style='background-color: rgba(0, 165, 0, 0.15); border-radius: 3px;' title='0.0'>0</span><span style='background-color: rgba(0, 165, 0, 0.15); border-radius: 3px;' title='0.0'>.</span><span style='background-color: rgba(0, 165, 0, 0.15); border-radius: 3px;' title='0.0'>0</span>&quot;,\n",
       "  &quot;reading-and-literature-confidence&quot;:<span style='background-color: rgba(0, 165, 0, 0.15); border-radius: 3px;' title='0.0'> &quot;</span><span style='background-color: rgba(0, 165, 0, 0.15); border-radius: 3px;' title='0.0'>1</span><span style='background-color: rgba(0, 165, 0, 0.15); border-radius: 3px;' title='0.0'>0</span><span style='background-color: rgba(0, 165, 0, 0.15); border-radius: 3px;' title='0.0'>.</span><span style='background-color: rgba(0, 165, 0, 0.15); border-radius: 3px;' title='0.0'>0</span>&quot;,\n",
       "  &quot;writing-and-creative-writing&quot;:<span style='background-color: rgba(0, 165, 0, 0.15); border-radius: 3px;' title='0.0'> &quot;</span><span style='background-color: rgba(0, 165, 0, 0.15); border-radius: 3px;' title='0.0'>0</span><span style='background-color: rgba(0, 165, 0, 0.15); border-radius: 3px;' title='0.0'>.</span><span style='background-color: rgba(0, 165, 0, 0.15); border-radius: 3px;' title='0.0'>0</span>&quot;,\n",
       "  &quot;writing-and-creative-writing-confidence&quot;:<span style='background-color: rgba(0, 165, 0, 0.15); border-radius: 3px;' title='0.0'> &quot;</span><span style='background-color: rgba(0, 165, 0, 0.15); border-radius: 3px;' title='0.0'>1</span><span style='background-color: rgba(0, 165, 0, 0.15); border-radius: 3px;' title='0.0'>0</span><span style='background-color: rgba(0, 165, 0, 0.15); border-radius: 3px;' title='0.0'>.</span><span style='background-color: rgba(0, 165, 0, 0.15); border-radius: 3px;' title='0.0'>0</span>&quot;,\n",
       "  &quot;science-and-technology&quot;:<span style='background-color: rgba(0, 165, 0, 0.15); border-radius: 3px;' title='0.0'> &quot;</span><span style='background-color: rgba(0, 165, 0, 0.15); border-radius: 3px;' title='0.0'>0</span><span style='background-color: rgba(0, 165, 0, 0.15); border-radius: 3px;' title='0.0'>.</span><span style='background-color: rgba(0, 165, 0, 0.15); border-radius: 3px;' title='0.0'>0</span>&quot;,\n",
       "  &quot;science-and-technology-confidence&quot;:<span style='background-color: rgba(0, 165, 0, 0.15); border-radius: 3px;' title='0.0'> &quot;</span><span style='background-color: rgba(0, 165, 0, 0.15); border-radius: 3px;' title='0.0'>1</span><span style='background-color: rgba(0, 165, 0, 0.15); border-radius: 3px;' title='0.0'>0</span><span style='background-color: rgba(0, 165, 0, 0.15); border-radius: 3px;' title='0.0'>.</span><span style='background-color: rgba(0, 165, 0, 0.15); border-radius: 3px;' title='0.0'>0</span>&quot;,\n",
       "  &quot;mathematics-and-statistics&quot;:<span style='background-color: rgba(0, 165, 0, 0.15); border-radius: 3px;' title='0.0'> &quot;</span><span style='background-color: rgba(0, 165, 0, 0.15); border-radius: 3px;' title='0.0'>1</span><span style='background-color: rgba(0, 165, 0, 0.15); border-radius: 3px;' title='0.0'>.</span><span style='background-color: rgba(0, 165, 0, 0.15); border-radius: 3px;' title='0.0'>0</span>&quot;,\n",
       "  &quot;mathematics-and-statistics-confidence&quot;:<span style='background-color: rgba(0, 165, 0, 0.15); border-radius: 3px;' title='0.0'> &quot;</span><span style='background-color: rgba(0, 165, 0, 0.15); border-radius: 3px;' title='0.0'>9</span><span style='background-color: rgba(0, 165, 0, 0.15); border-radius: 3px;' title='0.0'>.</span><span style='background-color: rgba(0, 165, 0, 0.15); border-radius: 3px;' title='0.0'>0</span>&quot;,\n",
       "  &quot;creative-arts&quot;:<span style='background-color: rgba(0, 165, 0, 0.15); border-radius: 3px;' title='0.0'> &quot;</span><span style='background-color: rgba(0, 165, 0, 0.15); border-radius: 3px;' title='0.0'>0</span><span style='background-color: rgba(0, 165, 0, 0.15); border-radius: 3px;' title='0.0'>.</span><span style='background-color: rgba(0, 165, 0, 0.15); border-radius: 3px;' title='0.0'>0</span>&quot;,\n",
       "  &quot;creative-arts-confidence&quot;:<span style='background-color: rgba(0, 165, 0, 0.15); border-radius: 3px;' title='0.0'> &quot;</span><span style='background-color: rgba(0, 165, 0, 0.15); border-radius: 3px;' title='0.0'>1</span><span style='background-color: rgba(0, 165, 0, 0.15); border-radius: 3px;' title='0.0'>0</span><span style='background-color: rgba(0, 165, 0, 0.15); border-radius: 3px;' title='0.0'>.</span><span style='background-color: rgba(0, 165, 0, 0.15); border-radius: 3px;' title='0.0'>0</span>&quot;,\n",
       "  &quot;animals-and-nature&quot;:<span style='background-color: rgba(0, 165, 0, 0.15); border-radius: 3px;' title='0.0'> &quot;</span><span style='background-color: rgba(0, 165, 0, 0.15); border-radius: 3px;' title='0.0'>0</span><span style='background-color: rgba(0, 165, 0, 0.15); border-radius: 3px;' title='0.0'>.</span><span style='background-color: rgba(0, 165, 0, 0.15); border-radius: 3px;' title='0.0'>0</span>&quot;,\n",
       "  &quot;animals-and-nature-confidence&quot;:<span style='background-color: rgba(0, 165, 0, 0.15); border-radius: 3px;' title='0.0'> &quot;</span><span style='background-color: rgba(0, 165, 0, 0.15); border-radius: 3px;' title='0.0'>1</span><span style='background-color: rgba(0, 165, 0, 0.15); border-radius: 3px;' title='0.0'>0</span><span style='background-color: rgba(0, 165, 0, 0.15); border-radius: 3px;' title='0.0'>.</span><span style='background-color: rgba(0, 165, 0, 0.15); border-radius: 3px;' title='0.0'>0</span>&quot;,\n",
       "  &quot;history-and-social-studies&quot;:<span style='background-color: rgba(0, 165, 0, 0.15); border-radius: 3px;' title='0.0'> &quot;</span><span style='background-color: rgba(0, 165, 0, 0.15); border-radius: 3px;' title='0.0'>0</span><span style='background-color: rgba(0, 165, 0, 0.15); border-radius: 3px;' title='0.0'>.</span><span style='background-color: rgba(0, 165, 0, 0.15); border-radius: 3px;' title='0.0'>0</span>&quot;,\n",
       "  &quot;history-and-social-studies-confidence&quot;:<span style='background-color: rgba(0, 165, 0, 0.15); border-radius: 3px;' title='0.0'> &quot;</span><span style='background-color: rgba(0, 165, 0, 0.15); border-radius: 3px;' title='0.0'>1</span><span style='background-color: rgba(0, 165, 0, 0.15); border-radius: 3px;' title='0.0'>0</span><span style='background-color: rgba(0, 165, 0, 0.15); border-radius: 3px;' title='0.0'>.</span><span style='background-color: rgba(0, 165, 0, 0.15); border-radius: 3px;' title='0.0'>0</span>&quot;,\n",
       "  &quot;note&quot;:<span style='background-color: rgba(0, 165, 0, 0.15); border-radius: 3px;' title='0.0'> &quot;</span><span style='background-color: rgba(0, 165, 0, 0.15); border-radius: 3px;' title='0.0'>The</span><span style='background-color: rgba(0, 165, 0, 0.15); border-radius: 3px;' title='0.0'> student</span><span style='background-color: rgba(0, 165, 0, 0.15); border-radius: 3px;' title='0.0'>&#x27;</span><span style='background-color: rgba(0, 165, 0, 0.15); border-radius: 3px;' title='0.0'>s</span><span style='background-color: rgba(0, 165, 0, 0.15); border-radius: 3px;' title='0.0'> online</span><span style='background-color: rgba(0, 165, 0, 0.15); border-radius: 3px;' title='0.0'> activity</span><span style='background-color: rgba(0, 165, 0, 0.15); border-radius: 3px;' title='0.0'> shows</span><span style='background-color: rgba(0, 165, 0, 0.15); border-radius: 3px;' title='0.0'> repeated</span><span style='background-color: rgba(0, 165, 0, 0.15); border-radius: 3px;' title='0.0'> sear</span><span style='background-color: rgba(0, 165, 0, 0.15); border-radius: 3px;' title='0.0'>ches</span><span style='background-color: rgba(0, 165, 0, 0.15); border-radius: 3px;' title='0.0'> for</span><span style='background-color: rgba(0, 165, 0, 0.15); border-radius: 3px;' title='0.0'> &#x27;</span><span style='background-color: rgba(0, 165, 0, 0.15); border-radius: 3px;' title='0.0'>c</span><span style='background-color: rgba(0, 165, 0, 0.15); border-radius: 3px;' title='0.0'>ool</span><span style='background-color: rgba(0, 165, 0, 0.15); border-radius: 3px;' title='0.0'> math</span><span style='background-color: rgba(0, 165, 0, 0.15); border-radius: 3px;' title='0.0'> games</span><span style='background-color: rgba(0, 165, 0, 0.15); border-radius: 3px;' title='0.0'>&#x27;</span><span style='background-color: rgba(0, 165, 0, 0.15); border-radius: 3px;' title='0.0'> and</span><span style='background-color: rgba(0, 165, 0, 0.15); border-radius: 3px;' title='0.0'> use</span><span style='background-color: rgba(0, 165, 0, 0.15); border-radius: 3px;' title='0.0'> of</span><span style='background-color: rgba(0, 165, 0, 0.15); border-radius: 3px;' title='0.0'> &#x27;</span><span style='background-color: rgba(0, 165, 0, 0.15); border-radius: 3px;' title='0.0'>ix</span><span style='background-color: rgba(0, 165, 0, 0.15); border-radius: 3px;' title='0.0'>l</span><span style='background-color: rgba(0, 165, 0, 0.15); border-radius: 3px;' title='0.0'>,&#x27;</span><span style='background-color: rgba(0, 165, 0, 0.15); border-radius: 3px;' title='0.0'> which</span><span style='background-color: rgba(0, 165, 0, 0.15); border-radius: 3px;' title='0.0'> is</span><span style='background-color: rgba(0, 165, 0, 0.15); border-radius: 3px;' title='0.0'> an</span><span style='background-color: rgba(0, 165, 0, 0.15); border-radius: 3px;' title='0.0'> educational</span><span style='background-color: rgba(0, 165, 0, 0.15); border-radius: 3px;' title='0.0'> platform</span><span style='background-color: rgba(0, 165, 0, 0.15); border-radius: 3px;' title='0.0'> that</span><span style='background-color: rgba(0, 165, 0, 0.15); border-radius: 3px;' title='0.0'> often</span><span style='background-color: rgba(0, 165, 0, 0.15); border-radius: 3px;' title='0.0'> includes</span><span style='background-color: rgba(0, 165, 0, 0.15); border-radius: 3px;' title='0.0'> math</span><span style='background-color: rgba(0, 165, 0, 0.15); border-radius: 3px;' title='0.0'> games</span><span style='background-color: rgba(0, 165, 0, 0.15); border-radius: 3px;' title='0.0'>.</span><span style='background-color: rgba(0, 165, 0, 0.15); border-radius: 3px;' title='0.0'> This</span><span style='background-color: rgba(0, 165, 0, 0.15); border-radius: 3px;' title='0.0'> suggests</span><span style='background-color: rgba(0, 165, 0, 0.15); border-radius: 3px;' title='0.0'> a</span><span style='background-color: rgba(0, 165, 0, 0.15); border-radius: 3px;' title='0.0'> strong</span><span style='background-color: rgba(0, 165, 0, 0.15); border-radius: 3px;' title='0.0'> interest</span><span style='background-color: rgba(0, 165, 0, 0.15); border-radius: 3px;' title='0.0'> in</span><span style='background-color: rgba(0, 165, 0, 0.15); border-radius: 3px;' title='0.0'> math</span><span style='background-color: rgba(0, 165, 0, 0.15); border-radius: 3px;' title='0.0'>-</span><span style='background-color: rgba(0, 165, 0, 0.15); border-radius: 3px;' title='0.0'>related</span><span style='background-color: rgba(0, 165, 0, 0.15); border-radius: 3px;' title='0.0'> games</span><span style='background-color: rgba(0, 165, 0, 0.15); border-radius: 3px;' title='0.0'>,</span><span style='background-color: rgba(0, 165, 0, 0.15); border-radius: 3px;' title='0.0'> hence</span><span style='background-color: rgba(0, 165, 0, 0.15); border-radius: 3px;' title='0.0'> the</span><span style='background-color: rgba(0, 165, 0, 0.15); border-radius: 3px;' title='0.0'> presence</span><span style='background-color: rgba(0, 165, 0, 0.15); border-radius: 3px;' title='0.0'> of</span><span style='background-color: rgba(0, 165, 0, 0.15); border-radius: 3px;' title='0.0'> &#x27;</span><span style='background-color: rgba(0, 165, 0, 0.15); border-radius: 3px;' title='0.0'>math</span><span style='background-color: rgba(0, 165, 0, 0.15); border-radius: 3px;' title='0.0'>emat</span><span style='background-color: rgba(0, 165, 0, 0.15); border-radius: 3px;' title='0.0'>ics</span><span style='background-color: rgba(0, 165, 0, 0.15); border-radius: 3px;' title='0.0'>-</span><span style='background-color: rgba(0, 165, 0, 0.15); border-radius: 3px;' title='0.0'>and</span><span style='background-color: rgba(0, 165, 0, 0.15); border-radius: 3px;' title='0.0'>-</span><span style='background-color: rgba(0, 165, 0, 0.15); border-radius: 3px;' title='0.0'>stat</span><span style='background-color: rgba(0, 165, 0, 0.15); border-radius: 3px;' title='0.0'>istics</span><span style='background-color: rgba(0, 165, 0, 0.15); border-radius: 3px;' title='0.0'>&#x27;</span><span style='background-color: rgba(0, 165, 0, 0.15); border-radius: 3px;' title='0.0'> is</span><span style='background-color: rgba(0, 165, 0, 0.15); border-radius: 3px;' title='0.0'> marked</span><span style='background-color: rgba(0, 165, 0, 0.15); border-radius: 3px;' title='0.0'> as</span><span style='background-color: rgba(0, 165, 0, 0.15); border-radius: 3px;' title='0.0'> </span><span style='background-color: rgba(0, 165, 0, 0.15); border-radius: 3px;' title='0.0'>1</span><span style='background-color: rgba(0, 165, 0, 0.15); border-radius: 3px;' title='0.0'> with</span><span style='background-color: rgba(0, 165, 0, 0.15); border-radius: 3px;' title='0.0'> high</span><span style='background-color: rgba(0, 165, 0, 0.15); border-radius: 3px;' title='0.0'> confidence</span><span style='background-color: rgba(0, 165, 0, 0.15); border-radius: 3px;' title='0.0'>.</span><span style='background-color: rgba(0, 165, 0, 0.15); border-radius: 3px;' title='0.0'> The</span><span style='background-color: rgba(0, 165, 0, 0.15); border-radius: 3px;' title='0.0'> term</span><span style='background-color: rgba(0, 165, 0, 0.15); border-radius: 3px;' title='0.0'> &#x27;</span><span style='background-color: rgba(0, 165, 0, 0.15); border-radius: 3px;' title='0.0'>c</span><span style='background-color: rgba(0, 165, 0, 0.15); border-radius: 3px;' title='0.0'>ool</span><span style='background-color: rgba(0, 165, 0, 0.15); border-radius: 3px;' title='0.0'> math</span><span style='background-color: rgba(0, 165, 0, 0.15); border-radius: 3px;' title='0.0'> games</span><span style='background-color: rgba(0, 165, 0, 0.15); border-radius: 3px;' title='0.0'>&#x27;</span><span style='background-color: rgba(0, 165, 0, 0.15); border-radius: 3px;' title='0.0'> could</span><span style='background-color: rgba(0, 165, 0, 0.15); border-radius: 3px;' title='0.0'> also</span><span style='background-color: rgba(0, 165, 0, 0.15); border-radius: 3px;' title='0.0'> imply</span><span style='background-color: rgba(0, 165, 0, 0.15); border-radius: 3px;' title='0.0'> an</span><span style='background-color: rgba(0, 165, 0, 0.15); border-radius: 3px;' title='0.0'> interest</span><span style='background-color: rgba(0, 165, 0, 0.15); border-radius: 3px;' title='0.0'> in</span><span style='background-color: rgba(0, 165, 0, 0.15); border-radius: 3px;' title='0.0'> gaming</span><span style='background-color: rgba(0, 165, 0, 0.15); border-radius: 3px;' title='0.0'>,</span><span style='background-color: rgba(0, 165, 0, 0.15); border-radius: 3px;' title='0.0'> but</span><span style='background-color: rgba(0, 165, 0, 0.15); border-radius: 3px;' title='0.0'> without</span><span style='background-color: rgba(0, 165, 0, 0.15); border-radius: 3px;' title='0.0'> more</span><span style='background-color: rgba(0, 165, 0, 0.15); border-radius: 3px;' title='0.0'> context</span><span style='background-color: rgba(0, 165, 0, 0.15); border-radius: 3px;' title='0.0'>,</span><span style='background-color: rgba(0, 165, 0, 0.15); border-radius: 3px;' title='0.0'> the</span><span style='background-color: rgba(0, 165, 0, 0.15); border-radius: 3px;' title='0.0'> confidence</span><span style='background-color: rgba(0, 165, 0, 0.15); border-radius: 3px;' title='0.0'> is</span><span style='background-color: rgba(0, 165, 0, 0.15); border-radius: 3px;' title='0.0'> moderate</span><span style='background-color: rgba(0, 165, 0, 0.15); border-radius: 3px;' title='0.0'>.</span><span style='background-color: rgba(0, 165, 0, 0.15); border-radius: 3px;' title='0.0'> No</span><span style='background-color: rgba(0, 165, 0, 0.15); border-radius: 3px;' title='0.0'> other</span><span style='background-color: rgba(0, 165, 0, 0.15); border-radius: 3px;' title='0.0'> indic</span><span style='background-color: rgba(0, 165, 0, 0.15); border-radius: 3px;' title='0.0'>ators</span><span style='background-color: rgba(0, 165, 0, 0.15); border-radius: 3px;' title='0.0'> were</span><span style='background-color: rgba(0, 165, 0, 0.15); border-radius: 3px;' title='0.0'> present</span><span style='background-color: rgba(0, 165, 0, 0.15); border-radius: 3px;' title='0.0'> in</span><span style='background-color: rgba(0, 165, 0, 0.15); border-radius: 3px;' title='0.0'> the</span><span style='background-color: rgba(0, 165, 0, 0.15); border-radius: 3px;' title='0.0'> data</span><span style='background-color: rgba(0, 165, 0, 0.15); border-radius: 3px;' title='0.0'> provided</span>.&quot;\n",
       "<span style='background-color: rgba(0, 165, 0, 0.15); border-radius: 3px;' title='0.0'>}</span></pre>"
      ],
      "text/plain": [
       "<IPython.core.display.HTML object>"
      ]
     },
     "metadata": {},
     "output_type": "display_data"
    },
    {
     "name": "stdout",
     "output_type": "stream",
     "text": [
      "Time taken: 20.007960319519043 seconds\n"
     ]
    }
   ],
   "source": [
    "import time \n",
    "\n",
    "start_time = time.time()\n",
    "\n",
    "def generate_number():\n",
    "    return gen(regex='[0-9\\.]+', temperature=0.0, stop='\"')\n",
    "\n",
    "prompted = guidance_llm + prompt\n",
    "prompted += f\"\"\"{{\n",
    "  \"sports-and-athletics\": \"{generate_number()}\",\n",
    "  \"sports-and-athletics-confidence\": \"{generate_number()}\",\n",
    "  \"environmentalism-and-sustainability\": \"{generate_number()}\",\n",
    "  \"environmentalism-and-sustainability-confidence\": \"{generate_number()}\",\n",
    "  \"gaming-and-e-sports\": \"{generate_number()}\",\n",
    "  \"gaming-and-e-sports-confidence\": \"{generate_number()}\",\n",
    "  \"college-and-career\": \"{generate_number()}\",\n",
    "  \"college-and-career-confidence\": \"{generate_number()}\",\n",
    "  \"cooking-and-food\": \"{generate_number()}\",\n",
    "  \"cooking-and-food-confidence\": \"{generate_number()}\",\n",
    "  \"reading-and-literature\": \"{generate_number()}\",\n",
    "  \"reading-and-literature-confidence\": \"{generate_number()}\",\n",
    "  \"writing-and-creative-writing\": \"{generate_number()}\",\n",
    "  \"writing-and-creative-writing-confidence\": \"{generate_number()}\",\n",
    "  \"science-and-technology\": \"{generate_number()}\",\n",
    "  \"science-and-technology-confidence\": \"{generate_number()}\",\n",
    "  \"mathematics-and-statistics\": \"{generate_number()}\",\n",
    "  \"mathematics-and-statistics-confidence\": \"{generate_number()}\",\n",
    "  \"creative-arts\": \"{generate_number()}\",\n",
    "  \"creative-arts-confidence\": \"{generate_number()}\",\n",
    "  \"animals-and-nature\": \"{generate_number()}\",\n",
    "  \"animals-and-nature-confidence\": \"{generate_number()}\",\n",
    "  \"history-and-social-studies\": \"{generate_number()}\",\n",
    "  \"history-and-social-studies-confidence\": \"{generate_number()}\",\n",
    "  \"note\": \"{gen(temperature=0.0, stop='\"')}\"\n",
    "}}\"\"\"\n",
    "\n",
    "end_time = time.time()\n",
    "total_time = end_time - start_time\n",
    "print(f\"Time taken: {total_time} seconds\")"
   ]
  },
  {
   "cell_type": "code",
   "execution_count": 26,
   "id": "4db91e01-62ca-45f0-8a43-fe971e13619c",
   "metadata": {},
   "outputs": [
    {
     "data": {
      "text/plain": [
       "808"
      ]
     },
     "execution_count": 26,
     "metadata": {},
     "output_type": "execute_result"
    }
   ],
   "source": [
    "len(tokenizer(prompt, return_tensors=\"pt\")['input_ids'][0])"
   ]
  },
  {
   "cell_type": "code",
   "execution_count": null,
   "id": "95f84486-fe37-4144-9e80-54279fd35c52",
   "metadata": {},
   "outputs": [],
   "source": []
  }
 ],
 "metadata": {
  "kernelspec": {
   "display_name": "Python 3 (ipykernel)",
   "language": "python",
   "name": "python3"
  },
  "language_info": {
   "codemirror_mode": {
    "name": "ipython",
    "version": 3
   },
   "file_extension": ".py",
   "mimetype": "text/x-python",
   "name": "python",
   "nbconvert_exporter": "python",
   "pygments_lexer": "ipython3",
   "version": "3.11.5"
  }
 },
 "nbformat": 4,
 "nbformat_minor": 5
}
