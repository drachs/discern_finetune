{
 "cells": [
  {
   "cell_type": "markdown",
   "id": "e8f351d6-a78e-4bc2-9f3e-28b3b8264bbe",
   "metadata": {},
   "source": [
    "# Inference Experimentation\n",
    "\n",
    "## Preliminaries"
   ]
  },
  {
   "cell_type": "code",
   "execution_count": 7,
   "id": "1588b8fd-6c81-48e6-9a76-65d320416e9d",
   "metadata": {},
   "outputs": [
    {
     "name": "stdout",
     "output_type": "stream",
     "text": [
      "Sun Dec 10 02:32:59 2023       \n",
      "+---------------------------------------------------------------------------------------+\n",
      "| NVIDIA-SMI 545.29.04              Driver Version: 546.17       CUDA Version: 12.3     |\n",
      "|-----------------------------------------+----------------------+----------------------+\n",
      "| GPU  Name                 Persistence-M | Bus-Id        Disp.A | Volatile Uncorr. ECC |\n",
      "| Fan  Temp   Perf          Pwr:Usage/Cap |         Memory-Usage | GPU-Util  Compute M. |\n",
      "|                                         |                      |               MIG M. |\n",
      "|=========================================+======================+======================|\n",
      "|   0  NVIDIA GeForce RTX 4090        On  | 00000000:01:00.0  On |                  Off |\n",
      "|  0%   37C    P8              28W / 450W |  12152MiB / 24564MiB |      2%      Default |\n",
      "|                                         |                      |                  N/A |\n",
      "+-----------------------------------------+----------------------+----------------------+\n",
      "                                                                                         \n",
      "+---------------------------------------------------------------------------------------+\n",
      "| Processes:                                                                            |\n",
      "|  GPU   GI   CI        PID   Type   Process name                            GPU Memory |\n",
      "|        ID   ID                                                             Usage      |\n",
      "|=======================================================================================|\n",
      "|    0   N/A  N/A      2663      C   /python3.11                               N/A      |\n",
      "+---------------------------------------------------------------------------------------+\n"
     ]
    }
   ],
   "source": [
    "!nvidia-smi"
   ]
  },
  {
   "cell_type": "code",
   "execution_count": null,
   "id": "ffd7fbdd-60ec-4ca7-8e20-6e4206b03e52",
   "metadata": {},
   "outputs": [],
   "source": [
    "!pip install guidance"
   ]
  },
  {
   "cell_type": "code",
   "execution_count": 10,
   "id": "f52810b3-b554-4836-8250-cd45c5583db1",
   "metadata": {},
   "outputs": [],
   "source": [
    "import random\n",
    "import time\n",
    "from guidance import models, gen, select"
   ]
  },
  {
   "cell_type": "markdown",
   "id": "30cdb75e-3d96-4720-b98d-512693d328a3",
   "metadata": {},
   "source": [
    "## Load the model and data\n",
    "\n",
    "### Base Model\n",
    "\n",
    "Quantizied to 4 bits using bits and bytes"
   ]
  },
  {
   "cell_type": "code",
   "execution_count": 2,
   "id": "968454da-d3dc-4634-9da6-08e44c6a1515",
   "metadata": {},
   "outputs": [
    {
     "data": {
      "application/vnd.jupyter.widget-view+json": {
       "model_id": "eb9f8e7523ac45bc97f64bc39c2b31ed",
       "version_major": 2,
       "version_minor": 0
      },
      "text/plain": [
       "Loading checkpoint shards:   0%|          | 0/2 [00:00<?, ?it/s]"
      ]
     },
     "metadata": {},
     "output_type": "display_data"
    }
   ],
   "source": [
    "import torch\n",
    "from transformers import AutoTokenizer, AutoModelForCausalLM, BitsAndBytesConfig\n",
    "\n",
    "base_model_id = \"mistralai/Mistral-7B-v0.1\"\n",
    "bnb_config = BitsAndBytesConfig(\n",
    "    load_in_4bit=True,\n",
    "    bnb_4bit_use_double_quant=True,\n",
    "    bnb_4bit_quant_type=\"nf4\",\n",
    "    bnb_4bit_compute_dtype=torch.bfloat16\n",
    ")\n",
    "\n",
    "base_model = AutoModelForCausalLM.from_pretrained(\n",
    "    base_model_id,  # Mistral, same as before\n",
    "    quantization_config=bnb_config,  # Same quantization config as before\n",
    "    device_map=\"auto\",\n",
    "    trust_remote_code=True,\n",
    ")\n",
    "\n",
    "tokenizer = AutoTokenizer.from_pretrained(base_model_id, add_bos_token=True, trust_remote_code=True)"
   ]
  },
  {
   "cell_type": "markdown",
   "id": "634b3fca-dcb6-44b3-ab8e-a8f073a1046c",
   "metadata": {},
   "source": [
    "### Lora\n"
   ]
  },
  {
   "cell_type": "code",
   "execution_count": 3,
   "id": "24c32316-3201-418e-8fd4-a8a9cd631a84",
   "metadata": {},
   "outputs": [],
   "source": [
    "from peft import PeftModel\n",
    "\n",
    "ft_model = PeftModel.from_pretrained(base_model, \"mistral-discern-finetune/checkpoint-11000\")"
   ]
  },
  {
   "cell_type": "markdown",
   "id": "d97096d3-fe46-4e98-a118-09a663f48e17",
   "metadata": {},
   "source": [
    "### Validation Dataset"
   ]
  },
  {
   "cell_type": "code",
   "execution_count": 6,
   "id": "80f172b4-0435-4a94-a5b5-0f5d801a089f",
   "metadata": {},
   "outputs": [],
   "source": [
    "from datasets import load_dataset\n",
    "\n",
    "eval_dataset = load_dataset(\"json\", data_files='./validation_data.jsonl', split='train')"
   ]
  },
  {
   "cell_type": "markdown",
   "id": "d0bbef17-5060-40f0-b8dd-fccd551b176b",
   "metadata": {},
   "source": [
    "# Inference Test"
   ]
  },
  {
   "cell_type": "code",
   "execution_count": 57,
   "id": "6c1823c0-b274-4887-9096-18cf454af765",
   "metadata": {
    "scrolled": true
   },
   "outputs": [],
   "source": [
    "prompt, origional_answer = random.choice(eval_dataset['document']).split(\"### Solution:\")\n",
    "prompt += \"### Solution:\\r\\n\"\n"
   ]
  },
  {
   "cell_type": "code",
   "execution_count": 58,
   "id": "7e22cadc-0240-432a-88d0-cbbce923fea6",
   "metadata": {},
   "outputs": [
    {
     "name": "stderr",
     "output_type": "stream",
     "text": [
      "Setting `pad_token_id` to `eos_token_id`:2 for open-end generation.\n"
     ]
    },
    {
     "name": "stdout",
     "output_type": "stream",
     "text": [
      "Mistral Anaswer:\n",
      "### Question:\n",
      "You are a Student Web Activity Analyzer developed to support professionals, including Social Workers, School Psychologists, District Administrators, School Safety Specialists, and related roles. Your primary objective is to meticulously evaluate the online activity of K-12 students and identify specific indicators related to their interests and passions. For each identified indicator, provide a JSON object containing:\n",
      "\n",
      "Presence: A value of 1 (if the indicator is present) or 0 (if not). Mark as 1 even if only part of the data aligns with an indicator.\n",
      "Confidence: Provide a confidence level on a scale of 1-10 to indicate your level of certainty in the analysis.\n",
      "Note: Include information on the logic used to decide that certain indicators were identified and a summary of the analyzed web activity.\n",
      "\n",
      "Consider patterns in the data, not just individual searches.\n",
      "\n",
      "Consider that the online activity originates from a school-issued device.\n",
      "\n",
      "If ambiguous use your best judgment, reflect uncertainty in confidence score.\n",
      "\n",
      "Here are the specific indicators for this task:\n",
      "\n",
      "'sports-and-athletics'\n",
      "'environmentalism-and-sustainability'\n",
      "'gaming-and-e-sports'\n",
      "'college-and-career'\n",
      "'cooking-and-food'\n",
      "'reading-and-literature'\n",
      "'writing-and-creative-writing'\n",
      "'science-and-technology'\n",
      "'mathematics-and-statistics'\n",
      "'creative-arts'\n",
      "'animals-and-nature'\n",
      "'history-and-social-studies'\n",
      "\n",
      "\n",
      "### Search Data:\n",
      "['how to pronounce', 'how to pronounce chagrin', 'candy logos ideas', 'how to pronounce chagrin', 'cute pictures', 'steak pictures', 'coke pictures', 'coffee pictures', 'taylor swift pictures', 'purple aesthetic', '99math/join', 'is bluey a girl', 'is bluey a girl or boy', 'chocolate', 'chocolate milk pictures', 'red aesthetic']\n",
      "\n",
      "### Example Output:\n",
      "{\n",
      "  \"sports-and-athletics\": \"1\",\n",
      "  \"sports-and-athletics-confidence\": \"6\",\n",
      "  \"environmentalism-and-sustainability\": \"0\",\n",
      "  \"environmentalism-and-sustainability-confidence\": \"8\",\n",
      "  \"gaming-and-e-sports\": \"0\",\n",
      "  \"gaming-and-e-sports-confidence\": \"10\",\n",
      "  \"college-and-career\": \"1\",\n",
      "  \"college-and-career-confidence\": \"7\",\n",
      "  \"cooking-and-food\": \"1\",\n",
      "  \"cooking-and-food-confidence\": \"7\",\n",
      "  \"reading-and-literature\": \"0\",\n",
      "  \"reading-and-literature-confidence\": \"7\",\n",
      "  \"writing-and-creative-writing\": \"1\",\n",
      "  \"writing-and-creative-writing-confidence\": \"8\",\n",
      "  \"science-and-technology\": \"0\",\n",
      "  \"science-and-technology-confidence\": \"10\",\n",
      "  \"mathematics-and-statistics\": \"1\",\n",
      "  \"mathematics-and-statistics-confidence\": \"6\",\n",
      "  \"creative-arts\": \"1\",\n",
      "  \"creative-arts-confidence\": \"8\",\n",
      "  \"animals-and-nature\": \"1\",\n",
      "  \"animals-and-nature-confidence\": \"9\",\n",
      "  \"history-and-social-studies\": \"0\",\n",
      "  \"history-and-social-studies-confidence\": \"9\",\n",
      "  \"note\": \"Detailed Summary Goes Here \"\n",
      "}\n",
      "\n",
      "### Solution:\n",
      "{  \"sports-and-athletics\": \"0.0\",  \"sports-and-athletics-confidence\": \"10.0\",  \"environmentalism-and-sustainability\": \"0.0\",  \"environmentalism-and-sustainability-confidence\": \"10.0\",  \"gaming-and-e-sports\": \"0.0\",  \"gaming-and-e-sports-confidence\": \"10.0\",  \"college-and-career\": \"0.0\",  \"college-and-career-confidence\": \"10.0\",  \"cooking-and-food\": \"1.0\",  \"cooking-and-food-confidence\": \"5.0\",  \"reading-and-literature\": \"0.0\",  \"reading-and-literature-confidence\": \"10.0\",  \"writing-and-creative-writing\": \"0.0\",  \"writing-and-creative-writing-confidence\": \"10.0\",  \"science-and-technology\": \"0.0\",  \"science-and-technology-confidence\": \"10.0\",  \"mathematics-and-statistics\": \"1.0\",  \"mathematics-and-statistics-confidence\": \"4.0\",  \"history-and-social-studies\": \"0.0\",  \"history-and-social-studies-confidence\": \"10.0\",  \"creative-arts\": \"1.0\",  \"creative-arts-confidence\": \"6.0\",  \"animals-and-nature\": \"0.0\",  \"animals-and-nature-confidence\": \"10.0\",  \"note\": \"The student showed interest in cooking and food through searches for steak, chocolate, and chocolate milk pictures. There was also an indication of interest in creative arts, given the searches for aesthetics and Taylor Swift pictures. The presence of a math-related website (99math/join) suggests some engagement with mathematics, although the context is unclear, leading to a lower confidence score. No clear patterns were found for the other indicators.\" }\n",
      "\n",
      "### Explanation:\n",
      "The student's web activity includes multiple searches for images of various items such as candy, beverages, and celebrities, indicating an interest in visual content rather than academic subjects. The search for '99math/join' suggests some engagement with mathematics, but without further context, it is difficult to determine a strong interest in the subject. The repeated attempts to pronounce 'chagrin' could indicate an interest in language or vocabulary, but there is no clear pattern to suggest a focus on reading and literature. The searches for 'bluey' and 'is bluey a girl or boy' do not clearly align with any of the specified indicators.\n",
      "\n",
      "Origional Answer\n",
      "\n",
      "{\n",
      "  \"sports-and-athletics\": \"0.0\",\n",
      "  \"sports-and-athletics-confidence\": \"10.0\",\n",
      "  \"environmentalism-and-sustainability\": \"0.0\",\n",
      "  \"environmentalism-and-sustainability-confidence\": \"10.0\",\n",
      "  \"gaming-and-e-sports\": \"0.0\",\n",
      "  \"gaming-and-e-sports-confidence\": \"10.0\",\n",
      "  \"college-and-career\": \"0.0\",\n",
      "  \"college-and-career-confidence\": \"10.0\",\n",
      "  \"cooking-and-food\": \"1.0\",\n",
      "  \"cooking-and-food-confidence\": \"7.0\",\n",
      "  \"reading-and-literature\": \"1.0\",\n",
      "  \"reading-and-literature-confidence\": \"5.0\",\n",
      "  \"writing-and-creative-writing\": \"0.0\",\n",
      "  \"writing-and-creative-writing-confidence\": \"10.0\",\n",
      "  \"science-and-technology\": \"0.0\",\n",
      "  \"science-and-technology-confidence\": \"10.0\",\n",
      "  \"mathematics-and-statistics\": \"1.0\",\n",
      "  \"mathematics-and-statistics-confidence\": \"4.0\",\n",
      "  \"history-and-social-studies\": \"0.0\",\n",
      "  \"history-and-social-studies-confidence\": \"10.0\",\n",
      "  \"creative-arts\": \"1.0\",\n",
      "  \"creative-arts-confidence\": \"6.0\",\n",
      "  \"animals-and-nature\": \"0.0\",\n",
      "  \"animals-and-nature-confidence\": \"10.0\",\n",
      "  \"note\": \"The student showed interest in cooking and food through searches for steak, chocolate, and other food pictures. A search for '99math/join' indicates some engagement with mathematics, although the confidence is lower due to the lack of additional math-related activity. The repeated search for 'how to pronounce chagrin' suggests an interest in reading and literature, or language acquisition, but with moderate confidence due to limited data. The search for 'candy logos ideas' and 'purple aesthetic' suggests some interest in creative arts, possibly design.\"\n",
      "}\n",
      "Time taken: 49.243457317352295 seconds\n"
     ]
    }
   ],
   "source": [
    "import time \n",
    "\n",
    "start_time = time.time()\n",
    "\n",
    "model_input = tokenizer(prompt, return_tensors=\"pt\").to(\"cuda\")\n",
    "\n",
    "ft_model.eval()\n",
    "with torch.no_grad():\n",
    "    print(\"Mistral Anaswer:\")\n",
    "    print(tokenizer.decode(ft_model.generate(**model_input, max_new_tokens=1000, repetition_penalty=1.15)[0], skip_special_tokens=True))\n",
    "    print(\"\\nOrigional Answer\")\n",
    "    print(origional_answer)\n",
    "\n",
    "end_time = time.time()\n",
    "total_time = end_time - start_time\n",
    "print(f\"Time taken: {total_time} seconds\")"
   ]
  },
  {
   "cell_type": "markdown",
   "id": "0900dfad-54fc-41d4-bdda-ecbe6ea1a9d4",
   "metadata": {},
   "source": [
    "# Microsoft Guidance\n",
    "\n",
    "Guidance is a system that manipulates the logprops and token selection to make the output conform to a template"
   ]
  },
  {
   "cell_type": "code",
   "execution_count": 59,
   "id": "38cda7ad-36df-4b81-9640-9381dd7a2520",
   "metadata": {},
   "outputs": [],
   "source": [
    "guidance_llm = models.Transformers(ft_model, tokenizer)"
   ]
  },
  {
   "cell_type": "code",
   "execution_count": 61,
   "id": "1e1bc52b-7ff0-406a-8377-66d3ab5aea19",
   "metadata": {},
   "outputs": [
    {
     "data": {
      "text/html": [
       "<pre style='margin: 0px; padding: 0px; padding-left: 8px; margin-left: -8px; border-radius: 0px; border-left: 1px solid rgba(127, 127, 127, 0.2); white-space: pre-wrap; font-family: ColfaxAI, Arial; font-size: 15px; line-height: 23px;'>### Question:\n",
       "You are a Student Web Activity Analyzer developed to support professionals, including Social Workers, School Psychologists, District Administrators, School Safety Specialists, and related roles. Your primary objective is to meticulously evaluate the online activity of K-12 students and identify specific indicators related to their interests and passions. For each identified indicator, provide a JSON object containing:\n",
       "\n",
       "Presence: A value of 1 (if the indicator is present) or 0 (if not). Mark as 1 even if only part of the data aligns with an indicator.\n",
       "Confidence: Provide a confidence level on a scale of 1-10 to indicate your level of certainty in the analysis.\n",
       "Note: Include information on the logic used to decide that certain indicators were identified and a summary of the analyzed web activity.\n",
       "\n",
       "Consider patterns in the data, not just individual searches.\n",
       "\n",
       "Consider that the online activity originates from a school-issued device.\n",
       "\n",
       "If ambiguous use your best judgment, reflect uncertainty in confidence score.\n",
       "\n",
       "Here are the specific indicators for this task:\r\n",
       "\r\n",
       "&#x27;sports-and-athletics&#x27;\r\n",
       "&#x27;environmentalism-and-sustainability&#x27;\r\n",
       "&#x27;gaming-and-e-sports&#x27;\r\n",
       "&#x27;college-and-career&#x27;\r\n",
       "&#x27;cooking-and-food&#x27;\r\n",
       "&#x27;reading-and-literature&#x27;\r\n",
       "&#x27;writing-and-creative-writing&#x27;\r\n",
       "&#x27;science-and-technology&#x27;\r\n",
       "&#x27;mathematics-and-statistics&#x27;\r\n",
       "&#x27;creative-arts&#x27;\r\n",
       "&#x27;animals-and-nature&#x27;\r\n",
       "&#x27;history-and-social-studies&#x27;\r\n",
       "\n",
       "\n",
       "### Search Data:\n",
       "[&#x27;how to pronounce&#x27;, &#x27;how to pronounce chagrin&#x27;, &#x27;candy logos ideas&#x27;, &#x27;how to pronounce chagrin&#x27;, &#x27;cute pictures&#x27;, &#x27;steak pictures&#x27;, &#x27;coke pictures&#x27;, &#x27;coffee pictures&#x27;, &#x27;taylor swift pictures&#x27;, &#x27;purple aesthetic&#x27;, &#x27;99math/join&#x27;, &#x27;is bluey a girl&#x27;, &#x27;is bluey a girl or boy&#x27;, &#x27;chocolate&#x27;, &#x27;chocolate milk pictures&#x27;, &#x27;red aesthetic&#x27;]\n",
       "\n",
       "### Example Output:\n",
       "{\r\n",
       "  &quot;sports-and-athletics&quot;: &quot;1&quot;,\r\n",
       "  &quot;sports-and-athletics-confidence&quot;: &quot;6&quot;,\r\n",
       "  &quot;environmentalism-and-sustainability&quot;: &quot;0&quot;,\r\n",
       "  &quot;environmentalism-and-sustainability-confidence&quot;: &quot;8&quot;,\r\n",
       "  &quot;gaming-and-e-sports&quot;: &quot;0&quot;,\r\n",
       "  &quot;gaming-and-e-sports-confidence&quot;: &quot;10&quot;,\r\n",
       "  &quot;college-and-career&quot;: &quot;1&quot;,\r\n",
       "  &quot;college-and-career-confidence&quot;: &quot;7&quot;,\r\n",
       "  &quot;cooking-and-food&quot;: &quot;1&quot;,\r\n",
       "  &quot;cooking-and-food-confidence&quot;: &quot;7&quot;,\r\n",
       "  &quot;reading-and-literature&quot;: &quot;0&quot;,\r\n",
       "  &quot;reading-and-literature-confidence&quot;: &quot;7&quot;,\r\n",
       "  &quot;writing-and-creative-writing&quot;: &quot;1&quot;,\r\n",
       "  &quot;writing-and-creative-writing-confidence&quot;: &quot;8&quot;,\r\n",
       "  &quot;science-and-technology&quot;: &quot;0&quot;,\r\n",
       "  &quot;science-and-technology-confidence&quot;: &quot;10&quot;,\r\n",
       "  &quot;mathematics-and-statistics&quot;: &quot;1&quot;,\r\n",
       "  &quot;mathematics-and-statistics-confidence&quot;: &quot;6&quot;,\r\n",
       "  &quot;creative-arts&quot;: &quot;1&quot;,\r\n",
       "  &quot;creative-arts-confidence&quot;: &quot;8&quot;,\r\n",
       "  &quot;animals-and-nature&quot;: &quot;1&quot;,\r\n",
       "  &quot;animals-and-nature-confidence&quot;: &quot;9&quot;,\r\n",
       "  &quot;history-and-social-studies&quot;: &quot;0&quot;,\r\n",
       "  &quot;history-and-social-studies-confidence&quot;: &quot;9&quot;,\r\n",
       "  &quot;note&quot;: &quot;Detailed Summary Goes Here &quot;\r\n",
       "}\n",
       "\n",
       "### Solution:\r\n",
       "&quot;{\n",
       "  &quot;sports-and-athletics&quot;:<span style='background-color: rgba(0, 165, 0, 0.15); border-radius: 3px;' title='0.0'> &quot;</span><span style='background-color: rgba(0, 165, 0, 0.15); border-radius: 3px;' title='0.0'>0</span><span style='background-color: rgba(0, 165, 0, 0.15); border-radius: 3px;' title='0.0'>.</span><span style='background-color: rgba(0, 165, 0, 0.15); border-radius: 3px;' title='0.0'>0</span>&quot;,\n",
       "  &quot;sports-and-athletics-confidence&quot;:<span style='background-color: rgba(0, 165, 0, 0.15); border-radius: 3px;' title='0.0'> &quot;</span><span style='background-color: rgba(0, 165, 0, 0.15); border-radius: 3px;' title='0.0'>1</span><span style='background-color: rgba(0, 165, 0, 0.15); border-radius: 3px;' title='0.0'>0</span><span style='background-color: rgba(0, 165, 0, 0.15); border-radius: 3px;' title='0.0'>.</span><span style='background-color: rgba(0, 165, 0, 0.15); border-radius: 3px;' title='0.0'>0</span>&quot;,\n",
       "  &quot;environmentalism-and-sustainability&quot;:<span style='background-color: rgba(0, 165, 0, 0.15); border-radius: 3px;' title='0.0'> &quot;</span><span style='background-color: rgba(0, 165, 0, 0.15); border-radius: 3px;' title='0.0'>0</span><span style='background-color: rgba(0, 165, 0, 0.15); border-radius: 3px;' title='0.0'>.</span><span style='background-color: rgba(0, 165, 0, 0.15); border-radius: 3px;' title='0.0'>0</span>&quot;,\n",
       "  &quot;environmentalism-and-sustainability-confidence&quot;:<span style='background-color: rgba(0, 165, 0, 0.15); border-radius: 3px;' title='0.0'> &quot;</span><span style='background-color: rgba(0, 165, 0, 0.15); border-radius: 3px;' title='0.0'>1</span><span style='background-color: rgba(0, 165, 0, 0.15); border-radius: 3px;' title='0.0'>0</span><span style='background-color: rgba(0, 165, 0, 0.15); border-radius: 3px;' title='0.0'>.</span><span style='background-color: rgba(0, 165, 0, 0.15); border-radius: 3px;' title='0.0'>0</span>&quot;,\n",
       "  &quot;gaming-and-e-sports&quot;:<span style='background-color: rgba(0, 165, 0, 0.15); border-radius: 3px;' title='0.0'> &quot;</span><span style='background-color: rgba(0, 165, 0, 0.15); border-radius: 3px;' title='0.0'>0</span><span style='background-color: rgba(0, 165, 0, 0.15); border-radius: 3px;' title='0.0'>.</span><span style='background-color: rgba(0, 165, 0, 0.15); border-radius: 3px;' title='0.0'>0</span>&quot;,\n",
       "  &quot;gaming-and-e-sports-confidence&quot;:<span style='background-color: rgba(0, 165, 0, 0.15); border-radius: 3px;' title='0.0'> &quot;</span><span style='background-color: rgba(0, 165, 0, 0.15); border-radius: 3px;' title='0.0'>1</span><span style='background-color: rgba(0, 165, 0, 0.15); border-radius: 3px;' title='0.0'>0</span><span style='background-color: rgba(0, 165, 0, 0.15); border-radius: 3px;' title='0.0'>.</span><span style='background-color: rgba(0, 165, 0, 0.15); border-radius: 3px;' title='0.0'>0</span>&quot;,\n",
       "  &quot;college-and-career&quot;:<span style='background-color: rgba(0, 165, 0, 0.15); border-radius: 3px;' title='0.0'> &quot;</span><span style='background-color: rgba(0, 165, 0, 0.15); border-radius: 3px;' title='0.0'>0</span><span style='background-color: rgba(0, 165, 0, 0.15); border-radius: 3px;' title='0.0'>.</span><span style='background-color: rgba(0, 165, 0, 0.15); border-radius: 3px;' title='0.0'>0</span>&quot;,\n",
       "  &quot;college-and-career-confidence&quot;:<span style='background-color: rgba(0, 165, 0, 0.15); border-radius: 3px;' title='0.0'> &quot;</span><span style='background-color: rgba(0, 165, 0, 0.15); border-radius: 3px;' title='0.0'>1</span><span style='background-color: rgba(0, 165, 0, 0.15); border-radius: 3px;' title='0.0'>0</span><span style='background-color: rgba(0, 165, 0, 0.15); border-radius: 3px;' title='0.0'>.</span><span style='background-color: rgba(0, 165, 0, 0.15); border-radius: 3px;' title='0.0'>0</span>&quot;,\n",
       "  &quot;cooking-and-food&quot;:<span style='background-color: rgba(0, 165, 0, 0.15); border-radius: 3px;' title='0.0'> &quot;</span><span style='background-color: rgba(0, 165, 0, 0.15); border-radius: 3px;' title='0.0'>1</span><span style='background-color: rgba(0, 165, 0, 0.15); border-radius: 3px;' title='0.0'>.</span><span style='background-color: rgba(0, 165, 0, 0.15); border-radius: 3px;' title='0.0'>0</span>&quot;,\n",
       "  &quot;cooking-and-food-confidence&quot;:<span style='background-color: rgba(0, 165, 0, 0.15); border-radius: 3px;' title='0.0'> &quot;</span><span style='background-color: rgba(0, 165, 0, 0.15); border-radius: 3px;' title='0.0'>5</span><span style='background-color: rgba(0, 165, 0, 0.15); border-radius: 3px;' title='0.0'>.</span><span style='background-color: rgba(0, 165, 0, 0.15); border-radius: 3px;' title='0.0'>0</span>&quot;,\n",
       "  &quot;reading-and-literature&quot;:<span style='background-color: rgba(0, 165, 0, 0.15); border-radius: 3px;' title='0.0'> &quot;</span><span style='background-color: rgba(0, 165, 0, 0.15); border-radius: 3px;' title='0.0'>0</span><span style='background-color: rgba(0, 165, 0, 0.15); border-radius: 3px;' title='0.0'>.</span><span style='background-color: rgba(0, 165, 0, 0.15); border-radius: 3px;' title='0.0'>0</span>&quot;,\n",
       "  &quot;reading-and-literature-confidence&quot;:<span style='background-color: rgba(0, 165, 0, 0.15); border-radius: 3px;' title='0.0'> &quot;</span><span style='background-color: rgba(0, 165, 0, 0.15); border-radius: 3px;' title='0.0'>1</span><span style='background-color: rgba(0, 165, 0, 0.15); border-radius: 3px;' title='0.0'>0</span><span style='background-color: rgba(0, 165, 0, 0.15); border-radius: 3px;' title='0.0'>.</span><span style='background-color: rgba(0, 165, 0, 0.15); border-radius: 3px;' title='0.0'>0</span>&quot;,\n",
       "  &quot;writing-and-creative-writing&quot;:<span style='background-color: rgba(0, 165, 0, 0.15); border-radius: 3px;' title='0.0'> &quot;</span><span style='background-color: rgba(0, 165, 0, 0.15); border-radius: 3px;' title='0.0'>0</span><span style='background-color: rgba(0, 165, 0, 0.15); border-radius: 3px;' title='0.0'>.</span><span style='background-color: rgba(0, 165, 0, 0.15); border-radius: 3px;' title='0.0'>0</span>&quot;,\n",
       "  &quot;writing-and-creative-writing-confidence&quot;:<span style='background-color: rgba(0, 165, 0, 0.15); border-radius: 3px;' title='0.0'> &quot;</span><span style='background-color: rgba(0, 165, 0, 0.15); border-radius: 3px;' title='0.0'>1</span><span style='background-color: rgba(0, 165, 0, 0.15); border-radius: 3px;' title='0.0'>0</span><span style='background-color: rgba(0, 165, 0, 0.15); border-radius: 3px;' title='0.0'>.</span><span style='background-color: rgba(0, 165, 0, 0.15); border-radius: 3px;' title='0.0'>0</span>&quot;,\n",
       "  &quot;science-and-technology&quot;:<span style='background-color: rgba(0, 165, 0, 0.15); border-radius: 3px;' title='0.0'> &quot;</span><span style='background-color: rgba(0, 165, 0, 0.15); border-radius: 3px;' title='0.0'>0</span><span style='background-color: rgba(0, 165, 0, 0.15); border-radius: 3px;' title='0.0'>.</span><span style='background-color: rgba(0, 165, 0, 0.15); border-radius: 3px;' title='0.0'>0</span>&quot;,\n",
       "  &quot;science-and-technology-confidence&quot;:<span style='background-color: rgba(0, 165, 0, 0.15); border-radius: 3px;' title='0.0'> &quot;</span><span style='background-color: rgba(0, 165, 0, 0.15); border-radius: 3px;' title='0.0'>1</span><span style='background-color: rgba(0, 165, 0, 0.15); border-radius: 3px;' title='0.0'>0</span><span style='background-color: rgba(0, 165, 0, 0.15); border-radius: 3px;' title='0.0'>.</span><span style='background-color: rgba(0, 165, 0, 0.15); border-radius: 3px;' title='0.0'>0</span>&quot;,\n",
       "  &quot;mathematics-and-statistics&quot;:<span style='background-color: rgba(0, 165, 0, 0.15); border-radius: 3px;' title='0.0'> &quot;</span><span style='background-color: rgba(0, 165, 0, 0.15); border-radius: 3px;' title='0.0'>1</span><span style='background-color: rgba(0, 165, 0, 0.15); border-radius: 3px;' title='0.0'>.</span><span style='background-color: rgba(0, 165, 0, 0.15); border-radius: 3px;' title='0.0'>0</span>&quot;,\n",
       "  &quot;mathematics-and-statistics-confidence&quot;:<span style='background-color: rgba(0, 165, 0, 0.15); border-radius: 3px;' title='0.0'> &quot;</span><span style='background-color: rgba(0, 165, 0, 0.15); border-radius: 3px;' title='0.0'>4</span><span style='background-color: rgba(0, 165, 0, 0.15); border-radius: 3px;' title='0.0'>.</span><span style='background-color: rgba(0, 165, 0, 0.15); border-radius: 3px;' title='0.0'>0</span>&quot;,\n",
       "  &quot;creative-arts&quot;:<span style='background-color: rgba(0, 165, 0, 0.15); border-radius: 3px;' title='0.0'> &quot;</span><span style='background-color: rgba(0, 165, 0, 0.15); border-radius: 3px;' title='0.0'>1</span><span style='background-color: rgba(0, 165, 0, 0.15); border-radius: 3px;' title='0.0'>.</span><span style='background-color: rgba(0, 165, 0, 0.15); border-radius: 3px;' title='0.0'>0</span>&quot;,\n",
       "  &quot;creative-arts-confidence&quot;:<span style='background-color: rgba(0, 165, 0, 0.15); border-radius: 3px;' title='0.0'> &quot;</span><span style='background-color: rgba(0, 165, 0, 0.15); border-radius: 3px;' title='0.0'>6</span><span style='background-color: rgba(0, 165, 0, 0.15); border-radius: 3px;' title='0.0'>.</span><span style='background-color: rgba(0, 165, 0, 0.15); border-radius: 3px;' title='0.0'>0</span>&quot;,\n",
       "  &quot;animals-and-nature&quot;:<span style='background-color: rgba(0, 165, 0, 0.15); border-radius: 3px;' title='0.0'> &quot;</span><span style='background-color: rgba(0, 165, 0, 0.15); border-radius: 3px;' title='0.0'>0</span><span style='background-color: rgba(0, 165, 0, 0.15); border-radius: 3px;' title='0.0'>.</span><span style='background-color: rgba(0, 165, 0, 0.15); border-radius: 3px;' title='0.0'>0</span>&quot;,\n",
       "  &quot;animals-and-nature-confidence&quot;:<span style='background-color: rgba(0, 165, 0, 0.15); border-radius: 3px;' title='0.0'> &quot;</span><span style='background-color: rgba(0, 165, 0, 0.15); border-radius: 3px;' title='0.0'>1</span><span style='background-color: rgba(0, 165, 0, 0.15); border-radius: 3px;' title='0.0'>0</span><span style='background-color: rgba(0, 165, 0, 0.15); border-radius: 3px;' title='0.0'>.</span><span style='background-color: rgba(0, 165, 0, 0.15); border-radius: 3px;' title='0.0'>0</span>&quot;,\n",
       "  &quot;history-and-social-studies&quot;:<span style='background-color: rgba(0, 165, 0, 0.15); border-radius: 3px;' title='0.0'> &quot;</span><span style='background-color: rgba(0, 165, 0, 0.15); border-radius: 3px;' title='0.0'>0</span><span style='background-color: rgba(0, 165, 0, 0.15); border-radius: 3px;' title='0.0'>.</span><span style='background-color: rgba(0, 165, 0, 0.15); border-radius: 3px;' title='0.0'>0</span>&quot;,\n",
       "  &quot;history-and-social-studies-confidence&quot;:<span style='background-color: rgba(0, 165, 0, 0.15); border-radius: 3px;' title='0.0'> &quot;</span><span style='background-color: rgba(0, 165, 0, 0.15); border-radius: 3px;' title='0.0'>1</span><span style='background-color: rgba(0, 165, 0, 0.15); border-radius: 3px;' title='0.0'>0</span><span style='background-color: rgba(0, 165, 0, 0.15); border-radius: 3px;' title='0.0'>.</span><span style='background-color: rgba(0, 165, 0, 0.15); border-radius: 3px;' title='0.0'>0</span>&quot;,\n",
       "  &quot;note&quot;:<span style='background-color: rgba(0, 165, 0, 0.15); border-radius: 3px;' title='0.0'> &quot;</span><span style='background-color: rgba(0, 165, 0, 0.15); border-radius: 3px;' title='0.0'>The</span><span style='background-color: rgba(0, 165, 0, 0.15); border-radius: 3px;' title='0.0'> student</span><span style='background-color: rgba(0, 165, 0, 0.15); border-radius: 3px;' title='0.0'>&#x27;</span><span style='background-color: rgba(0, 165, 0, 0.15); border-radius: 3px;' title='0.0'>s</span><span style='background-color: rgba(0, 165, 0, 0.15); border-radius: 3px;' title='0.0'> web</span><span style='background-color: rgba(0, 165, 0, 0.15); border-radius: 3px;' title='0.0'> activity</span><span style='background-color: rgba(0, 165, 0, 0.15); border-radius: 3px;' title='0.0'> includes</span><span style='background-color: rgba(0, 165, 0, 0.15); border-radius: 3px;' title='0.0'> sear</span><span style='background-color: rgba(0, 165, 0, 0.15); border-radius: 3px;' title='0.0'>ches</span><span style='background-color: rgba(0, 165, 0, 0.15); border-radius: 3px;' title='0.0'> for</span><span style='background-color: rgba(0, 165, 0, 0.15); border-radius: 3px;' title='0.0'> various</span><span style='background-color: rgba(0, 165, 0, 0.15); border-radius: 3px;' title='0.0'> pictures</span><span style='background-color: rgba(0, 165, 0, 0.15); border-radius: 3px;' title='0.0'>,</span><span style='background-color: rgba(0, 165, 0, 0.15); border-radius: 3px;' title='0.0'> which</span><span style='background-color: rgba(0, 165, 0, 0.15); border-radius: 3px;' title='0.0'> suggests</span><span style='background-color: rgba(0, 165, 0, 0.15); border-radius: 3px;' title='0.0'> an</span><span style='background-color: rgba(0, 165, 0, 0.15); border-radius: 3px;' title='0.0'> interest</span><span style='background-color: rgba(0, 165, 0, 0.15); border-radius: 3px;' title='0.0'> in</span><span style='background-color: rgba(0, 165, 0, 0.15); border-radius: 3px;' title='0.0'> visual</span><span style='background-color: rgba(0, 165, 0, 0.15); border-radius: 3px;' title='0.0'> aest</span><span style='background-color: rgba(0, 165, 0, 0.15); border-radius: 3px;' title='0.0'>het</span><span style='background-color: rgba(0, 165, 0, 0.15); border-radius: 3px;' title='0.0'>ics</span><span style='background-color: rgba(0, 165, 0, 0.15); border-radius: 3px;' title='0.0'>,</span><span style='background-color: rgba(0, 165, 0, 0.15); border-radius: 3px;' title='0.0'> hence</span><span style='background-color: rgba(0, 165, 0, 0.15); border-radius: 3px;' title='0.0'> the</span><span style='background-color: rgba(0, 165, 0, 0.15); border-radius: 3px;' title='0.0'> presence</span><span style='background-color: rgba(0, 165, 0, 0.15); border-radius: 3px;' title='0.0'> of</span><span style='background-color: rgba(0, 165, 0, 0.15); border-radius: 3px;' title='0.0'> &#x27;</span><span style='background-color: rgba(0, 165, 0, 0.15); border-radius: 3px;' title='0.0'>creat</span><span style='background-color: rgba(0, 165, 0, 0.15); border-radius: 3px;' title='0.0'>ive</span><span style='background-color: rgba(0, 165, 0, 0.15); border-radius: 3px;' title='0.0'>-</span><span style='background-color: rgba(0, 165, 0, 0.15); border-radius: 3px;' title='0.0'>arts</span><span style='background-color: rgba(0, 165, 0, 0.15); border-radius: 3px;' title='0.0'>&#x27;.</span><span style='background-color: rgba(0, 165, 0, 0.15); border-radius: 3px;' title='0.0'> The</span><span style='background-color: rgba(0, 165, 0, 0.15); border-radius: 3px;' title='0.0'> search</span><span style='background-color: rgba(0, 165, 0, 0.15); border-radius: 3px;' title='0.0'> for</span><span style='background-color: rgba(0, 165, 0, 0.15); border-radius: 3px;' title='0.0'> &#x27;</span><span style='background-color: rgba(0, 165, 0, 0.15); border-radius: 3px;' title='0.0'>9</span><span style='background-color: rgba(0, 165, 0, 0.15); border-radius: 3px;' title='0.0'>9</span><span style='background-color: rgba(0, 165, 0, 0.15); border-radius: 3px;' title='0.0'>math</span><span style='background-color: rgba(0, 165, 0, 0.15); border-radius: 3px;' title='0.0'>/</span><span style='background-color: rgba(0, 165, 0, 0.15); border-radius: 3px;' title='0.0'>join</span><span style='background-color: rgba(0, 165, 0, 0.15); border-radius: 3px;' title='0.0'>&#x27;</span><span style='background-color: rgba(0, 165, 0, 0.15); border-radius: 3px;' title='0.0'> indicates</span><span style='background-color: rgba(0, 165, 0, 0.15); border-radius: 3px;' title='0.0'> some</span><span style='background-color: rgba(0, 165, 0, 0.15); border-radius: 3px;' title='0.0'> engagement</span><span style='background-color: rgba(0, 165, 0, 0.15); border-radius: 3px;' title='0.0'> with</span><span style='background-color: rgba(0, 165, 0, 0.15); border-radius: 3px;' title='0.0'> mathemat</span><span style='background-color: rgba(0, 165, 0, 0.15); border-radius: 3px;' title='0.0'>ics</span><span style='background-color: rgba(0, 165, 0, 0.15); border-radius: 3px;' title='0.0'>,</span><span style='background-color: rgba(0, 165, 0, 0.15); border-radius: 3px;' title='0.0'> although</span><span style='background-color: rgba(0, 165, 0, 0.15); border-radius: 3px;' title='0.0'> the</span><span style='background-color: rgba(0, 165, 0, 0.15); border-radius: 3px;' title='0.0'> confidence</span><span style='background-color: rgba(0, 165, 0, 0.15); border-radius: 3px;' title='0.0'> is</span><span style='background-color: rgba(0, 165, 0, 0.15); border-radius: 3px;' title='0.0'> lower</span><span style='background-color: rgba(0, 165, 0, 0.15); border-radius: 3px;' title='0.0'> due</span><span style='background-color: rgba(0, 165, 0, 0.15); border-radius: 3px;' title='0.0'> to</span><span style='background-color: rgba(0, 165, 0, 0.15); border-radius: 3px;' title='0.0'> the</span><span style='background-color: rgba(0, 165, 0, 0.15); border-radius: 3px;' title='0.0'> lack</span><span style='background-color: rgba(0, 165, 0, 0.15); border-radius: 3px;' title='0.0'> of</span><span style='background-color: rgba(0, 165, 0, 0.15); border-radius: 3px;' title='0.0'> context</span><span style='background-color: rgba(0, 165, 0, 0.15); border-radius: 3px;' title='0.0'>.</span><span style='background-color: rgba(0, 165, 0, 0.15); border-radius: 3px;' title='0.0'> The</span><span style='background-color: rgba(0, 165, 0, 0.15); border-radius: 3px;' title='0.0'> search</span><span style='background-color: rgba(0, 165, 0, 0.15); border-radius: 3px;' title='0.0'> for</span><span style='background-color: rgba(0, 165, 0, 0.15); border-radius: 3px;' title='0.0'> &#x27;</span><span style='background-color: rgba(0, 165, 0, 0.15); border-radius: 3px;' title='0.0'>ste</span><span style='background-color: rgba(0, 165, 0, 0.15); border-radius: 3px;' title='0.0'>ak</span><span style='background-color: rgba(0, 165, 0, 0.15); border-radius: 3px;' title='0.0'> pictures</span><span style='background-color: rgba(0, 165, 0, 0.15); border-radius: 3px;' title='0.0'>&#x27;</span><span style='background-color: rgba(0, 165, 0, 0.15); border-radius: 3px;' title='0.0'> and</span><span style='background-color: rgba(0, 165, 0, 0.15); border-radius: 3px;' title='0.0'> &#x27;</span><span style='background-color: rgba(0, 165, 0, 0.15); border-radius: 3px;' title='0.0'>ch</span><span style='background-color: rgba(0, 165, 0, 0.15); border-radius: 3px;' title='0.0'>ocolate</span><span style='background-color: rgba(0, 165, 0, 0.15); border-radius: 3px;' title='0.0'> milk</span><span style='background-color: rgba(0, 165, 0, 0.15); border-radius: 3px;' title='0.0'> pictures</span><span style='background-color: rgba(0, 165, 0, 0.15); border-radius: 3px;' title='0.0'>&#x27;</span><span style='background-color: rgba(0, 165, 0, 0.15); border-radius: 3px;' title='0.0'> could</span><span style='background-color: rgba(0, 165, 0, 0.15); border-radius: 3px;' title='0.0'> indicate</span><span style='background-color: rgba(0, 165, 0, 0.15); border-radius: 3px;' title='0.0'> an</span><span style='background-color: rgba(0, 165, 0, 0.15); border-radius: 3px;' title='0.0'> interest</span><span style='background-color: rgba(0, 165, 0, 0.15); border-radius: 3px;' title='0.0'> in</span><span style='background-color: rgba(0, 165, 0, 0.15); border-radius: 3px;' title='0.0'> cooking</span><span style='background-color: rgba(0, 165, 0, 0.15); border-radius: 3px;' title='0.0'> and</span><span style='background-color: rgba(0, 165, 0, 0.15); border-radius: 3px;' title='0.0'> food</span><span style='background-color: rgba(0, 165, 0, 0.15); border-radius: 3px;' title='0.0'>,</span><span style='background-color: rgba(0, 165, 0, 0.15); border-radius: 3px;' title='0.0'> but</span><span style='background-color: rgba(0, 165, 0, 0.15); border-radius: 3px;' title='0.0'> the</span><span style='background-color: rgba(0, 165, 0, 0.15); border-radius: 3px;' title='0.0'> confidence</span><span style='background-color: rgba(0, 165, 0, 0.15); border-radius: 3px;' title='0.0'> is</span><span style='background-color: rgba(0, 165, 0, 0.15); border-radius: 3px;' title='0.0'> moderate</span><span style='background-color: rgba(0, 165, 0, 0.15); border-radius: 3px;' title='0.0'> as</span><span style='background-color: rgba(0, 165, 0, 0.15); border-radius: 3px;' title='0.0'> it</span><span style='background-color: rgba(0, 165, 0, 0.15); border-radius: 3px;' title='0.0'> may</span><span style='background-color: rgba(0, 165, 0, 0.15); border-radius: 3px;' title='0.0'> also</span><span style='background-color: rgba(0, 165, 0, 0.15); border-radius: 3px;' title='0.0'> be</span><span style='background-color: rgba(0, 165, 0, 0.15); border-radius: 3px;' title='0.0'> related</span><span style='background-color: rgba(0, 165, 0, 0.15); border-radius: 3px;' title='0.0'> to</span><span style='background-color: rgba(0, 165, 0, 0.15); border-radius: 3px;' title='0.0'> the</span><span style='background-color: rgba(0, 165, 0, 0.15); border-radius: 3px;' title='0.0'> aesthetic</span><span style='background-color: rgba(0, 165, 0, 0.15); border-radius: 3px;' title='0.0'> aspect</span><span style='background-color: rgba(0, 165, 0, 0.15); border-radius: 3px;' title='0.0'>.</span><span style='background-color: rgba(0, 165, 0, 0.15); border-radius: 3px;' title='0.0'> No</span><span style='background-color: rgba(0, 165, 0, 0.15); border-radius: 3px;' title='0.0'> clear</span><span style='background-color: rgba(0, 165, 0, 0.15); border-radius: 3px;' title='0.0'> patterns</span><span style='background-color: rgba(0, 165, 0, 0.15); border-radius: 3px;' title='0.0'> were</span><span style='background-color: rgba(0, 165, 0, 0.15); border-radius: 3px;' title='0.0'> found</span><span style='background-color: rgba(0, 165, 0, 0.15); border-radius: 3px;' title='0.0'> for</span><span style='background-color: rgba(0, 165, 0, 0.15); border-radius: 3px;' title='0.0'> the</span><span style='background-color: rgba(0, 165, 0, 0.15); border-radius: 3px;' title='0.0'> other</span><span style='background-color: rgba(0, 165, 0, 0.15); border-radius: 3px;' title='0.0'> indic</span><span style='background-color: rgba(0, 165, 0, 0.15); border-radius: 3px;' title='0.0'>ators</span>.&quot;\n",
       "<span style='background-color: rgba(0, 165, 0, 0.15); border-radius: 3px;' title='0.0'>}</span></pre>"
      ],
      "text/plain": [
       "<IPython.core.display.HTML object>"
      ]
     },
     "metadata": {},
     "output_type": "display_data"
    },
    {
     "name": "stdout",
     "output_type": "stream",
     "text": [
      "Time taken: 21.464407920837402 seconds\n"
     ]
    }
   ],
   "source": [
    "import time \n",
    "\n",
    "start_time = time.time()\n",
    "\n",
    "def generate_number():\n",
    "    return gen(regex='[0-9\\.]+', stop='\"')\n",
    "\n",
    "prompted = guidance_llm + prompt\n",
    "prompted += f\"\"\"\"{{\n",
    "  \"sports-and-athletics\": \"{generate_number()}\",\n",
    "  \"sports-and-athletics-confidence\": \"{generate_number()}\",\n",
    "  \"environmentalism-and-sustainability\": \"{generate_number()}\",\n",
    "  \"environmentalism-and-sustainability-confidence\": \"{generate_number()}\",\n",
    "  \"gaming-and-e-sports\": \"{generate_number()}\",\n",
    "  \"gaming-and-e-sports-confidence\": \"{generate_number()}\",\n",
    "  \"college-and-career\": \"{generate_number()}\",\n",
    "  \"college-and-career-confidence\": \"{generate_number()}\",\n",
    "  \"cooking-and-food\": \"{generate_number()}\",\n",
    "  \"cooking-and-food-confidence\": \"{generate_number()}\",\n",
    "  \"reading-and-literature\": \"{generate_number()}\",\n",
    "  \"reading-and-literature-confidence\": \"{generate_number()}\",\n",
    "  \"writing-and-creative-writing\": \"{generate_number()}\",\n",
    "  \"writing-and-creative-writing-confidence\": \"{generate_number()}\",\n",
    "  \"science-and-technology\": \"{generate_number()}\",\n",
    "  \"science-and-technology-confidence\": \"{generate_number()}\",\n",
    "  \"mathematics-and-statistics\": \"{generate_number()}\",\n",
    "  \"mathematics-and-statistics-confidence\": \"{generate_number()}\",\n",
    "  \"creative-arts\": \"{generate_number()}\",\n",
    "  \"creative-arts-confidence\": \"{generate_number()}\",\n",
    "  \"animals-and-nature\": \"{generate_number()}\",\n",
    "  \"animals-and-nature-confidence\": \"{generate_number()}\",\n",
    "  \"history-and-social-studies\": \"{generate_number()}\",\n",
    "  \"history-and-social-studies-confidence\": \"{generate_number()}\",\n",
    "  \"note\": \"{gen(stop='\"')}\"\n",
    "}}\"\"\"\n",
    "\n",
    "end_time = time.time()\n",
    "total_time = end_time - start_time\n",
    "print(f\"Time taken: {total_time} seconds\")"
   ]
  },
  {
   "cell_type": "code",
   "execution_count": null,
   "id": "4db91e01-62ca-45f0-8a43-fe971e13619c",
   "metadata": {},
   "outputs": [],
   "source": []
  }
 ],
 "metadata": {
  "kernelspec": {
   "display_name": "Python 3 (ipykernel)",
   "language": "python",
   "name": "python3"
  },
  "language_info": {
   "codemirror_mode": {
    "name": "ipython",
    "version": 3
   },
   "file_extension": ".py",
   "mimetype": "text/x-python",
   "name": "python",
   "nbconvert_exporter": "python",
   "pygments_lexer": "ipython3",
   "version": "3.11.5"
  }
 },
 "nbformat": 4,
 "nbformat_minor": 5
}
